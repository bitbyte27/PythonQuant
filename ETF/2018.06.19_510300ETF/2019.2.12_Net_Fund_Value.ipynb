{
 "cells": [
  {
   "cell_type": "code",
   "execution_count": 1,
   "metadata": {
    "collapsed": true
   },
   "outputs": [],
   "source": [
    "import pandas as pd\n",
    "import numpy as np\n",
    "import time\n",
    "import matplotlib.dates as mdates"
   ]
  },
  {
   "cell_type": "code",
   "execution_count": 2,
   "metadata": {},
   "outputs": [],
   "source": [
    "NFV = pd.read_csv('NetFundValue.csv', encoding='gbk', skiprows = 1)"
   ]
  },
  {
   "cell_type": "code",
   "execution_count": 23,
   "metadata": {
    "scrolled": false
   },
   "outputs": [
    {
     "data": {
      "text/html": [
       "<div>\n",
       "<style>\n",
       "    .dataframe thead tr:only-child th {\n",
       "        text-align: right;\n",
       "    }\n",
       "\n",
       "    .dataframe thead th {\n",
       "        text-align: left;\n",
       "    }\n",
       "\n",
       "    .dataframe tbody tr th {\n",
       "        vertical-align: top;\n",
       "    }\n",
       "</style>\n",
       "<table border=\"1\" class=\"dataframe\">\n",
       "  <thead>\n",
       "    <tr style=\"text-align: right;\">\n",
       "      <th></th>\n",
       "      <th>09:00</th>\n",
       "      <th>开盘基金净值</th>\n",
       "      <th>开盘总份额</th>\n",
       "      <th>落袋收益</th>\n",
       "      <th>预期收益</th>\n",
       "      <th>总资产</th>\n",
       "      <th>15:00</th>\n",
       "      <th>投资天数</th>\n",
       "      <th>收盘基金净值</th>\n",
       "      <th>净值增长率</th>\n",
       "      <th>投入金额</th>\n",
       "      <th>新入基金份额</th>\n",
       "      <th>总资金</th>\n",
       "    </tr>\n",
       "  </thead>\n",
       "  <tbody>\n",
       "    <tr>\n",
       "      <th>29</th>\n",
       "      <td>2018-12-26</td>\n",
       "      <td>0.9787</td>\n",
       "      <td>10312</td>\n",
       "      <td>24.20</td>\n",
       "      <td>-418.4</td>\n",
       "      <td>10182.40</td>\n",
       "      <td>2019-1-2</td>\n",
       "      <td>8</td>\n",
       "      <td>0.9874</td>\n",
       "      <td>0.87%</td>\n",
       "      <td>0.0</td>\n",
       "      <td>0</td>\n",
       "      <td>10182.40</td>\n",
       "    </tr>\n",
       "    <tr>\n",
       "      <th>30</th>\n",
       "      <td>2019-1-3</td>\n",
       "      <td>0.9874</td>\n",
       "      <td>10312</td>\n",
       "      <td>28.40</td>\n",
       "      <td>-359.2</td>\n",
       "      <td>10270.00</td>\n",
       "      <td>2019-1-9</td>\n",
       "      <td>7</td>\n",
       "      <td>0.9959</td>\n",
       "      <td>0.85%</td>\n",
       "      <td>0.0</td>\n",
       "      <td>0</td>\n",
       "      <td>10270.00</td>\n",
       "    </tr>\n",
       "    <tr>\n",
       "      <th>31</th>\n",
       "      <td>2019-1-10</td>\n",
       "      <td>0.9959</td>\n",
       "      <td>10312</td>\n",
       "      <td>67.40</td>\n",
       "      <td>-263.8</td>\n",
       "      <td>10432.80</td>\n",
       "      <td>2019-1-18</td>\n",
       "      <td>9</td>\n",
       "      <td>1.0117</td>\n",
       "      <td>1.58%</td>\n",
       "      <td>0.0</td>\n",
       "      <td>0</td>\n",
       "      <td>10432.80</td>\n",
       "    </tr>\n",
       "    <tr>\n",
       "      <th>32</th>\n",
       "      <td>2019-1-19</td>\n",
       "      <td>1.0117</td>\n",
       "      <td>10312</td>\n",
       "      <td>-164.20</td>\n",
       "      <td>-89.2</td>\n",
       "      <td>10443.20</td>\n",
       "      <td>2019-1-21</td>\n",
       "      <td>3</td>\n",
       "      <td>1.0127</td>\n",
       "      <td>0.10%</td>\n",
       "      <td>0.0</td>\n",
       "      <td>0</td>\n",
       "      <td>10443.20</td>\n",
       "    </tr>\n",
       "    <tr>\n",
       "      <th>33</th>\n",
       "      <td>2019-1-22</td>\n",
       "      <td>1.0127</td>\n",
       "      <td>10312</td>\n",
       "      <td>-58.29</td>\n",
       "      <td>0.0</td>\n",
       "      <td>10474.11</td>\n",
       "      <td>2019-2-11</td>\n",
       "      <td>21</td>\n",
       "      <td>1.0157</td>\n",
       "      <td>0.30%</td>\n",
       "      <td>0.0</td>\n",
       "      <td>0</td>\n",
       "      <td>10474.11</td>\n",
       "    </tr>\n",
       "  </tbody>\n",
       "</table>\n",
       "</div>"
      ],
      "text/plain": [
       "         09:00  开盘基金净值  开盘总份额    落袋收益   预期收益       总资产      15:00  投资天数  \\\n",
       "29  2018-12-26  0.9787  10312   24.20 -418.4  10182.40   2019-1-2     8   \n",
       "30    2019-1-3  0.9874  10312   28.40 -359.2  10270.00   2019-1-9     7   \n",
       "31   2019-1-10  0.9959  10312   67.40 -263.8  10432.80  2019-1-18     9   \n",
       "32   2019-1-19  1.0117  10312 -164.20  -89.2  10443.20  2019-1-21     3   \n",
       "33   2019-1-22  1.0127  10312  -58.29    0.0  10474.11  2019-2-11    21   \n",
       "\n",
       "    收盘基金净值  净值增长率  投入金额  新入基金份额       总资金  \n",
       "29  0.9874  0.87%   0.0       0  10182.40  \n",
       "30  0.9959  0.85%   0.0       0  10270.00  \n",
       "31  1.0117  1.58%   0.0       0  10432.80  \n",
       "32  1.0127  0.10%   0.0       0  10443.20  \n",
       "33  1.0157  0.30%   0.0       0  10474.11  "
      ]
     },
     "execution_count": 23,
     "metadata": {},
     "output_type": "execute_result"
    }
   ],
   "source": [
    "NFV_A = NFV.iloc[:,[0,1,2,3,4,6,13,14,15,16,19,20,21]]\n",
    "NFV_A.tail()"
   ]
  },
  {
   "cell_type": "code",
   "execution_count": 4,
   "metadata": {
    "collapsed": true
   },
   "outputs": [],
   "source": [
    "nowdate = time.strftime('%Y-%m-%d',time.localtime(time.time()))\n",
    "Now_Date = pd.to_datetime(nowdate)"
   ]
  },
  {
   "cell_type": "code",
   "execution_count": 14,
   "metadata": {},
   "outputs": [
    {
     "data": {
      "text/plain": [
       "1.0157"
      ]
     },
     "execution_count": 14,
     "metadata": {},
     "output_type": "execute_result"
    }
   ],
   "source": [
    "last_NFV = NFV_A.iloc[-1,8]\n",
    "last_NFV"
   ]
  },
  {
   "cell_type": "code",
   "execution_count": 22,
   "metadata": {},
   "outputs": [
    {
     "data": {
      "text/html": [
       "<div>\n",
       "<style>\n",
       "    .dataframe thead tr:only-child th {\n",
       "        text-align: right;\n",
       "    }\n",
       "\n",
       "    .dataframe thead th {\n",
       "        text-align: left;\n",
       "    }\n",
       "\n",
       "    .dataframe tbody tr th {\n",
       "        vertical-align: top;\n",
       "    }\n",
       "</style>\n",
       "<table border=\"1\" class=\"dataframe\">\n",
       "  <thead>\n",
       "    <tr style=\"text-align: right;\">\n",
       "      <th></th>\n",
       "      <th>入金时间</th>\n",
       "      <th>投入金额</th>\n",
       "      <th>基金份额</th>\n",
       "      <th>投资天数</th>\n",
       "      <th>收益</th>\n",
       "      <th>收益率</th>\n",
       "      <th>年化收益率</th>\n",
       "    </tr>\n",
       "  </thead>\n",
       "  <tbody>\n",
       "    <tr>\n",
       "      <th>0</th>\n",
       "      <td>2018-06-11</td>\n",
       "      <td>4000.0</td>\n",
       "      <td>4000</td>\n",
       "      <td>246.0</td>\n",
       "      <td>4062.8000</td>\n",
       "      <td>1.57%</td>\n",
       "      <td>2.33%</td>\n",
       "    </tr>\n",
       "    <tr>\n",
       "      <th>1</th>\n",
       "      <td>2018-07-03</td>\n",
       "      <td>4013.0</td>\n",
       "      <td>4274</td>\n",
       "      <td>224.0</td>\n",
       "      <td>4341.1018</td>\n",
       "      <td>8.18%</td>\n",
       "      <td>13.32%</td>\n",
       "    </tr>\n",
       "    <tr>\n",
       "      <th>2</th>\n",
       "      <td>2018-12-24</td>\n",
       "      <td>2000.0</td>\n",
       "      <td>2039</td>\n",
       "      <td>50.0</td>\n",
       "      <td>2071.0123</td>\n",
       "      <td>3.55%</td>\n",
       "      <td>25.92%</td>\n",
       "    </tr>\n",
       "  </tbody>\n",
       "</table>\n",
       "</div>"
      ],
      "text/plain": [
       "        入金时间    投入金额  基金份额   投资天数         收益    收益率   年化收益率\n",
       "0 2018-06-11  4000.0  4000  246.0  4062.8000  1.57%   2.33%\n",
       "1 2018-07-03  4013.0  4274  224.0  4341.1018  8.18%  13.32%\n",
       "2 2018-12-24  2000.0  2039   50.0  2071.0123  3.55%  25.92%"
      ]
     },
     "execution_count": 22,
     "metadata": {},
     "output_type": "execute_result"
    }
   ],
   "source": [
    "NFV_B = NFV_A.loc[NFV_A[u'投入金额']>0,[u'15:00',u'投入金额',u'新入基金份额']]\n",
    "NFV_B = NFV_B.reset_index(drop=True)\n",
    "NFV_B.columns = [u'入金时间',u'投入金额',u'基金份额']\n",
    "NFV_B[u'入金时间'] = pd.to_datetime(NFV_B[u'入金时间'])\n",
    "NFV_B[u'投资天数'] = mdates.date2num(Now_Date) - mdates.date2num(NFV_B[u'入金时间'].astype(np.object))\n",
    "NFV_B[u'收益'] = NFV_B[u'基金份额']*last_NFV\n",
    "NFV_B[u'收益率'] = (NFV_B[u'收益']-NFV_B[u'投入金额'])/NFV_B[u'投入金额']\n",
    "NFV_B[u'年化收益率'] = NFV_B[u'收益率']/NFV_B[u'投资天数']*365\n",
    "NFV_B[u'收益率'] = NFV_B[u'收益率'].apply(lambda x: format(x, '.2%'))\n",
    "NFV_B[u'年化收益率'] = NFV_B[u'年化收益率'].apply(lambda x: format(x, '.2%'))\n",
    "NFV_B"
   ]
  }
 ],
 "metadata": {
  "kernelspec": {
   "display_name": "Python 2",
   "language": "python",
   "name": "python2"
  },
  "language_info": {
   "codemirror_mode": {
    "name": "ipython",
    "version": 2
   },
   "file_extension": ".py",
   "mimetype": "text/x-python",
   "name": "python",
   "nbconvert_exporter": "python",
   "pygments_lexer": "ipython2",
   "version": "2.7.15"
  }
 },
 "nbformat": 4,
 "nbformat_minor": 2
}
