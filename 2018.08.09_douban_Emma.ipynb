{
 "cells": [
  {
   "cell_type": "code",
   "execution_count": 1,
   "metadata": {
    "collapsed": true
   },
   "outputs": [],
   "source": [
    "import requests\n",
    "import urllib\n",
    "from lxml import etree\n",
    "import os"
   ]
  },
  {
   "cell_type": "code",
   "execution_count": 2,
   "metadata": {},
   "outputs": [
    {
     "data": {
      "text/plain": [
       "<Response [200]>"
      ]
     },
     "execution_count": 2,
     "metadata": {},
     "output_type": "execute_result"
    }
   ],
   "source": [
    "# Forbidden测试，Response [200] 为正常。\n",
    "Forbidden_test = 'https://www.douban.com/subject/27259392/photos'\n",
    "response = requests.get(Forbidden_test)\n",
    "response"
   ]
  },
  {
   "cell_type": "markdown",
   "metadata": {},
   "source": [
    "### 艾玛·沃森（Emma Watson Wambie）"
   ]
  },
  {
   "cell_type": "code",
   "execution_count": 3,
   "metadata": {
    "collapsed": true
   },
   "outputs": [],
   "source": [
    "# 通过url获取每个图片的链接\n",
    "def getPicLinks(url):\n",
    "    html = requests.get(url)\n",
    "    Selector = etree.HTML(html.text)\n",
    "    # 通过“Xpath”获取每个图片的url\n",
    "    # <li><a href=……><img src=……>\n",
    "    url_list = Selector.xpath('//li/a/img/@src')\n",
    "    return url_list"
   ]
  },
  {
   "cell_type": "raw",
   "metadata": {},
   "source": [
    "douban_pic = getPicLinks(Forbidden_test)\n",
    "L = len(douban_pic)\n",
    "douban_pic_X = getPicLinks(Forbidden_test)\n",
    "douban_pic_i = []"
   ]
  },
  {
   "cell_type": "raw",
   "metadata": {},
   "source": [
    "for i in range(0,L):\n",
    "    douban_pic_i = douban_pic[i]\n",
    "    if '.gif' in douban_pic_i:\n",
    "        douban_pic_X.remove(douban_pic_i)"
   ]
  },
  {
   "cell_type": "raw",
   "metadata": {},
   "source": [
    "H = len(douban_pic_X)\n",
    "for j in range(0,H):\n",
    "    douban_pic_X[j] = douban_pic_X[j].replace(\"/photo/public/\", '/l/public/')"
   ]
  },
  {
   "cell_type": "raw",
   "metadata": {
    "collapsed": true
   },
   "source": [
    "x = 1\n",
    "for img in douban_pic_X:\n",
    "    urllib.urlretrieve(img, 'downloads/Emma_%s.jpg' %x)\n",
    "    x += 1"
   ]
  },
  {
   "cell_type": "code",
   "execution_count": 4,
   "metadata": {
    "collapsed": true
   },
   "outputs": [],
   "source": [
    "K = 5"
   ]
  },
  {
   "cell_type": "code",
   "execution_count": 5,
   "metadata": {},
   "outputs": [],
   "source": [
    "douban_all = []\n",
    "douban_all_X = []\n",
    "# for m in range(K-5,K):\n",
    "for m in range(59,60):\n",
    "    douban_all[m*31:(m+1)*31-1] = getPicLinks('https://www.douban.com/subject/27259392/photos?start=%s' %(m*30))\n",
    "    douban_all_X[m*31:(m+1)*31-1] = getPicLinks('https://www.douban.com/subject/27259392/photos?start=%s' %(m*30))"
   ]
  },
  {
   "cell_type": "code",
   "execution_count": 6,
   "metadata": {},
   "outputs": [],
   "source": [
    "L = len(douban_all)\n",
    "douban_all_i = []"
   ]
  },
  {
   "cell_type": "code",
   "execution_count": 7,
   "metadata": {},
   "outputs": [],
   "source": [
    "for n in range(0,L):\n",
    "    douban_all_i = douban_all[n]\n",
    "    if '.gif' in douban_all_i:\n",
    "        douban_all_X.remove(douban_all_i)"
   ]
  },
  {
   "cell_type": "code",
   "execution_count": 8,
   "metadata": {},
   "outputs": [],
   "source": [
    "p = len(douban_all_X)\n",
    "for q in range(0,p):\n",
    "    douban_all_X[q] = douban_all_X[q].replace(\"/photo/public/\", '/l/public/')"
   ]
  },
  {
   "cell_type": "code",
   "execution_count": 9,
   "metadata": {},
   "outputs": [],
   "source": [
    "x = 1\n",
    "for img in douban_all_X:\n",
    "    urllib.urlretrieve(img, 'downloads/Emma_%s.jpg' %x)\n",
    "    x += 1"
   ]
  }
 ],
 "metadata": {
  "kernelspec": {
   "display_name": "Python 2",
   "language": "python",
   "name": "python2"
  },
  "language_info": {
   "codemirror_mode": {
    "name": "ipython",
    "version": 2
   },
   "file_extension": ".py",
   "mimetype": "text/x-python",
   "name": "python",
   "nbconvert_exporter": "python",
   "pygments_lexer": "ipython2",
   "version": "2.7.13"
  }
 },
 "nbformat": 4,
 "nbformat_minor": 2
}
