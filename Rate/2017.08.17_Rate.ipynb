{
 "cells": [
  {
   "cell_type": "code",
   "execution_count": 1,
   "metadata": {
    "collapsed": true
   },
   "outputs": [],
   "source": [
    "import pandas as pd\n",
    "import numpy as np\n",
    "import matplotlib.dates as mdates"
   ]
  },
  {
   "cell_type": "code",
   "execution_count": 2,
   "metadata": {
    "collapsed": true
   },
   "outputs": [],
   "source": [
    "Ningbo = 300000\n",
    "b1 = 15700\n",
    "b2 = 9733\n",
    "b3 = 9265\n",
    "Baodan = b1+b2+b3\n",
    "Cash = 50000\n",
    "Rate1 = 6.6\n",
    "Rate2 = 8.33\n",
    "Rate3 = 4.8\n",
    "Rate4 = 0.01"
   ]
  },
  {
   "cell_type": "code",
   "execution_count": 3,
   "metadata": {
    "collapsed": true
   },
   "outputs": [],
   "source": [
    "Payment1 = {'Date':[u'2017-07-24',u'2017-08-21',u'2017-09-21',u'2017-10-21',u'2017-11-21',u'2017-12-21',u'2018-01-21',u'2018-01-24'],\n",
    "           'Rate0':[0,1540,1705,1650,1705,1650,1705,165]}\n",
    "Payment2 = pd.DataFrame(Payment1)"
   ]
  },
  {
   "cell_type": "code",
   "execution_count": 4,
   "metadata": {
    "collapsed": true
   },
   "outputs": [],
   "source": [
    "Payment2['Date2'] = Payment2['Date'].shift(1)\n",
    "Payment2.loc[0:1,'Date2'] = u'2017-07-24'\n",
    "Payment2['Date1'] = pd.to_datetime(Payment2['Date']).astype(np.object)\n",
    "Payment2['Date2'] = pd.to_datetime(Payment2['Date2']).astype(np.object)\n",
    "Payment2['Day'] = (mdates.date2num(Payment2['Date1'])-mdates.date2num(Payment2['Date2'])).astype(np.int)\n",
    "Payment2['Rate1'] = Ningbo*Rate1/100/360*Payment2['Day']\n",
    "Payment2['Rate2'] = Ningbo*Rate2/100/360*Payment2['Day']\n",
    "Payment2['Rate3'] = Baodan*Rate3/100/360*Payment2['Day']+(Ningbo-Baodan)*Rate1/100/360*Payment2['Day']\n",
    "Payment2['Rate4'] = Cash*Rate4/100/360*Payment2['Day']+(Ningbo-Cash)*Rate1/100/360*Payment2['Day']"
   ]
  },
  {
   "cell_type": "code",
   "execution_count": 5,
   "metadata": {},
   "outputs": [
    {
     "data": {
      "text/html": [
       "<div>\n",
       "<style>\n",
       "    .dataframe thead tr:only-child th {\n",
       "        text-align: right;\n",
       "    }\n",
       "\n",
       "    .dataframe thead th {\n",
       "        text-align: left;\n",
       "    }\n",
       "\n",
       "    .dataframe tbody tr th {\n",
       "        vertical-align: top;\n",
       "    }\n",
       "</style>\n",
       "<table border=\"1\" class=\"dataframe\">\n",
       "  <thead>\n",
       "    <tr style=\"text-align: right;\">\n",
       "      <th></th>\n",
       "      <th>Date</th>\n",
       "      <th>Day</th>\n",
       "      <th>Rate1</th>\n",
       "      <th>Rate2</th>\n",
       "      <th>Rate3</th>\n",
       "      <th>Rate4</th>\n",
       "    </tr>\n",
       "  </thead>\n",
       "  <tbody>\n",
       "    <tr>\n",
       "      <th>1</th>\n",
       "      <td>2017-08-21</td>\n",
       "      <td>28</td>\n",
       "      <td>1540.0</td>\n",
       "      <td>1943.667</td>\n",
       "      <td>1491.423</td>\n",
       "      <td>1283.722</td>\n",
       "    </tr>\n",
       "    <tr>\n",
       "      <th>2</th>\n",
       "      <td>2017-09-21</td>\n",
       "      <td>31</td>\n",
       "      <td>1705.0</td>\n",
       "      <td>2151.917</td>\n",
       "      <td>1651.218</td>\n",
       "      <td>1421.264</td>\n",
       "    </tr>\n",
       "    <tr>\n",
       "      <th>3</th>\n",
       "      <td>2017-10-21</td>\n",
       "      <td>30</td>\n",
       "      <td>1650.0</td>\n",
       "      <td>2082.500</td>\n",
       "      <td>1597.953</td>\n",
       "      <td>1375.417</td>\n",
       "    </tr>\n",
       "    <tr>\n",
       "      <th>4</th>\n",
       "      <td>2017-11-21</td>\n",
       "      <td>31</td>\n",
       "      <td>1705.0</td>\n",
       "      <td>2151.917</td>\n",
       "      <td>1651.218</td>\n",
       "      <td>1421.264</td>\n",
       "    </tr>\n",
       "    <tr>\n",
       "      <th>5</th>\n",
       "      <td>2017-12-21</td>\n",
       "      <td>30</td>\n",
       "      <td>1650.0</td>\n",
       "      <td>2082.500</td>\n",
       "      <td>1597.953</td>\n",
       "      <td>1375.417</td>\n",
       "    </tr>\n",
       "    <tr>\n",
       "      <th>6</th>\n",
       "      <td>2018-01-21</td>\n",
       "      <td>31</td>\n",
       "      <td>1705.0</td>\n",
       "      <td>2151.917</td>\n",
       "      <td>1651.218</td>\n",
       "      <td>1421.264</td>\n",
       "    </tr>\n",
       "    <tr>\n",
       "      <th>7</th>\n",
       "      <td>2018-01-24</td>\n",
       "      <td>3</td>\n",
       "      <td>165.0</td>\n",
       "      <td>208.250</td>\n",
       "      <td>159.795</td>\n",
       "      <td>137.542</td>\n",
       "    </tr>\n",
       "  </tbody>\n",
       "</table>\n",
       "</div>"
      ],
      "text/plain": [
       "         Date  Day   Rate1     Rate2     Rate3     Rate4\n",
       "1  2017-08-21   28  1540.0  1943.667  1491.423  1283.722\n",
       "2  2017-09-21   31  1705.0  2151.917  1651.218  1421.264\n",
       "3  2017-10-21   30  1650.0  2082.500  1597.953  1375.417\n",
       "4  2017-11-21   31  1705.0  2151.917  1651.218  1421.264\n",
       "5  2017-12-21   30  1650.0  2082.500  1597.953  1375.417\n",
       "6  2018-01-21   31  1705.0  2151.917  1651.218  1421.264\n",
       "7  2018-01-24    3   165.0   208.250   159.795   137.542"
      ]
     },
     "execution_count": 5,
     "metadata": {},
     "output_type": "execute_result"
    }
   ],
   "source": [
    "Payment = Payment2.loc[1:7,['Date','Day','Rate1','Rate2','Rate3','Rate4']]\n",
    "Payment.round(3)"
   ]
  }
 ],
 "metadata": {
  "kernelspec": {
   "display_name": "Python 2",
   "language": "python",
   "name": "python2"
  },
  "language_info": {
   "codemirror_mode": {
    "name": "ipython",
    "version": 2
   },
   "file_extension": ".py",
   "mimetype": "text/x-python",
   "name": "python",
   "nbconvert_exporter": "python",
   "pygments_lexer": "ipython2",
   "version": "2.7.13"
  }
 },
 "nbformat": 4,
 "nbformat_minor": 2
}
