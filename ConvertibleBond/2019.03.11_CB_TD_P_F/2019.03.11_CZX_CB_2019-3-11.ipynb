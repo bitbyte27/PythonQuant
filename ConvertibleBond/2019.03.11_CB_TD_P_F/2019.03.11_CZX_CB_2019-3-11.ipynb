{
 "cells": [
  {
   "cell_type": "code",
   "execution_count": 1,
   "metadata": {
    "collapsed": true
   },
   "outputs": [],
   "source": [
    "import pandas as pd\n",
    "import CB_Transaction_Functions"
   ]
  },
  {
   "cell_type": "code",
   "execution_count": 2,
   "metadata": {
    "collapsed": true
   },
   "outputs": [],
   "source": [
    "CB_CSV = 'CZX_CB.csv'"
   ]
  },
  {
   "cell_type": "markdown",
   "metadata": {},
   "source": [
    "[辉丰转债](#辉丰转债128012)、[洪涛转债](#洪涛转债128013)、[模塑转债](#模塑转债127004)、[众兴转债](#众兴转债128026)、[亚太转债](#亚太转债128023)、[维格转债](#维格转债113527)"
   ]
  },
  {
   "cell_type": "markdown",
   "metadata": {},
   "source": [
    "### 辉丰转债128012"
   ]
  },
  {
   "cell_type": "code",
   "execution_count": 3,
   "metadata": {
    "collapsed": true
   },
   "outputs": [],
   "source": [
    "huifeng = u'辉丰转债'\n",
    "huifeng_date = '2016-04-21'\n",
    "huifeng_rate = [3.0, 1.3, 1.3, 1.0, 0.7, 0.5]"
   ]
  },
  {
   "cell_type": "code",
   "execution_count": 4,
   "metadata": {},
   "outputs": [
    {
     "data": {
      "text/html": [
       "<div>\n",
       "<style>\n",
       "    .dataframe thead tr:only-child th {\n",
       "        text-align: right;\n",
       "    }\n",
       "\n",
       "    .dataframe thead th {\n",
       "        text-align: left;\n",
       "    }\n",
       "\n",
       "    .dataframe tbody tr th {\n",
       "        vertical-align: top;\n",
       "    }\n",
       "</style>\n",
       "<table border=\"1\" class=\"dataframe\">\n",
       "  <thead>\n",
       "    <tr style=\"text-align: right;\">\n",
       "      <th></th>\n",
       "      <th>发生日期</th>\n",
       "      <th>业务名称</th>\n",
       "      <th>证券代码</th>\n",
       "      <th>证券名称</th>\n",
       "      <th>成交均价</th>\n",
       "      <th>成交数量</th>\n",
       "      <th>成交金额</th>\n",
       "      <th>股份余额</th>\n",
       "      <th>手续费</th>\n",
       "      <th>发生金额</th>\n",
       "      <th>成本</th>\n",
       "      <th>到期本息</th>\n",
       "      <th>到期利率%</th>\n",
       "      <th>到期年化%</th>\n",
       "    </tr>\n",
       "  </thead>\n",
       "  <tbody>\n",
       "    <tr>\n",
       "      <th>0</th>\n",
       "      <td>2019-03-11</td>\n",
       "      <td>证券买入清算</td>\n",
       "      <td>128012</td>\n",
       "      <td>辉丰转债</td>\n",
       "      <td>94.9</td>\n",
       "      <td>10</td>\n",
       "      <td>949.0</td>\n",
       "      <td>10</td>\n",
       "      <td>0.19</td>\n",
       "      <td>-949.19</td>\n",
       "      <td>94.919</td>\n",
       "      <td>105.28</td>\n",
       "      <td>10.938</td>\n",
       "      <td>3.514</td>\n",
       "    </tr>\n",
       "  </tbody>\n",
       "</table>\n",
       "</div>"
      ],
      "text/plain": [
       "        发生日期    业务名称    证券代码  证券名称  成交均价  成交数量   成交金额  股份余额   手续费    发生金额  \\\n",
       "0 2019-03-11  证券买入清算  128012  辉丰转债  94.9    10  949.0    10  0.19 -949.19   \n",
       "\n",
       "       成本    到期本息   到期利率%  到期年化%  \n",
       "0  94.919  105.28  10.938  3.514  "
      ]
     },
     "execution_count": 4,
     "metadata": {},
     "output_type": "execute_result"
    }
   ],
   "source": [
    "huifeng_CB_TD = CB_Transaction_Functions.CB_Transaction_Data(CB_CSV,huifeng,huifeng_date,huifeng_rate)\n",
    "huifeng_CB_TD"
   ]
  },
  {
   "cell_type": "code",
   "execution_count": 5,
   "metadata": {},
   "outputs": [
    {
     "data": {
      "text/html": [
       "<div>\n",
       "<style>\n",
       "    .dataframe thead tr:only-child th {\n",
       "        text-align: right;\n",
       "    }\n",
       "\n",
       "    .dataframe thead th {\n",
       "        text-align: left;\n",
       "    }\n",
       "\n",
       "    .dataframe tbody tr th {\n",
       "        vertical-align: top;\n",
       "    }\n",
       "</style>\n",
       "<table border=\"1\" class=\"dataframe\">\n",
       "  <thead>\n",
       "    <tr style=\"text-align: right;\">\n",
       "      <th></th>\n",
       "      <th>持仓金额</th>\n",
       "      <th>成交数量</th>\n",
       "      <th>持仓成本</th>\n",
       "      <th>起息日</th>\n",
       "      <th>剩余年限</th>\n",
       "      <th>证券代码</th>\n",
       "      <th>成交金额</th>\n",
       "      <th>买卖数量</th>\n",
       "      <th>交易时间</th>\n",
       "      <th>到期本息</th>\n",
       "      <th>到期利率%</th>\n",
       "      <th>到期年化%</th>\n",
       "      <th>锁仓张数</th>\n",
       "    </tr>\n",
       "  </thead>\n",
       "  <tbody>\n",
       "    <tr>\n",
       "      <th>辉丰转债</th>\n",
       "      <td>949.19</td>\n",
       "      <td>10.0</td>\n",
       "      <td>94.919</td>\n",
       "      <td>2016-04-21</td>\n",
       "      <td>3年40天</td>\n",
       "      <td>128012</td>\n",
       "      <td>94.9</td>\n",
       "      <td>10</td>\n",
       "      <td>2019-03-11</td>\n",
       "      <td>105.28</td>\n",
       "      <td>10.916</td>\n",
       "      <td>3.507</td>\n",
       "      <td>0.0</td>\n",
       "    </tr>\n",
       "  </tbody>\n",
       "</table>\n",
       "</div>"
      ],
      "text/plain": [
       "        持仓金额  成交数量    持仓成本         起息日   剩余年限    证券代码  成交金额  买卖数量       交易时间  \\\n",
       "辉丰转债  949.19  10.0  94.919  2016-04-21  3年40天  128012  94.9    10 2019-03-11   \n",
       "\n",
       "        到期本息   到期利率%  到期年化%  锁仓张数  \n",
       "辉丰转债  105.28  10.916  3.507   0.0  "
      ]
     },
     "execution_count": 5,
     "metadata": {},
     "output_type": "execute_result"
    }
   ],
   "source": [
    "huifeng_CB_TD_cost = CB_Transaction_Functions.CB_TD_cost(huifeng,huifeng_CB_TD,huifeng_date,huifeng_rate)\n",
    "huifeng_CB_TD_cost"
   ]
  },
  {
   "cell_type": "markdown",
   "metadata": {},
   "source": [
    "### 洪涛转债128013"
   ]
  },
  {
   "cell_type": "code",
   "execution_count": 6,
   "metadata": {
    "collapsed": true
   },
   "outputs": [],
   "source": [
    "hongtao = u'洪涛转债'\n",
    "hongtao_date = '2016-07-29'\n",
    "hongtao_rate = [8.0, 1.8, 1.5, 1.0, 0.6, 0.4]"
   ]
  },
  {
   "cell_type": "code",
   "execution_count": 7,
   "metadata": {},
   "outputs": [
    {
     "data": {
      "text/html": [
       "<div>\n",
       "<style>\n",
       "    .dataframe thead tr:only-child th {\n",
       "        text-align: right;\n",
       "    }\n",
       "\n",
       "    .dataframe thead th {\n",
       "        text-align: left;\n",
       "    }\n",
       "\n",
       "    .dataframe tbody tr th {\n",
       "        vertical-align: top;\n",
       "    }\n",
       "</style>\n",
       "<table border=\"1\" class=\"dataframe\">\n",
       "  <thead>\n",
       "    <tr style=\"text-align: right;\">\n",
       "      <th></th>\n",
       "      <th>发生日期</th>\n",
       "      <th>业务名称</th>\n",
       "      <th>证券代码</th>\n",
       "      <th>证券名称</th>\n",
       "      <th>成交均价</th>\n",
       "      <th>成交数量</th>\n",
       "      <th>成交金额</th>\n",
       "      <th>股份余额</th>\n",
       "      <th>手续费</th>\n",
       "      <th>发生金额</th>\n",
       "      <th>成本</th>\n",
       "      <th>到期本息</th>\n",
       "      <th>到期利率%</th>\n",
       "      <th>到期年化%</th>\n",
       "    </tr>\n",
       "  </thead>\n",
       "  <tbody>\n",
       "    <tr>\n",
       "      <th>0</th>\n",
       "      <td>2019-03-11</td>\n",
       "      <td>证券买入清算</td>\n",
       "      <td>128013</td>\n",
       "      <td>洪涛转债</td>\n",
       "      <td>96.317</td>\n",
       "      <td>10</td>\n",
       "      <td>963.17</td>\n",
       "      <td>10</td>\n",
       "      <td>0.19</td>\n",
       "      <td>-963.36</td>\n",
       "      <td>96.336</td>\n",
       "      <td>109.84</td>\n",
       "      <td>14.04</td>\n",
       "      <td>4.15</td>\n",
       "    </tr>\n",
       "  </tbody>\n",
       "</table>\n",
       "</div>"
      ],
      "text/plain": [
       "        发生日期    业务名称    证券代码  证券名称    成交均价  成交数量    成交金额  股份余额   手续费    发生金额  \\\n",
       "0 2019-03-11  证券买入清算  128013  洪涛转债  96.317    10  963.17    10  0.19 -963.36   \n",
       "\n",
       "       成本    到期本息  到期利率%  到期年化%  \n",
       "0  96.336  109.84  14.04   4.15  "
      ]
     },
     "execution_count": 7,
     "metadata": {},
     "output_type": "execute_result"
    }
   ],
   "source": [
    "hongtao_CB_TD = CB_Transaction_Functions.CB_Transaction_Data(CB_CSV,hongtao,hongtao_date,hongtao_rate)\n",
    "hongtao_CB_TD"
   ]
  },
  {
   "cell_type": "code",
   "execution_count": 8,
   "metadata": {},
   "outputs": [
    {
     "data": {
      "text/html": [
       "<div>\n",
       "<style>\n",
       "    .dataframe thead tr:only-child th {\n",
       "        text-align: right;\n",
       "    }\n",
       "\n",
       "    .dataframe thead th {\n",
       "        text-align: left;\n",
       "    }\n",
       "\n",
       "    .dataframe tbody tr th {\n",
       "        vertical-align: top;\n",
       "    }\n",
       "</style>\n",
       "<table border=\"1\" class=\"dataframe\">\n",
       "  <thead>\n",
       "    <tr style=\"text-align: right;\">\n",
       "      <th></th>\n",
       "      <th>持仓金额</th>\n",
       "      <th>成交数量</th>\n",
       "      <th>持仓成本</th>\n",
       "      <th>起息日</th>\n",
       "      <th>剩余年限</th>\n",
       "      <th>证券代码</th>\n",
       "      <th>成交金额</th>\n",
       "      <th>买卖数量</th>\n",
       "      <th>交易时间</th>\n",
       "      <th>到期本息</th>\n",
       "      <th>到期利率%</th>\n",
       "      <th>到期年化%</th>\n",
       "      <th>锁仓张数</th>\n",
       "    </tr>\n",
       "  </thead>\n",
       "  <tbody>\n",
       "    <tr>\n",
       "      <th>洪涛转债</th>\n",
       "      <td>963.36</td>\n",
       "      <td>10.0</td>\n",
       "      <td>96.336</td>\n",
       "      <td>2016-07-29</td>\n",
       "      <td>3年139天</td>\n",
       "      <td>128013</td>\n",
       "      <td>96.317</td>\n",
       "      <td>10</td>\n",
       "      <td>2019-03-11</td>\n",
       "      <td>109.84</td>\n",
       "      <td>14.018</td>\n",
       "      <td>4.143</td>\n",
       "      <td>0.0</td>\n",
       "    </tr>\n",
       "  </tbody>\n",
       "</table>\n",
       "</div>"
      ],
      "text/plain": [
       "        持仓金额  成交数量    持仓成本         起息日    剩余年限    证券代码    成交金额  买卖数量  \\\n",
       "洪涛转债  963.36  10.0  96.336  2016-07-29  3年139天  128013  96.317    10   \n",
       "\n",
       "           交易时间    到期本息   到期利率%  到期年化%  锁仓张数  \n",
       "洪涛转债 2019-03-11  109.84  14.018  4.143   0.0  "
      ]
     },
     "execution_count": 8,
     "metadata": {},
     "output_type": "execute_result"
    }
   ],
   "source": [
    "hongtao_CB_TD_cost = CB_Transaction_Functions.CB_TD_cost(hongtao,hongtao_CB_TD,hongtao_date,hongtao_rate)\n",
    "hongtao_CB_TD_cost"
   ]
  },
  {
   "cell_type": "markdown",
   "metadata": {},
   "source": [
    "### 模塑转债127004"
   ]
  },
  {
   "cell_type": "code",
   "execution_count": 9,
   "metadata": {
    "collapsed": true
   },
   "outputs": [],
   "source": [
    "mosu = u'模塑转债'\n",
    "mosu_date = '2017-06-02'\n",
    "mosu_rate = [10.0, 1.8, 1.5, 1.0, 0.7, 0.5]"
   ]
  },
  {
   "cell_type": "code",
   "execution_count": 10,
   "metadata": {},
   "outputs": [
    {
     "data": {
      "text/html": [
       "<div>\n",
       "<style>\n",
       "    .dataframe thead tr:only-child th {\n",
       "        text-align: right;\n",
       "    }\n",
       "\n",
       "    .dataframe thead th {\n",
       "        text-align: left;\n",
       "    }\n",
       "\n",
       "    .dataframe tbody tr th {\n",
       "        vertical-align: top;\n",
       "    }\n",
       "</style>\n",
       "<table border=\"1\" class=\"dataframe\">\n",
       "  <thead>\n",
       "    <tr style=\"text-align: right;\">\n",
       "      <th></th>\n",
       "      <th>发生日期</th>\n",
       "      <th>业务名称</th>\n",
       "      <th>证券代码</th>\n",
       "      <th>证券名称</th>\n",
       "      <th>成交均价</th>\n",
       "      <th>成交数量</th>\n",
       "      <th>成交金额</th>\n",
       "      <th>股份余额</th>\n",
       "      <th>手续费</th>\n",
       "      <th>发生金额</th>\n",
       "      <th>成本</th>\n",
       "      <th>到期本息</th>\n",
       "      <th>到期利率%</th>\n",
       "      <th>到期年化%</th>\n",
       "    </tr>\n",
       "  </thead>\n",
       "  <tbody>\n",
       "    <tr>\n",
       "      <th>0</th>\n",
       "      <td>2019-03-11</td>\n",
       "      <td>证券买入清算</td>\n",
       "      <td>127004</td>\n",
       "      <td>模塑转债</td>\n",
       "      <td>94.439</td>\n",
       "      <td>10</td>\n",
       "      <td>944.39</td>\n",
       "      <td>10</td>\n",
       "      <td>0.19</td>\n",
       "      <td>-944.58</td>\n",
       "      <td>94.458</td>\n",
       "      <td>112.0</td>\n",
       "      <td>18.595</td>\n",
       "      <td>4.399</td>\n",
       "    </tr>\n",
       "  </tbody>\n",
       "</table>\n",
       "</div>"
      ],
      "text/plain": [
       "        发生日期    业务名称    证券代码  证券名称    成交均价  成交数量    成交金额  股份余额   手续费    发生金额  \\\n",
       "0 2019-03-11  证券买入清算  127004  模塑转债  94.439    10  944.39    10  0.19 -944.58   \n",
       "\n",
       "       成本   到期本息   到期利率%  到期年化%  \n",
       "0  94.458  112.0  18.595  4.399  "
      ]
     },
     "execution_count": 10,
     "metadata": {},
     "output_type": "execute_result"
    }
   ],
   "source": [
    "mosu_CB_TD = CB_Transaction_Functions.CB_Transaction_Data(CB_CSV,mosu,mosu_date,mosu_rate)\n",
    "mosu_CB_TD"
   ]
  },
  {
   "cell_type": "code",
   "execution_count": 11,
   "metadata": {},
   "outputs": [
    {
     "data": {
      "text/html": [
       "<div>\n",
       "<style>\n",
       "    .dataframe thead tr:only-child th {\n",
       "        text-align: right;\n",
       "    }\n",
       "\n",
       "    .dataframe thead th {\n",
       "        text-align: left;\n",
       "    }\n",
       "\n",
       "    .dataframe tbody tr th {\n",
       "        vertical-align: top;\n",
       "    }\n",
       "</style>\n",
       "<table border=\"1\" class=\"dataframe\">\n",
       "  <thead>\n",
       "    <tr style=\"text-align: right;\">\n",
       "      <th></th>\n",
       "      <th>持仓金额</th>\n",
       "      <th>成交数量</th>\n",
       "      <th>持仓成本</th>\n",
       "      <th>起息日</th>\n",
       "      <th>剩余年限</th>\n",
       "      <th>证券代码</th>\n",
       "      <th>成交金额</th>\n",
       "      <th>买卖数量</th>\n",
       "      <th>交易时间</th>\n",
       "      <th>到期本息</th>\n",
       "      <th>到期利率%</th>\n",
       "      <th>到期年化%</th>\n",
       "      <th>锁仓张数</th>\n",
       "    </tr>\n",
       "  </thead>\n",
       "  <tbody>\n",
       "    <tr>\n",
       "      <th>模塑转债</th>\n",
       "      <td>944.58</td>\n",
       "      <td>10.0</td>\n",
       "      <td>94.458</td>\n",
       "      <td>2017-06-02</td>\n",
       "      <td>4年82天</td>\n",
       "      <td>127004</td>\n",
       "      <td>94.439</td>\n",
       "      <td>10</td>\n",
       "      <td>2019-03-11</td>\n",
       "      <td>112.0</td>\n",
       "      <td>18.571</td>\n",
       "      <td>4.393</td>\n",
       "      <td>0.0</td>\n",
       "    </tr>\n",
       "  </tbody>\n",
       "</table>\n",
       "</div>"
      ],
      "text/plain": [
       "        持仓金额  成交数量    持仓成本         起息日   剩余年限    证券代码    成交金额  买卖数量  \\\n",
       "模塑转债  944.58  10.0  94.458  2017-06-02  4年82天  127004  94.439    10   \n",
       "\n",
       "           交易时间   到期本息   到期利率%  到期年化%  锁仓张数  \n",
       "模塑转债 2019-03-11  112.0  18.571  4.393   0.0  "
      ]
     },
     "execution_count": 11,
     "metadata": {},
     "output_type": "execute_result"
    }
   ],
   "source": [
    "mosu_CB_TD_cost = CB_Transaction_Functions.CB_TD_cost(mosu,mosu_CB_TD,mosu_date,mosu_rate)\n",
    "mosu_CB_TD_cost"
   ]
  },
  {
   "cell_type": "markdown",
   "metadata": {},
   "source": [
    "### 众兴转债128026"
   ]
  },
  {
   "cell_type": "code",
   "execution_count": 12,
   "metadata": {
    "collapsed": true
   },
   "outputs": [],
   "source": [
    "zhongxing = u'众兴转债'\n",
    "zhongxing_date = '2017-12-13'\n",
    "zhongxing_rate = [6.0, 1.8, 1.5, 1.0, 0.6, 0.4]"
   ]
  },
  {
   "cell_type": "code",
   "execution_count": 13,
   "metadata": {},
   "outputs": [
    {
     "data": {
      "text/html": [
       "<div>\n",
       "<style>\n",
       "    .dataframe thead tr:only-child th {\n",
       "        text-align: right;\n",
       "    }\n",
       "\n",
       "    .dataframe thead th {\n",
       "        text-align: left;\n",
       "    }\n",
       "\n",
       "    .dataframe tbody tr th {\n",
       "        vertical-align: top;\n",
       "    }\n",
       "</style>\n",
       "<table border=\"1\" class=\"dataframe\">\n",
       "  <thead>\n",
       "    <tr style=\"text-align: right;\">\n",
       "      <th></th>\n",
       "      <th>发生日期</th>\n",
       "      <th>业务名称</th>\n",
       "      <th>证券代码</th>\n",
       "      <th>证券名称</th>\n",
       "      <th>成交均价</th>\n",
       "      <th>成交数量</th>\n",
       "      <th>成交金额</th>\n",
       "      <th>股份余额</th>\n",
       "      <th>手续费</th>\n",
       "      <th>发生金额</th>\n",
       "      <th>成本</th>\n",
       "      <th>到期本息</th>\n",
       "      <th>到期利率%</th>\n",
       "      <th>到期年化%</th>\n",
       "    </tr>\n",
       "  </thead>\n",
       "  <tbody>\n",
       "    <tr>\n",
       "      <th>0</th>\n",
       "      <td>2019-03-11</td>\n",
       "      <td>证券买入清算</td>\n",
       "      <td>128026</td>\n",
       "      <td>众兴转债</td>\n",
       "      <td>96.56</td>\n",
       "      <td>10</td>\n",
       "      <td>965.6</td>\n",
       "      <td>10</td>\n",
       "      <td>0.19</td>\n",
       "      <td>-965.79</td>\n",
       "      <td>96.579</td>\n",
       "      <td>108.72</td>\n",
       "      <td>12.593</td>\n",
       "      <td>2.646</td>\n",
       "    </tr>\n",
       "  </tbody>\n",
       "</table>\n",
       "</div>"
      ],
      "text/plain": [
       "        发生日期    业务名称    证券代码  证券名称   成交均价  成交数量   成交金额  股份余额   手续费    发生金额  \\\n",
       "0 2019-03-11  证券买入清算  128026  众兴转债  96.56    10  965.6    10  0.19 -965.79   \n",
       "\n",
       "       成本    到期本息   到期利率%  到期年化%  \n",
       "0  96.579  108.72  12.593  2.646  "
      ]
     },
     "execution_count": 13,
     "metadata": {},
     "output_type": "execute_result"
    }
   ],
   "source": [
    "zhongxing_CB_TD = CB_Transaction_Functions.CB_Transaction_Data(CB_CSV,zhongxing,zhongxing_date,zhongxing_rate)\n",
    "zhongxing_CB_TD"
   ]
  },
  {
   "cell_type": "code",
   "execution_count": 14,
   "metadata": {},
   "outputs": [
    {
     "data": {
      "text/html": [
       "<div>\n",
       "<style>\n",
       "    .dataframe thead tr:only-child th {\n",
       "        text-align: right;\n",
       "    }\n",
       "\n",
       "    .dataframe thead th {\n",
       "        text-align: left;\n",
       "    }\n",
       "\n",
       "    .dataframe tbody tr th {\n",
       "        vertical-align: top;\n",
       "    }\n",
       "</style>\n",
       "<table border=\"1\" class=\"dataframe\">\n",
       "  <thead>\n",
       "    <tr style=\"text-align: right;\">\n",
       "      <th></th>\n",
       "      <th>持仓金额</th>\n",
       "      <th>成交数量</th>\n",
       "      <th>持仓成本</th>\n",
       "      <th>起息日</th>\n",
       "      <th>剩余年限</th>\n",
       "      <th>证券代码</th>\n",
       "      <th>成交金额</th>\n",
       "      <th>买卖数量</th>\n",
       "      <th>交易时间</th>\n",
       "      <th>到期本息</th>\n",
       "      <th>到期利率%</th>\n",
       "      <th>到期年化%</th>\n",
       "      <th>锁仓张数</th>\n",
       "    </tr>\n",
       "  </thead>\n",
       "  <tbody>\n",
       "    <tr>\n",
       "      <th>众兴转债</th>\n",
       "      <td>965.79</td>\n",
       "      <td>10.0</td>\n",
       "      <td>96.579</td>\n",
       "      <td>2017-12-13</td>\n",
       "      <td>4年276天</td>\n",
       "      <td>128026</td>\n",
       "      <td>96.56</td>\n",
       "      <td>10</td>\n",
       "      <td>2019-03-11</td>\n",
       "      <td>108.72</td>\n",
       "      <td>12.571</td>\n",
       "      <td>2.642</td>\n",
       "      <td>0.0</td>\n",
       "    </tr>\n",
       "  </tbody>\n",
       "</table>\n",
       "</div>"
      ],
      "text/plain": [
       "        持仓金额  成交数量    持仓成本         起息日    剩余年限    证券代码   成交金额  买卖数量  \\\n",
       "众兴转债  965.79  10.0  96.579  2017-12-13  4年276天  128026  96.56    10   \n",
       "\n",
       "           交易时间    到期本息   到期利率%  到期年化%  锁仓张数  \n",
       "众兴转债 2019-03-11  108.72  12.571  2.642   0.0  "
      ]
     },
     "execution_count": 14,
     "metadata": {},
     "output_type": "execute_result"
    }
   ],
   "source": [
    "zhongxing_CB_TD_cost = CB_Transaction_Functions.CB_TD_cost(zhongxing,zhongxing_CB_TD,zhongxing_date,zhongxing_rate)\n",
    "zhongxing_CB_TD_cost"
   ]
  },
  {
   "cell_type": "markdown",
   "metadata": {},
   "source": [
    "### 亚太转债128023"
   ]
  },
  {
   "cell_type": "code",
   "execution_count": 15,
   "metadata": {
    "collapsed": true
   },
   "outputs": [],
   "source": [
    "yatai = u'亚太转债'\n",
    "yatai_date = '2017-12-04'\n",
    "yatai_rate = [8.0, 1.8, 1.5, 1.0, 0.5, 0.3]"
   ]
  },
  {
   "cell_type": "code",
   "execution_count": 16,
   "metadata": {},
   "outputs": [
    {
     "data": {
      "text/html": [
       "<div>\n",
       "<style>\n",
       "    .dataframe thead tr:only-child th {\n",
       "        text-align: right;\n",
       "    }\n",
       "\n",
       "    .dataframe thead th {\n",
       "        text-align: left;\n",
       "    }\n",
       "\n",
       "    .dataframe tbody tr th {\n",
       "        vertical-align: top;\n",
       "    }\n",
       "</style>\n",
       "<table border=\"1\" class=\"dataframe\">\n",
       "  <thead>\n",
       "    <tr style=\"text-align: right;\">\n",
       "      <th></th>\n",
       "      <th>发生日期</th>\n",
       "      <th>业务名称</th>\n",
       "      <th>证券代码</th>\n",
       "      <th>证券名称</th>\n",
       "      <th>成交均价</th>\n",
       "      <th>成交数量</th>\n",
       "      <th>成交金额</th>\n",
       "      <th>股份余额</th>\n",
       "      <th>手续费</th>\n",
       "      <th>发生金额</th>\n",
       "      <th>成本</th>\n",
       "      <th>到期本息</th>\n",
       "      <th>到期利率%</th>\n",
       "      <th>到期年化%</th>\n",
       "    </tr>\n",
       "  </thead>\n",
       "  <tbody>\n",
       "    <tr>\n",
       "      <th>0</th>\n",
       "      <td>2019-03-11</td>\n",
       "      <td>证券买入清算</td>\n",
       "      <td>128023</td>\n",
       "      <td>亚太转债</td>\n",
       "      <td>96.646</td>\n",
       "      <td>10</td>\n",
       "      <td>966.46</td>\n",
       "      <td>10</td>\n",
       "      <td>0.19</td>\n",
       "      <td>-966.65</td>\n",
       "      <td>96.665</td>\n",
       "      <td>110.24</td>\n",
       "      <td>14.066</td>\n",
       "      <td>2.971</td>\n",
       "    </tr>\n",
       "  </tbody>\n",
       "</table>\n",
       "</div>"
      ],
      "text/plain": [
       "        发生日期    业务名称    证券代码  证券名称    成交均价  成交数量    成交金额  股份余额   手续费    发生金额  \\\n",
       "0 2019-03-11  证券买入清算  128023  亚太转债  96.646    10  966.46    10  0.19 -966.65   \n",
       "\n",
       "       成本    到期本息   到期利率%  到期年化%  \n",
       "0  96.665  110.24  14.066  2.971  "
      ]
     },
     "execution_count": 16,
     "metadata": {},
     "output_type": "execute_result"
    }
   ],
   "source": [
    "yatai_CB_TD = CB_Transaction_Functions.CB_Transaction_Data(CB_CSV,yatai,yatai_date,yatai_rate)\n",
    "yatai_CB_TD"
   ]
  },
  {
   "cell_type": "code",
   "execution_count": 17,
   "metadata": {
    "scrolled": true
   },
   "outputs": [
    {
     "data": {
      "text/html": [
       "<div>\n",
       "<style>\n",
       "    .dataframe thead tr:only-child th {\n",
       "        text-align: right;\n",
       "    }\n",
       "\n",
       "    .dataframe thead th {\n",
       "        text-align: left;\n",
       "    }\n",
       "\n",
       "    .dataframe tbody tr th {\n",
       "        vertical-align: top;\n",
       "    }\n",
       "</style>\n",
       "<table border=\"1\" class=\"dataframe\">\n",
       "  <thead>\n",
       "    <tr style=\"text-align: right;\">\n",
       "      <th></th>\n",
       "      <th>持仓金额</th>\n",
       "      <th>成交数量</th>\n",
       "      <th>持仓成本</th>\n",
       "      <th>起息日</th>\n",
       "      <th>剩余年限</th>\n",
       "      <th>证券代码</th>\n",
       "      <th>成交金额</th>\n",
       "      <th>买卖数量</th>\n",
       "      <th>交易时间</th>\n",
       "      <th>到期本息</th>\n",
       "      <th>到期利率%</th>\n",
       "      <th>到期年化%</th>\n",
       "      <th>锁仓张数</th>\n",
       "    </tr>\n",
       "  </thead>\n",
       "  <tbody>\n",
       "    <tr>\n",
       "      <th>亚太转债</th>\n",
       "      <td>966.65</td>\n",
       "      <td>10.0</td>\n",
       "      <td>96.665</td>\n",
       "      <td>2017-12-04</td>\n",
       "      <td>4年267天</td>\n",
       "      <td>128023</td>\n",
       "      <td>96.646</td>\n",
       "      <td>10</td>\n",
       "      <td>2019-03-11</td>\n",
       "      <td>110.24</td>\n",
       "      <td>14.043</td>\n",
       "      <td>2.966</td>\n",
       "      <td>0.0</td>\n",
       "    </tr>\n",
       "  </tbody>\n",
       "</table>\n",
       "</div>"
      ],
      "text/plain": [
       "        持仓金额  成交数量    持仓成本         起息日    剩余年限    证券代码    成交金额  买卖数量  \\\n",
       "亚太转债  966.65  10.0  96.665  2017-12-04  4年267天  128023  96.646    10   \n",
       "\n",
       "           交易时间    到期本息   到期利率%  到期年化%  锁仓张数  \n",
       "亚太转债 2019-03-11  110.24  14.043  2.966   0.0  "
      ]
     },
     "execution_count": 17,
     "metadata": {},
     "output_type": "execute_result"
    }
   ],
   "source": [
    "yatai_CB_TD_cost = CB_Transaction_Functions.CB_TD_cost(yatai,yatai_CB_TD,yatai_date,yatai_rate)\n",
    "yatai_CB_TD_cost"
   ]
  },
  {
   "cell_type": "markdown",
   "metadata": {},
   "source": [
    "### 维格转债113527"
   ]
  },
  {
   "cell_type": "code",
   "execution_count": 18,
   "metadata": {
    "collapsed": true
   },
   "outputs": [],
   "source": [
    "weige = u'维格转债'\n",
    "weige_date = '2019-01-24'\n",
    "weige_rate = [15, 2.0, 1.5, 1.0, 0.7, 0.5]"
   ]
  },
  {
   "cell_type": "code",
   "execution_count": 19,
   "metadata": {},
   "outputs": [
    {
     "data": {
      "text/html": [
       "<div>\n",
       "<style>\n",
       "    .dataframe thead tr:only-child th {\n",
       "        text-align: right;\n",
       "    }\n",
       "\n",
       "    .dataframe thead th {\n",
       "        text-align: left;\n",
       "    }\n",
       "\n",
       "    .dataframe tbody tr th {\n",
       "        vertical-align: top;\n",
       "    }\n",
       "</style>\n",
       "<table border=\"1\" class=\"dataframe\">\n",
       "  <thead>\n",
       "    <tr style=\"text-align: right;\">\n",
       "      <th></th>\n",
       "      <th>发生日期</th>\n",
       "      <th>业务名称</th>\n",
       "      <th>证券代码</th>\n",
       "      <th>证券名称</th>\n",
       "      <th>成交均价</th>\n",
       "      <th>成交数量</th>\n",
       "      <th>成交金额</th>\n",
       "      <th>股份余额</th>\n",
       "      <th>手续费</th>\n",
       "      <th>发生金额</th>\n",
       "      <th>成本</th>\n",
       "      <th>到期本息</th>\n",
       "      <th>到期利率%</th>\n",
       "      <th>到期年化%</th>\n",
       "    </tr>\n",
       "  </thead>\n",
       "  <tbody>\n",
       "    <tr>\n",
       "      <th>0</th>\n",
       "      <td>2019-02-19</td>\n",
       "      <td>市值认购</td>\n",
       "      <td>113527</td>\n",
       "      <td>维格转债</td>\n",
       "      <td>100.0</td>\n",
       "      <td>40</td>\n",
       "      <td>4000.0</td>\n",
       "      <td>100</td>\n",
       "      <td>0.0</td>\n",
       "      <td>-4000.0</td>\n",
       "      <td>40.0</td>\n",
       "      <td>116.56</td>\n",
       "      <td>16.56</td>\n",
       "      <td>2.793</td>\n",
       "    </tr>\n",
       "  </tbody>\n",
       "</table>\n",
       "</div>"
      ],
      "text/plain": [
       "        发生日期  业务名称    证券代码  证券名称   成交均价  成交数量    成交金额  股份余额  手续费    发生金额  \\\n",
       "0 2019-02-19  市值认购  113527  维格转债  100.0    40  4000.0   100  0.0 -4000.0   \n",
       "\n",
       "     成本    到期本息  到期利率%  到期年化%  \n",
       "0  40.0  116.56  16.56  2.793  "
      ]
     },
     "execution_count": 19,
     "metadata": {},
     "output_type": "execute_result"
    }
   ],
   "source": [
    "weige_CB_TD = CB_Transaction_Functions.CB_Transaction_Data(CB_CSV,weige,weige_date,weige_rate)\n",
    "weige_CB_TD"
   ]
  },
  {
   "cell_type": "code",
   "execution_count": 20,
   "metadata": {},
   "outputs": [
    {
     "data": {
      "text/html": [
       "<div>\n",
       "<style>\n",
       "    .dataframe thead tr:only-child th {\n",
       "        text-align: right;\n",
       "    }\n",
       "\n",
       "    .dataframe thead th {\n",
       "        text-align: left;\n",
       "    }\n",
       "\n",
       "    .dataframe tbody tr th {\n",
       "        vertical-align: top;\n",
       "    }\n",
       "</style>\n",
       "<table border=\"1\" class=\"dataframe\">\n",
       "  <thead>\n",
       "    <tr style=\"text-align: right;\">\n",
       "      <th></th>\n",
       "      <th>持仓金额</th>\n",
       "      <th>成交数量</th>\n",
       "      <th>持仓成本</th>\n",
       "      <th>起息日</th>\n",
       "      <th>剩余年限</th>\n",
       "      <th>证券代码</th>\n",
       "      <th>成交金额</th>\n",
       "      <th>买卖数量</th>\n",
       "      <th>交易时间</th>\n",
       "      <th>到期本息</th>\n",
       "      <th>到期利率%</th>\n",
       "      <th>到期年化%</th>\n",
       "      <th>锁仓张数</th>\n",
       "    </tr>\n",
       "  </thead>\n",
       "  <tbody>\n",
       "    <tr>\n",
       "      <th>维格转债</th>\n",
       "      <td>4000.0</td>\n",
       "      <td>40.0</td>\n",
       "      <td>100.0</td>\n",
       "      <td>2019-01-24</td>\n",
       "      <td>5年317天</td>\n",
       "      <td>113527</td>\n",
       "      <td>100.0</td>\n",
       "      <td>40</td>\n",
       "      <td>2019-02-19</td>\n",
       "      <td>116.56</td>\n",
       "      <td>16.56</td>\n",
       "      <td>2.793</td>\n",
       "      <td>0.0</td>\n",
       "    </tr>\n",
       "  </tbody>\n",
       "</table>\n",
       "</div>"
      ],
      "text/plain": [
       "        持仓金额  成交数量   持仓成本         起息日    剩余年限    证券代码   成交金额  买卖数量       交易时间  \\\n",
       "维格转债  4000.0  40.0  100.0  2019-01-24  5年317天  113527  100.0    40 2019-02-19   \n",
       "\n",
       "        到期本息  到期利率%  到期年化%  锁仓张数  \n",
       "维格转债  116.56  16.56  2.793   0.0  "
      ]
     },
     "execution_count": 20,
     "metadata": {},
     "output_type": "execute_result"
    }
   ],
   "source": [
    "weige_CB_TD_cost = CB_Transaction_Functions.CB_TD_cost(weige,weige_CB_TD,weige_date,weige_rate)\n",
    "weige_CB_TD_cost"
   ]
  },
  {
   "cell_type": "markdown",
   "metadata": {},
   "source": [
    "## 【数据集合与画图】"
   ]
  },
  {
   "cell_type": "code",
   "execution_count": 21,
   "metadata": {},
   "outputs": [],
   "source": [
    "CB_Transaction_Data_Cost_T = pd.concat([huifeng_CB_TD_cost.T,hongtao_CB_TD_cost.T,mosu_CB_TD_cost.T,zhongxing_CB_TD_cost.T,\n",
    "                                        yatai_CB_TD_cost.T,weige_CB_TD_cost.T], axis=1)\n",
    "CB_Transaction_Data_Cost = CB_Transaction_Data_Cost_T.T\n",
    "CB_Transaction_Data_Cost[u'总成本'] = CB_Transaction_Data_Cost[u'成交数量']*CB_Transaction_Data_Cost[u'持仓成本']\n",
    "CB_Transaction_Data_Cost = CB_Transaction_Data_Cost.loc[CB_Transaction_Data_Cost[u'成交数量']>0]"
   ]
  },
  {
   "cell_type": "code",
   "execution_count": 22,
   "metadata": {
    "collapsed": true
   },
   "outputs": [],
   "source": [
    "CB_Transaction_Data_Cost[u'交易时间'] = pd.to_datetime(CB_Transaction_Data_Cost[u'交易时间'].values)\n",
    "CB_Transaction_Data_Cost_R = CB_Transaction_Data_Cost.sort_values(by=u'持仓成本', ascending=True)\n",
    "CB_Transaction_Data_Cost_R[u'可转债'] = CB_Transaction_Data_Cost_R.index\n",
    "CB_Transaction_Data_Cost_R = CB_Transaction_Data_Cost_R.reset_index(drop=True)\n",
    "CB_Transaction_Data_Cost_R = CB_Transaction_Data_Cost_R[[u'证券代码',u'可转债',u'持仓成本',u'成交数量',u'总成本',u'交易时间',u'成交金额',u'买卖数量',u'起息日',u'剩余年限',u'到期利率%',u'到期年化%',u'锁仓张数']]"
   ]
  },
  {
   "cell_type": "markdown",
   "metadata": {},
   "source": [
    "### 持仓明细表"
   ]
  },
  {
   "cell_type": "code",
   "execution_count": 23,
   "metadata": {},
   "outputs": [
    {
     "data": {
      "text/html": [
       "<div>\n",
       "<style>\n",
       "    .dataframe thead tr:only-child th {\n",
       "        text-align: right;\n",
       "    }\n",
       "\n",
       "    .dataframe thead th {\n",
       "        text-align: left;\n",
       "    }\n",
       "\n",
       "    .dataframe tbody tr th {\n",
       "        vertical-align: top;\n",
       "    }\n",
       "</style>\n",
       "<table border=\"1\" class=\"dataframe\">\n",
       "  <thead>\n",
       "    <tr style=\"text-align: right;\">\n",
       "      <th></th>\n",
       "      <th>证券代码</th>\n",
       "      <th>可转债</th>\n",
       "      <th>持仓成本</th>\n",
       "      <th>成交数量</th>\n",
       "      <th>总成本</th>\n",
       "      <th>交易时间</th>\n",
       "      <th>成交金额</th>\n",
       "      <th>买卖数量</th>\n",
       "      <th>起息日</th>\n",
       "      <th>剩余年限</th>\n",
       "      <th>到期利率%</th>\n",
       "      <th>到期年化%</th>\n",
       "      <th>锁仓张数</th>\n",
       "    </tr>\n",
       "  </thead>\n",
       "  <tbody>\n",
       "    <tr>\n",
       "      <th>0</th>\n",
       "      <td>127004</td>\n",
       "      <td>模塑转债</td>\n",
       "      <td>94.458</td>\n",
       "      <td>10</td>\n",
       "      <td>944.58</td>\n",
       "      <td>2019-03-11</td>\n",
       "      <td>94.439</td>\n",
       "      <td>10</td>\n",
       "      <td>2017-06-02</td>\n",
       "      <td>4年82天</td>\n",
       "      <td>18.571</td>\n",
       "      <td>4.393</td>\n",
       "      <td>0</td>\n",
       "    </tr>\n",
       "    <tr>\n",
       "      <th>1</th>\n",
       "      <td>128012</td>\n",
       "      <td>辉丰转债</td>\n",
       "      <td>94.919</td>\n",
       "      <td>10</td>\n",
       "      <td>949.19</td>\n",
       "      <td>2019-03-11</td>\n",
       "      <td>94.9</td>\n",
       "      <td>10</td>\n",
       "      <td>2016-04-21</td>\n",
       "      <td>3年40天</td>\n",
       "      <td>10.916</td>\n",
       "      <td>3.507</td>\n",
       "      <td>0</td>\n",
       "    </tr>\n",
       "    <tr>\n",
       "      <th>2</th>\n",
       "      <td>128013</td>\n",
       "      <td>洪涛转债</td>\n",
       "      <td>96.336</td>\n",
       "      <td>10</td>\n",
       "      <td>963.36</td>\n",
       "      <td>2019-03-11</td>\n",
       "      <td>96.317</td>\n",
       "      <td>10</td>\n",
       "      <td>2016-07-29</td>\n",
       "      <td>3年139天</td>\n",
       "      <td>14.018</td>\n",
       "      <td>4.143</td>\n",
       "      <td>0</td>\n",
       "    </tr>\n",
       "    <tr>\n",
       "      <th>3</th>\n",
       "      <td>128026</td>\n",
       "      <td>众兴转债</td>\n",
       "      <td>96.579</td>\n",
       "      <td>10</td>\n",
       "      <td>965.79</td>\n",
       "      <td>2019-03-11</td>\n",
       "      <td>96.56</td>\n",
       "      <td>10</td>\n",
       "      <td>2017-12-13</td>\n",
       "      <td>4年276天</td>\n",
       "      <td>12.571</td>\n",
       "      <td>2.642</td>\n",
       "      <td>0</td>\n",
       "    </tr>\n",
       "    <tr>\n",
       "      <th>4</th>\n",
       "      <td>128023</td>\n",
       "      <td>亚太转债</td>\n",
       "      <td>96.665</td>\n",
       "      <td>10</td>\n",
       "      <td>966.65</td>\n",
       "      <td>2019-03-11</td>\n",
       "      <td>96.646</td>\n",
       "      <td>10</td>\n",
       "      <td>2017-12-04</td>\n",
       "      <td>4年267天</td>\n",
       "      <td>14.043</td>\n",
       "      <td>2.966</td>\n",
       "      <td>0</td>\n",
       "    </tr>\n",
       "    <tr>\n",
       "      <th>5</th>\n",
       "      <td>113527</td>\n",
       "      <td>维格转债</td>\n",
       "      <td>100</td>\n",
       "      <td>40</td>\n",
       "      <td>4000</td>\n",
       "      <td>2019-02-19</td>\n",
       "      <td>100</td>\n",
       "      <td>40</td>\n",
       "      <td>2019-01-24</td>\n",
       "      <td>5年317天</td>\n",
       "      <td>16.56</td>\n",
       "      <td>2.793</td>\n",
       "      <td>0</td>\n",
       "    </tr>\n",
       "  </tbody>\n",
       "</table>\n",
       "</div>"
      ],
      "text/plain": [
       "     证券代码   可转债    持仓成本 成交数量     总成本       交易时间    成交金额 买卖数量         起息日  \\\n",
       "0  127004  模塑转债  94.458   10  944.58 2019-03-11  94.439   10  2017-06-02   \n",
       "1  128012  辉丰转债  94.919   10  949.19 2019-03-11    94.9   10  2016-04-21   \n",
       "2  128013  洪涛转债  96.336   10  963.36 2019-03-11  96.317   10  2016-07-29   \n",
       "3  128026  众兴转债  96.579   10  965.79 2019-03-11   96.56   10  2017-12-13   \n",
       "4  128023  亚太转债  96.665   10  966.65 2019-03-11  96.646   10  2017-12-04   \n",
       "5  113527  维格转债     100   40    4000 2019-02-19     100   40  2019-01-24   \n",
       "\n",
       "     剩余年限   到期利率%  到期年化% 锁仓张数  \n",
       "0   4年82天  18.571  4.393    0  \n",
       "1   3年40天  10.916  3.507    0  \n",
       "2  3年139天  14.018  4.143    0  \n",
       "3  4年276天  12.571  2.642    0  \n",
       "4  4年267天  14.043  2.966    0  \n",
       "5  5年317天   16.56  2.793    0  "
      ]
     },
     "execution_count": 23,
     "metadata": {},
     "output_type": "execute_result"
    }
   ],
   "source": [
    "CB_Transaction_Data_Cost_R"
   ]
  },
  {
   "cell_type": "code",
   "execution_count": 24,
   "metadata": {},
   "outputs": [
    {
     "data": {
      "image/png": "[encoded data removed]",
      "text/plain": [
       "<matplotlib.figure.Figure at 0xf9ac208>"
      ]
     },
     "metadata": {},
     "output_type": "display_data"
    }
   ],
   "source": [
    "CB_Transaction_Functions.CB_Transaction_Data_Cost_plt(CB_Transaction_Data_Cost)"
   ]
  },
  {
   "cell_type": "code",
   "execution_count": 25,
   "metadata": {},
   "outputs": [
    {
     "data": {
      "text/html": [
       "<div>\n",
       "<style>\n",
       "    .dataframe thead tr:only-child th {\n",
       "        text-align: right;\n",
       "    }\n",
       "\n",
       "    .dataframe thead th {\n",
       "        text-align: left;\n",
       "    }\n",
       "\n",
       "    .dataframe tbody tr th {\n",
       "        vertical-align: top;\n",
       "    }\n",
       "</style>\n",
       "<table border=\"1\" class=\"dataframe\">\n",
       "  <thead>\n",
       "    <tr style=\"text-align: right;\">\n",
       "      <th></th>\n",
       "      <th>合计</th>\n",
       "    </tr>\n",
       "  </thead>\n",
       "  <tbody>\n",
       "    <tr>\n",
       "      <th>总成本</th>\n",
       "      <td>8789.57</td>\n",
       "    </tr>\n",
       "  </tbody>\n",
       "</table>\n",
       "</div>"
      ],
      "text/plain": [
       "          合计\n",
       "总成本  8789.57"
      ]
     },
     "execution_count": 25,
     "metadata": {},
     "output_type": "execute_result"
    }
   ],
   "source": [
    "ALL_Cost = CB_Transaction_Data_Cost.loc[:,[u'总成本']]\n",
    "# 行合计，形成最后一行合计值\n",
    "ALL_Cost.loc[u'合计'] = ALL_Cost.apply(lambda x: x.sum())\n",
    "# ALL_Cost.sort_values(by=u'总成本', ascending=True).T\n",
    "ALL_Cost.T[[u'合计']]"
   ]
  },
  {
   "cell_type": "code",
   "execution_count": 26,
   "metadata": {},
   "outputs": [
    {
     "data": {
      "text/html": [
       "<div>\n",
       "<style>\n",
       "    .dataframe thead tr:only-child th {\n",
       "        text-align: right;\n",
       "    }\n",
       "\n",
       "    .dataframe thead th {\n",
       "        text-align: left;\n",
       "    }\n",
       "\n",
       "    .dataframe tbody tr th {\n",
       "        vertical-align: top;\n",
       "    }\n",
       "</style>\n",
       "<table border=\"1\" class=\"dataframe\">\n",
       "  <thead>\n",
       "    <tr style=\"text-align: right;\">\n",
       "      <th></th>\n",
       "      <th>发生日期</th>\n",
       "      <th>业务名称</th>\n",
       "      <th>证券代码</th>\n",
       "      <th>证券名称</th>\n",
       "      <th>成交均价</th>\n",
       "      <th>成交数量</th>\n",
       "      <th>成交金额</th>\n",
       "      <th>股份余额</th>\n",
       "      <th>手续费</th>\n",
       "      <th>发生金额</th>\n",
       "    </tr>\n",
       "  </thead>\n",
       "  <tbody>\n",
       "    <tr>\n",
       "      <th>0</th>\n",
       "      <td>2019-02-19</td>\n",
       "      <td>市值认购</td>\n",
       "      <td>113527</td>\n",
       "      <td>维格转债</td>\n",
       "      <td>100.000</td>\n",
       "      <td>40</td>\n",
       "      <td>4000.00</td>\n",
       "      <td>100</td>\n",
       "      <td>0.00</td>\n",
       "      <td>-4000.00</td>\n",
       "    </tr>\n",
       "    <tr>\n",
       "      <th>1</th>\n",
       "      <td>2019-03-11</td>\n",
       "      <td>证券买入清算</td>\n",
       "      <td>128023</td>\n",
       "      <td>亚太转债</td>\n",
       "      <td>96.646</td>\n",
       "      <td>10</td>\n",
       "      <td>966.46</td>\n",
       "      <td>10</td>\n",
       "      <td>0.19</td>\n",
       "      <td>-966.65</td>\n",
       "    </tr>\n",
       "    <tr>\n",
       "      <th>2</th>\n",
       "      <td>2019-03-11</td>\n",
       "      <td>证券买入清算</td>\n",
       "      <td>128026</td>\n",
       "      <td>众兴转债</td>\n",
       "      <td>96.560</td>\n",
       "      <td>10</td>\n",
       "      <td>965.60</td>\n",
       "      <td>10</td>\n",
       "      <td>0.19</td>\n",
       "      <td>-965.79</td>\n",
       "    </tr>\n",
       "    <tr>\n",
       "      <th>3</th>\n",
       "      <td>2019-03-11</td>\n",
       "      <td>证券买入清算</td>\n",
       "      <td>127004</td>\n",
       "      <td>模塑转债</td>\n",
       "      <td>94.439</td>\n",
       "      <td>10</td>\n",
       "      <td>944.39</td>\n",
       "      <td>10</td>\n",
       "      <td>0.19</td>\n",
       "      <td>-944.58</td>\n",
       "    </tr>\n",
       "    <tr>\n",
       "      <th>4</th>\n",
       "      <td>2019-03-11</td>\n",
       "      <td>证券买入清算</td>\n",
       "      <td>128012</td>\n",
       "      <td>辉丰转债</td>\n",
       "      <td>94.900</td>\n",
       "      <td>10</td>\n",
       "      <td>949.00</td>\n",
       "      <td>10</td>\n",
       "      <td>0.19</td>\n",
       "      <td>-949.19</td>\n",
       "    </tr>\n",
       "    <tr>\n",
       "      <th>5</th>\n",
       "      <td>2019-03-11</td>\n",
       "      <td>证券买入清算</td>\n",
       "      <td>128013</td>\n",
       "      <td>洪涛转债</td>\n",
       "      <td>96.317</td>\n",
       "      <td>10</td>\n",
       "      <td>963.17</td>\n",
       "      <td>10</td>\n",
       "      <td>0.19</td>\n",
       "      <td>-963.36</td>\n",
       "    </tr>\n",
       "  </tbody>\n",
       "</table>\n",
       "</div>"
      ],
      "text/plain": [
       "        发生日期    业务名称    证券代码  证券名称     成交均价  成交数量     成交金额  股份余额   手续费  \\\n",
       "0 2019-02-19    市值认购  113527  维格转债  100.000    40  4000.00   100  0.00   \n",
       "1 2019-03-11  证券买入清算  128023  亚太转债   96.646    10   966.46    10  0.19   \n",
       "2 2019-03-11  证券买入清算  128026  众兴转债   96.560    10   965.60    10  0.19   \n",
       "3 2019-03-11  证券买入清算  127004  模塑转债   94.439    10   944.39    10  0.19   \n",
       "4 2019-03-11  证券买入清算  128012  辉丰转债   94.900    10   949.00    10  0.19   \n",
       "5 2019-03-11  证券买入清算  128013  洪涛转债   96.317    10   963.17    10  0.19   \n",
       "\n",
       "      发生金额  \n",
       "0 -4000.00  \n",
       "1  -966.65  \n",
       "2  -965.79  \n",
       "3  -944.58  \n",
       "4  -949.19  \n",
       "5  -963.36  "
      ]
     },
     "execution_count": 26,
     "metadata": {},
     "output_type": "execute_result"
    }
   ],
   "source": [
    "CB_Transaction_Data = pd.read_csv('cbcsv/' + CB_CSV, encoding='gbk')\n",
    "CB_Transaction_Data[u'发生日期'] = pd.to_datetime(CB_Transaction_Data[u'发生日期'].values)\n",
    "CB_Transaction_Data.tail(10)"
   ]
  }
 ],
 "metadata": {
  "kernelspec": {
   "display_name": "Python 2",
   "language": "python",
   "name": "python2"
  },
  "language_info": {
   "codemirror_mode": {
    "name": "ipython",
    "version": 2
   },
   "file_extension": ".py",
   "mimetype": "text/x-python",
   "name": "python",
   "nbconvert_exporter": "python",
   "pygments_lexer": "ipython2",
   "version": "2.7.15"
  }
 },
 "nbformat": 4,
 "nbformat_minor": 2
}
