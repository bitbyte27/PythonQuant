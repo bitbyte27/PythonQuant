{
 "cells": [
  {
   "cell_type": "code",
   "execution_count": 1,
   "metadata": {
    "collapsed": true
   },
   "outputs": [],
   "source": [
    "import pandas as pd\n",
    "import numpy as np\n",
    "import matplotlib.pyplot as plt\n",
    "import matplotlib.dates as mdates\n",
    "import time\n",
    "from random import choice"
   ]
  },
  {
   "cell_type": "code",
   "execution_count": 2,
   "metadata": {
    "collapsed": true
   },
   "outputs": [],
   "source": [
    "def CB_Transaction_Data(CB_name):\n",
    "    \n",
    "    # 选择数据中的某个转债数据\n",
    "    CB_Transaction_Data = pd.read_csv('cbcsv/CB_Transaction_Data.csv', encoding='gbk')\n",
    "    CB_TD = CB_Transaction_Data.loc[CB_Transaction_Data[u'证券名称'] == CB_name]\n",
    "    CB_TD = CB_TD.reset_index(drop=True)\n",
    "    \n",
    "    # 发生日期格式化\n",
    "    CB_TD[u'发生日期'] = pd.to_datetime(CB_TD[u'发生日期'])\n",
    "    \n",
    "    # 计算转债的持仓成本\n",
    "    CB_TD[u'成本'] = CB_TD[u'发生金额'].cumsum()\n",
    "    CB_TD[u'成本'] = CB_TD[u'成本']/CB_TD[u'股份余额']*-1\n",
    "    \n",
    "    return CB_TD"
   ]
  },
  {
   "cell_type": "code",
   "execution_count": 3,
   "metadata": {
    "collapsed": true
   },
   "outputs": [],
   "source": [
    "def CB_TD_cost(CB_name,CB_TD,Startdate):\n",
    "    \n",
    "    # 设置时间\n",
    "    Now_Date = time.strftime('%Y-%m-%d',time.localtime(time.time()))\n",
    "    Now_Date = pd.to_datetime(Now_Date)\n",
    "    Now_Date = mdates.date2num(Now_Date)\n",
    "    \n",
    "    # 计算持仓金额、持仓数量\n",
    "    CB_TD_cost_O = CB_TD[[u'发生金额',u'成交数量']]\n",
    "    CB_TD_cost_P = CB_TD_cost_O.T\n",
    "    CB_TD_cost_P[CB_name] = CB_TD_cost_P.apply(lambda x: x.sum(), axis=1)\n",
    "    CB_TD_cost_Q = CB_TD_cost_P[[CB_name]]\n",
    "    CB_TD_cost = CB_TD_cost_Q.T\n",
    "    CB_TD_cost[u'持仓金额'] = 0 - CB_TD_cost[u'发生金额']\n",
    "    CB_TD_cost = CB_TD_cost[[u'持仓金额',u'成交数量']]\n",
    "    \n",
    "    # 计算持仓成本\n",
    "    if CB_TD_cost[u'成交数量'].values == 0:\n",
    "        CB_TD_cost[u'持仓成本'] = 0\n",
    "    else:\n",
    "        CB_TD_cost[u'持仓成本'] =CB_TD_cost[u'持仓金额']/CB_TD_cost[u'成交数量']\n",
    "        \n",
    "    # 计算转债到期剩余时间\n",
    "    CB_TD_cost[u'起息日'] = Startdate\n",
    "    CB_TD_Date = pd.to_datetime(CB_TD_cost[u'起息日']).astype(np.object)\n",
    "    CB_TD_Date = mdates.date2num(CB_TD_Date)\n",
    "    CB_TD_Year = int(6-(Now_Date-CB_TD_Date)/365)\n",
    "    CB_TD_Day = ((6-(Now_Date-CB_TD_Date)/365)-CB_TD_Year)*365\n",
    "    CB_TD_cost[u'剩余年限'] = u'%d年%d天'%(CB_TD_Year,CB_TD_Day)\n",
    "    \n",
    "    CB_TD_cost[u'成交金额'] = CB_TD[u'成交均价'].tail(1).values\n",
    "    CB_TD_cost[u'买卖数量'] = CB_TD[u'成交数量'].tail(1).values\n",
    "    CB_TD_cost[u'交易时间'] = CB_TD[u'发生日期'].tail(1).values\n",
    "    \n",
    "    return CB_TD_cost"
   ]
  },
  {
   "cell_type": "code",
   "execution_count": 4,
   "metadata": {
    "collapsed": true
   },
   "outputs": [],
   "source": [
    "def CB_TD_plt(CB_TD,y1,y2,y3,y4):\n",
    "    \n",
    "    CB_TD_B = CB_TD.loc[CB_TD[u'成交数量'] > 0,[u'发生日期',u'成交均价',u'成交数量']]\n",
    "    CB_TD_B = CB_TD_B.set_index(u'发生日期')\n",
    "    CB_TD_S = CB_TD.loc[CB_TD[u'成交数量'] < 0,[u'发生日期',u'成交均价',u'成交数量']]\n",
    "    CB_TD_S = CB_TD_S.set_index(u'发生日期')\n",
    "    \n",
    "    CB_TD_BS = CB_TD.loc[CB_TD[u'成交数量'] <> 0,[u'发生日期',u'成本']]\n",
    "    CB_TD_BS = CB_TD_BS.drop_duplicates([u'发生日期'])\n",
    "    CB_TD_BS = CB_TD_BS.set_index(u'发生日期')\n",
    "    Day1 = CB_TD_BS.index[0]\n",
    "    Day1 = mdates.date2num(Day1)-2\n",
    "    Day2 = CB_TD_BS.index[-1]\n",
    "    Day2 = mdates.date2num(Day2)+2\n",
    "    \n",
    "    plt.figure(1,figsize=(16,4), dpi=80)\n",
    "    ax1 = plt.subplot(111)\n",
    "    \n",
    "    CB_TD_B[u'成交均价'].plot(color='red', marker='.', alpha=0.5)\n",
    "    CB_TD_S[u'成交均价'].plot(color='blue', marker='.', alpha=0.5)\n",
    "    CB_TD_BS[u'成本'].plot(color='purple', marker='.', alpha=0.5)\n",
    "    plt.grid(linestyle=':', alpha=0.5)\n",
    "    ax1.xaxis.set_major_formatter(mdates.DateFormatter('%Y-%m-%d'))\n",
    "    plt.xticks(CB_TD_BS.index, rotation=45)\n",
    "    plt.xlim(Day1,Day2)\n",
    "    plt.xlabel('Date') \n",
    "    \n",
    "    plt.axhline(y=y1, color='Magenta', linewidth='1.0')\n",
    "    plt.axhline(y=y2, color='Green', linewidth='1.0')\n",
    "    plt.ylim(y3-5,y4,1)\n",
    "    \n",
    "    return plt.show()"
   ]
  },
  {
   "cell_type": "code",
   "execution_count": 5,
   "metadata": {
    "collapsed": true
   },
   "outputs": [],
   "source": [
    "# 随机颜色16位码获取，生成数组\n",
    "CB_color = pd.read_csv('../datacsv/color.csv')\n",
    "CB_color = ['%s'%j for j in CB_color['colorcode']]"
   ]
  },
  {
   "cell_type": "code",
   "execution_count": 6,
   "metadata": {
    "collapsed": true
   },
   "outputs": [],
   "source": [
    "def CB_TD_cost_plt(CB_TD):\n",
    "    \n",
    "    # 提取关键数据，压缩数据的目的是减少计算量和减少无效值\n",
    "    CB_TD_Data = CB_TD.loc[CB_TD[u'股份余额']<>0,[u'发生日期',u'股份余额',u'成本']]\n",
    "    \n",
    "    # 按“股份余额”进行分组，并建立describe描述表\n",
    "    CB_TD_groupby0 = CB_TD_Data.groupby(CB_TD_Data[u'股份余额'])\n",
    "    CB_TD_groupby1 = CB_TD_groupby0.describe()\n",
    "    \n",
    "    # 选择“股份余额”大于0的数据，因为深市的分红结息不计入成本摊销\n",
    "    CB_TD_groupby2 = CB_TD_groupby1[CB_TD_groupby1.index>0]\n",
    "    \n",
    "    # 选择成本count大于1的数据，只有两个相同持仓份额的数据才有对比意义，单个买卖时间点的成本没有对比意义\n",
    "    CB_TD_groupby3 = CB_TD_groupby2[CB_TD_groupby2[u'成本','count']>1]\n",
    "    \n",
    "    # 取出用于对比的“股份余额”数据\n",
    "    CB_TD_groupby_index = CB_TD_groupby3.index\n",
    "    \n",
    "    # 选择成本count等于1的数据\n",
    "    CB_TD_groupby4 = CB_TD_groupby2[CB_TD_groupby2[u'成本','count']==1]\n",
    "    \n",
    "    for j in CB_TD_groupby4.index:\n",
    "        CB_TD_Data = CB_TD_Data.loc[CB_TD_Data[u'股份余额']<>j,[u'发生日期',u'股份余额',u'成本']]\n",
    "    \n",
    "    CB_TD_Data = CB_TD_Data.set_index(u'发生日期')\n",
    "    Day3 = CB_TD_Data.index[0]\n",
    "    Day3 = mdates.date2num(Day3)-2\n",
    "    Day4 = CB_TD_Data.index[-1]\n",
    "    Day4 = mdates.date2num(Day4)+2\n",
    "    \n",
    "    plt.figure(2,figsize=(16,4), dpi=80)\n",
    "    ax2 = plt.subplot(111)\n",
    "    \n",
    "    for i in CB_TD_groupby_index:\n",
    "        CB_TD_cost_plt = CB_TD.loc[CB_TD[u'股份余额']==i,[u'发生日期',u'成本']].set_index(u'发生日期')\n",
    "        CB_TD_cost_plt[u'成本'].plot(color=choice(CB_color), marker='.', alpha=1)\n",
    "        \n",
    "    plt.xlim(Day3,Day4)\n",
    "    plt.grid(linestyle=':', alpha=0.5)\n",
    "    plt.xlabel('Date') \n",
    "\n",
    "    return plt.show()"
   ]
  }
 ],
 "metadata": {
  "kernelspec": {
   "display_name": "Python 2",
   "language": "python",
   "name": "python2"
  },
  "language_info": {
   "codemirror_mode": {
    "name": "ipython",
    "version": 2
   },
   "file_extension": ".py",
   "mimetype": "text/x-python",
   "name": "python",
   "nbconvert_exporter": "python",
   "pygments_lexer": "ipython2",
   "version": "2.7.13"
  }
 },
 "nbformat": 4,
 "nbformat_minor": 2
}
