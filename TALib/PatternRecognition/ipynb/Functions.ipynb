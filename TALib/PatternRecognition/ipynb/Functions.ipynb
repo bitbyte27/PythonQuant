{
 "cells": [
  {
   "cell_type": "code",
   "execution_count": 1,
   "metadata": {
    "collapsed": true
   },
   "outputs": [],
   "source": [
    "import pandas as pd\n",
    "import os\n",
    "import mpl_finance as mplf\n",
    "import matplotlib.pyplot as plt\n",
    "import numpy as np"
   ]
  },
  {
   "cell_type": "code",
   "execution_count": 2,
   "metadata": {
    "collapsed": true
   },
   "outputs": [],
   "source": [
    "# 导入数据\n",
    "def import_stock_data(stock_code, other_columns=[]):\n",
    "    \"\"\"\n",
    "    导入在datacsv下的股票数据。\n",
    "    :param stock_code: 股票数据的代码，例如'sh600000'\n",
    "    :param other_columns: 若为默认值，只导入以下基础字段：'交易日期', '股票代码', '开盘价', '最高价', '最低价', '收盘价', '涨跌幅', \n",
    "    '成交额'。\n",
    "    若不为默认值，会导入除基础字段之外其他指定的字段\n",
    "    :return:\n",
    "    \"\"\"\n",
    "    df = pd.read_csv('../talib_translate/data/input_data/stock_data/' + stock_code + '.csv', encoding='gbk')\n",
    "    df.columns = [i.encode('utf8') for i in df.columns]\n",
    "    df = df[['交易日期', '股票代码', '开盘价', '最高价', '最低价', '收盘价', '涨跌幅', '成交额'] + other_columns]\n",
    "    df.sort_values(by=['交易日期'], inplace=True)\n",
    "    df['交易日期'] = pd.to_datetime(df['交易日期'])\n",
    "    df['股票代码'] = stock_code\n",
    "    df.reset_index(inplace=True, drop=True)\n",
    "\n",
    "    return df"
   ]
  },
  {
   "cell_type": "code",
   "execution_count": 3,
   "metadata": {
    "collapsed": true
   },
   "outputs": [],
   "source": [
    "# 计算复权价\n",
    "def cal_fuquan_price(input_stock_data, fuquan_type='后复权'):\n",
    "    \"\"\"\n",
    "    计算复权价\n",
    "    :param input_stock_data:\n",
    "    :param fuquan_type:复权类型，可以是'后复权'或者'前复权'\n",
    "    :return:\n",
    "    \"\"\"\n",
    "    # 创建空的df\n",
    "    df = pd.DataFrame()\n",
    "\n",
    "    # 计算复权收盘价\n",
    "    num = {'后复权': 0, '前复权': -1}\n",
    "    price1 = input_stock_data['收盘价'].iloc[num[fuquan_type]]\n",
    "    df['复权因子'] = (1.0 + input_stock_data['涨跌幅']).cumprod()\n",
    "    price2 = df['复权因子'].iloc[num[fuquan_type]]\n",
    "    df['收盘价_' + fuquan_type] = df['复权因子'] * (price1 / price2)\n",
    "\n",
    "    # 计算复权的开盘价、最高价、最低价\n",
    "    df['开盘价_' + fuquan_type] = input_stock_data['开盘价'] / input_stock_data['收盘价'] * df['收盘价_' + fuquan_type]\n",
    "    df['最高价_' + fuquan_type] = input_stock_data['最高价'] / input_stock_data['收盘价'] * df['收盘价_' + fuquan_type]\n",
    "    df['最低价_' + fuquan_type] = input_stock_data['最低价'] / input_stock_data['收盘价'] * df['收盘价_' + fuquan_type]\n",
    "\n",
    "    return df[[i + '_' + fuquan_type for i in '开盘价', '最高价', '最低价', '收盘价']]"
   ]
  },
  {
   "cell_type": "code",
   "execution_count": 4,
   "metadata": {
    "collapsed": true
   },
   "outputs": [],
   "source": [
    "# 作图\n",
    "def plot_candle_chart(df, pic_name='candle_chart'):\n",
    "\n",
    "    # 对数据进行整理\n",
    "    df.set_index(df['交易日期'], drop=True, inplace=True)\n",
    "    df = df[['开盘价', '最高价', '最低价', '收盘价']]\n",
    "\n",
    "    # 作图\n",
    "    ll = np.arange(0, len(df), 1)\n",
    "    my_xticks = df.index[ll].date\n",
    "    fig, ax = plt.subplots()\n",
    "    mplf.candlestick2_ohlc(ax, df['开盘价'].values, df['最高价'].values, df['最低价'].values, df['收盘价'].values,\n",
    "                      width=0.6, colorup='r', colordown='g', alpha=1)\n",
    "    plt.xticks(ll, my_xticks)\n",
    "    plt.xticks(rotation=60)\n",
    "    plt.title(pic_name)\n",
    "    plt.subplots_adjust(left=0.09, bottom=0.20, right=0.94, top=0.90, wspace=0.2, hspace=0)\n",
    "\n",
    "    # 保存数据\n",
    "    # plt.savefig(pic_name+'.png')\n",
    "    plt.show()"
   ]
  },
  {
   "cell_type": "code",
   "execution_count": 5,
   "metadata": {
    "collapsed": true
   },
   "outputs": [],
   "source": [
    "# 导入某文件夹下所有股票的代码\n",
    "def get_stock_code_list_in_one_dir(path):\n",
    "    \"\"\"\n",
    "    从指定文件夹下，导入所有csv文件的文件名\n",
    "    :param path:\n",
    "    :return:\n",
    "    \"\"\"\n",
    "    stock_list = []\n",
    "\n",
    "    # 系统自带函数os.walk，用于遍历文件夹中的所有文件\n",
    "    for root, dirs, files in os.walk(path):\n",
    "        if files:  # 当files不为空的时候\n",
    "            for f in files:\n",
    "                if f.endswith('.csv'):\n",
    "                    stock_list.append(f[:8])\n",
    "\n",
    "    return stock_list"
   ]
  }
 ],
 "metadata": {
  "kernelspec": {
   "display_name": "Python 2",
   "language": "python",
   "name": "python2"
  },
  "language_info": {
   "codemirror_mode": {
    "name": "ipython",
    "version": 2
   },
   "file_extension": ".py",
   "mimetype": "text/x-python",
   "name": "python",
   "nbconvert_exporter": "python",
   "pygments_lexer": "ipython2",
   "version": "2.7.13"
  }
 },
 "nbformat": 4,
 "nbformat_minor": 2
}
