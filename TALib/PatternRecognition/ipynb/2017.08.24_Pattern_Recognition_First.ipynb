{
 "cells": [
  {
   "cell_type": "code",
   "execution_count": 1,
   "metadata": {
    "collapsed": true
   },
   "outputs": [],
   "source": [
    "import talib\n",
    "import numpy as np\n",
    "import pandas as pd\n",
    "import matplotlib.pyplot as plt\n",
    "import matplotlib.dates as mdates"
   ]
  },
  {
   "cell_type": "code",
   "execution_count": 2,
   "metadata": {
    "scrolled": true
   },
   "outputs": [
    {
     "data": {
      "text/html": [
       "<div>\n",
       "<style>\n",
       "    .dataframe thead tr:only-child th {\n",
       "        text-align: right;\n",
       "    }\n",
       "\n",
       "    .dataframe thead th {\n",
       "        text-align: left;\n",
       "    }\n",
       "\n",
       "    .dataframe tbody tr th {\n",
       "        vertical-align: top;\n",
       "    }\n",
       "</style>\n",
       "<table border=\"1\" class=\"dataframe\">\n",
       "  <thead>\n",
       "    <tr style=\"text-align: right;\">\n",
       "      <th></th>\n",
       "      <th>date</th>\n",
       "      <th>open</th>\n",
       "      <th>high</th>\n",
       "      <th>low</th>\n",
       "      <th>close</th>\n",
       "      <th>volume</th>\n",
       "    </tr>\n",
       "  </thead>\n",
       "  <tbody>\n",
       "    <tr>\n",
       "      <th>0</th>\n",
       "      <td>2000-1-4</td>\n",
       "      <td>1368.69</td>\n",
       "      <td>1407.51</td>\n",
       "      <td>1361.21</td>\n",
       "      <td>1406.37</td>\n",
       "      <td>9044290</td>\n",
       "    </tr>\n",
       "    <tr>\n",
       "      <th>1</th>\n",
       "      <td>2000-1-5</td>\n",
       "      <td>1407.82</td>\n",
       "      <td>1433.78</td>\n",
       "      <td>1398.32</td>\n",
       "      <td>1409.68</td>\n",
       "      <td>10597824</td>\n",
       "    </tr>\n",
       "    <tr>\n",
       "      <th>2</th>\n",
       "      <td>2000-1-6</td>\n",
       "      <td>1406.03</td>\n",
       "      <td>1463.95</td>\n",
       "      <td>1400.25</td>\n",
       "      <td>1463.94</td>\n",
       "      <td>13519870</td>\n",
       "    </tr>\n",
       "    <tr>\n",
       "      <th>3</th>\n",
       "      <td>2000-1-7</td>\n",
       "      <td>1477.15</td>\n",
       "      <td>1522.82</td>\n",
       "      <td>1477.15</td>\n",
       "      <td>1516.60</td>\n",
       "      <td>34600184</td>\n",
       "    </tr>\n",
       "    <tr>\n",
       "      <th>4</th>\n",
       "      <td>2000-1-10</td>\n",
       "      <td>1531.71</td>\n",
       "      <td>1546.72</td>\n",
       "      <td>1506.40</td>\n",
       "      <td>1545.11</td>\n",
       "      <td>31344148</td>\n",
       "    </tr>\n",
       "  </tbody>\n",
       "</table>\n",
       "</div>"
      ],
      "text/plain": [
       "        date     open     high      low    close    volume\n",
       "0   2000-1-4  1368.69  1407.51  1361.21  1406.37   9044290\n",
       "1   2000-1-5  1407.82  1433.78  1398.32  1409.68  10597824\n",
       "2   2000-1-6  1406.03  1463.95  1400.25  1463.94  13519870\n",
       "3   2000-1-7  1477.15  1522.82  1477.15  1516.60  34600184\n",
       "4  2000-1-10  1531.71  1546.72  1506.40  1545.11  31344148"
      ]
     },
     "execution_count": 2,
     "metadata": {},
     "output_type": "execute_result"
    }
   ],
   "source": [
    "stock_data = pd.read_csv('../datacsv/SZ000000.csv')\n",
    "# 当列太多时不换行\n",
    "pd.set_option('expand_frame_repr', False)\n",
    "# 最多显示行数\n",
    "pd.set_option('display.max_rows', 20)\n",
    "stadate = '20000101'\n",
    "enddate = '20170801'\n",
    "stock_data = stock_data[pd.to_datetime(stock_data['date']) >= pd.to_datetime(stadate)]\n",
    "stock_data = stock_data[pd.to_datetime(stock_data['date']) <= pd.to_datetime(enddate)]\n",
    "stock_data = stock_data.reset_index(drop=True)\n",
    "stock_data.head()"
   ]
  },
  {
   "cell_type": "code",
   "execution_count": 3,
   "metadata": {
    "collapsed": true
   },
   "outputs": [],
   "source": [
    "# 赋值开、高、收、低价格，np.array格式。\n",
    "open_p = stock_data['open'].values\n",
    "high_p = stock_data['high'].values\n",
    "low_p = stock_data['low'].values\n",
    "close_p = stock_data['close'].values"
   ]
  },
  {
   "cell_type": "code",
   "execution_count": 4,
   "metadata": {},
   "outputs": [
    {
     "data": {
      "text/plain": [
       "array([ 1368.69,  1407.82,  1406.03, ...,  3240.17,  3252.75,  3274.37])"
      ]
     },
     "execution_count": 4,
     "metadata": {},
     "output_type": "execute_result"
    }
   ],
   "source": [
    "# 展示open_p中的数据\n",
    "open_p"
   ]
  },
  {
   "cell_type": "code",
   "execution_count": 5,
   "metadata": {
    "collapsed": true
   },
   "outputs": [],
   "source": [
    "# 调用函数\n",
    "CDL2CROWS = talib.CDL2CROWS(open_p, high_p, low_p, close_p)\n",
    "\n",
    "CDLADVANCEBLOCK = talib.CDLADVANCEBLOCK(open_p, high_p, low_p, close_p)\n",
    "CDLBELTHOLD = talib.CDLBELTHOLD(open_p, high_p, low_p, close_p)\n",
    "CDLBREAKAWAY = talib.CDLBREAKAWAY(open_p, high_p, low_p, close_p)\n",
    "CDLCLOSINGMARUBOZU = talib.CDLCLOSINGMARUBOZU(open_p, high_p, low_p, close_p)\n",
    "CDLCONCEALBABYSWALL = talib.CDLCONCEALBABYSWALL(open_p, high_p, low_p, close_p)\n",
    "CDLCOUNTERATTACK = talib.CDLCOUNTERATTACK(open_p, high_p, low_p, close_p)"
   ]
  },
  {
   "cell_type": "code",
   "execution_count": 6,
   "metadata": {
    "scrolled": false
   },
   "outputs": [],
   "source": [
    "CDL2CROWS_df = pd.DataFrame(CDL2CROWS)\n",
    "CDL2CROWS_df.columns = ['CDL2CROWS']\n",
    "CDL2CROWS_data = pd.concat([stock_data['date'], CDL2CROWS_df], axis=1)\n",
    "CDL2CROWS_signal = CDL2CROWS_data.loc[CDL2CROWS_data['CDL2CROWS'] == -100,['date','CDL2CROWS']]\n",
    "CDL2CROWS_signal = CDL2CROWS_signal.set_index('date')"
   ]
  },
  {
   "cell_type": "code",
   "execution_count": 7,
   "metadata": {
    "collapsed": true,
    "scrolled": true
   },
   "outputs": [],
   "source": [
    "CDLADVANCEBLOCK_df = pd.DataFrame(CDLADVANCEBLOCK)\n",
    "CDLADVANCEBLOCK_df.columns = ['CDLADVANCEBLOCK']\n",
    "CDLADVANCEBLOCK_data = pd.concat([stock_data['date'], CDLADVANCEBLOCK_df], axis=1)\n",
    "CDLADVANCEBLOCK_signal = CDLADVANCEBLOCK_data.loc[CDLADVANCEBLOCK_data['CDLADVANCEBLOCK'] == -100,['date','CDLADVANCEBLOCK']]\n",
    "CDLADVANCEBLOCK_signal = CDLADVANCEBLOCK_signal.set_index('date')"
   ]
  },
  {
   "cell_type": "code",
   "execution_count": 8,
   "metadata": {},
   "outputs": [],
   "source": [
    "CDLBELTHOLD_df = pd.DataFrame(CDLBELTHOLD)\n",
    "CDLBELTHOLD_df.columns = ['CDLBELTHOLD']\n",
    "CDLBELTHOLD_data = pd.concat([stock_data['date'], CDLBELTHOLD_df], axis=1)\n",
    "CDLBELTHOLD_data = CDLBELTHOLD_data.set_index('date')\n",
    "CDLBELTHOLD_signal0 = CDLBELTHOLD_data.loc[CDLBELTHOLD_data['CDLBELTHOLD'] == -100,'CDLBELTHOLD']\n",
    "CDLBELTHOLD_signal1 = CDLBELTHOLD_data.loc[CDLBELTHOLD_data['CDLBELTHOLD'] == 100,'CDLBELTHOLD']\n",
    "CDLBELTHOLD_signal = pd.concat([CDLBELTHOLD_signal0,CDLBELTHOLD_signal1], axis=1)\n",
    "CDLBELTHOLD_signal.columns = ['CDLBELTHOLD0','CDLBELTHOLD1']\n",
    "CDLBELTHOLD_signal = CDLBELTHOLD_signal.fillna(0)\n",
    "CDLBELTHOLD_signal['CDLBELTHOLD'] = CDLBELTHOLD_signal['CDLBELTHOLD0']+CDLBELTHOLD_signal['CDLBELTHOLD1']\n",
    "CDLBELTHOLD_signal = CDLBELTHOLD_signal.loc[:,'CDLBELTHOLD']"
   ]
  },
  {
   "cell_type": "code",
   "execution_count": 9,
   "metadata": {
    "scrolled": true
   },
   "outputs": [],
   "source": [
    "CDLBREAKAWAY_df = pd.DataFrame(CDLBREAKAWAY)\n",
    "CDLBREAKAWAY_df.columns = ['CDLBREAKAWAY']\n",
    "CDLBREAKAWAY_data = pd.concat([stock_data['date'], CDLBREAKAWAY_df], axis=1)\n",
    "CDLBREAKAWAY_data = CDLBREAKAWAY_data.set_index('date')\n",
    "CDLBREAKAWAY_signal0 = CDLBREAKAWAY_data.loc[CDLBREAKAWAY_data['CDLBREAKAWAY'] == -100,'CDLBREAKAWAY']\n",
    "CDLBREAKAWAY_signal1 = CDLBREAKAWAY_data.loc[CDLBREAKAWAY_data['CDLBREAKAWAY'] == 100,'CDLBREAKAWAY']\n",
    "CDLBREAKAWAY_signal = pd.concat([CDLBREAKAWAY_signal0,CDLBREAKAWAY_signal1], axis=1)\n",
    "CDLBREAKAWAY_signal.columns = ['CDLBREAKAWAY0','CDLBREAKAWAY1']\n",
    "CDLBREAKAWAY_signal = CDLBREAKAWAY_signal.fillna(0)\n",
    "CDLBREAKAWAY_signal['CDLBREAKAWAY'] = CDLBREAKAWAY_signal['CDLBREAKAWAY0']+CDLBREAKAWAY_signal['CDLBREAKAWAY1']\n",
    "CDLBREAKAWAY_signal = CDLBREAKAWAY_signal.loc[:,'CDLBREAKAWAY']"
   ]
  },
  {
   "cell_type": "code",
   "execution_count": 10,
   "metadata": {
    "collapsed": true
   },
   "outputs": [],
   "source": [
    "CDLCLOSINGMARUBOZU_df = pd.DataFrame(CDLCLOSINGMARUBOZU)\n",
    "CDLCLOSINGMARUBOZU_df.columns = ['CDLCLOSINGMARUBOZU']\n",
    "CDLCLOSINGMARUBOZU_data = pd.concat([stock_data['date'], CDLCLOSINGMARUBOZU_df], axis=1)\n",
    "CDLCLOSINGMARUBOZU_data = CDLCLOSINGMARUBOZU_data.set_index('date')\n",
    "CDLCLOSINGMARUBOZU_signal0 = CDLCLOSINGMARUBOZU_data.loc[CDLCLOSINGMARUBOZU_data['CDLCLOSINGMARUBOZU'] == -100,'CDLCLOSINGMARUBOZU']\n",
    "CDLCLOSINGMARUBOZU_signal1 = CDLCLOSINGMARUBOZU_data.loc[CDLCLOSINGMARUBOZU_data['CDLCLOSINGMARUBOZU'] == 100,'CDLCLOSINGMARUBOZU']\n",
    "CDLCLOSINGMARUBOZU_signal = pd.concat([CDLCLOSINGMARUBOZU_signal0,CDLCLOSINGMARUBOZU_signal1], axis=1)\n",
    "CDLCLOSINGMARUBOZU_signal.columns = ['CDLCLOSINGMARUBOZU0','CDLCLOSINGMARUBOZU1']\n",
    "CDLCLOSINGMARUBOZU_signal = CDLCLOSINGMARUBOZU_signal.fillna(0)\n",
    "CDLCLOSINGMARUBOZU_signal['CDLCLOSINGMARUBOZU'] = CDLCLOSINGMARUBOZU_signal['CDLCLOSINGMARUBOZU0']+CDLCLOSINGMARUBOZU_signal['CDLCLOSINGMARUBOZU1']\n",
    "CDLCLOSINGMARUBOZU_signal = CDLCLOSINGMARUBOZU_signal.loc[:,'CDLCLOSINGMARUBOZU']"
   ]
  },
  {
   "cell_type": "code",
   "execution_count": 11,
   "metadata": {
    "collapsed": true
   },
   "outputs": [],
   "source": [
    "CDLCONCEALBABYSWALL_df = pd.DataFrame(CDLCONCEALBABYSWALL)\n",
    "CDLCONCEALBABYSWALL_df.columns = ['CDLCONCEALBABYSWALL']\n",
    "CDLCONCEALBABYSWALL_data = pd.concat([stock_data['date'], CDLCONCEALBABYSWALL_df], axis=1)\n",
    "CDLCONCEALBABYSWALL_signal = CDLCONCEALBABYSWALL_data.loc[CDLCONCEALBABYSWALL_data['CDLCONCEALBABYSWALL'] == -100,['date','CDLCONCEALBABYSWALL']]\n",
    "CDLCONCEALBABYSWALL_signal = CDLCONCEALBABYSWALL_signal.set_index('date')"
   ]
  },
  {
   "cell_type": "code",
   "execution_count": 12,
   "metadata": {},
   "outputs": [
    {
     "data": {
      "text/plain": [
       "2000-1-27     100.0\n",
       "2000-1-28     100.0\n",
       "2000-10-10    200.0\n",
       "2000-10-20    200.0\n",
       "2000-10-25    200.0\n",
       "2000-11-1     200.0\n",
       "2000-11-13    200.0\n",
       "2000-11-14    100.0\n",
       "2000-11-16    200.0\n",
       "2000-11-22    100.0\n",
       "              ...  \n",
       "2017-6-8     -100.0\n",
       "2017-6-9     -100.0\n",
       "2017-7-13     200.0\n",
       "2017-7-18     100.0\n",
       "2017-7-19     200.0\n",
       "2017-7-20    -100.0\n",
       "2017-7-24     100.0\n",
       "2017-7-31     100.0\n",
       "2017-7-5      100.0\n",
       "2017-8-1      200.0\n",
       "Name: PR, Length: 1433, dtype: float64"
      ]
     },
     "execution_count": 12,
     "metadata": {},
     "output_type": "execute_result"
    }
   ],
   "source": [
    "Pattern_Recognition_data = pd.concat([CDL2CROWS_signal, \n",
    "                                      CDLADVANCEBLOCK_signal,CDLBELTHOLD_signal,CDLBREAKAWAY_signal,CDLCLOSINGMARUBOZU_signal,\n",
    "                                      CDLCONCEALBABYSWALL_signal], axis=1)\n",
    "Pattern_Recognition_data.fillna(0)\n",
    "Pattern_Recognition_data['PR'] = Pattern_Recognition_data.apply(lambda x: x.sum(), axis=1)\n",
    "Pattern_Recognition_data['PR']"
   ]
  }
 ],
 "metadata": {
  "kernelspec": {
   "display_name": "Python 2",
   "language": "python",
   "name": "python2"
  },
  "language_info": {
   "codemirror_mode": {
    "name": "ipython",
    "version": 2
   },
   "file_extension": ".py",
   "mimetype": "text/x-python",
   "name": "python",
   "nbconvert_exporter": "python",
   "pygments_lexer": "ipython2",
   "version": "2.7.13"
  }
 },
 "nbformat": 4,
 "nbformat_minor": 2
}
