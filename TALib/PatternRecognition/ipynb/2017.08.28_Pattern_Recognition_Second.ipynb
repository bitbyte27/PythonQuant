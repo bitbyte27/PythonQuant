{
 "cells": [
  {
   "cell_type": "code",
   "execution_count": 1,
   "metadata": {
    "collapsed": true
   },
   "outputs": [],
   "source": [
    "import talib\n",
    "import numpy as np\n",
    "import pandas as pd\n",
    "import matplotlib.pyplot as plt\n",
    "import matplotlib.dates as mdates"
   ]
  },
  {
   "cell_type": "code",
   "execution_count": 2,
   "metadata": {},
   "outputs": [],
   "source": [
    "import TALib_Functions"
   ]
  },
  {
   "cell_type": "code",
   "execution_count": 3,
   "metadata": {
    "collapsed": true
   },
   "outputs": [],
   "source": [
    "# 当列太多时不换行\n",
    "pd.set_option('expand_frame_repr', False)\n",
    "# 最多显示行数\n",
    "pd.set_option('display.max_rows', 8)"
   ]
  },
  {
   "cell_type": "code",
   "execution_count": 4,
   "metadata": {
    "scrolled": false
   },
   "outputs": [
    {
     "data": {
      "text/html": [
       "<div>\n",
       "<style>\n",
       "    .dataframe thead tr:only-child th {\n",
       "        text-align: right;\n",
       "    }\n",
       "\n",
       "    .dataframe thead th {\n",
       "        text-align: left;\n",
       "    }\n",
       "\n",
       "    .dataframe tbody tr th {\n",
       "        vertical-align: top;\n",
       "    }\n",
       "</style>\n",
       "<table border=\"1\" class=\"dataframe\">\n",
       "  <thead>\n",
       "    <tr style=\"text-align: right;\">\n",
       "      <th></th>\n",
       "      <th>date</th>\n",
       "      <th>open</th>\n",
       "      <th>high</th>\n",
       "      <th>low</th>\n",
       "      <th>close</th>\n",
       "      <th>volume</th>\n",
       "    </tr>\n",
       "  </thead>\n",
       "  <tbody>\n",
       "    <tr>\n",
       "      <th>0</th>\n",
       "      <td>2000-1-4</td>\n",
       "      <td>1368.69</td>\n",
       "      <td>1407.51</td>\n",
       "      <td>1361.21</td>\n",
       "      <td>1406.37</td>\n",
       "      <td>9044290</td>\n",
       "    </tr>\n",
       "    <tr>\n",
       "      <th>1</th>\n",
       "      <td>2000-1-5</td>\n",
       "      <td>1407.82</td>\n",
       "      <td>1433.78</td>\n",
       "      <td>1398.32</td>\n",
       "      <td>1409.68</td>\n",
       "      <td>10597824</td>\n",
       "    </tr>\n",
       "    <tr>\n",
       "      <th>2</th>\n",
       "      <td>2000-1-6</td>\n",
       "      <td>1406.03</td>\n",
       "      <td>1463.95</td>\n",
       "      <td>1400.25</td>\n",
       "      <td>1463.94</td>\n",
       "      <td>13519870</td>\n",
       "    </tr>\n",
       "    <tr>\n",
       "      <th>3</th>\n",
       "      <td>2000-1-7</td>\n",
       "      <td>1477.15</td>\n",
       "      <td>1522.82</td>\n",
       "      <td>1477.15</td>\n",
       "      <td>1516.60</td>\n",
       "      <td>34600184</td>\n",
       "    </tr>\n",
       "    <tr>\n",
       "      <th>...</th>\n",
       "      <td>...</td>\n",
       "      <td>...</td>\n",
       "      <td>...</td>\n",
       "      <td>...</td>\n",
       "      <td>...</td>\n",
       "      <td>...</td>\n",
       "    </tr>\n",
       "    <tr>\n",
       "      <th>4252</th>\n",
       "      <td>2017-7-27</td>\n",
       "      <td>3243.76</td>\n",
       "      <td>3251.93</td>\n",
       "      <td>3220.64</td>\n",
       "      <td>3249.78</td>\n",
       "      <td>228485952</td>\n",
       "    </tr>\n",
       "    <tr>\n",
       "      <th>4253</th>\n",
       "      <td>2017-7-28</td>\n",
       "      <td>3240.17</td>\n",
       "      <td>3256.37</td>\n",
       "      <td>3232.96</td>\n",
       "      <td>3253.24</td>\n",
       "      <td>182226880</td>\n",
       "    </tr>\n",
       "    <tr>\n",
       "      <th>4254</th>\n",
       "      <td>2017-7-31</td>\n",
       "      <td>3252.75</td>\n",
       "      <td>3276.95</td>\n",
       "      <td>3251.19</td>\n",
       "      <td>3273.03</td>\n",
       "      <td>246039440</td>\n",
       "    </tr>\n",
       "    <tr>\n",
       "      <th>4255</th>\n",
       "      <td>2017-8-1</td>\n",
       "      <td>3274.37</td>\n",
       "      <td>3292.64</td>\n",
       "      <td>3273.50</td>\n",
       "      <td>3292.64</td>\n",
       "      <td>237194592</td>\n",
       "    </tr>\n",
       "  </tbody>\n",
       "</table>\n",
       "<p>4256 rows × 6 columns</p>\n",
       "</div>"
      ],
      "text/plain": [
       "           date     open     high      low    close     volume\n",
       "0      2000-1-4  1368.69  1407.51  1361.21  1406.37    9044290\n",
       "1      2000-1-5  1407.82  1433.78  1398.32  1409.68   10597824\n",
       "2      2000-1-6  1406.03  1463.95  1400.25  1463.94   13519870\n",
       "3      2000-1-7  1477.15  1522.82  1477.15  1516.60   34600184\n",
       "...         ...      ...      ...      ...      ...        ...\n",
       "4252  2017-7-27  3243.76  3251.93  3220.64  3249.78  228485952\n",
       "4253  2017-7-28  3240.17  3256.37  3232.96  3253.24  182226880\n",
       "4254  2017-7-31  3252.75  3276.95  3251.19  3273.03  246039440\n",
       "4255   2017-8-1  3274.37  3292.64  3273.50  3292.64  237194592\n",
       "\n",
       "[4256 rows x 6 columns]"
      ]
     },
     "execution_count": 4,
     "metadata": {},
     "output_type": "execute_result"
    }
   ],
   "source": [
    "# 第一次尝试用def定义函数的方式\n",
    "stock_code = 'SZ000000'\n",
    "stadate = '20000101'\n",
    "enddate = '20170801'\n",
    "stock_data = TALib_Functions.import_stock_data(stock_code,stadate,enddate)\n",
    "stock_data"
   ]
  },
  {
   "cell_type": "code",
   "execution_count": 5,
   "metadata": {
    "scrolled": true
   },
   "outputs": [
    {
     "data": {
      "text/html": [
       "<div>\n",
       "<style>\n",
       "    .dataframe thead tr:only-child th {\n",
       "        text-align: right;\n",
       "    }\n",
       "\n",
       "    .dataframe thead th {\n",
       "        text-align: left;\n",
       "    }\n",
       "\n",
       "    .dataframe tbody tr th {\n",
       "        vertical-align: top;\n",
       "    }\n",
       "</style>\n",
       "<table border=\"1\" class=\"dataframe\">\n",
       "  <thead>\n",
       "    <tr style=\"text-align: right;\">\n",
       "      <th></th>\n",
       "      <th>PatternRecognition</th>\n",
       "    </tr>\n",
       "  </thead>\n",
       "  <tbody>\n",
       "    <tr>\n",
       "      <th>0</th>\n",
       "      <td>CDL2CROWS</td>\n",
       "    </tr>\n",
       "    <tr>\n",
       "      <th>1</th>\n",
       "      <td>CDL3BLACKCROWS</td>\n",
       "    </tr>\n",
       "    <tr>\n",
       "      <th>2</th>\n",
       "      <td>CDL3INSIDE</td>\n",
       "    </tr>\n",
       "    <tr>\n",
       "      <th>3</th>\n",
       "      <td>CDL3LINESTRIKE</td>\n",
       "    </tr>\n",
       "    <tr>\n",
       "      <th>...</th>\n",
       "      <td>...</td>\n",
       "    </tr>\n",
       "    <tr>\n",
       "      <th>57</th>\n",
       "      <td>CDLTRISTAR</td>\n",
       "    </tr>\n",
       "    <tr>\n",
       "      <th>58</th>\n",
       "      <td>CDLUNIQUE3RIVER</td>\n",
       "    </tr>\n",
       "    <tr>\n",
       "      <th>59</th>\n",
       "      <td>CDLUPSIDEGAP2CROWS</td>\n",
       "    </tr>\n",
       "    <tr>\n",
       "      <th>60</th>\n",
       "      <td>CDLXSIDEGAP3METHODS</td>\n",
       "    </tr>\n",
       "  </tbody>\n",
       "</table>\n",
       "<p>61 rows × 1 columns</p>\n",
       "</div>"
      ],
      "text/plain": [
       "     PatternRecognition\n",
       "0             CDL2CROWS\n",
       "1        CDL3BLACKCROWS\n",
       "2            CDL3INSIDE\n",
       "3        CDL3LINESTRIKE\n",
       "..                  ...\n",
       "57           CDLTRISTAR\n",
       "58      CDLUNIQUE3RIVER\n",
       "59   CDLUPSIDEGAP2CROWS\n",
       "60  CDLXSIDEGAP3METHODS\n",
       "\n",
       "[61 rows x 1 columns]"
      ]
     },
     "execution_count": 5,
     "metadata": {},
     "output_type": "execute_result"
    }
   ],
   "source": [
    "Pattern_Recognition = pd.read_csv('datacsv/PatternRecognition.csv')\n",
    "pattern_name = ['%s'%i for i in Pattern_Recognition['PatternRecognition']]\n",
    "TALib_data = pd.DataFrame()\n",
    "k = len(pattern_name)\n",
    "Pattern_Recognition"
   ]
  },
  {
   "cell_type": "code",
   "execution_count": 6,
   "metadata": {},
   "outputs": [],
   "source": [
    "open_p = stock_data['open'].values\n",
    "high_p = stock_data['high'].values\n",
    "low_p = stock_data['low'].values\n",
    "close_p = stock_data['close'].values"
   ]
  },
  {
   "cell_type": "code",
   "execution_count": 7,
   "metadata": {},
   "outputs": [],
   "source": [
    "for i in range(0,k) :\n",
    "    TALib_data[pattern_name[i]] = getattr(talib,pattern_name[i])(open_p, high_p, low_p, close_p)"
   ]
  },
  {
   "cell_type": "code",
   "execution_count": 8,
   "metadata": {
    "scrolled": true
   },
   "outputs": [],
   "source": [
    "TALib_data = pd.concat([stock_data['date'], TALib_data], axis=1)\n",
    "TALib_data = TALib_data.set_index('date')\n",
    "TALib_data['PR'] = TALib_data.apply(lambda x: x.sum(), axis=1)\n",
    "TALib_data = TALib_data.loc[TALib_data['PR'] <> 0, pattern_name]\n",
    "TALib_data['Pattern'] = TALib_data.apply(lambda x: x.sum(), axis=1)"
   ]
  },
  {
   "cell_type": "code",
   "execution_count": 9,
   "metadata": {
    "scrolled": true
   },
   "outputs": [
    {
     "data": {
      "text/html": [
       "<div>\n",
       "<style>\n",
       "    .dataframe thead tr:only-child th {\n",
       "        text-align: right;\n",
       "    }\n",
       "\n",
       "    .dataframe thead th {\n",
       "        text-align: left;\n",
       "    }\n",
       "\n",
       "    .dataframe tbody tr th {\n",
       "        vertical-align: top;\n",
       "    }\n",
       "</style>\n",
       "<table border=\"1\" class=\"dataframe\">\n",
       "  <thead>\n",
       "    <tr style=\"text-align: right;\">\n",
       "      <th></th>\n",
       "      <th>Pattern</th>\n",
       "    </tr>\n",
       "    <tr>\n",
       "      <th>date</th>\n",
       "      <th></th>\n",
       "    </tr>\n",
       "  </thead>\n",
       "  <tbody>\n",
       "    <tr>\n",
       "      <th>2000-1-11</th>\n",
       "      <td>-100</td>\n",
       "    </tr>\n",
       "    <tr>\n",
       "      <th>2000-1-12</th>\n",
       "      <td>-100</td>\n",
       "    </tr>\n",
       "    <tr>\n",
       "      <th>2000-1-18</th>\n",
       "      <td>-200</td>\n",
       "    </tr>\n",
       "    <tr>\n",
       "      <th>2000-1-19</th>\n",
       "      <td>200</td>\n",
       "    </tr>\n",
       "    <tr>\n",
       "      <th>...</th>\n",
       "      <td>...</td>\n",
       "    </tr>\n",
       "    <tr>\n",
       "      <th>2017-7-26</th>\n",
       "      <td>500</td>\n",
       "    </tr>\n",
       "    <tr>\n",
       "      <th>2017-7-28</th>\n",
       "      <td>100</td>\n",
       "    </tr>\n",
       "    <tr>\n",
       "      <th>2017-7-31</th>\n",
       "      <td>200</td>\n",
       "    </tr>\n",
       "    <tr>\n",
       "      <th>2017-8-1</th>\n",
       "      <td>400</td>\n",
       "    </tr>\n",
       "  </tbody>\n",
       "</table>\n",
       "<p>3302 rows × 1 columns</p>\n",
       "</div>"
      ],
      "text/plain": [
       "           Pattern\n",
       "date              \n",
       "2000-1-11     -100\n",
       "2000-1-12     -100\n",
       "2000-1-18     -200\n",
       "2000-1-19      200\n",
       "...            ...\n",
       "2017-7-26      500\n",
       "2017-7-28      100\n",
       "2017-7-31      200\n",
       "2017-8-1       400\n",
       "\n",
       "[3302 rows x 1 columns]"
      ]
     },
     "execution_count": 9,
     "metadata": {},
     "output_type": "execute_result"
    }
   ],
   "source": [
    "TALib_data[['Pattern']]"
   ]
  }
 ],
 "metadata": {
  "kernelspec": {
   "display_name": "Python 2",
   "language": "python",
   "name": "python2"
  },
  "language_info": {
   "codemirror_mode": {
    "name": "ipython",
    "version": 2
   },
   "file_extension": ".py",
   "mimetype": "text/x-python",
   "name": "python",
   "nbconvert_exporter": "python",
   "pygments_lexer": "ipython2",
   "version": "2.7.13"
  }
 },
 "nbformat": 4,
 "nbformat_minor": 2
}
