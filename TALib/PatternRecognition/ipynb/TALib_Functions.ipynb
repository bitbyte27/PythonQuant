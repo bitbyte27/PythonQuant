{
 "cells": [
  {
   "cell_type": "code",
   "execution_count": 1,
   "metadata": {
    "collapsed": true
   },
   "outputs": [],
   "source": [
    "import numpy as np\n",
    "import pandas as pd\n",
    "import matplotlib.dates as mdates\n",
    "import matplotlib.pyplot as plt"
   ]
  },
  {
   "cell_type": "code",
   "execution_count": 2,
   "metadata": {
    "collapsed": true
   },
   "outputs": [],
   "source": [
    "def import_stock_data(stock_code,stadate,enddate):\n",
    "    stock_data = pd.read_csv('../datacsv/' + stock_code + '.csv')\n",
    "    stock_data = stock_data[pd.to_datetime(stock_data['date']) >= pd.to_datetime(stadate)]\n",
    "    stock_data = stock_data[pd.to_datetime(stock_data['date']) <= pd.to_datetime(enddate)]\n",
    "    stock_data = stock_data.reset_index(drop=True)\n",
    "    return stock_data"
   ]
  },
  {
   "cell_type": "code",
   "execution_count": 3,
   "metadata": {
    "collapsed": true
   },
   "outputs": [],
   "source": [
    "def plot_signal(df):\n",
    "    plt.figure(1,figsize=(16,4), dpi=80)\n",
    "    ax1 = plt.subplot(111)\n",
    "    df.plot(color='red', marker='.', alpha=0.4)\n",
    "    return plt.show()"
   ]
  }
 ],
 "metadata": {
  "kernelspec": {
   "display_name": "Python 2",
   "language": "python",
   "name": "python2"
  },
  "language_info": {
   "codemirror_mode": {
    "name": "ipython",
    "version": 2
   },
   "file_extension": ".py",
   "mimetype": "text/x-python",
   "name": "python",
   "nbconvert_exporter": "python",
   "pygments_lexer": "ipython2",
   "version": "2.7.13"
  }
 },
 "nbformat": 4,
 "nbformat_minor": 2
}
