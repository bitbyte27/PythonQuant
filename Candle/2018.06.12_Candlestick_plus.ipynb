{
 "cells": [
  {
   "cell_type": "code",
   "execution_count": 1,
   "metadata": {
    "collapsed": true
   },
   "outputs": [],
   "source": [
    "import pandas as pd\n",
    "import numpy as np\n",
    "import matplotlib.pyplot as plt\n",
    "import mpl_finance as mplf\n",
    "import matplotlib.dates as mdates"
   ]
  },
  {
   "cell_type": "code",
   "execution_count": 2,
   "metadata": {},
   "outputs": [],
   "source": [
    "Stock_300_ETF = pd.read_csv('ETF/data/510180.csv')\n",
    "Stock_300_ETF = Stock_300_ETF.set_index('date')\n",
    "Stock_300_ETF.index = pd.to_datetime(Stock_300_ETF.index)\n",
    "Stock_300_ETF = Stock_300_ETF.sort_index(axis=0, ascending=True)"
   ]
  },
  {
   "cell_type": "code",
   "execution_count": 3,
   "metadata": {
    "collapsed": true
   },
   "outputs": [],
   "source": [
    "import Risk_Ratio_Functions"
   ]
  },
  {
   "cell_type": "code",
   "execution_count": 4,
   "metadata": {},
   "outputs": [
    {
     "data": {
      "text/html": [
       "<div>\n",
       "<style>\n",
       "    .dataframe thead tr:only-child th {\n",
       "        text-align: right;\n",
       "    }\n",
       "\n",
       "    .dataframe thead th {\n",
       "        text-align: left;\n",
       "    }\n",
       "\n",
       "    .dataframe tbody tr th {\n",
       "        vertical-align: top;\n",
       "    }\n",
       "</style>\n",
       "<table border=\"1\" class=\"dataframe\">\n",
       "  <thead>\n",
       "    <tr style=\"text-align: right;\">\n",
       "      <th></th>\n",
       "      <th>open</th>\n",
       "      <th>high</th>\n",
       "      <th>low</th>\n",
       "      <th>close</th>\n",
       "      <th>volume</th>\n",
       "      <th>amount</th>\n",
       "      <th>Decision</th>\n",
       "      <th>MAJCQX</th>\n",
       "    </tr>\n",
       "    <tr>\n",
       "      <th>date</th>\n",
       "      <th></th>\n",
       "      <th></th>\n",
       "      <th></th>\n",
       "      <th></th>\n",
       "      <th></th>\n",
       "      <th></th>\n",
       "      <th></th>\n",
       "      <th></th>\n",
       "    </tr>\n",
       "  </thead>\n",
       "  <tbody>\n",
       "    <tr>\n",
       "      <th>2006-05-18</th>\n",
       "      <td>0.801</td>\n",
       "      <td>0.825</td>\n",
       "      <td>0.786</td>\n",
       "      <td>0.809</td>\n",
       "      <td>82909008</td>\n",
       "      <td>24748.268</td>\n",
       "      <td>48.96</td>\n",
       "      <td>NaN</td>\n",
       "    </tr>\n",
       "    <tr>\n",
       "      <th>2006-05-19</th>\n",
       "      <td>0.802</td>\n",
       "      <td>0.879</td>\n",
       "      <td>0.802</td>\n",
       "      <td>0.844</td>\n",
       "      <td>50558592</td>\n",
       "      <td>15555.816</td>\n",
       "      <td>58.48</td>\n",
       "      <td>NaN</td>\n",
       "    </tr>\n",
       "    <tr>\n",
       "      <th>2006-05-22</th>\n",
       "      <td>0.845</td>\n",
       "      <td>0.869</td>\n",
       "      <td>0.833</td>\n",
       "      <td>0.854</td>\n",
       "      <td>33741688</td>\n",
       "      <td>10556.232</td>\n",
       "      <td>58.48</td>\n",
       "      <td>55.306667</td>\n",
       "    </tr>\n",
       "    <tr>\n",
       "      <th>2006-05-23</th>\n",
       "      <td>0.825</td>\n",
       "      <td>0.867</td>\n",
       "      <td>0.797</td>\n",
       "      <td>0.804</td>\n",
       "      <td>28874040</td>\n",
       "      <td>8767.081</td>\n",
       "      <td>42.16</td>\n",
       "      <td>53.040000</td>\n",
       "    </tr>\n",
       "    <tr>\n",
       "      <th>2006-05-24</th>\n",
       "      <td>0.807</td>\n",
       "      <td>0.826</td>\n",
       "      <td>0.777</td>\n",
       "      <td>0.788</td>\n",
       "      <td>22789500</td>\n",
       "      <td>6825.586</td>\n",
       "      <td>38.08</td>\n",
       "      <td>46.240000</td>\n",
       "    </tr>\n",
       "  </tbody>\n",
       "</table>\n",
       "</div>"
      ],
      "text/plain": [
       "             open   high    low  close    volume     amount Decision  \\\n",
       "date                                                                   \n",
       "2006-05-18  0.801  0.825  0.786  0.809  82909008  24748.268    48.96   \n",
       "2006-05-19  0.802  0.879  0.802  0.844  50558592  15555.816    58.48   \n",
       "2006-05-22  0.845  0.869  0.833  0.854  33741688  10556.232    58.48   \n",
       "2006-05-23  0.825  0.867  0.797  0.804  28874040   8767.081    42.16   \n",
       "2006-05-24  0.807  0.826  0.777  0.788  22789500   6825.586    38.08   \n",
       "\n",
       "               MAJCQX  \n",
       "date                   \n",
       "2006-05-18        NaN  \n",
       "2006-05-19        NaN  \n",
       "2006-05-22  55.306667  \n",
       "2006-05-23  53.040000  \n",
       "2006-05-24  46.240000  "
      ]
     },
     "execution_count": 4,
     "metadata": {},
     "output_type": "execute_result"
    }
   ],
   "source": [
    "Risk_Ratio = Risk_Ratio_Functions.Risk_Ratio(Stock_300_ETF)\n",
    "Risk_Ratio = Risk_Ratio[['Decision','MAJCQX']]\n",
    "Stock_300_ETF_Risk_Ratio = pd.concat([Stock_300_ETF,Risk_Ratio], axis=1)\n",
    "Stock_300_ETF_Risk_Ratio.head()"
   ]
  },
  {
   "cell_type": "code",
   "execution_count": 5,
   "metadata": {},
   "outputs": [],
   "source": [
    "stadate = '2018-05-01'\n",
    "enddate = '2018-06-08'\n",
    "Stock_300_ETF_Risk_Ratio = Stock_300_ETF_Risk_Ratio[Stock_300_ETF_Risk_Ratio.index >= pd.to_datetime(stadate)]\n",
    "Stock_300_ETF_Risk_Ratio = Stock_300_ETF_Risk_Ratio[Stock_300_ETF_Risk_Ratio.index <= pd.to_datetime(enddate)]\n",
    "k = len(Stock_300_ETF_Risk_Ratio)"
   ]
  },
  {
   "cell_type": "raw",
   "metadata": {},
   "source": [
    "Stock_300_ETF_Risk_Ratio['id'] = 0\n",
    "for i in range(1,k,1):\n",
    "    Stock_300_ETF_Risk_Ratio.loc[i:i+1,'id'] = i"
   ]
  },
  {
   "cell_type": "code",
   "execution_count": 6,
   "metadata": {},
   "outputs": [],
   "source": [
    "Stock_300_ETF_Risk_Ratio['date'] = Stock_300_ETF_Risk_Ratio.index\n",
    "Stock_300_ETF_Risk_Ratio = Stock_300_ETF_Risk_Ratio.reset_index(drop=True)\n",
    "Stock_300_ETF_Risk_Ratio['id'] = Stock_300_ETF_Risk_Ratio.index+1"
   ]
  },
  {
   "cell_type": "code",
   "execution_count": 7,
   "metadata": {
    "scrolled": true
   },
   "outputs": [
    {
     "data": {
      "text/html": [
       "<div>\n",
       "<style>\n",
       "    .dataframe thead tr:only-child th {\n",
       "        text-align: right;\n",
       "    }\n",
       "\n",
       "    .dataframe thead th {\n",
       "        text-align: left;\n",
       "    }\n",
       "\n",
       "    .dataframe tbody tr th {\n",
       "        vertical-align: top;\n",
       "    }\n",
       "</style>\n",
       "<table border=\"1\" class=\"dataframe\">\n",
       "  <thead>\n",
       "    <tr style=\"text-align: right;\">\n",
       "      <th></th>\n",
       "      <th>open</th>\n",
       "      <th>high</th>\n",
       "      <th>low</th>\n",
       "      <th>close</th>\n",
       "      <th>volume</th>\n",
       "      <th>amount</th>\n",
       "      <th>Decision</th>\n",
       "      <th>MAJCQX</th>\n",
       "      <th>date</th>\n",
       "      <th>id</th>\n",
       "    </tr>\n",
       "  </thead>\n",
       "  <tbody>\n",
       "    <tr>\n",
       "      <th>18</th>\n",
       "      <td>3.266</td>\n",
       "      <td>3.285</td>\n",
       "      <td>3.249</td>\n",
       "      <td>3.274</td>\n",
       "      <td>7998700</td>\n",
       "      <td>2614.048</td>\n",
       "      <td>34</td>\n",
       "      <td>25.840000</td>\n",
       "      <td>2018-05-28</td>\n",
       "      <td>19</td>\n",
       "    </tr>\n",
       "    <tr>\n",
       "      <th>19</th>\n",
       "      <td>3.270</td>\n",
       "      <td>3.278</td>\n",
       "      <td>3.242</td>\n",
       "      <td>3.258</td>\n",
       "      <td>9865550</td>\n",
       "      <td>3217.000</td>\n",
       "      <td>21.76</td>\n",
       "      <td>26.293333</td>\n",
       "      <td>2018-05-29</td>\n",
       "      <td>20</td>\n",
       "    </tr>\n",
       "    <tr>\n",
       "      <th>20</th>\n",
       "      <td>3.220</td>\n",
       "      <td>3.230</td>\n",
       "      <td>3.192</td>\n",
       "      <td>3.192</td>\n",
       "      <td>11710300</td>\n",
       "      <td>3755.888</td>\n",
       "      <td>19.04</td>\n",
       "      <td>24.933333</td>\n",
       "      <td>2018-05-30</td>\n",
       "      <td>21</td>\n",
       "    </tr>\n",
       "    <tr>\n",
       "      <th>21</th>\n",
       "      <td>3.196</td>\n",
       "      <td>3.248</td>\n",
       "      <td>3.196</td>\n",
       "      <td>3.244</td>\n",
       "      <td>6517150</td>\n",
       "      <td>2105.055</td>\n",
       "      <td>27.2</td>\n",
       "      <td>22.666667</td>\n",
       "      <td>2018-05-31</td>\n",
       "      <td>22</td>\n",
       "    </tr>\n",
       "    <tr>\n",
       "      <th>22</th>\n",
       "      <td>3.238</td>\n",
       "      <td>3.252</td>\n",
       "      <td>3.215</td>\n",
       "      <td>3.227</td>\n",
       "      <td>7100349</td>\n",
       "      <td>2295.381</td>\n",
       "      <td>31.28</td>\n",
       "      <td>25.840000</td>\n",
       "      <td>2018-06-01</td>\n",
       "      <td>23</td>\n",
       "    </tr>\n",
       "    <tr>\n",
       "      <th>23</th>\n",
       "      <td>3.235</td>\n",
       "      <td>3.263</td>\n",
       "      <td>3.232</td>\n",
       "      <td>3.257</td>\n",
       "      <td>8117125</td>\n",
       "      <td>2639.724</td>\n",
       "      <td>36.72</td>\n",
       "      <td>31.733333</td>\n",
       "      <td>2018-06-04</td>\n",
       "      <td>24</td>\n",
       "    </tr>\n",
       "    <tr>\n",
       "      <th>24</th>\n",
       "      <td>3.268</td>\n",
       "      <td>3.283</td>\n",
       "      <td>3.247</td>\n",
       "      <td>3.280</td>\n",
       "      <td>11931013</td>\n",
       "      <td>3891.310</td>\n",
       "      <td>48.96</td>\n",
       "      <td>38.986667</td>\n",
       "      <td>2018-06-05</td>\n",
       "      <td>25</td>\n",
       "    </tr>\n",
       "    <tr>\n",
       "      <th>25</th>\n",
       "      <td>3.273</td>\n",
       "      <td>3.282</td>\n",
       "      <td>3.268</td>\n",
       "      <td>3.274</td>\n",
       "      <td>8517098</td>\n",
       "      <td>2790.559</td>\n",
       "      <td>50.32</td>\n",
       "      <td>45.333333</td>\n",
       "      <td>2018-06-06</td>\n",
       "      <td>26</td>\n",
       "    </tr>\n",
       "    <tr>\n",
       "      <th>26</th>\n",
       "      <td>3.280</td>\n",
       "      <td>3.305</td>\n",
       "      <td>3.280</td>\n",
       "      <td>3.283</td>\n",
       "      <td>10534165</td>\n",
       "      <td>3466.384</td>\n",
       "      <td>58.48</td>\n",
       "      <td>52.586667</td>\n",
       "      <td>2018-06-07</td>\n",
       "      <td>27</td>\n",
       "    </tr>\n",
       "    <tr>\n",
       "      <th>27</th>\n",
       "      <td>3.272</td>\n",
       "      <td>3.273</td>\n",
       "      <td>3.227</td>\n",
       "      <td>3.240</td>\n",
       "      <td>8096775</td>\n",
       "      <td>2627.235</td>\n",
       "      <td>36.72</td>\n",
       "      <td>48.506667</td>\n",
       "      <td>2018-06-08</td>\n",
       "      <td>28</td>\n",
       "    </tr>\n",
       "  </tbody>\n",
       "</table>\n",
       "</div>"
      ],
      "text/plain": [
       "     open   high    low  close    volume    amount Decision     MAJCQX  \\\n",
       "18  3.266  3.285  3.249  3.274   7998700  2614.048       34  25.840000   \n",
       "19  3.270  3.278  3.242  3.258   9865550  3217.000    21.76  26.293333   \n",
       "20  3.220  3.230  3.192  3.192  11710300  3755.888    19.04  24.933333   \n",
       "21  3.196  3.248  3.196  3.244   6517150  2105.055     27.2  22.666667   \n",
       "22  3.238  3.252  3.215  3.227   7100349  2295.381    31.28  25.840000   \n",
       "23  3.235  3.263  3.232  3.257   8117125  2639.724    36.72  31.733333   \n",
       "24  3.268  3.283  3.247  3.280  11931013  3891.310    48.96  38.986667   \n",
       "25  3.273  3.282  3.268  3.274   8517098  2790.559    50.32  45.333333   \n",
       "26  3.280  3.305  3.280  3.283  10534165  3466.384    58.48  52.586667   \n",
       "27  3.272  3.273  3.227  3.240   8096775  2627.235    36.72  48.506667   \n",
       "\n",
       "         date  id  \n",
       "18 2018-05-28  19  \n",
       "19 2018-05-29  20  \n",
       "20 2018-05-30  21  \n",
       "21 2018-05-31  22  \n",
       "22 2018-06-01  23  \n",
       "23 2018-06-04  24  \n",
       "24 2018-06-05  25  \n",
       "25 2018-06-06  26  \n",
       "26 2018-06-07  27  \n",
       "27 2018-06-08  28  "
      ]
     },
     "execution_count": 7,
     "metadata": {},
     "output_type": "execute_result"
    }
   ],
   "source": [
    "Stock_300_ETF_Risk_Ratio.tail(10)"
   ]
  },
  {
   "cell_type": "code",
   "execution_count": 8,
   "metadata": {},
   "outputs": [],
   "source": [
    "Stock_300_ETF_Risk_Ratio_ochl = Stock_300_ETF_Risk_Ratio[['id','open','close','high','low']]\n",
    "Stock_300_ETF_Risk_Ratio_date = Stock_300_ETF_Risk_Ratio.set_index('date')"
   ]
  },
  {
   "cell_type": "code",
   "execution_count": 9,
   "metadata": {},
   "outputs": [],
   "source": [
    "datarray = Stock_300_ETF_Risk_Ratio_ochl.values\n",
    "De = Stock_300_ETF_Risk_Ratio['Decision'].values\n",
    "JCQX = Stock_300_ETF_Risk_Ratio['MAJCQX'].values\n",
    "Id = Stock_300_ETF_Risk_Ratio['id'].values\n",
    "idx = np.arange(0, k, 1)\n",
    "date = Stock_300_ETF_Risk_Ratio_date.index[idx].date"
   ]
  },
  {
   "cell_type": "code",
   "execution_count": 10,
   "metadata": {
    "collapsed": true
   },
   "outputs": [],
   "source": [
    "plt.figure(2,figsize=(14,6), dpi=80)\n",
    "ax1 = plt.subplot(111)"
   ]
  },
  {
   "cell_type": "code",
   "execution_count": 11,
   "metadata": {},
   "outputs": [],
   "source": [
    "mplf.candlestick_ochl(ax1, datarray, width=0.8, colorup='red', colordown='green', alpha=0.7)\n",
    "plt.grid(linestyle=':', alpha=0.5)"
   ]
  },
  {
   "cell_type": "code",
   "execution_count": 12,
   "metadata": {},
   "outputs": [
    {
     "data": {
      "text/plain": [
       "<matplotlib.collections.PathCollection at 0x3c5c0b8>"
      ]
     },
     "execution_count": 12,
     "metadata": {},
     "output_type": "execute_result"
    }
   ],
   "source": [
    "plt.scatter(27, 3.303, 50, color ='Magenta')\n",
    "plt.scatter(21, 3.221, 50, color ='black')"
   ]
  },
  {
   "cell_type": "code",
   "execution_count": 13,
   "metadata": {},
   "outputs": [
    {
     "data": {
      "text/plain": [
       "(array([  0.5,   1.5,   2.5,   3.5,   4.5,   5.5,   6.5,   7.5,   8.5,\n",
       "          9.5,  10.5,  11.5,  12.5,  13.5,  14.5,  15.5,  16.5,  17.5,\n",
       "         18.5,  19.5,  20.5,  21.5,  22.5,  23.5,  24.5,  25.5,  26.5,  27.5]),\n",
       " <a list of 28 Text xticklabel objects>)"
      ]
     },
     "execution_count": 13,
     "metadata": {},
     "output_type": "execute_result"
    }
   ],
   "source": [
    "plt.xticks(Id-0.5, date)\n",
    "plt.xticks(rotation=45)"
   ]
  },
  {
   "cell_type": "code",
   "execution_count": 14,
   "metadata": {},
   "outputs": [
    {
     "data": {
      "text/plain": [
       "[<matplotlib.lines.Line2D at 0xc7c7550>]"
      ]
     },
     "execution_count": 14,
     "metadata": {},
     "output_type": "execute_result"
    }
   ],
   "source": [
    "ax2 = ax1.twinx()\n",
    "plt.plot(Id, De, color ='orange', linewidth=2.0, alpha=1)\n",
    "plt.plot(Id, JCQX, color ='blue', linewidth=2.0, alpha=1)"
   ]
  },
  {
   "cell_type": "code",
   "execution_count": 15,
   "metadata": {},
   "outputs": [
    {
     "data": {
      "text/plain": [
       "(0, 100)"
      ]
     },
     "execution_count": 15,
     "metadata": {},
     "output_type": "execute_result"
    }
   ],
   "source": [
    "plt.xlim(0,k+1,1)\n",
    "plt.ylim(0,100,10)"
   ]
  },
  {
   "cell_type": "code",
   "execution_count": 16,
   "metadata": {},
   "outputs": [
    {
     "data": {
      "image/png": "[encoded data removed]",
      "text/plain": [
       "<matplotlib.figure.Figure at 0xc170be0>"
      ]
     },
     "metadata": {},
     "output_type": "display_data"
    }
   ],
   "source": [
    "plt.show()"
   ]
  }
 ],
 "metadata": {
  "kernelspec": {
   "display_name": "Python 2",
   "language": "python",
   "name": "python2"
  },
  "language_info": {
   "codemirror_mode": {
    "name": "ipython",
    "version": 2
   },
   "file_extension": ".py",
   "mimetype": "text/x-python",
   "name": "python",
   "nbconvert_exporter": "python",
   "pygments_lexer": "ipython2",
   "version": "2.7.13"
  }
 },
 "nbformat": 4,
 "nbformat_minor": 2
}
