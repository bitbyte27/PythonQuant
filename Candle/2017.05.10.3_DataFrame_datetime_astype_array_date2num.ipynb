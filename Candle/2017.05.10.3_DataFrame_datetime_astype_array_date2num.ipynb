{
 "cells": [
  {
   "cell_type": "code",
   "execution_count": 1,
   "metadata": {
    "collapsed": true
   },
   "outputs": [],
   "source": [
    "import pandas as pd\n",
    "import numpy as np\n",
    "import matplotlib.pyplot as plt\n",
    "import mpl_finance as mplf\n",
    "import matplotlib.dates as mdates"
   ]
  },
  {
   "cell_type": "code",
   "execution_count": 2,
   "metadata": {},
   "outputs": [],
   "source": [
    "gdzz0 = pd.read_csv('D:/Python/iPython/datacsv/gdzz.csv')"
   ]
  },
  {
   "cell_type": "code",
   "execution_count": 3,
   "metadata": {
    "collapsed": true
   },
   "outputs": [],
   "source": [
    "gdzz = gdzz0[['date','open','close','high','low']]"
   ]
  },
  {
   "cell_type": "code",
   "execution_count": 4,
   "metadata": {},
   "outputs": [
    {
     "data": {
      "text/html": [
       "<div>\n",
       "<style>\n",
       "    .dataframe thead tr:only-child th {\n",
       "        text-align: right;\n",
       "    }\n",
       "\n",
       "    .dataframe thead th {\n",
       "        text-align: left;\n",
       "    }\n",
       "\n",
       "    .dataframe tbody tr th {\n",
       "        vertical-align: top;\n",
       "    }\n",
       "</style>\n",
       "<table border=\"1\" class=\"dataframe\">\n",
       "  <thead>\n",
       "    <tr style=\"text-align: right;\">\n",
       "      <th></th>\n",
       "      <th>date</th>\n",
       "      <th>open</th>\n",
       "      <th>close</th>\n",
       "      <th>high</th>\n",
       "      <th>low</th>\n",
       "    </tr>\n",
       "  </thead>\n",
       "  <tbody>\n",
       "    <tr>\n",
       "      <th>0</th>\n",
       "      <td>2017/04/05</td>\n",
       "      <td>102.00</td>\n",
       "      <td>103.00</td>\n",
       "      <td>103.15</td>\n",
       "      <td>101.25</td>\n",
       "    </tr>\n",
       "    <tr>\n",
       "      <th>1</th>\n",
       "      <td>2017/04/06</td>\n",
       "      <td>102.93</td>\n",
       "      <td>103.61</td>\n",
       "      <td>103.83</td>\n",
       "      <td>102.52</td>\n",
       "    </tr>\n",
       "    <tr>\n",
       "      <th>2</th>\n",
       "      <td>2017/04/07</td>\n",
       "      <td>103.61</td>\n",
       "      <td>103.00</td>\n",
       "      <td>103.61</td>\n",
       "      <td>102.80</td>\n",
       "    </tr>\n",
       "    <tr>\n",
       "      <th>3</th>\n",
       "      <td>2017/04/10</td>\n",
       "      <td>103.03</td>\n",
       "      <td>103.44</td>\n",
       "      <td>103.60</td>\n",
       "      <td>102.91</td>\n",
       "    </tr>\n",
       "    <tr>\n",
       "      <th>4</th>\n",
       "      <td>2017/04/11</td>\n",
       "      <td>103.24</td>\n",
       "      <td>103.29</td>\n",
       "      <td>103.30</td>\n",
       "      <td>102.91</td>\n",
       "    </tr>\n",
       "    <tr>\n",
       "      <th>5</th>\n",
       "      <td>2017/04/12</td>\n",
       "      <td>103.29</td>\n",
       "      <td>103.12</td>\n",
       "      <td>103.32</td>\n",
       "      <td>102.95</td>\n",
       "    </tr>\n",
       "    <tr>\n",
       "      <th>6</th>\n",
       "      <td>2017/04/13</td>\n",
       "      <td>103.12</td>\n",
       "      <td>103.01</td>\n",
       "      <td>103.12</td>\n",
       "      <td>102.85</td>\n",
       "    </tr>\n",
       "    <tr>\n",
       "      <th>7</th>\n",
       "      <td>2017/04/14</td>\n",
       "      <td>103.01</td>\n",
       "      <td>102.31</td>\n",
       "      <td>103.01</td>\n",
       "      <td>102.29</td>\n",
       "    </tr>\n",
       "    <tr>\n",
       "      <th>8</th>\n",
       "      <td>2017/04/17</td>\n",
       "      <td>102.30</td>\n",
       "      <td>101.78</td>\n",
       "      <td>102.30</td>\n",
       "      <td>101.53</td>\n",
       "    </tr>\n",
       "    <tr>\n",
       "      <th>9</th>\n",
       "      <td>2017/04/18</td>\n",
       "      <td>101.79</td>\n",
       "      <td>101.70</td>\n",
       "      <td>101.90</td>\n",
       "      <td>101.55</td>\n",
       "    </tr>\n",
       "    <tr>\n",
       "      <th>10</th>\n",
       "      <td>2017/04/19</td>\n",
       "      <td>101.61</td>\n",
       "      <td>101.54</td>\n",
       "      <td>101.78</td>\n",
       "      <td>101.13</td>\n",
       "    </tr>\n",
       "    <tr>\n",
       "      <th>11</th>\n",
       "      <td>2017/04/20</td>\n",
       "      <td>101.54</td>\n",
       "      <td>101.53</td>\n",
       "      <td>101.81</td>\n",
       "      <td>101.36</td>\n",
       "    </tr>\n",
       "    <tr>\n",
       "      <th>12</th>\n",
       "      <td>2017/04/21</td>\n",
       "      <td>101.53</td>\n",
       "      <td>101.71</td>\n",
       "      <td>101.85</td>\n",
       "      <td>101.48</td>\n",
       "    </tr>\n",
       "    <tr>\n",
       "      <th>13</th>\n",
       "      <td>2017/04/24</td>\n",
       "      <td>101.66</td>\n",
       "      <td>101.48</td>\n",
       "      <td>101.71</td>\n",
       "      <td>101.27</td>\n",
       "    </tr>\n",
       "    <tr>\n",
       "      <th>14</th>\n",
       "      <td>2017/04/25</td>\n",
       "      <td>101.52</td>\n",
       "      <td>101.85</td>\n",
       "      <td>101.94</td>\n",
       "      <td>101.50</td>\n",
       "    </tr>\n",
       "    <tr>\n",
       "      <th>15</th>\n",
       "      <td>2017/04/26</td>\n",
       "      <td>101.85</td>\n",
       "      <td>101.60</td>\n",
       "      <td>101.90</td>\n",
       "      <td>101.50</td>\n",
       "    </tr>\n",
       "    <tr>\n",
       "      <th>16</th>\n",
       "      <td>2017/04/27</td>\n",
       "      <td>101.63</td>\n",
       "      <td>101.72</td>\n",
       "      <td>101.76</td>\n",
       "      <td>101.46</td>\n",
       "    </tr>\n",
       "    <tr>\n",
       "      <th>17</th>\n",
       "      <td>2017/04/28</td>\n",
       "      <td>101.72</td>\n",
       "      <td>101.50</td>\n",
       "      <td>101.75</td>\n",
       "      <td>101.50</td>\n",
       "    </tr>\n",
       "    <tr>\n",
       "      <th>18</th>\n",
       "      <td>2017/05/02</td>\n",
       "      <td>101.55</td>\n",
       "      <td>101.00</td>\n",
       "      <td>101.63</td>\n",
       "      <td>100.88</td>\n",
       "    </tr>\n",
       "    <tr>\n",
       "      <th>19</th>\n",
       "      <td>2017/05/03</td>\n",
       "      <td>101.30</td>\n",
       "      <td>100.95</td>\n",
       "      <td>101.30</td>\n",
       "      <td>100.86</td>\n",
       "    </tr>\n",
       "    <tr>\n",
       "      <th>20</th>\n",
       "      <td>2017/05/04</td>\n",
       "      <td>100.95</td>\n",
       "      <td>100.91</td>\n",
       "      <td>101.00</td>\n",
       "      <td>100.82</td>\n",
       "    </tr>\n",
       "    <tr>\n",
       "      <th>21</th>\n",
       "      <td>2017/05/05</td>\n",
       "      <td>100.86</td>\n",
       "      <td>100.60</td>\n",
       "      <td>101.00</td>\n",
       "      <td>100.48</td>\n",
       "    </tr>\n",
       "    <tr>\n",
       "      <th>22</th>\n",
       "      <td>2017/05/08</td>\n",
       "      <td>100.56</td>\n",
       "      <td>100.11</td>\n",
       "      <td>100.56</td>\n",
       "      <td>99.80</td>\n",
       "    </tr>\n",
       "  </tbody>\n",
       "</table>\n",
       "</div>"
      ],
      "text/plain": [
       "           date    open   close    high     low\n",
       "0    2017/04/05  102.00  103.00  103.15  101.25\n",
       "1    2017/04/06  102.93  103.61  103.83  102.52\n",
       "2    2017/04/07  103.61  103.00  103.61  102.80\n",
       "3    2017/04/10  103.03  103.44  103.60  102.91\n",
       "4    2017/04/11  103.24  103.29  103.30  102.91\n",
       "5    2017/04/12  103.29  103.12  103.32  102.95\n",
       "6    2017/04/13  103.12  103.01  103.12  102.85\n",
       "7    2017/04/14  103.01  102.31  103.01  102.29\n",
       "8    2017/04/17  102.30  101.78  102.30  101.53\n",
       "9    2017/04/18  101.79  101.70  101.90  101.55\n",
       "10   2017/04/19  101.61  101.54  101.78  101.13\n",
       "11   2017/04/20  101.54  101.53  101.81  101.36\n",
       "12   2017/04/21  101.53  101.71  101.85  101.48\n",
       "13   2017/04/24  101.66  101.48  101.71  101.27\n",
       "14   2017/04/25  101.52  101.85  101.94  101.50\n",
       "15   2017/04/26  101.85  101.60  101.90  101.50\n",
       "16   2017/04/27  101.63  101.72  101.76  101.46\n",
       "17   2017/04/28  101.72  101.50  101.75  101.50\n",
       "18   2017/05/02  101.55  101.00  101.63  100.88\n",
       "19   2017/05/03  101.30  100.95  101.30  100.86\n",
       "20   2017/05/04  100.95  100.91  101.00  100.82\n",
       "21   2017/05/05  100.86  100.60  101.00  100.48\n",
       "22   2017/05/08  100.56  100.11  100.56   99.80"
      ]
     },
     "execution_count": 4,
     "metadata": {},
     "output_type": "execute_result"
    }
   ],
   "source": [
    "gdzz"
   ]
  },
  {
   "cell_type": "code",
   "execution_count": 5,
   "metadata": {
    "collapsed": true
   },
   "outputs": [],
   "source": [
    "# 选取一组时间，建立array数组，测试date2num的数组转换，==========================================="
   ]
  },
  {
   "cell_type": "code",
   "execution_count": 6,
   "metadata": {
    "collapsed": true
   },
   "outputs": [],
   "source": [
    "gdzz1 = gdzz0['date']\n",
    "gdzz2 = gdzz0['open']\n",
    "gdzz3 = gdzz0['close']\n",
    "gdzz4 = gdzz0['high']\n",
    "gdzz5 = gdzz0['low']"
   ]
  },
  {
   "cell_type": "code",
   "execution_count": 7,
   "metadata": {},
   "outputs": [
    {
     "data": {
      "text/plain": [
       "0      2017/04/05\n",
       "1      2017/04/06\n",
       "2      2017/04/07\n",
       "3      2017/04/10\n",
       "4      2017/04/11\n",
       "5      2017/04/12\n",
       "6      2017/04/13\n",
       "7      2017/04/14\n",
       "8      2017/04/17\n",
       "9      2017/04/18\n",
       "10     2017/04/19\n",
       "11     2017/04/20\n",
       "12     2017/04/21\n",
       "13     2017/04/24\n",
       "14     2017/04/25\n",
       "15     2017/04/26\n",
       "16     2017/04/27\n",
       "17     2017/04/28\n",
       "18     2017/05/02\n",
       "19     2017/05/03\n",
       "20     2017/05/04\n",
       "21     2017/05/05\n",
       "22     2017/05/08\n",
       "Name: date, dtype: object"
      ]
     },
     "execution_count": 7,
     "metadata": {},
     "output_type": "execute_result"
    }
   ],
   "source": [
    "gdzz1"
   ]
  },
  {
   "cell_type": "code",
   "execution_count": 8,
   "metadata": {
    "collapsed": true
   },
   "outputs": [],
   "source": [
    "e1 = pd.to_datetime(gdzz1[0])\n",
    "e2 = pd.to_datetime(gdzz1[1])\n",
    "e3 = pd.to_datetime(gdzz1[2])\n",
    "e4 = pd.to_datetime(gdzz1[3])"
   ]
  },
  {
   "cell_type": "code",
   "execution_count": 9,
   "metadata": {},
   "outputs": [
    {
     "data": {
      "text/plain": [
       "Timestamp('2017-04-05 00:00:00')"
      ]
     },
     "execution_count": 9,
     "metadata": {},
     "output_type": "execute_result"
    }
   ],
   "source": [
    "e1"
   ]
  },
  {
   "cell_type": "code",
   "execution_count": 10,
   "metadata": {
    "collapsed": true
   },
   "outputs": [],
   "source": [
    "stime = np.array([e1,e2,e3,e4])"
   ]
  },
  {
   "cell_type": "code",
   "execution_count": 11,
   "metadata": {},
   "outputs": [
    {
     "data": {
      "text/plain": [
       "array([Timestamp('2017-04-05 00:00:00'), Timestamp('2017-04-06 00:00:00'),\n",
       "       Timestamp('2017-04-07 00:00:00'), Timestamp('2017-04-10 00:00:00')], dtype=object)"
      ]
     },
     "execution_count": 11,
     "metadata": {},
     "output_type": "execute_result"
    }
   ],
   "source": [
    "stime # 数组建立成功，类型为object"
   ]
  },
  {
   "cell_type": "code",
   "execution_count": 12,
   "metadata": {
    "collapsed": true
   },
   "outputs": [],
   "source": [
    "stime = mdates.date2num(stime)"
   ]
  },
  {
   "cell_type": "code",
   "execution_count": 13,
   "metadata": {},
   "outputs": [
    {
     "data": {
      "text/plain": [
       "array([ 736424.,  736425.,  736426.,  736429.])"
      ]
     },
     "execution_count": 13,
     "metadata": {},
     "output_type": "execute_result"
    }
   ],
   "source": [
    "stime"
   ]
  },
  {
   "cell_type": "code",
   "execution_count": 14,
   "metadata": {
    "collapsed": true
   },
   "outputs": [],
   "source": [
    "# 对整个date列进行数组转换，测试date2num，==========================================="
   ]
  },
  {
   "cell_type": "code",
   "execution_count": 15,
   "metadata": {
    "collapsed": true
   },
   "outputs": [],
   "source": [
    "gdzz6 = pd.to_datetime(gdzz1)"
   ]
  },
  {
   "cell_type": "code",
   "execution_count": 16,
   "metadata": {},
   "outputs": [
    {
     "data": {
      "text/plain": [
       "0    2017-04-05\n",
       "1    2017-04-06\n",
       "2    2017-04-07\n",
       "3    2017-04-10\n",
       "4    2017-04-11\n",
       "5    2017-04-12\n",
       "6    2017-04-13\n",
       "7    2017-04-14\n",
       "8    2017-04-17\n",
       "9    2017-04-18\n",
       "10   2017-04-19\n",
       "11   2017-04-20\n",
       "12   2017-04-21\n",
       "13   2017-04-24\n",
       "14   2017-04-25\n",
       "15   2017-04-26\n",
       "16   2017-04-27\n",
       "17   2017-04-28\n",
       "18   2017-05-02\n",
       "19   2017-05-03\n",
       "20   2017-05-04\n",
       "21   2017-05-05\n",
       "22   2017-05-08\n",
       "Name: date, dtype: datetime64[ns]"
      ]
     },
     "execution_count": 16,
     "metadata": {},
     "output_type": "execute_result"
    }
   ],
   "source": [
    "gdzz6 # 类型为datetime64[ns]，需要转换"
   ]
  },
  {
   "cell_type": "code",
   "execution_count": 17,
   "metadata": {
    "collapsed": true
   },
   "outputs": [],
   "source": [
    "gdzz6 = gdzz6.astype(np.object)"
   ]
  },
  {
   "cell_type": "code",
   "execution_count": 18,
   "metadata": {
    "scrolled": false
   },
   "outputs": [
    {
     "data": {
      "text/plain": [
       "0     2017-04-05 00:00:00\n",
       "1     2017-04-06 00:00:00\n",
       "2     2017-04-07 00:00:00\n",
       "3     2017-04-10 00:00:00\n",
       "4     2017-04-11 00:00:00\n",
       "5     2017-04-12 00:00:00\n",
       "6     2017-04-13 00:00:00\n",
       "7     2017-04-14 00:00:00\n",
       "8     2017-04-17 00:00:00\n",
       "9     2017-04-18 00:00:00\n",
       "10    2017-04-19 00:00:00\n",
       "11    2017-04-20 00:00:00\n",
       "12    2017-04-21 00:00:00\n",
       "13    2017-04-24 00:00:00\n",
       "14    2017-04-25 00:00:00\n",
       "15    2017-04-26 00:00:00\n",
       "16    2017-04-27 00:00:00\n",
       "17    2017-04-28 00:00:00\n",
       "18    2017-05-02 00:00:00\n",
       "19    2017-05-03 00:00:00\n",
       "20    2017-05-04 00:00:00\n",
       "21    2017-05-05 00:00:00\n",
       "22    2017-05-08 00:00:00\n",
       "Name: date, dtype: object"
      ]
     },
     "execution_count": 18,
     "metadata": {},
     "output_type": "execute_result"
    }
   ],
   "source": [
    "gdzz6 # 类型已经转化为object"
   ]
  },
  {
   "cell_type": "code",
   "execution_count": 19,
   "metadata": {
    "collapsed": true
   },
   "outputs": [],
   "source": [
    "sdate = np.array(gdzz6)"
   ]
  },
  {
   "cell_type": "code",
   "execution_count": 20,
   "metadata": {
    "scrolled": true
   },
   "outputs": [
    {
     "data": {
      "text/plain": [
       "array([Timestamp('2017-04-05 00:00:00'), Timestamp('2017-04-06 00:00:00'),\n",
       "       Timestamp('2017-04-07 00:00:00'), Timestamp('2017-04-10 00:00:00'),\n",
       "       Timestamp('2017-04-11 00:00:00'), Timestamp('2017-04-12 00:00:00'),\n",
       "       Timestamp('2017-04-13 00:00:00'), Timestamp('2017-04-14 00:00:00'),\n",
       "       Timestamp('2017-04-17 00:00:00'), Timestamp('2017-04-18 00:00:00'),\n",
       "       Timestamp('2017-04-19 00:00:00'), Timestamp('2017-04-20 00:00:00'),\n",
       "       Timestamp('2017-04-21 00:00:00'), Timestamp('2017-04-24 00:00:00'),\n",
       "       Timestamp('2017-04-25 00:00:00'), Timestamp('2017-04-26 00:00:00'),\n",
       "       Timestamp('2017-04-27 00:00:00'), Timestamp('2017-04-28 00:00:00'),\n",
       "       Timestamp('2017-05-02 00:00:00'), Timestamp('2017-05-03 00:00:00'),\n",
       "       Timestamp('2017-05-04 00:00:00'), Timestamp('2017-05-05 00:00:00'),\n",
       "       Timestamp('2017-05-08 00:00:00')], dtype=object)"
      ]
     },
     "execution_count": 20,
     "metadata": {},
     "output_type": "execute_result"
    }
   ],
   "source": [
    "sdate"
   ]
  },
  {
   "cell_type": "code",
   "execution_count": 21,
   "metadata": {
    "collapsed": true
   },
   "outputs": [],
   "source": [
    "sdate = mdates.date2num(sdate)"
   ]
  },
  {
   "cell_type": "code",
   "execution_count": 22,
   "metadata": {
    "scrolled": false
   },
   "outputs": [
    {
     "data": {
      "text/plain": [
       "array([ 736424.,  736425.,  736426.,  736429.,  736430.,  736431.,\n",
       "        736432.,  736433.,  736436.,  736437.,  736438.,  736439.,\n",
       "        736440.,  736443.,  736444.,  736445.,  736446.,  736447.,\n",
       "        736451.,  736452.,  736453.,  736454.,  736457.])"
      ]
     },
     "execution_count": 22,
     "metadata": {},
     "output_type": "execute_result"
    }
   ],
   "source": [
    "sdate"
   ]
  },
  {
   "cell_type": "code",
   "execution_count": 23,
   "metadata": {
    "collapsed": true
   },
   "outputs": [],
   "source": [
    "# ==========================================="
   ]
  },
  {
   "cell_type": "code",
   "execution_count": 24,
   "metadata": {
    "collapsed": true
   },
   "outputs": [],
   "source": [
    "gdzz7 = gdzz[['open','close','high','low']]"
   ]
  },
  {
   "cell_type": "code",
   "execution_count": 25,
   "metadata": {
    "scrolled": true
   },
   "outputs": [
    {
     "data": {
      "text/html": [
       "<div>\n",
       "<style>\n",
       "    .dataframe thead tr:only-child th {\n",
       "        text-align: right;\n",
       "    }\n",
       "\n",
       "    .dataframe thead th {\n",
       "        text-align: left;\n",
       "    }\n",
       "\n",
       "    .dataframe tbody tr th {\n",
       "        vertical-align: top;\n",
       "    }\n",
       "</style>\n",
       "<table border=\"1\" class=\"dataframe\">\n",
       "  <thead>\n",
       "    <tr style=\"text-align: right;\">\n",
       "      <th></th>\n",
       "      <th>open</th>\n",
       "      <th>close</th>\n",
       "      <th>high</th>\n",
       "      <th>low</th>\n",
       "    </tr>\n",
       "  </thead>\n",
       "  <tbody>\n",
       "    <tr>\n",
       "      <th>0</th>\n",
       "      <td>102.00</td>\n",
       "      <td>103.00</td>\n",
       "      <td>103.15</td>\n",
       "      <td>101.25</td>\n",
       "    </tr>\n",
       "    <tr>\n",
       "      <th>1</th>\n",
       "      <td>102.93</td>\n",
       "      <td>103.61</td>\n",
       "      <td>103.83</td>\n",
       "      <td>102.52</td>\n",
       "    </tr>\n",
       "    <tr>\n",
       "      <th>2</th>\n",
       "      <td>103.61</td>\n",
       "      <td>103.00</td>\n",
       "      <td>103.61</td>\n",
       "      <td>102.80</td>\n",
       "    </tr>\n",
       "    <tr>\n",
       "      <th>3</th>\n",
       "      <td>103.03</td>\n",
       "      <td>103.44</td>\n",
       "      <td>103.60</td>\n",
       "      <td>102.91</td>\n",
       "    </tr>\n",
       "    <tr>\n",
       "      <th>4</th>\n",
       "      <td>103.24</td>\n",
       "      <td>103.29</td>\n",
       "      <td>103.30</td>\n",
       "      <td>102.91</td>\n",
       "    </tr>\n",
       "    <tr>\n",
       "      <th>5</th>\n",
       "      <td>103.29</td>\n",
       "      <td>103.12</td>\n",
       "      <td>103.32</td>\n",
       "      <td>102.95</td>\n",
       "    </tr>\n",
       "    <tr>\n",
       "      <th>6</th>\n",
       "      <td>103.12</td>\n",
       "      <td>103.01</td>\n",
       "      <td>103.12</td>\n",
       "      <td>102.85</td>\n",
       "    </tr>\n",
       "    <tr>\n",
       "      <th>7</th>\n",
       "      <td>103.01</td>\n",
       "      <td>102.31</td>\n",
       "      <td>103.01</td>\n",
       "      <td>102.29</td>\n",
       "    </tr>\n",
       "    <tr>\n",
       "      <th>8</th>\n",
       "      <td>102.30</td>\n",
       "      <td>101.78</td>\n",
       "      <td>102.30</td>\n",
       "      <td>101.53</td>\n",
       "    </tr>\n",
       "    <tr>\n",
       "      <th>9</th>\n",
       "      <td>101.79</td>\n",
       "      <td>101.70</td>\n",
       "      <td>101.90</td>\n",
       "      <td>101.55</td>\n",
       "    </tr>\n",
       "    <tr>\n",
       "      <th>10</th>\n",
       "      <td>101.61</td>\n",
       "      <td>101.54</td>\n",
       "      <td>101.78</td>\n",
       "      <td>101.13</td>\n",
       "    </tr>\n",
       "    <tr>\n",
       "      <th>11</th>\n",
       "      <td>101.54</td>\n",
       "      <td>101.53</td>\n",
       "      <td>101.81</td>\n",
       "      <td>101.36</td>\n",
       "    </tr>\n",
       "    <tr>\n",
       "      <th>12</th>\n",
       "      <td>101.53</td>\n",
       "      <td>101.71</td>\n",
       "      <td>101.85</td>\n",
       "      <td>101.48</td>\n",
       "    </tr>\n",
       "    <tr>\n",
       "      <th>13</th>\n",
       "      <td>101.66</td>\n",
       "      <td>101.48</td>\n",
       "      <td>101.71</td>\n",
       "      <td>101.27</td>\n",
       "    </tr>\n",
       "    <tr>\n",
       "      <th>14</th>\n",
       "      <td>101.52</td>\n",
       "      <td>101.85</td>\n",
       "      <td>101.94</td>\n",
       "      <td>101.50</td>\n",
       "    </tr>\n",
       "    <tr>\n",
       "      <th>15</th>\n",
       "      <td>101.85</td>\n",
       "      <td>101.60</td>\n",
       "      <td>101.90</td>\n",
       "      <td>101.50</td>\n",
       "    </tr>\n",
       "    <tr>\n",
       "      <th>16</th>\n",
       "      <td>101.63</td>\n",
       "      <td>101.72</td>\n",
       "      <td>101.76</td>\n",
       "      <td>101.46</td>\n",
       "    </tr>\n",
       "    <tr>\n",
       "      <th>17</th>\n",
       "      <td>101.72</td>\n",
       "      <td>101.50</td>\n",
       "      <td>101.75</td>\n",
       "      <td>101.50</td>\n",
       "    </tr>\n",
       "    <tr>\n",
       "      <th>18</th>\n",
       "      <td>101.55</td>\n",
       "      <td>101.00</td>\n",
       "      <td>101.63</td>\n",
       "      <td>100.88</td>\n",
       "    </tr>\n",
       "    <tr>\n",
       "      <th>19</th>\n",
       "      <td>101.30</td>\n",
       "      <td>100.95</td>\n",
       "      <td>101.30</td>\n",
       "      <td>100.86</td>\n",
       "    </tr>\n",
       "    <tr>\n",
       "      <th>20</th>\n",
       "      <td>100.95</td>\n",
       "      <td>100.91</td>\n",
       "      <td>101.00</td>\n",
       "      <td>100.82</td>\n",
       "    </tr>\n",
       "    <tr>\n",
       "      <th>21</th>\n",
       "      <td>100.86</td>\n",
       "      <td>100.60</td>\n",
       "      <td>101.00</td>\n",
       "      <td>100.48</td>\n",
       "    </tr>\n",
       "    <tr>\n",
       "      <th>22</th>\n",
       "      <td>100.56</td>\n",
       "      <td>100.11</td>\n",
       "      <td>100.56</td>\n",
       "      <td>99.80</td>\n",
       "    </tr>\n",
       "  </tbody>\n",
       "</table>\n",
       "</div>"
      ],
      "text/plain": [
       "      open   close    high     low\n",
       "0   102.00  103.00  103.15  101.25\n",
       "1   102.93  103.61  103.83  102.52\n",
       "2   103.61  103.00  103.61  102.80\n",
       "3   103.03  103.44  103.60  102.91\n",
       "4   103.24  103.29  103.30  102.91\n",
       "5   103.29  103.12  103.32  102.95\n",
       "6   103.12  103.01  103.12  102.85\n",
       "7   103.01  102.31  103.01  102.29\n",
       "8   102.30  101.78  102.30  101.53\n",
       "9   101.79  101.70  101.90  101.55\n",
       "10  101.61  101.54  101.78  101.13\n",
       "11  101.54  101.53  101.81  101.36\n",
       "12  101.53  101.71  101.85  101.48\n",
       "13  101.66  101.48  101.71  101.27\n",
       "14  101.52  101.85  101.94  101.50\n",
       "15  101.85  101.60  101.90  101.50\n",
       "16  101.63  101.72  101.76  101.46\n",
       "17  101.72  101.50  101.75  101.50\n",
       "18  101.55  101.00  101.63  100.88\n",
       "19  101.30  100.95  101.30  100.86\n",
       "20  100.95  100.91  101.00  100.82\n",
       "21  100.86  100.60  101.00  100.48\n",
       "22  100.56  100.11  100.56   99.80"
      ]
     },
     "execution_count": 25,
     "metadata": {},
     "output_type": "execute_result"
    }
   ],
   "source": [
    "gdzz7"
   ]
  },
  {
   "cell_type": "code",
   "execution_count": 26,
   "metadata": {
    "collapsed": true
   },
   "outputs": [],
   "source": [
    "result = pd.concat([gdzz6, gdzz7], axis=1)"
   ]
  },
  {
   "cell_type": "code",
   "execution_count": 27,
   "metadata": {},
   "outputs": [
    {
     "data": {
      "text/html": [
       "<div>\n",
       "<style>\n",
       "    .dataframe thead tr:only-child th {\n",
       "        text-align: right;\n",
       "    }\n",
       "\n",
       "    .dataframe thead th {\n",
       "        text-align: left;\n",
       "    }\n",
       "\n",
       "    .dataframe tbody tr th {\n",
       "        vertical-align: top;\n",
       "    }\n",
       "</style>\n",
       "<table border=\"1\" class=\"dataframe\">\n",
       "  <thead>\n",
       "    <tr style=\"text-align: right;\">\n",
       "      <th></th>\n",
       "      <th>date</th>\n",
       "      <th>open</th>\n",
       "      <th>close</th>\n",
       "      <th>high</th>\n",
       "      <th>low</th>\n",
       "    </tr>\n",
       "  </thead>\n",
       "  <tbody>\n",
       "    <tr>\n",
       "      <th>0</th>\n",
       "      <td>2017-04-05 00:00:00</td>\n",
       "      <td>102.00</td>\n",
       "      <td>103.00</td>\n",
       "      <td>103.15</td>\n",
       "      <td>101.25</td>\n",
       "    </tr>\n",
       "    <tr>\n",
       "      <th>1</th>\n",
       "      <td>2017-04-06 00:00:00</td>\n",
       "      <td>102.93</td>\n",
       "      <td>103.61</td>\n",
       "      <td>103.83</td>\n",
       "      <td>102.52</td>\n",
       "    </tr>\n",
       "    <tr>\n",
       "      <th>2</th>\n",
       "      <td>2017-04-07 00:00:00</td>\n",
       "      <td>103.61</td>\n",
       "      <td>103.00</td>\n",
       "      <td>103.61</td>\n",
       "      <td>102.80</td>\n",
       "    </tr>\n",
       "    <tr>\n",
       "      <th>3</th>\n",
       "      <td>2017-04-10 00:00:00</td>\n",
       "      <td>103.03</td>\n",
       "      <td>103.44</td>\n",
       "      <td>103.60</td>\n",
       "      <td>102.91</td>\n",
       "    </tr>\n",
       "    <tr>\n",
       "      <th>4</th>\n",
       "      <td>2017-04-11 00:00:00</td>\n",
       "      <td>103.24</td>\n",
       "      <td>103.29</td>\n",
       "      <td>103.30</td>\n",
       "      <td>102.91</td>\n",
       "    </tr>\n",
       "    <tr>\n",
       "      <th>5</th>\n",
       "      <td>2017-04-12 00:00:00</td>\n",
       "      <td>103.29</td>\n",
       "      <td>103.12</td>\n",
       "      <td>103.32</td>\n",
       "      <td>102.95</td>\n",
       "    </tr>\n",
       "    <tr>\n",
       "      <th>6</th>\n",
       "      <td>2017-04-13 00:00:00</td>\n",
       "      <td>103.12</td>\n",
       "      <td>103.01</td>\n",
       "      <td>103.12</td>\n",
       "      <td>102.85</td>\n",
       "    </tr>\n",
       "    <tr>\n",
       "      <th>7</th>\n",
       "      <td>2017-04-14 00:00:00</td>\n",
       "      <td>103.01</td>\n",
       "      <td>102.31</td>\n",
       "      <td>103.01</td>\n",
       "      <td>102.29</td>\n",
       "    </tr>\n",
       "    <tr>\n",
       "      <th>8</th>\n",
       "      <td>2017-04-17 00:00:00</td>\n",
       "      <td>102.30</td>\n",
       "      <td>101.78</td>\n",
       "      <td>102.30</td>\n",
       "      <td>101.53</td>\n",
       "    </tr>\n",
       "    <tr>\n",
       "      <th>9</th>\n",
       "      <td>2017-04-18 00:00:00</td>\n",
       "      <td>101.79</td>\n",
       "      <td>101.70</td>\n",
       "      <td>101.90</td>\n",
       "      <td>101.55</td>\n",
       "    </tr>\n",
       "    <tr>\n",
       "      <th>10</th>\n",
       "      <td>2017-04-19 00:00:00</td>\n",
       "      <td>101.61</td>\n",
       "      <td>101.54</td>\n",
       "      <td>101.78</td>\n",
       "      <td>101.13</td>\n",
       "    </tr>\n",
       "    <tr>\n",
       "      <th>11</th>\n",
       "      <td>2017-04-20 00:00:00</td>\n",
       "      <td>101.54</td>\n",
       "      <td>101.53</td>\n",
       "      <td>101.81</td>\n",
       "      <td>101.36</td>\n",
       "    </tr>\n",
       "    <tr>\n",
       "      <th>12</th>\n",
       "      <td>2017-04-21 00:00:00</td>\n",
       "      <td>101.53</td>\n",
       "      <td>101.71</td>\n",
       "      <td>101.85</td>\n",
       "      <td>101.48</td>\n",
       "    </tr>\n",
       "    <tr>\n",
       "      <th>13</th>\n",
       "      <td>2017-04-24 00:00:00</td>\n",
       "      <td>101.66</td>\n",
       "      <td>101.48</td>\n",
       "      <td>101.71</td>\n",
       "      <td>101.27</td>\n",
       "    </tr>\n",
       "    <tr>\n",
       "      <th>14</th>\n",
       "      <td>2017-04-25 00:00:00</td>\n",
       "      <td>101.52</td>\n",
       "      <td>101.85</td>\n",
       "      <td>101.94</td>\n",
       "      <td>101.50</td>\n",
       "    </tr>\n",
       "    <tr>\n",
       "      <th>15</th>\n",
       "      <td>2017-04-26 00:00:00</td>\n",
       "      <td>101.85</td>\n",
       "      <td>101.60</td>\n",
       "      <td>101.90</td>\n",
       "      <td>101.50</td>\n",
       "    </tr>\n",
       "    <tr>\n",
       "      <th>16</th>\n",
       "      <td>2017-04-27 00:00:00</td>\n",
       "      <td>101.63</td>\n",
       "      <td>101.72</td>\n",
       "      <td>101.76</td>\n",
       "      <td>101.46</td>\n",
       "    </tr>\n",
       "    <tr>\n",
       "      <th>17</th>\n",
       "      <td>2017-04-28 00:00:00</td>\n",
       "      <td>101.72</td>\n",
       "      <td>101.50</td>\n",
       "      <td>101.75</td>\n",
       "      <td>101.50</td>\n",
       "    </tr>\n",
       "    <tr>\n",
       "      <th>18</th>\n",
       "      <td>2017-05-02 00:00:00</td>\n",
       "      <td>101.55</td>\n",
       "      <td>101.00</td>\n",
       "      <td>101.63</td>\n",
       "      <td>100.88</td>\n",
       "    </tr>\n",
       "    <tr>\n",
       "      <th>19</th>\n",
       "      <td>2017-05-03 00:00:00</td>\n",
       "      <td>101.30</td>\n",
       "      <td>100.95</td>\n",
       "      <td>101.30</td>\n",
       "      <td>100.86</td>\n",
       "    </tr>\n",
       "    <tr>\n",
       "      <th>20</th>\n",
       "      <td>2017-05-04 00:00:00</td>\n",
       "      <td>100.95</td>\n",
       "      <td>100.91</td>\n",
       "      <td>101.00</td>\n",
       "      <td>100.82</td>\n",
       "    </tr>\n",
       "    <tr>\n",
       "      <th>21</th>\n",
       "      <td>2017-05-05 00:00:00</td>\n",
       "      <td>100.86</td>\n",
       "      <td>100.60</td>\n",
       "      <td>101.00</td>\n",
       "      <td>100.48</td>\n",
       "    </tr>\n",
       "    <tr>\n",
       "      <th>22</th>\n",
       "      <td>2017-05-08 00:00:00</td>\n",
       "      <td>100.56</td>\n",
       "      <td>100.11</td>\n",
       "      <td>100.56</td>\n",
       "      <td>99.80</td>\n",
       "    </tr>\n",
       "  </tbody>\n",
       "</table>\n",
       "</div>"
      ],
      "text/plain": [
       "                   date    open   close    high     low\n",
       "0   2017-04-05 00:00:00  102.00  103.00  103.15  101.25\n",
       "1   2017-04-06 00:00:00  102.93  103.61  103.83  102.52\n",
       "2   2017-04-07 00:00:00  103.61  103.00  103.61  102.80\n",
       "3   2017-04-10 00:00:00  103.03  103.44  103.60  102.91\n",
       "4   2017-04-11 00:00:00  103.24  103.29  103.30  102.91\n",
       "5   2017-04-12 00:00:00  103.29  103.12  103.32  102.95\n",
       "6   2017-04-13 00:00:00  103.12  103.01  103.12  102.85\n",
       "7   2017-04-14 00:00:00  103.01  102.31  103.01  102.29\n",
       "8   2017-04-17 00:00:00  102.30  101.78  102.30  101.53\n",
       "9   2017-04-18 00:00:00  101.79  101.70  101.90  101.55\n",
       "10  2017-04-19 00:00:00  101.61  101.54  101.78  101.13\n",
       "11  2017-04-20 00:00:00  101.54  101.53  101.81  101.36\n",
       "12  2017-04-21 00:00:00  101.53  101.71  101.85  101.48\n",
       "13  2017-04-24 00:00:00  101.66  101.48  101.71  101.27\n",
       "14  2017-04-25 00:00:00  101.52  101.85  101.94  101.50\n",
       "15  2017-04-26 00:00:00  101.85  101.60  101.90  101.50\n",
       "16  2017-04-27 00:00:00  101.63  101.72  101.76  101.46\n",
       "17  2017-04-28 00:00:00  101.72  101.50  101.75  101.50\n",
       "18  2017-05-02 00:00:00  101.55  101.00  101.63  100.88\n",
       "19  2017-05-03 00:00:00  101.30  100.95  101.30  100.86\n",
       "20  2017-05-04 00:00:00  100.95  100.91  101.00  100.82\n",
       "21  2017-05-05 00:00:00  100.86  100.60  101.00  100.48\n",
       "22  2017-05-08 00:00:00  100.56  100.11  100.56   99.80"
      ]
     },
     "execution_count": 27,
     "metadata": {},
     "output_type": "execute_result"
    }
   ],
   "source": [
    "result"
   ]
  },
  {
   "cell_type": "code",
   "execution_count": 28,
   "metadata": {
    "collapsed": true
   },
   "outputs": [],
   "source": [
    "stock_data = np.array(result)"
   ]
  },
  {
   "cell_type": "code",
   "execution_count": 29,
   "metadata": {},
   "outputs": [
    {
     "data": {
      "text/plain": [
       "array([[Timestamp('2017-04-05 00:00:00'), 102.0, 103.0, 103.15, 101.25],\n",
       "       [Timestamp('2017-04-06 00:00:00'), 102.93, 103.61, 103.83, 102.52],\n",
       "       [Timestamp('2017-04-07 00:00:00'), 103.61, 103.0, 103.61, 102.8],\n",
       "       [Timestamp('2017-04-10 00:00:00'), 103.03, 103.44, 103.6, 102.91],\n",
       "       [Timestamp('2017-04-11 00:00:00'), 103.24, 103.29, 103.3, 102.91],\n",
       "       [Timestamp('2017-04-12 00:00:00'), 103.29, 103.12, 103.32, 102.95],\n",
       "       [Timestamp('2017-04-13 00:00:00'), 103.12, 103.01, 103.12, 102.85],\n",
       "       [Timestamp('2017-04-14 00:00:00'), 103.01, 102.31, 103.01, 102.29],\n",
       "       [Timestamp('2017-04-17 00:00:00'), 102.3, 101.78, 102.3, 101.53],\n",
       "       [Timestamp('2017-04-18 00:00:00'), 101.79, 101.7, 101.9, 101.55],\n",
       "       [Timestamp('2017-04-19 00:00:00'), 101.61, 101.54, 101.78, 101.13],\n",
       "       [Timestamp('2017-04-20 00:00:00'), 101.54, 101.53, 101.81, 101.36],\n",
       "       [Timestamp('2017-04-21 00:00:00'), 101.53, 101.71, 101.85, 101.48],\n",
       "       [Timestamp('2017-04-24 00:00:00'), 101.66, 101.48, 101.71, 101.27],\n",
       "       [Timestamp('2017-04-25 00:00:00'), 101.52, 101.85, 101.94, 101.5],\n",
       "       [Timestamp('2017-04-26 00:00:00'), 101.85, 101.6, 101.9, 101.5],\n",
       "       [Timestamp('2017-04-27 00:00:00'), 101.63, 101.72, 101.76, 101.46],\n",
       "       [Timestamp('2017-04-28 00:00:00'), 101.72, 101.5, 101.75, 101.5],\n",
       "       [Timestamp('2017-05-02 00:00:00'), 101.55, 101.0, 101.63, 100.88],\n",
       "       [Timestamp('2017-05-03 00:00:00'), 101.3, 100.95, 101.3, 100.86],\n",
       "       [Timestamp('2017-05-04 00:00:00'), 100.95, 100.91, 101.0, 100.82],\n",
       "       [Timestamp('2017-05-05 00:00:00'), 100.86, 100.6, 101.0, 100.48],\n",
       "       [Timestamp('2017-05-08 00:00:00'), 100.56, 100.11, 100.56, 99.8]], dtype=object)"
      ]
     },
     "execution_count": 29,
     "metadata": {},
     "output_type": "execute_result"
    }
   ],
   "source": [
    "stock_data"
   ]
  },
  {
   "cell_type": "code",
   "execution_count": 30,
   "metadata": {
    "scrolled": false
   },
   "outputs": [
    {
     "data": {
      "text/plain": [
       "array([Timestamp('2017-04-05 00:00:00'), 102.0, 103.0, 103.15, 101.25], dtype=object)"
      ]
     },
     "execution_count": 30,
     "metadata": {},
     "output_type": "execute_result"
    }
   ],
   "source": [
    "stock_data[0]"
   ]
  },
  {
   "cell_type": "code",
   "execution_count": 31,
   "metadata": {
    "scrolled": false
   },
   "outputs": [
    {
     "data": {
      "text/plain": [
       "array([Timestamp('2017-04-05 00:00:00'), Timestamp('2017-04-06 00:00:00'),\n",
       "       Timestamp('2017-04-07 00:00:00'), Timestamp('2017-04-10 00:00:00'),\n",
       "       Timestamp('2017-04-11 00:00:00'), Timestamp('2017-04-12 00:00:00'),\n",
       "       Timestamp('2017-04-13 00:00:00'), Timestamp('2017-04-14 00:00:00'),\n",
       "       Timestamp('2017-04-17 00:00:00'), Timestamp('2017-04-18 00:00:00'),\n",
       "       Timestamp('2017-04-19 00:00:00'), Timestamp('2017-04-20 00:00:00'),\n",
       "       Timestamp('2017-04-21 00:00:00'), Timestamp('2017-04-24 00:00:00'),\n",
       "       Timestamp('2017-04-25 00:00:00'), Timestamp('2017-04-26 00:00:00'),\n",
       "       Timestamp('2017-04-27 00:00:00'), Timestamp('2017-04-28 00:00:00'),\n",
       "       Timestamp('2017-05-02 00:00:00'), Timestamp('2017-05-03 00:00:00'),\n",
       "       Timestamp('2017-05-04 00:00:00'), Timestamp('2017-05-05 00:00:00'),\n",
       "       Timestamp('2017-05-08 00:00:00')], dtype=object)"
      ]
     },
     "execution_count": 31,
     "metadata": {},
     "output_type": "execute_result"
    }
   ],
   "source": [
    "stock_data[:,0]"
   ]
  },
  {
   "cell_type": "code",
   "execution_count": 32,
   "metadata": {
    "collapsed": true
   },
   "outputs": [],
   "source": [
    "stock_data[:,0] = mdates.date2num(stock_data[:,0])"
   ]
  },
  {
   "cell_type": "code",
   "execution_count": 33,
   "metadata": {
    "scrolled": true
   },
   "outputs": [
    {
     "data": {
      "text/plain": [
       "array([[736424.0, 102.0, 103.0, 103.15, 101.25],\n",
       "       [736425.0, 102.93, 103.61, 103.83, 102.52],\n",
       "       [736426.0, 103.61, 103.0, 103.61, 102.8],\n",
       "       [736429.0, 103.03, 103.44, 103.6, 102.91],\n",
       "       [736430.0, 103.24, 103.29, 103.3, 102.91],\n",
       "       [736431.0, 103.29, 103.12, 103.32, 102.95],\n",
       "       [736432.0, 103.12, 103.01, 103.12, 102.85],\n",
       "       [736433.0, 103.01, 102.31, 103.01, 102.29],\n",
       "       [736436.0, 102.3, 101.78, 102.3, 101.53],\n",
       "       [736437.0, 101.79, 101.7, 101.9, 101.55],\n",
       "       [736438.0, 101.61, 101.54, 101.78, 101.13],\n",
       "       [736439.0, 101.54, 101.53, 101.81, 101.36],\n",
       "       [736440.0, 101.53, 101.71, 101.85, 101.48],\n",
       "       [736443.0, 101.66, 101.48, 101.71, 101.27],\n",
       "       [736444.0, 101.52, 101.85, 101.94, 101.5],\n",
       "       [736445.0, 101.85, 101.6, 101.9, 101.5],\n",
       "       [736446.0, 101.63, 101.72, 101.76, 101.46],\n",
       "       [736447.0, 101.72, 101.5, 101.75, 101.5],\n",
       "       [736451.0, 101.55, 101.0, 101.63, 100.88],\n",
       "       [736452.0, 101.3, 100.95, 101.3, 100.86],\n",
       "       [736453.0, 100.95, 100.91, 101.0, 100.82],\n",
       "       [736454.0, 100.86, 100.6, 101.0, 100.48],\n",
       "       [736457.0, 100.56, 100.11, 100.56, 99.8]], dtype=object)"
      ]
     },
     "execution_count": 33,
     "metadata": {},
     "output_type": "execute_result"
    }
   ],
   "source": [
    "stock_data"
   ]
  },
  {
   "cell_type": "code",
   "execution_count": 34,
   "metadata": {
    "collapsed": true
   },
   "outputs": [],
   "source": [
    "from matplotlib.dates import DateFormatter, WeekdayLocator,DayLocator, MONDAY"
   ]
  },
  {
   "cell_type": "code",
   "execution_count": 35,
   "metadata": {
    "collapsed": true
   },
   "outputs": [],
   "source": [
    "fig = plt.figure(figsize=(18,6), dpi=80)\n",
    "ax = plt.subplot(111)\n",
    "fig.subplots_adjust(bottom=0.2)  "
   ]
  },
  {
   "cell_type": "code",
   "execution_count": 36,
   "metadata": {},
   "outputs": [],
   "source": [
    "#设置主要刻度和显示格式\n",
    "mondays = WeekdayLocator(MONDAY)\n",
    "mondaysFormatter = DateFormatter('%Y-%m-%d')\n",
    "ax.xaxis.set_major_locator(mondays)\n",
    "ax.xaxis.set_major_formatter(mondaysFormatter)"
   ]
  },
  {
   "cell_type": "code",
   "execution_count": 37,
   "metadata": {},
   "outputs": [
    {
     "data": {
      "text/plain": [
       "<matplotlib.dates.WeekdayLocator at 0xc2f7278>"
      ]
     },
     "execution_count": 37,
     "metadata": {},
     "output_type": "execute_result"
    }
   ],
   "source": [
    "mondays"
   ]
  },
  {
   "cell_type": "code",
   "execution_count": 38,
   "metadata": {
    "collapsed": true
   },
   "outputs": [],
   "source": [
    "#设置次要刻度和显示格式\n",
    "alldays = DayLocator()\n",
    "alldaysFormatter = DateFormatter('%d')\n",
    "ax.xaxis.set_minor_locator(alldays)"
   ]
  },
  {
   "cell_type": "code",
   "execution_count": 39,
   "metadata": {},
   "outputs": [],
   "source": [
    "#设置x轴为日期\n",
    "ax.xaxis_date()\n",
    "ax.autoscale_view()"
   ]
  },
  {
   "cell_type": "code",
   "execution_count": 40,
   "metadata": {},
   "outputs": [],
   "source": [
    "# plt.setp(plt.gca().get_xticklabels(), rotation=45, horizontalalignment='right')"
   ]
  },
  {
   "cell_type": "code",
   "execution_count": 41,
   "metadata": {
    "collapsed": true
   },
   "outputs": [],
   "source": [
    "ax.grid(True)"
   ]
  },
  {
   "cell_type": "code",
   "execution_count": 42,
   "metadata": {
    "scrolled": false
   },
   "outputs": [
    {
     "data": {
      "text/plain": [
       "([<matplotlib.lines.Line2D at 0xc2f7240>,\n",
       "  <matplotlib.lines.Line2D at 0xc2f7ef0>,\n",
       "  <matplotlib.lines.Line2D at 0xc312a58>,\n",
       "  <matplotlib.lines.Line2D at 0xc3255c0>,\n",
       "  <matplotlib.lines.Line2D at 0xc325f98>,\n",
       "  <matplotlib.lines.Line2D at 0xc334c18>,\n",
       "  <matplotlib.lines.Line2D at 0xc342780>,\n",
       "  <matplotlib.lines.Line2D at 0xc3502e8>,\n",
       "  <matplotlib.lines.Line2D at 0xc350e10>,\n",
       "  <matplotlib.lines.Line2D at 0xc3e6978>,\n",
       "  <matplotlib.lines.Line2D at 0xc3f44e0>,\n",
       "  <matplotlib.lines.Line2D at 0xc3f4eb8>,\n",
       "  <matplotlib.lines.Line2D at 0xc401b70>,\n",
       "  <matplotlib.lines.Line2D at 0xc40e6d8>,\n",
       "  <matplotlib.lines.Line2D at 0xc41d240>,\n",
       "  <matplotlib.lines.Line2D at 0xc41dd68>,\n",
       "  <matplotlib.lines.Line2D at 0xc42f8d0>,\n",
       "  <matplotlib.lines.Line2D at 0xc43c438>,\n",
       "  <matplotlib.lines.Line2D at 0xc43cf60>,\n",
       "  <matplotlib.lines.Line2D at 0xc44bac8>,\n",
       "  <matplotlib.lines.Line2D at 0xc459630>,\n",
       "  <matplotlib.lines.Line2D at 0xc468198>,\n",
       "  <matplotlib.lines.Line2D at 0xc468cc0>],\n",
       " [<matplotlib.patches.Rectangle at 0xc0f5978>,\n",
       "  <matplotlib.patches.Rectangle at 0xc312128>,\n",
       "  <matplotlib.patches.Rectangle at 0xc3129b0>,\n",
       "  <matplotlib.patches.Rectangle at 0xc325518>,\n",
       "  <matplotlib.patches.Rectangle at 0xc334080>,\n",
       "  <matplotlib.patches.Rectangle at 0xc334b70>,\n",
       "  <matplotlib.patches.Rectangle at 0xc3426d8>,\n",
       "  <matplotlib.patches.Rectangle at 0xc350240>,\n",
       "  <matplotlib.patches.Rectangle at 0xc3e60b8>,\n",
       "  <matplotlib.patches.Rectangle at 0xc3e68d0>,\n",
       "  <matplotlib.patches.Rectangle at 0xc3f4438>,\n",
       "  <matplotlib.patches.Rectangle at 0xc401208>,\n",
       "  <matplotlib.patches.Rectangle at 0xc401ac8>,\n",
       "  <matplotlib.patches.Rectangle at 0xc40e630>,\n",
       "  <matplotlib.patches.Rectangle at 0xc41d198>,\n",
       "  <matplotlib.patches.Rectangle at 0xc41dcc0>,\n",
       "  <matplotlib.patches.Rectangle at 0xc42f828>,\n",
       "  <matplotlib.patches.Rectangle at 0xc43c390>,\n",
       "  <matplotlib.patches.Rectangle at 0xc44b198>,\n",
       "  <matplotlib.patches.Rectangle at 0xc44ba20>,\n",
       "  <matplotlib.patches.Rectangle at 0xc459588>,\n",
       "  <matplotlib.patches.Rectangle at 0xc4680f0>,\n",
       "  <matplotlib.patches.Rectangle at 0xc468c18>])"
      ]
     },
     "execution_count": 42,
     "metadata": {},
     "output_type": "execute_result"
    }
   ],
   "source": [
    "mplf.candlestick_ochl(ax, stock_data, width=0.8, colorup='red', colordown='green', alpha=1)"
   ]
  },
  {
   "cell_type": "code",
   "execution_count": 43,
   "metadata": {
    "scrolled": true
   },
   "outputs": [
    {
     "data": {
      "image/png": "[encoded data removed]",
      "text/plain": [
       "<matplotlib.figure.Figure at 0xc220f60>"
      ]
     },
     "metadata": {},
     "output_type": "display_data"
    }
   ],
   "source": [
    "plt.show()"
   ]
  }
 ],
 "metadata": {
  "kernelspec": {
   "display_name": "Python 2",
   "language": "python",
   "name": "python2"
  },
  "language_info": {
   "codemirror_mode": {
    "name": "ipython",
    "version": 2
   },
   "file_extension": ".py",
   "mimetype": "text/x-python",
   "name": "python",
   "nbconvert_exporter": "python",
   "pygments_lexer": "ipython2",
   "version": "2.7.13"
  }
 },
 "nbformat": 4,
 "nbformat_minor": 2
}
