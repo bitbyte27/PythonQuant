{
 "cells": [
  {
   "cell_type": "code",
   "execution_count": 1,
   "metadata": {
    "collapsed": true
   },
   "outputs": [],
   "source": [
    "import pandas as pd"
   ]
  },
  {
   "cell_type": "code",
   "execution_count": 2,
   "metadata": {
    "collapsed": true
   },
   "outputs": [],
   "source": [
    "import matplotlib.pyplot as plt"
   ]
  },
  {
   "cell_type": "code",
   "execution_count": 3,
   "metadata": {
    "collapsed": true
   },
   "outputs": [],
   "source": [
    "import numpy as np"
   ]
  },
  {
   "cell_type": "code",
   "execution_count": 4,
   "metadata": {
    "collapsed": true
   },
   "outputs": [],
   "source": [
    "import matplotlib as mpl"
   ]
  },
  {
   "cell_type": "code",
   "execution_count": 5,
   "metadata": {},
   "outputs": [],
   "source": [
    "import mpl_finance as mplf"
   ]
  },
  {
   "cell_type": "code",
   "execution_count": 6,
   "metadata": {
    "collapsed": true
   },
   "outputs": [],
   "source": [
    "gdzz0 = pd.read_csv('datacsv/gdzz.csv')"
   ]
  },
  {
   "cell_type": "code",
   "execution_count": 7,
   "metadata": {
    "collapsed": true
   },
   "outputs": [],
   "source": [
    "gdzz1 = gdzz0.set_index('date')"
   ]
  },
  {
   "cell_type": "code",
   "execution_count": 8,
   "metadata": {
    "collapsed": true,
    "scrolled": true
   },
   "outputs": [],
   "source": [
    "gdzz = gdzz1[['open','close','high','low']]"
   ]
  },
  {
   "cell_type": "code",
   "execution_count": 9,
   "metadata": {},
   "outputs": [
    {
     "data": {
      "text/html": [
       "<div>\n",
       "<style>\n",
       "    .dataframe thead tr:only-child th {\n",
       "        text-align: right;\n",
       "    }\n",
       "\n",
       "    .dataframe thead th {\n",
       "        text-align: left;\n",
       "    }\n",
       "\n",
       "    .dataframe tbody tr th {\n",
       "        vertical-align: top;\n",
       "    }\n",
       "</style>\n",
       "<table border=\"1\" class=\"dataframe\">\n",
       "  <thead>\n",
       "    <tr style=\"text-align: right;\">\n",
       "      <th></th>\n",
       "      <th>open</th>\n",
       "      <th>close</th>\n",
       "      <th>high</th>\n",
       "      <th>low</th>\n",
       "    </tr>\n",
       "    <tr>\n",
       "      <th>date</th>\n",
       "      <th></th>\n",
       "      <th></th>\n",
       "      <th></th>\n",
       "      <th></th>\n",
       "    </tr>\n",
       "  </thead>\n",
       "  <tbody>\n",
       "    <tr>\n",
       "      <th>2017/04/04</th>\n",
       "      <td>NaN</td>\n",
       "      <td>NaN</td>\n",
       "      <td>NaN</td>\n",
       "      <td>NaN</td>\n",
       "    </tr>\n",
       "    <tr>\n",
       "      <th>2017/04/05</th>\n",
       "      <td>102.00</td>\n",
       "      <td>103.00</td>\n",
       "      <td>103.15</td>\n",
       "      <td>101.25</td>\n",
       "    </tr>\n",
       "    <tr>\n",
       "      <th>2017/04/06</th>\n",
       "      <td>102.93</td>\n",
       "      <td>103.61</td>\n",
       "      <td>103.83</td>\n",
       "      <td>102.52</td>\n",
       "    </tr>\n",
       "    <tr>\n",
       "      <th>2017/04/07</th>\n",
       "      <td>103.61</td>\n",
       "      <td>103.00</td>\n",
       "      <td>103.61</td>\n",
       "      <td>102.80</td>\n",
       "    </tr>\n",
       "    <tr>\n",
       "      <th>2017/04/10</th>\n",
       "      <td>103.03</td>\n",
       "      <td>103.44</td>\n",
       "      <td>103.60</td>\n",
       "      <td>102.91</td>\n",
       "    </tr>\n",
       "    <tr>\n",
       "      <th>2017/04/11</th>\n",
       "      <td>103.24</td>\n",
       "      <td>103.29</td>\n",
       "      <td>103.30</td>\n",
       "      <td>102.91</td>\n",
       "    </tr>\n",
       "    <tr>\n",
       "      <th>2017/04/12</th>\n",
       "      <td>103.29</td>\n",
       "      <td>103.12</td>\n",
       "      <td>103.32</td>\n",
       "      <td>102.95</td>\n",
       "    </tr>\n",
       "    <tr>\n",
       "      <th>2017/04/13</th>\n",
       "      <td>103.12</td>\n",
       "      <td>103.01</td>\n",
       "      <td>103.12</td>\n",
       "      <td>102.85</td>\n",
       "    </tr>\n",
       "    <tr>\n",
       "      <th>2017/04/14</th>\n",
       "      <td>103.01</td>\n",
       "      <td>102.31</td>\n",
       "      <td>103.01</td>\n",
       "      <td>102.29</td>\n",
       "    </tr>\n",
       "    <tr>\n",
       "      <th>2017/04/17</th>\n",
       "      <td>102.30</td>\n",
       "      <td>101.78</td>\n",
       "      <td>102.30</td>\n",
       "      <td>101.53</td>\n",
       "    </tr>\n",
       "    <tr>\n",
       "      <th>2017/04/18</th>\n",
       "      <td>101.79</td>\n",
       "      <td>101.70</td>\n",
       "      <td>101.90</td>\n",
       "      <td>101.55</td>\n",
       "    </tr>\n",
       "    <tr>\n",
       "      <th>2017/04/19</th>\n",
       "      <td>101.61</td>\n",
       "      <td>101.54</td>\n",
       "      <td>101.78</td>\n",
       "      <td>101.13</td>\n",
       "    </tr>\n",
       "    <tr>\n",
       "      <th>2017/04/20</th>\n",
       "      <td>101.54</td>\n",
       "      <td>101.53</td>\n",
       "      <td>101.81</td>\n",
       "      <td>101.36</td>\n",
       "    </tr>\n",
       "    <tr>\n",
       "      <th>2017/04/21</th>\n",
       "      <td>101.53</td>\n",
       "      <td>101.71</td>\n",
       "      <td>101.85</td>\n",
       "      <td>101.48</td>\n",
       "    </tr>\n",
       "    <tr>\n",
       "      <th>2017/04/24</th>\n",
       "      <td>101.66</td>\n",
       "      <td>101.48</td>\n",
       "      <td>101.71</td>\n",
       "      <td>101.27</td>\n",
       "    </tr>\n",
       "    <tr>\n",
       "      <th>2017/04/25</th>\n",
       "      <td>101.52</td>\n",
       "      <td>101.85</td>\n",
       "      <td>101.94</td>\n",
       "      <td>101.50</td>\n",
       "    </tr>\n",
       "    <tr>\n",
       "      <th>2017/04/26</th>\n",
       "      <td>101.85</td>\n",
       "      <td>101.60</td>\n",
       "      <td>101.90</td>\n",
       "      <td>101.50</td>\n",
       "    </tr>\n",
       "    <tr>\n",
       "      <th>2017/04/27</th>\n",
       "      <td>101.63</td>\n",
       "      <td>101.72</td>\n",
       "      <td>101.76</td>\n",
       "      <td>101.46</td>\n",
       "    </tr>\n",
       "    <tr>\n",
       "      <th>2017/04/28</th>\n",
       "      <td>101.72</td>\n",
       "      <td>101.50</td>\n",
       "      <td>101.75</td>\n",
       "      <td>101.50</td>\n",
       "    </tr>\n",
       "    <tr>\n",
       "      <th>2017/05/02</th>\n",
       "      <td>101.55</td>\n",
       "      <td>101.00</td>\n",
       "      <td>101.63</td>\n",
       "      <td>100.88</td>\n",
       "    </tr>\n",
       "    <tr>\n",
       "      <th>2017/05/03</th>\n",
       "      <td>101.30</td>\n",
       "      <td>100.95</td>\n",
       "      <td>101.30</td>\n",
       "      <td>100.86</td>\n",
       "    </tr>\n",
       "    <tr>\n",
       "      <th>2017/05/04</th>\n",
       "      <td>100.95</td>\n",
       "      <td>100.91</td>\n",
       "      <td>101.00</td>\n",
       "      <td>100.82</td>\n",
       "    </tr>\n",
       "    <tr>\n",
       "      <th>2017/05/05</th>\n",
       "      <td>100.86</td>\n",
       "      <td>100.60</td>\n",
       "      <td>101.00</td>\n",
       "      <td>100.48</td>\n",
       "    </tr>\n",
       "    <tr>\n",
       "      <th>2017/05/08</th>\n",
       "      <td>100.56</td>\n",
       "      <td>100.11</td>\n",
       "      <td>100.56</td>\n",
       "      <td>99.80</td>\n",
       "    </tr>\n",
       "    <tr>\n",
       "      <th>2017/05/09</th>\n",
       "      <td>NaN</td>\n",
       "      <td>NaN</td>\n",
       "      <td>NaN</td>\n",
       "      <td>NaN</td>\n",
       "    </tr>\n",
       "  </tbody>\n",
       "</table>\n",
       "</div>"
      ],
      "text/plain": [
       "               open   close    high     low\n",
       "date                                       \n",
       " 2017/04/04     NaN     NaN     NaN     NaN\n",
       " 2017/04/05  102.00  103.00  103.15  101.25\n",
       " 2017/04/06  102.93  103.61  103.83  102.52\n",
       " 2017/04/07  103.61  103.00  103.61  102.80\n",
       " 2017/04/10  103.03  103.44  103.60  102.91\n",
       " 2017/04/11  103.24  103.29  103.30  102.91\n",
       " 2017/04/12  103.29  103.12  103.32  102.95\n",
       " 2017/04/13  103.12  103.01  103.12  102.85\n",
       " 2017/04/14  103.01  102.31  103.01  102.29\n",
       " 2017/04/17  102.30  101.78  102.30  101.53\n",
       " 2017/04/18  101.79  101.70  101.90  101.55\n",
       " 2017/04/19  101.61  101.54  101.78  101.13\n",
       " 2017/04/20  101.54  101.53  101.81  101.36\n",
       " 2017/04/21  101.53  101.71  101.85  101.48\n",
       " 2017/04/24  101.66  101.48  101.71  101.27\n",
       " 2017/04/25  101.52  101.85  101.94  101.50\n",
       " 2017/04/26  101.85  101.60  101.90  101.50\n",
       " 2017/04/27  101.63  101.72  101.76  101.46\n",
       " 2017/04/28  101.72  101.50  101.75  101.50\n",
       " 2017/05/02  101.55  101.00  101.63  100.88\n",
       " 2017/05/03  101.30  100.95  101.30  100.86\n",
       " 2017/05/04  100.95  100.91  101.00  100.82\n",
       " 2017/05/05  100.86  100.60  101.00  100.48\n",
       " 2017/05/08  100.56  100.11  100.56   99.80\n",
       " 2017/05/09     NaN     NaN     NaN     NaN"
      ]
     },
     "execution_count": 9,
     "metadata": {},
     "output_type": "execute_result"
    }
   ],
   "source": [
    "gdzz # 在CSV上增加了前一天2017/04/04，和后一天2017/05/09，主要用于影响均线的显示"
   ]
  },
  {
   "cell_type": "code",
   "execution_count": 10,
   "metadata": {},
   "outputs": [],
   "source": [
    "k = len(gdzz)"
   ]
  },
  {
   "cell_type": "code",
   "execution_count": 11,
   "metadata": {
    "scrolled": true
   },
   "outputs": [
    {
     "data": {
      "text/plain": [
       "25"
      ]
     },
     "execution_count": 11,
     "metadata": {},
     "output_type": "execute_result"
    }
   ],
   "source": [
    "k"
   ]
  },
  {
   "cell_type": "code",
   "execution_count": 12,
   "metadata": {
    "collapsed": true
   },
   "outputs": [],
   "source": [
    "gdzz2 = gdzz[1:k-1]"
   ]
  },
  {
   "cell_type": "code",
   "execution_count": 13,
   "metadata": {
    "scrolled": true
   },
   "outputs": [],
   "source": [
    "maxdate = gdzz0['date'].max()"
   ]
  },
  {
   "cell_type": "code",
   "execution_count": 14,
   "metadata": {
    "collapsed": true
   },
   "outputs": [],
   "source": [
    "maxdate = pd.to_datetime(maxdate)"
   ]
  },
  {
   "cell_type": "code",
   "execution_count": 15,
   "metadata": {},
   "outputs": [
    {
     "data": {
      "text/plain": [
       "Timestamp('2017-05-09 00:00:00')"
      ]
     },
     "execution_count": 15,
     "metadata": {},
     "output_type": "execute_result"
    }
   ],
   "source": [
    "maxdate"
   ]
  },
  {
   "cell_type": "code",
   "execution_count": 16,
   "metadata": {
    "collapsed": true
   },
   "outputs": [],
   "source": [
    "mindate = gdzz0['date'].min()"
   ]
  },
  {
   "cell_type": "code",
   "execution_count": 17,
   "metadata": {},
   "outputs": [],
   "source": [
    "mindate = pd.to_datetime(mindate)"
   ]
  },
  {
   "cell_type": "code",
   "execution_count": 18,
   "metadata": {},
   "outputs": [
    {
     "data": {
      "text/plain": [
       "Timestamp('2017-04-04 00:00:00')"
      ]
     },
     "execution_count": 18,
     "metadata": {},
     "output_type": "execute_result"
    }
   ],
   "source": [
    "mindate"
   ]
  },
  {
   "cell_type": "code",
   "execution_count": 19,
   "metadata": {
    "collapsed": true
   },
   "outputs": [],
   "source": [
    "plt.figure(2, figsize=(12,8), dpi=80)\n",
    "ax1 = plt.subplot(211)\n",
    "ax2 = plt.subplot(212)"
   ]
  },
  {
   "cell_type": "code",
   "execution_count": 20,
   "metadata": {
    "collapsed": true
   },
   "outputs": [],
   "source": [
    "plt.sca(ax1)"
   ]
  },
  {
   "cell_type": "code",
   "execution_count": 21,
   "metadata": {},
   "outputs": [],
   "source": [
    "mplf.candlestick2_ochl(ax1, gdzz2['open'], gdzz2['close'], gdzz2['high'], gdzz2['low'], width=0.8, colorup='red', colordown='green', alpha=1)"
   ]
  },
  {
   "cell_type": "code",
   "execution_count": 31,
   "metadata": {
    "scrolled": true
   },
   "outputs": [
    {
     "data": {
      "text/plain": [
       "(736423.0, 736458.0)"
      ]
     },
     "execution_count": 31,
     "metadata": {},
     "output_type": "execute_result"
    }
   ],
   "source": [
    "# plt.xlim(mindate,maxdate)"
   ]
  },
  {
   "cell_type": "code",
   "execution_count": 23,
   "metadata": {},
   "outputs": [
    {
     "data": {
      "text/plain": [
       "(99, 105)"
      ]
     },
     "execution_count": 23,
     "metadata": {},
     "output_type": "execute_result"
    }
   ],
   "source": [
    "plt.ylim(99,105)"
   ]
  },
  {
   "cell_type": "code",
   "execution_count": 24,
   "metadata": {
    "scrolled": true
   },
   "outputs": [],
   "source": [
    "plt.sca(ax2)"
   ]
  },
  {
   "cell_type": "code",
   "execution_count": 25,
   "metadata": {},
   "outputs": [
    {
     "data": {
      "text/plain": [
       "<matplotlib.axes._subplots.AxesSubplot at 0xc1b8dd8>"
      ]
     },
     "execution_count": 25,
     "metadata": {},
     "output_type": "execute_result"
    }
   ],
   "source": [
    "MA3 = gdzz['close'].rolling(window=3).mean()\n",
    "MA3.plot(color='yellow', grid='on', linewidth=2.0, alpha=1)"
   ]
  },
  {
   "cell_type": "code",
   "execution_count": 26,
   "metadata": {},
   "outputs": [
    {
     "data": {
      "text/plain": [
       "date\n",
       " 2017/04/04           NaN\n",
       " 2017/04/05           NaN\n",
       " 2017/04/06           NaN\n",
       " 2017/04/07    103.203333\n",
       " 2017/04/10    103.350000\n",
       " 2017/04/11    103.243333\n",
       " 2017/04/12    103.283333\n",
       " 2017/04/13    103.140000\n",
       " 2017/04/14    102.813333\n",
       " 2017/04/17    102.366667\n",
       " 2017/04/18    101.930000\n",
       " 2017/04/19    101.673333\n",
       " 2017/04/20    101.590000\n",
       " 2017/04/21    101.593333\n",
       " 2017/04/24    101.573333\n",
       " 2017/04/25    101.680000\n",
       " 2017/04/26    101.643333\n",
       " 2017/04/27    101.723333\n",
       " 2017/04/28    101.606667\n",
       " 2017/05/02    101.406667\n",
       " 2017/05/03    101.150000\n",
       " 2017/05/04    100.953333\n",
       " 2017/05/05    100.820000\n",
       " 2017/05/08    100.540000\n",
       " 2017/05/09           NaN\n",
       "Name: close, dtype: float64"
      ]
     },
     "execution_count": 26,
     "metadata": {},
     "output_type": "execute_result"
    }
   ],
   "source": [
    "MA3"
   ]
  },
  {
   "cell_type": "code",
   "execution_count": 27,
   "metadata": {},
   "outputs": [],
   "source": [
    "mplf.candlestick2_ochl(ax2, gdzz['open'], gdzz['close'], gdzz['high'], gdzz['low'], width=0.8, colorup='red', colordown='green', alpha=1)"
   ]
  },
  {
   "cell_type": "code",
   "execution_count": 28,
   "metadata": {},
   "outputs": [
    {
     "data": {
      "text/plain": [
       "(99, 105)"
      ]
     },
     "execution_count": 28,
     "metadata": {},
     "output_type": "execute_result"
    }
   ],
   "source": [
    "plt.ylim(99,105)"
   ]
  },
  {
   "cell_type": "code",
   "execution_count": 29,
   "metadata": {
    "scrolled": true
   },
   "outputs": [
    {
     "data": {
      "image/png": "[encoded data removed]",
      "text/plain": [
       "<matplotlib.figure.Figure at 0xc07f0b8>"
      ]
     },
     "metadata": {},
     "output_type": "display_data"
    }
   ],
   "source": [
    "plt.show()"
   ]
  }
 ],
 "metadata": {
  "kernelspec": {
   "display_name": "Python 2",
   "language": "python",
   "name": "python2"
  },
  "language_info": {
   "codemirror_mode": {
    "name": "ipython",
    "version": 2
   },
   "file_extension": ".py",
   "mimetype": "text/x-python",
   "name": "python",
   "nbconvert_exporter": "python",
   "pygments_lexer": "ipython2",
   "version": "2.7.13"
  }
 },
 "nbformat": 4,
 "nbformat_minor": 2
}
