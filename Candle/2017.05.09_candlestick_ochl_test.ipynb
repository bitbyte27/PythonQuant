{
 "cells": [
  {
   "cell_type": "code",
   "execution_count": 1,
   "metadata": {
    "collapsed": true
   },
   "outputs": [],
   "source": [
    "import pandas as pd\n",
    "import numpy as np\n",
    "import matplotlib.pyplot as plt\n",
    "import mpl_finance as mplf\n",
    "import matplotlib.dates as mdates"
   ]
  },
  {
   "cell_type": "code",
   "execution_count": 2,
   "metadata": {
    "collapsed": true
   },
   "outputs": [],
   "source": [
    "gdzz0 = pd.read_csv('D:/Python/iPython/datacsv/gdzz.csv')"
   ]
  },
  {
   "cell_type": "code",
   "execution_count": 3,
   "metadata": {
    "scrolled": true
   },
   "outputs": [
    {
     "name": "stdout",
     "output_type": "stream",
     "text": [
      "           date    open   close    high     low\n",
      "0    2017/04/05  102.00  103.00  103.15  101.25\n",
      "1    2017/04/06  102.93  103.61  103.83  102.52\n",
      "2    2017/04/07  103.61  103.00  103.61  102.80\n",
      "3    2017/04/10  103.03  103.44  103.60  102.91\n",
      "4    2017/04/11  103.24  103.29  103.30  102.91\n",
      "5    2017/04/12  103.29  103.12  103.32  102.95\n",
      "6    2017/04/13  103.12  103.01  103.12  102.85\n",
      "7    2017/04/14  103.01  102.31  103.01  102.29\n",
      "8    2017/04/17  102.30  101.78  102.30  101.53\n",
      "9    2017/04/18  101.79  101.70  101.90  101.55\n",
      "10   2017/04/19  101.61  101.54  101.78  101.13\n",
      "11   2017/04/20  101.54  101.53  101.81  101.36\n",
      "12   2017/04/21  101.53  101.71  101.85  101.48\n",
      "13   2017/04/24  101.66  101.48  101.71  101.27\n",
      "14   2017/04/25  101.52  101.85  101.94  101.50\n",
      "15   2017/04/26  101.85  101.60  101.90  101.50\n",
      "16   2017/04/27  101.63  101.72  101.76  101.46\n",
      "17   2017/04/28  101.72  101.50  101.75  101.50\n",
      "18   2017/05/02  101.55  101.00  101.63  100.88\n",
      "19   2017/05/03  101.30  100.95  101.30  100.86\n",
      "20   2017/05/04  100.95  100.91  101.00  100.82\n",
      "21   2017/05/05  100.86  100.60  101.00  100.48\n",
      "22   2017/05/08  100.56  100.11  100.56   99.80\n"
     ]
    }
   ],
   "source": [
    "gdzz = gdzz0[['date','open','close','high','low']]\n",
    "print gdzz"
   ]
  },
  {
   "cell_type": "code",
   "execution_count": 4,
   "metadata": {
    "collapsed": true
   },
   "outputs": [],
   "source": [
    "gdzz1 = gdzz0['date']\n",
    "gdzz2 = gdzz0['open']\n",
    "gdzz3 = gdzz0['close']\n",
    "gdzz4 = gdzz0['high']\n",
    "gdzz5 = gdzz0['low']\n",
    "CD = len(gdzz1)"
   ]
  },
  {
   "cell_type": "code",
   "execution_count": 5,
   "metadata": {
    "collapsed": true
   },
   "outputs": [],
   "source": [
    "e1 = pd.to_datetime(gdzz1[0])\n",
    "b1 = gdzz2[0]\n",
    "c1 = gdzz3[0]\n",
    "d1 = gdzz4[0]\n",
    "f1 = gdzz5[0]"
   ]
  },
  {
   "cell_type": "code",
   "execution_count": 6,
   "metadata": {
    "collapsed": true
   },
   "outputs": [],
   "source": [
    "a1 = mdates.date2num(e1)"
   ]
  },
  {
   "cell_type": "code",
   "execution_count": 7,
   "metadata": {},
   "outputs": [
    {
     "data": {
      "text/plain": [
       "736424.0"
      ]
     },
     "execution_count": 7,
     "metadata": {},
     "output_type": "execute_result"
    }
   ],
   "source": [
    "a1"
   ]
  },
  {
   "cell_type": "code",
   "execution_count": 8,
   "metadata": {},
   "outputs": [
    {
     "data": {
      "text/plain": [
       "102.0"
      ]
     },
     "execution_count": 8,
     "metadata": {},
     "output_type": "execute_result"
    }
   ],
   "source": [
    "b1"
   ]
  },
  {
   "cell_type": "code",
   "execution_count": 9,
   "metadata": {},
   "outputs": [
    {
     "data": {
      "text/plain": [
       "103.0"
      ]
     },
     "execution_count": 9,
     "metadata": {},
     "output_type": "execute_result"
    }
   ],
   "source": [
    "c1"
   ]
  },
  {
   "cell_type": "code",
   "execution_count": 10,
   "metadata": {},
   "outputs": [
    {
     "data": {
      "text/plain": [
       "103.15000000000001"
      ]
     },
     "execution_count": 10,
     "metadata": {},
     "output_type": "execute_result"
    }
   ],
   "source": [
    "d1"
   ]
  },
  {
   "cell_type": "code",
   "execution_count": 11,
   "metadata": {
    "collapsed": true
   },
   "outputs": [],
   "source": [
    "e2 = pd.to_datetime(gdzz1[1])\n",
    "b2 = gdzz2[1]\n",
    "c2 = gdzz3[1]\n",
    "d2 = gdzz4[1]\n",
    "f2 = gdzz5[1]"
   ]
  },
  {
   "cell_type": "code",
   "execution_count": 12,
   "metadata": {
    "collapsed": true
   },
   "outputs": [],
   "source": [
    "e3 = pd.to_datetime(gdzz1[2])\n",
    "b3 = gdzz2[2]\n",
    "c3 = gdzz3[2]\n",
    "d3 = gdzz4[2]\n",
    "f3 = gdzz5[2]"
   ]
  },
  {
   "cell_type": "code",
   "execution_count": 13,
   "metadata": {
    "collapsed": true
   },
   "outputs": [],
   "source": [
    "e4 = pd.to_datetime(gdzz1[3])\n",
    "b4 = gdzz2[3]\n",
    "c4 = gdzz3[3]\n",
    "d4 = gdzz4[3]\n",
    "f4 = gdzz5[4]"
   ]
  },
  {
   "cell_type": "code",
   "execution_count": 14,
   "metadata": {
    "collapsed": true
   },
   "outputs": [],
   "source": [
    "a2 = mdates.date2num(e2)\n",
    "a3 = mdates.date2num(e3)\n",
    "a4 = mdates.date2num(e4)"
   ]
  },
  {
   "cell_type": "code",
   "execution_count": 15,
   "metadata": {
    "collapsed": true
   },
   "outputs": [],
   "source": [
    "datarray = np.array([[a1,b1,c1,d1,f1],[a2,b2,c2,d2,f2],[a3,b3,c3,d3,f3],[a4,b4,c4,d4,f4]])"
   ]
  },
  {
   "cell_type": "code",
   "execution_count": 16,
   "metadata": {
    "scrolled": true
   },
   "outputs": [
    {
     "data": {
      "text/plain": [
       "array([[  7.36424000e+05,   1.02000000e+02,   1.03000000e+02,\n",
       "          1.03150000e+02,   1.01250000e+02],\n",
       "       [  7.36425000e+05,   1.02930000e+02,   1.03610000e+02,\n",
       "          1.03830000e+02,   1.02520000e+02],\n",
       "       [  7.36426000e+05,   1.03610000e+02,   1.03000000e+02,\n",
       "          1.03610000e+02,   1.02800000e+02],\n",
       "       [  7.36429000e+05,   1.03030000e+02,   1.03440000e+02,\n",
       "          1.03600000e+02,   1.02910000e+02]])"
      ]
     },
     "execution_count": 16,
     "metadata": {},
     "output_type": "execute_result"
    }
   ],
   "source": [
    "datarray"
   ]
  },
  {
   "cell_type": "code",
   "execution_count": 17,
   "metadata": {
    "collapsed": true
   },
   "outputs": [],
   "source": [
    "from matplotlib.dates import DateFormatter, WeekdayLocator,DayLocator, MONDAY"
   ]
  },
  {
   "cell_type": "code",
   "execution_count": 18,
   "metadata": {
    "collapsed": true
   },
   "outputs": [],
   "source": [
    "mondays = WeekdayLocator(MONDAY)\n",
    "alldays = DayLocator()\n",
    "# weekFormatter = DateFormatter('%b %d')\n",
    "dayFormatter = DateFormatter('%Y-%m-%d')"
   ]
  },
  {
   "cell_type": "code",
   "execution_count": 19,
   "metadata": {
    "collapsed": true
   },
   "outputs": [],
   "source": [
    "fig = plt.figure(figsize=(18,6), dpi=80)\n",
    "ax = plt.subplot(111)"
   ]
  },
  {
   "cell_type": "code",
   "execution_count": 20,
   "metadata": {
    "collapsed": true
   },
   "outputs": [],
   "source": [
    "ax.xaxis.set_major_locator(mondays)\n",
    "ax.xaxis.set_minor_locator(alldays)\n",
    "ax.xaxis.set_major_formatter(dayFormatter)\n",
    "ax.grid(True)"
   ]
  },
  {
   "cell_type": "code",
   "execution_count": 21,
   "metadata": {
    "collapsed": true
   },
   "outputs": [],
   "source": [
    "# mplf.candlestick2_ochl(ax, gdzz['open'], gdzz['close'], gdzz['high'], gdzz['low'], width=0.8, colorup='red', colordown='green', alpha=1)"
   ]
  },
  {
   "cell_type": "code",
   "execution_count": 22,
   "metadata": {
    "scrolled": true
   },
   "outputs": [
    {
     "data": {
      "text/plain": [
       "([<matplotlib.lines.Line2D at 0xc37a4a8>,\n",
       "  <matplotlib.lines.Line2D at 0xc331ba8>,\n",
       "  <matplotlib.lines.Line2D at 0xc32b2b0>,\n",
       "  <matplotlib.lines.Line2D at 0xc3961d0>],\n",
       " [<matplotlib.patches.Rectangle at 0xc1b6940>,\n",
       "  <matplotlib.patches.Rectangle at 0xc331dd8>,\n",
       "  <matplotlib.patches.Rectangle at 0xc3207b8>,\n",
       "  <matplotlib.patches.Rectangle at 0xc396128>])"
      ]
     },
     "execution_count": 22,
     "metadata": {},
     "output_type": "execute_result"
    }
   ],
   "source": [
    "mplf.candlestick_ochl(ax, datarray, width=0.8, colorup='red', colordown='green', alpha=1)"
   ]
  },
  {
   "cell_type": "code",
   "execution_count": 23,
   "metadata": {
    "collapsed": true
   },
   "outputs": [],
   "source": [
    "ax.xaxis_date()\n",
    "ax.autoscale_view()\n",
    "# plt.setp(plt.gca().get_xticklabels(), rotation=45, horizontalalignment='right')"
   ]
  },
  {
   "cell_type": "code",
   "execution_count": 24,
   "metadata": {},
   "outputs": [
    {
     "data": {
      "image/png": "[encoded data removed]",
      "text/plain": [
       "<matplotlib.figure.Figure at 0xc2a6470>"
      ]
     },
     "metadata": {},
     "output_type": "display_data"
    }
   ],
   "source": [
    "plt.show()"
   ]
  }
 ],
 "metadata": {
  "kernelspec": {
   "display_name": "Python 2",
   "language": "python",
   "name": "python2"
  },
  "language_info": {
   "codemirror_mode": {
    "name": "ipython",
    "version": 2
   },
   "file_extension": ".py",
   "mimetype": "text/x-python",
   "name": "python",
   "nbconvert_exporter": "python",
   "pygments_lexer": "ipython2",
   "version": "2.7.13"
  }
 },
 "nbformat": 4,
 "nbformat_minor": 2
}
