{
 "cells": [
  {
   "cell_type": "code",
   "execution_count": 1,
   "metadata": {
    "collapsed": true
   },
   "outputs": [],
   "source": [
    "import pandas as pd\n",
    "import numpy as np\n",
    "import matplotlib.pyplot as plt\n",
    "import mpl_finance as mplf\n",
    "import matplotlib.dates as mdates"
   ]
  },
  {
   "cell_type": "code",
   "execution_count": 2,
   "metadata": {
    "collapsed": true
   },
   "outputs": [],
   "source": [
    "Stock_ETF = pd.read_csv('ETF/data/510180.csv')\n",
    "Stock_ETF = Stock_ETF.set_index('date')\n",
    "Stock_ETF.index = pd.to_datetime(Stock_ETF.index)\n",
    "Stock_ETF = Stock_ETF.sort_index(axis=0, ascending=True)"
   ]
  },
  {
   "cell_type": "code",
   "execution_count": 3,
   "metadata": {
    "collapsed": true
   },
   "outputs": [],
   "source": [
    "import Risk_Ratio_Functions"
   ]
  },
  {
   "cell_type": "code",
   "execution_count": 4,
   "metadata": {},
   "outputs": [
    {
     "data": {
      "text/html": [
       "<div>\n",
       "<style>\n",
       "    .dataframe thead tr:only-child th {\n",
       "        text-align: right;\n",
       "    }\n",
       "\n",
       "    .dataframe thead th {\n",
       "        text-align: left;\n",
       "    }\n",
       "\n",
       "    .dataframe tbody tr th {\n",
       "        vertical-align: top;\n",
       "    }\n",
       "</style>\n",
       "<table border=\"1\" class=\"dataframe\">\n",
       "  <thead>\n",
       "    <tr style=\"text-align: right;\">\n",
       "      <th></th>\n",
       "      <th>open</th>\n",
       "      <th>high</th>\n",
       "      <th>low</th>\n",
       "      <th>close</th>\n",
       "      <th>volume</th>\n",
       "      <th>amount</th>\n",
       "      <th>Decision</th>\n",
       "      <th>MAJCQX</th>\n",
       "    </tr>\n",
       "    <tr>\n",
       "      <th>date</th>\n",
       "      <th></th>\n",
       "      <th></th>\n",
       "      <th></th>\n",
       "      <th></th>\n",
       "      <th></th>\n",
       "      <th></th>\n",
       "      <th></th>\n",
       "      <th></th>\n",
       "    </tr>\n",
       "  </thead>\n",
       "  <tbody>\n",
       "    <tr>\n",
       "      <th>2006-05-18</th>\n",
       "      <td>0.801</td>\n",
       "      <td>0.825</td>\n",
       "      <td>0.786</td>\n",
       "      <td>0.809</td>\n",
       "      <td>82909008</td>\n",
       "      <td>24748.268</td>\n",
       "      <td>48.96</td>\n",
       "      <td>NaN</td>\n",
       "    </tr>\n",
       "    <tr>\n",
       "      <th>2006-05-19</th>\n",
       "      <td>0.802</td>\n",
       "      <td>0.879</td>\n",
       "      <td>0.802</td>\n",
       "      <td>0.844</td>\n",
       "      <td>50558592</td>\n",
       "      <td>15555.816</td>\n",
       "      <td>58.48</td>\n",
       "      <td>NaN</td>\n",
       "    </tr>\n",
       "    <tr>\n",
       "      <th>2006-05-22</th>\n",
       "      <td>0.845</td>\n",
       "      <td>0.869</td>\n",
       "      <td>0.833</td>\n",
       "      <td>0.854</td>\n",
       "      <td>33741688</td>\n",
       "      <td>10556.232</td>\n",
       "      <td>58.48</td>\n",
       "      <td>55.306667</td>\n",
       "    </tr>\n",
       "    <tr>\n",
       "      <th>2006-05-23</th>\n",
       "      <td>0.825</td>\n",
       "      <td>0.867</td>\n",
       "      <td>0.797</td>\n",
       "      <td>0.804</td>\n",
       "      <td>28874040</td>\n",
       "      <td>8767.081</td>\n",
       "      <td>42.16</td>\n",
       "      <td>53.040000</td>\n",
       "    </tr>\n",
       "    <tr>\n",
       "      <th>2006-05-24</th>\n",
       "      <td>0.807</td>\n",
       "      <td>0.826</td>\n",
       "      <td>0.777</td>\n",
       "      <td>0.788</td>\n",
       "      <td>22789500</td>\n",
       "      <td>6825.586</td>\n",
       "      <td>38.08</td>\n",
       "      <td>46.240000</td>\n",
       "    </tr>\n",
       "  </tbody>\n",
       "</table>\n",
       "</div>"
      ],
      "text/plain": [
       "             open   high    low  close    volume     amount Decision  \\\n",
       "date                                                                   \n",
       "2006-05-18  0.801  0.825  0.786  0.809  82909008  24748.268    48.96   \n",
       "2006-05-19  0.802  0.879  0.802  0.844  50558592  15555.816    58.48   \n",
       "2006-05-22  0.845  0.869  0.833  0.854  33741688  10556.232    58.48   \n",
       "2006-05-23  0.825  0.867  0.797  0.804  28874040   8767.081    42.16   \n",
       "2006-05-24  0.807  0.826  0.777  0.788  22789500   6825.586    38.08   \n",
       "\n",
       "               MAJCQX  \n",
       "date                   \n",
       "2006-05-18        NaN  \n",
       "2006-05-19        NaN  \n",
       "2006-05-22  55.306667  \n",
       "2006-05-23  53.040000  \n",
       "2006-05-24  46.240000  "
      ]
     },
     "execution_count": 4,
     "metadata": {},
     "output_type": "execute_result"
    }
   ],
   "source": [
    "Risk_Ratio = Risk_Ratio_Functions.Risk_Ratio(Stock_ETF)\n",
    "Risk_Ratio = Risk_Ratio[['Decision','MAJCQX']]\n",
    "Stock_ETF_Risk_Ratio = pd.concat([Stock_ETF,Risk_Ratio], axis=1)\n",
    "Stock_ETF_Risk_Ratio.head()"
   ]
  },
  {
   "cell_type": "code",
   "execution_count": 5,
   "metadata": {
    "collapsed": true
   },
   "outputs": [],
   "source": [
    "stadate = '2018-03-25'\n",
    "enddate = '2018-06-08'\n",
    "Stock_ETF_Risk_Ratio = Stock_ETF_Risk_Ratio[Stock_ETF_Risk_Ratio.index >= pd.to_datetime(stadate)]\n",
    "Stock_ETF_Risk_Ratio = Stock_ETF_Risk_Ratio[Stock_ETF_Risk_Ratio.index <= pd.to_datetime(enddate)]\n",
    "k = len(Stock_ETF_Risk_Ratio)"
   ]
  },
  {
   "cell_type": "code",
   "execution_count": 6,
   "metadata": {},
   "outputs": [
    {
     "data": {
      "text/plain": [
       "\"\\nStock_ETF_Risk_Ratio['id'] = 0\\nfor i in range(1,k,1):\\n    Stock_ETF_Risk_Ratio.loc[i:i+1,'id'] = i\\n\""
      ]
     },
     "execution_count": 6,
     "metadata": {},
     "output_type": "execute_result"
    }
   ],
   "source": [
    "'''\n",
    "Stock_ETF_Risk_Ratio['id'] = 0\n",
    "for i in range(1,k,1):\n",
    "    Stock_ETF_Risk_Ratio.loc[i:i+1,'id'] = i\n",
    "'''"
   ]
  },
  {
   "cell_type": "code",
   "execution_count": 7,
   "metadata": {
    "collapsed": true
   },
   "outputs": [],
   "source": [
    "Stock_ETF_Risk_Ratio['date'] = Stock_ETF_Risk_Ratio.index\n",
    "Stock_ETF_Risk_Ratio = Stock_ETF_Risk_Ratio.reset_index(drop=True)\n",
    "Stock_ETF_Risk_Ratio['id'] = Stock_ETF_Risk_Ratio.index+1"
   ]
  },
  {
   "cell_type": "code",
   "execution_count": 8,
   "metadata": {
    "scrolled": true
   },
   "outputs": [
    {
     "data": {
      "text/html": [
       "<div>\n",
       "<style>\n",
       "    .dataframe thead tr:only-child th {\n",
       "        text-align: right;\n",
       "    }\n",
       "\n",
       "    .dataframe thead th {\n",
       "        text-align: left;\n",
       "    }\n",
       "\n",
       "    .dataframe tbody tr th {\n",
       "        vertical-align: top;\n",
       "    }\n",
       "</style>\n",
       "<table border=\"1\" class=\"dataframe\">\n",
       "  <thead>\n",
       "    <tr style=\"text-align: right;\">\n",
       "      <th></th>\n",
       "      <th>open</th>\n",
       "      <th>high</th>\n",
       "      <th>low</th>\n",
       "      <th>close</th>\n",
       "      <th>volume</th>\n",
       "      <th>amount</th>\n",
       "      <th>Decision</th>\n",
       "      <th>MAJCQX</th>\n",
       "      <th>date</th>\n",
       "      <th>id</th>\n",
       "    </tr>\n",
       "  </thead>\n",
       "  <tbody>\n",
       "    <tr>\n",
       "      <th>41</th>\n",
       "      <td>3.266</td>\n",
       "      <td>3.285</td>\n",
       "      <td>3.249</td>\n",
       "      <td>3.274</td>\n",
       "      <td>7998700</td>\n",
       "      <td>2614.048</td>\n",
       "      <td>34</td>\n",
       "      <td>25.840000</td>\n",
       "      <td>2018-05-28</td>\n",
       "      <td>42</td>\n",
       "    </tr>\n",
       "    <tr>\n",
       "      <th>42</th>\n",
       "      <td>3.270</td>\n",
       "      <td>3.278</td>\n",
       "      <td>3.242</td>\n",
       "      <td>3.258</td>\n",
       "      <td>9865550</td>\n",
       "      <td>3217.000</td>\n",
       "      <td>21.76</td>\n",
       "      <td>26.293333</td>\n",
       "      <td>2018-05-29</td>\n",
       "      <td>43</td>\n",
       "    </tr>\n",
       "    <tr>\n",
       "      <th>43</th>\n",
       "      <td>3.220</td>\n",
       "      <td>3.230</td>\n",
       "      <td>3.192</td>\n",
       "      <td>3.192</td>\n",
       "      <td>11710300</td>\n",
       "      <td>3755.888</td>\n",
       "      <td>19.04</td>\n",
       "      <td>24.933333</td>\n",
       "      <td>2018-05-30</td>\n",
       "      <td>44</td>\n",
       "    </tr>\n",
       "    <tr>\n",
       "      <th>44</th>\n",
       "      <td>3.196</td>\n",
       "      <td>3.248</td>\n",
       "      <td>3.196</td>\n",
       "      <td>3.244</td>\n",
       "      <td>6517150</td>\n",
       "      <td>2105.055</td>\n",
       "      <td>27.2</td>\n",
       "      <td>22.666667</td>\n",
       "      <td>2018-05-31</td>\n",
       "      <td>45</td>\n",
       "    </tr>\n",
       "    <tr>\n",
       "      <th>45</th>\n",
       "      <td>3.238</td>\n",
       "      <td>3.252</td>\n",
       "      <td>3.215</td>\n",
       "      <td>3.227</td>\n",
       "      <td>7100349</td>\n",
       "      <td>2295.381</td>\n",
       "      <td>31.28</td>\n",
       "      <td>25.840000</td>\n",
       "      <td>2018-06-01</td>\n",
       "      <td>46</td>\n",
       "    </tr>\n",
       "    <tr>\n",
       "      <th>46</th>\n",
       "      <td>3.235</td>\n",
       "      <td>3.263</td>\n",
       "      <td>3.232</td>\n",
       "      <td>3.257</td>\n",
       "      <td>8117125</td>\n",
       "      <td>2639.724</td>\n",
       "      <td>36.72</td>\n",
       "      <td>31.733333</td>\n",
       "      <td>2018-06-04</td>\n",
       "      <td>47</td>\n",
       "    </tr>\n",
       "    <tr>\n",
       "      <th>47</th>\n",
       "      <td>3.268</td>\n",
       "      <td>3.283</td>\n",
       "      <td>3.247</td>\n",
       "      <td>3.280</td>\n",
       "      <td>11931013</td>\n",
       "      <td>3891.310</td>\n",
       "      <td>48.96</td>\n",
       "      <td>38.986667</td>\n",
       "      <td>2018-06-05</td>\n",
       "      <td>48</td>\n",
       "    </tr>\n",
       "    <tr>\n",
       "      <th>48</th>\n",
       "      <td>3.273</td>\n",
       "      <td>3.282</td>\n",
       "      <td>3.268</td>\n",
       "      <td>3.274</td>\n",
       "      <td>8517098</td>\n",
       "      <td>2790.559</td>\n",
       "      <td>50.32</td>\n",
       "      <td>45.333333</td>\n",
       "      <td>2018-06-06</td>\n",
       "      <td>49</td>\n",
       "    </tr>\n",
       "    <tr>\n",
       "      <th>49</th>\n",
       "      <td>3.280</td>\n",
       "      <td>3.305</td>\n",
       "      <td>3.280</td>\n",
       "      <td>3.283</td>\n",
       "      <td>10534165</td>\n",
       "      <td>3466.384</td>\n",
       "      <td>58.48</td>\n",
       "      <td>52.586667</td>\n",
       "      <td>2018-06-07</td>\n",
       "      <td>50</td>\n",
       "    </tr>\n",
       "    <tr>\n",
       "      <th>50</th>\n",
       "      <td>3.272</td>\n",
       "      <td>3.273</td>\n",
       "      <td>3.227</td>\n",
       "      <td>3.240</td>\n",
       "      <td>8096775</td>\n",
       "      <td>2627.235</td>\n",
       "      <td>36.72</td>\n",
       "      <td>48.506667</td>\n",
       "      <td>2018-06-08</td>\n",
       "      <td>51</td>\n",
       "    </tr>\n",
       "  </tbody>\n",
       "</table>\n",
       "</div>"
      ],
      "text/plain": [
       "     open   high    low  close    volume    amount Decision     MAJCQX  \\\n",
       "41  3.266  3.285  3.249  3.274   7998700  2614.048       34  25.840000   \n",
       "42  3.270  3.278  3.242  3.258   9865550  3217.000    21.76  26.293333   \n",
       "43  3.220  3.230  3.192  3.192  11710300  3755.888    19.04  24.933333   \n",
       "44  3.196  3.248  3.196  3.244   6517150  2105.055     27.2  22.666667   \n",
       "45  3.238  3.252  3.215  3.227   7100349  2295.381    31.28  25.840000   \n",
       "46  3.235  3.263  3.232  3.257   8117125  2639.724    36.72  31.733333   \n",
       "47  3.268  3.283  3.247  3.280  11931013  3891.310    48.96  38.986667   \n",
       "48  3.273  3.282  3.268  3.274   8517098  2790.559    50.32  45.333333   \n",
       "49  3.280  3.305  3.280  3.283  10534165  3466.384    58.48  52.586667   \n",
       "50  3.272  3.273  3.227  3.240   8096775  2627.235    36.72  48.506667   \n",
       "\n",
       "         date  id  \n",
       "41 2018-05-28  42  \n",
       "42 2018-05-29  43  \n",
       "43 2018-05-30  44  \n",
       "44 2018-05-31  45  \n",
       "45 2018-06-01  46  \n",
       "46 2018-06-04  47  \n",
       "47 2018-06-05  48  \n",
       "48 2018-06-06  49  \n",
       "49 2018-06-07  50  \n",
       "50 2018-06-08  51  "
      ]
     },
     "execution_count": 8,
     "metadata": {},
     "output_type": "execute_result"
    }
   ],
   "source": [
    "Stock_ETF_Risk_Ratio.tail(10)"
   ]
  },
  {
   "cell_type": "code",
   "execution_count": 9,
   "metadata": {},
   "outputs": [
    {
     "data": {
      "text/html": [
       "<div>\n",
       "<style>\n",
       "    .dataframe thead tr:only-child th {\n",
       "        text-align: right;\n",
       "    }\n",
       "\n",
       "    .dataframe thead th {\n",
       "        text-align: left;\n",
       "    }\n",
       "\n",
       "    .dataframe tbody tr th {\n",
       "        vertical-align: top;\n",
       "    }\n",
       "</style>\n",
       "<table border=\"1\" class=\"dataframe\">\n",
       "  <thead>\n",
       "    <tr style=\"text-align: right;\">\n",
       "      <th></th>\n",
       "      <th>date</th>\n",
       "      <th>trade</th>\n",
       "      <th>price</th>\n",
       "    </tr>\n",
       "  </thead>\n",
       "  <tbody>\n",
       "    <tr>\n",
       "      <th>0</th>\n",
       "      <td>2018-02-09</td>\n",
       "      <td>buy</td>\n",
       "      <td>3.303</td>\n",
       "    </tr>\n",
       "    <tr>\n",
       "      <th>1</th>\n",
       "      <td>2018-02-22</td>\n",
       "      <td>sell</td>\n",
       "      <td>3.475</td>\n",
       "    </tr>\n",
       "    <tr>\n",
       "      <th>2</th>\n",
       "      <td>2018-03-26</td>\n",
       "      <td>buy</td>\n",
       "      <td>3.287</td>\n",
       "    </tr>\n",
       "    <tr>\n",
       "      <th>3</th>\n",
       "      <td>2018-04-11</td>\n",
       "      <td>sell</td>\n",
       "      <td>3.348</td>\n",
       "    </tr>\n",
       "    <tr>\n",
       "      <th>4</th>\n",
       "      <td>2018-04-17</td>\n",
       "      <td>buy</td>\n",
       "      <td>3.246</td>\n",
       "    </tr>\n",
       "    <tr>\n",
       "      <th>5</th>\n",
       "      <td>2018-05-08</td>\n",
       "      <td>sell</td>\n",
       "      <td>3.300</td>\n",
       "    </tr>\n",
       "    <tr>\n",
       "      <th>6</th>\n",
       "      <td>2018-04-18</td>\n",
       "      <td>buy</td>\n",
       "      <td>3.199</td>\n",
       "    </tr>\n",
       "    <tr>\n",
       "      <th>7</th>\n",
       "      <td>2018-05-08</td>\n",
       "      <td>sell</td>\n",
       "      <td>3.300</td>\n",
       "    </tr>\n",
       "    <tr>\n",
       "      <th>8</th>\n",
       "      <td>2018-05-30</td>\n",
       "      <td>buy</td>\n",
       "      <td>3.221</td>\n",
       "    </tr>\n",
       "    <tr>\n",
       "      <th>9</th>\n",
       "      <td>2018-06-07</td>\n",
       "      <td>sell</td>\n",
       "      <td>3.303</td>\n",
       "    </tr>\n",
       "  </tbody>\n",
       "</table>\n",
       "</div>"
      ],
      "text/plain": [
       "        date trade  price\n",
       "0 2018-02-09   buy  3.303\n",
       "1 2018-02-22  sell  3.475\n",
       "2 2018-03-26   buy  3.287\n",
       "3 2018-04-11  sell  3.348\n",
       "4 2018-04-17   buy  3.246\n",
       "5 2018-05-08  sell  3.300\n",
       "6 2018-04-18   buy  3.199\n",
       "7 2018-05-08  sell  3.300\n",
       "8 2018-05-30   buy  3.221\n",
       "9 2018-06-07  sell  3.303"
      ]
     },
     "execution_count": 9,
     "metadata": {},
     "output_type": "execute_result"
    }
   ],
   "source": [
    "Trade_ETF = pd.read_csv('ETF/data/180trade.csv')\n",
    "Trade_ETF['date'] = pd.to_datetime(Trade_ETF['date'])\n",
    "Trade_ETF"
   ]
  },
  {
   "cell_type": "code",
   "execution_count": 10,
   "metadata": {},
   "outputs": [
    {
     "data": {
      "text/html": [
       "<div>\n",
       "<style>\n",
       "    .dataframe thead tr:only-child th {\n",
       "        text-align: right;\n",
       "    }\n",
       "\n",
       "    .dataframe thead th {\n",
       "        text-align: left;\n",
       "    }\n",
       "\n",
       "    .dataframe tbody tr th {\n",
       "        vertical-align: top;\n",
       "    }\n",
       "</style>\n",
       "<table border=\"1\" class=\"dataframe\">\n",
       "  <thead>\n",
       "    <tr style=\"text-align: right;\">\n",
       "      <th></th>\n",
       "      <th>open</th>\n",
       "      <th>high</th>\n",
       "      <th>low</th>\n",
       "      <th>close</th>\n",
       "      <th>volume</th>\n",
       "      <th>amount</th>\n",
       "      <th>Decision</th>\n",
       "      <th>MAJCQX</th>\n",
       "      <th>date</th>\n",
       "      <th>id</th>\n",
       "      <th>trade</th>\n",
       "      <th>price</th>\n",
       "    </tr>\n",
       "  </thead>\n",
       "  <tbody>\n",
       "    <tr>\n",
       "      <th>0</th>\n",
       "      <td>3.322</td>\n",
       "      <td>3.325</td>\n",
       "      <td>3.272</td>\n",
       "      <td>3.307</td>\n",
       "      <td>10590350.0</td>\n",
       "      <td>3492.433</td>\n",
       "      <td>13.6</td>\n",
       "      <td>22.213333</td>\n",
       "      <td>2018-03-26</td>\n",
       "      <td>1.0</td>\n",
       "      <td>buy</td>\n",
       "      <td>3.287</td>\n",
       "    </tr>\n",
       "    <tr>\n",
       "      <th>1</th>\n",
       "      <td>3.366</td>\n",
       "      <td>3.374</td>\n",
       "      <td>3.343</td>\n",
       "      <td>3.360</td>\n",
       "      <td>12422626.0</td>\n",
       "      <td>4176.494</td>\n",
       "      <td>55.76</td>\n",
       "      <td>47.600000</td>\n",
       "      <td>2018-04-11</td>\n",
       "      <td>11.0</td>\n",
       "      <td>sell</td>\n",
       "      <td>3.348</td>\n",
       "    </tr>\n",
       "    <tr>\n",
       "      <th>2</th>\n",
       "      <td>3.246</td>\n",
       "      <td>3.257</td>\n",
       "      <td>3.196</td>\n",
       "      <td>3.200</td>\n",
       "      <td>7471200.0</td>\n",
       "      <td>2415.292</td>\n",
       "      <td>20.4</td>\n",
       "      <td>31.280000</td>\n",
       "      <td>2018-04-17</td>\n",
       "      <td>15.0</td>\n",
       "      <td>buy</td>\n",
       "      <td>3.246</td>\n",
       "    </tr>\n",
       "    <tr>\n",
       "      <th>3</th>\n",
       "      <td>3.217</td>\n",
       "      <td>3.228</td>\n",
       "      <td>3.176</td>\n",
       "      <td>3.216</td>\n",
       "      <td>8890469.0</td>\n",
       "      <td>2847.781</td>\n",
       "      <td>21.76</td>\n",
       "      <td>25.386667</td>\n",
       "      <td>2018-04-18</td>\n",
       "      <td>16.0</td>\n",
       "      <td>buy</td>\n",
       "      <td>3.199</td>\n",
       "    </tr>\n",
       "    <tr>\n",
       "      <th>4</th>\n",
       "      <td>3.262</td>\n",
       "      <td>3.317</td>\n",
       "      <td>3.258</td>\n",
       "      <td>3.304</td>\n",
       "      <td>11157907.0</td>\n",
       "      <td>3678.386</td>\n",
       "      <td>63.92</td>\n",
       "      <td>52.586667</td>\n",
       "      <td>2018-05-08</td>\n",
       "      <td>28.0</td>\n",
       "      <td>sell</td>\n",
       "      <td>3.300</td>\n",
       "    </tr>\n",
       "    <tr>\n",
       "      <th>5</th>\n",
       "      <td>3.262</td>\n",
       "      <td>3.317</td>\n",
       "      <td>3.258</td>\n",
       "      <td>3.304</td>\n",
       "      <td>11157907.0</td>\n",
       "      <td>3678.386</td>\n",
       "      <td>63.92</td>\n",
       "      <td>52.586667</td>\n",
       "      <td>2018-05-08</td>\n",
       "      <td>28.0</td>\n",
       "      <td>sell</td>\n",
       "      <td>3.300</td>\n",
       "    </tr>\n",
       "    <tr>\n",
       "      <th>6</th>\n",
       "      <td>3.220</td>\n",
       "      <td>3.230</td>\n",
       "      <td>3.192</td>\n",
       "      <td>3.192</td>\n",
       "      <td>11710300.0</td>\n",
       "      <td>3755.888</td>\n",
       "      <td>19.04</td>\n",
       "      <td>24.933333</td>\n",
       "      <td>2018-05-30</td>\n",
       "      <td>44.0</td>\n",
       "      <td>buy</td>\n",
       "      <td>3.221</td>\n",
       "    </tr>\n",
       "    <tr>\n",
       "      <th>7</th>\n",
       "      <td>3.280</td>\n",
       "      <td>3.305</td>\n",
       "      <td>3.280</td>\n",
       "      <td>3.283</td>\n",
       "      <td>10534165.0</td>\n",
       "      <td>3466.384</td>\n",
       "      <td>58.48</td>\n",
       "      <td>52.586667</td>\n",
       "      <td>2018-06-07</td>\n",
       "      <td>50.0</td>\n",
       "      <td>sell</td>\n",
       "      <td>3.303</td>\n",
       "    </tr>\n",
       "  </tbody>\n",
       "</table>\n",
       "</div>"
      ],
      "text/plain": [
       "    open   high    low  close      volume    amount Decision     MAJCQX  \\\n",
       "0  3.322  3.325  3.272  3.307  10590350.0  3492.433     13.6  22.213333   \n",
       "1  3.366  3.374  3.343  3.360  12422626.0  4176.494    55.76  47.600000   \n",
       "2  3.246  3.257  3.196  3.200   7471200.0  2415.292     20.4  31.280000   \n",
       "3  3.217  3.228  3.176  3.216   8890469.0  2847.781    21.76  25.386667   \n",
       "4  3.262  3.317  3.258  3.304  11157907.0  3678.386    63.92  52.586667   \n",
       "5  3.262  3.317  3.258  3.304  11157907.0  3678.386    63.92  52.586667   \n",
       "6  3.220  3.230  3.192  3.192  11710300.0  3755.888    19.04  24.933333   \n",
       "7  3.280  3.305  3.280  3.283  10534165.0  3466.384    58.48  52.586667   \n",
       "\n",
       "        date    id trade  price  \n",
       "0 2018-03-26   1.0   buy  3.287  \n",
       "1 2018-04-11  11.0  sell  3.348  \n",
       "2 2018-04-17  15.0   buy  3.246  \n",
       "3 2018-04-18  16.0   buy  3.199  \n",
       "4 2018-05-08  28.0  sell  3.300  \n",
       "5 2018-05-08  28.0  sell  3.300  \n",
       "6 2018-05-30  44.0   buy  3.221  \n",
       "7 2018-06-07  50.0  sell  3.303  "
      ]
     },
     "execution_count": 10,
     "metadata": {},
     "output_type": "execute_result"
    }
   ],
   "source": [
    "Stock_ETF_Risk_Ratio_trade = pd.merge(Stock_ETF_Risk_Ratio, Trade_ETF, how='right', on=['date'])\n",
    "Stock_ETF_Risk_Ratio_trade = Stock_ETF_Risk_Ratio_trade.dropna()\n",
    "Stock_ETF_Risk_Ratio_trade"
   ]
  },
  {
   "cell_type": "code",
   "execution_count": 11,
   "metadata": {
    "collapsed": true
   },
   "outputs": [],
   "source": [
    "trades = Stock_ETF_Risk_Ratio_trade['price'].values\n",
    "idt = Stock_ETF_Risk_Ratio_trade['id'].values"
   ]
  },
  {
   "cell_type": "code",
   "execution_count": 12,
   "metadata": {
    "collapsed": true
   },
   "outputs": [],
   "source": [
    "Stock_ETF_Risk_Ratio_trade_buy = Stock_ETF_Risk_Ratio_trade.loc[Stock_ETF_Risk_Ratio_trade['trade']=='buy',['id','price']]\n",
    "buy = Stock_ETF_Risk_Ratio_trade_buy['price'].values\n",
    "idb = Stock_ETF_Risk_Ratio_trade_buy['id'].values"
   ]
  },
  {
   "cell_type": "code",
   "execution_count": 13,
   "metadata": {
    "collapsed": true
   },
   "outputs": [],
   "source": [
    "Stock_ETF_Risk_Ratio_trade_sell = Stock_ETF_Risk_Ratio_trade.loc[Stock_ETF_Risk_Ratio_trade['trade']=='sell',['id','price']]\n",
    "sell = Stock_ETF_Risk_Ratio_trade_sell['price'].values\n",
    "ids = Stock_ETF_Risk_Ratio_trade_sell['id'].values"
   ]
  },
  {
   "cell_type": "code",
   "execution_count": 14,
   "metadata": {},
   "outputs": [
    {
     "data": {
      "text/plain": [
       "array([ 11.,  28.,  28.,  50.])"
      ]
     },
     "execution_count": 14,
     "metadata": {},
     "output_type": "execute_result"
    }
   ],
   "source": [
    "ids"
   ]
  },
  {
   "cell_type": "code",
   "execution_count": 15,
   "metadata": {},
   "outputs": [
    {
     "data": {
      "text/plain": [
       "array([ 3.348,  3.3  ,  3.3  ,  3.303])"
      ]
     },
     "execution_count": 15,
     "metadata": {},
     "output_type": "execute_result"
    }
   ],
   "source": [
    "sell"
   ]
  },
  {
   "cell_type": "code",
   "execution_count": 16,
   "metadata": {
    "collapsed": true
   },
   "outputs": [],
   "source": [
    "Stock_ETF_Risk_Ratio_ochl = Stock_ETF_Risk_Ratio[['id','open','close','high','low']]\n",
    "Stock_ETF_Risk_Ratio_date = Stock_ETF_Risk_Ratio.set_index('date')"
   ]
  },
  {
   "cell_type": "code",
   "execution_count": 17,
   "metadata": {},
   "outputs": [],
   "source": [
    "datarray = Stock_ETF_Risk_Ratio_ochl.values\n",
    "De = Stock_ETF_Risk_Ratio['Decision'].values\n",
    "JCQX = Stock_ETF_Risk_Ratio['MAJCQX'].values\n",
    "Id = Stock_ETF_Risk_Ratio['id'].values\n",
    "idx = np.arange(0, k, 1)\n",
    "date = Stock_ETF_Risk_Ratio_date.index[idx].date"
   ]
  },
  {
   "cell_type": "code",
   "execution_count": 18,
   "metadata": {
    "collapsed": true
   },
   "outputs": [],
   "source": [
    "plt.figure(2,figsize=(14,6), dpi=80)\n",
    "ax1 = plt.subplot(111)"
   ]
  },
  {
   "cell_type": "code",
   "execution_count": 19,
   "metadata": {},
   "outputs": [],
   "source": [
    "mplf.candlestick_ochl(ax1, datarray, width=0.8, colorup='red', colordown='green', alpha=0.5)\n",
    "plt.grid(linestyle=':', alpha=0.5)"
   ]
  },
  {
   "cell_type": "code",
   "execution_count": 20,
   "metadata": {},
   "outputs": [
    {
     "data": {
      "text/plain": [
       "<matplotlib.collections.PathCollection at 0xc861438>"
      ]
     },
     "execution_count": 20,
     "metadata": {},
     "output_type": "execute_result"
    }
   ],
   "source": [
    "# zorder设置叠加顺序，未设置这个参数的则在最底层\n",
    "plt.scatter(idb, buy, color ='Magenta', s=50, alpha=1, zorder=2)\n",
    "plt.scatter(ids, sell, color ='Blue', s=50, alpha=1, zorder=3)"
   ]
  },
  {
   "cell_type": "code",
   "execution_count": 23,
   "metadata": {
    "collapsed": true
   },
   "outputs": [],
   "source": [
    "for a,b in zip(ids,sell):\n",
    "    ax1.text(a, b+0.01, b, ha='center', va= 'center', bbox = dict(facecolor = \"Blue\", alpha = 0.2))"
   ]
  },
  {
   "cell_type": "code",
   "execution_count": 24,
   "metadata": {},
   "outputs": [],
   "source": [
    "for c,d in zip(idb,buy):\n",
    "    ax1.text(c, d-0.015, d, ha='center', va= 'center', bbox = dict(facecolor = \"Magenta\", alpha = 0.2))"
   ]
  },
  {
   "cell_type": "code",
   "execution_count": 21,
   "metadata": {},
   "outputs": [
    {
     "data": {
      "text/plain": [
       "(array([ 0,  1,  2,  3,  4,  5,  6,  7,  8,  9, 10, 11, 12, 13, 14, 15, 16,\n",
       "        17, 18, 19, 20, 21, 22, 23, 24, 25, 26, 27, 28, 29, 30, 31, 32, 33,\n",
       "        34, 35, 36, 37, 38, 39, 40, 41, 42, 43, 44, 45, 46, 47, 48, 49, 50]),\n",
       " <a list of 51 Text xticklabel objects>)"
      ]
     },
     "execution_count": 21,
     "metadata": {},
     "output_type": "execute_result"
    }
   ],
   "source": [
    "plt.xticks(idx, date)\n",
    "plt.xticks(rotation=45)"
   ]
  },
  {
   "cell_type": "code",
   "execution_count": 22,
   "metadata": {},
   "outputs": [
    {
     "data": {
      "text/plain": [
       "[<matplotlib.lines.Line2D at 0xd3238d0>]"
      ]
     },
     "execution_count": 22,
     "metadata": {},
     "output_type": "execute_result"
    }
   ],
   "source": [
    "ax2 = ax1.twinx()\n",
    "plt.plot(Id, De, color ='orange', linewidth=2.0, alpha=1)\n",
    "plt.plot(Id, JCQX, color ='Brown', linewidth=2.0, alpha=1)"
   ]
  },
  {
   "cell_type": "code",
   "execution_count": 25,
   "metadata": {},
   "outputs": [
    {
     "data": {
      "text/plain": [
       "(0, 100)"
      ]
     },
     "execution_count": 25,
     "metadata": {},
     "output_type": "execute_result"
    }
   ],
   "source": [
    "plt.xlim(0,k+1,1)\n",
    "plt.ylim(0,100,10)"
   ]
  },
  {
   "cell_type": "code",
   "execution_count": 26,
   "metadata": {
    "scrolled": false
   },
   "outputs": [
    {
     "data": {
      "image/png": "[encoded data removed]",
      "text/plain": [
       "<matplotlib.figure.Figure at 0xc67dbe0>"
      ]
     },
     "metadata": {},
     "output_type": "display_data"
    }
   ],
   "source": [
    "plt.show()"
   ]
  }
 ],
 "metadata": {
  "kernelspec": {
   "display_name": "Python 2",
   "language": "python",
   "name": "python2"
  },
  "language_info": {
   "codemirror_mode": {
    "name": "ipython",
    "version": 2
   },
   "file_extension": ".py",
   "mimetype": "text/x-python",
   "name": "python",
   "nbconvert_exporter": "python",
   "pygments_lexer": "ipython2",
   "version": "2.7.13"
  }
 },
 "nbformat": 4,
 "nbformat_minor": 2
}
