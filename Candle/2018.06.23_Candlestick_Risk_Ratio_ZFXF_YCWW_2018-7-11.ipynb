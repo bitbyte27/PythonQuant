{
 "cells": [
  {
   "cell_type": "code",
   "execution_count": 1,
   "metadata": {
    "collapsed": true
   },
   "outputs": [],
   "source": [
    "import pandas as pd\n",
    "import numpy as np\n",
    "import matplotlib\n",
    "import matplotlib.pyplot as plt\n",
    "import mpl_finance as mplf\n",
    "import matplotlib.dates as mdates\n",
    "from matplotlib.lines import Line2D"
   ]
  },
  {
   "cell_type": "code",
   "execution_count": 2,
   "metadata": {
    "collapsed": true
   },
   "outputs": [],
   "source": [
    "Stock_ETF = pd.read_csv('ETF/data/510300.csv')\n",
    "Stock_ETF = Stock_ETF.set_index('date')\n",
    "Stock_ETF.index = pd.to_datetime(Stock_ETF.index)\n",
    "Stock_ETF = Stock_ETF.sort_index(axis=0, ascending=True)"
   ]
  },
  {
   "cell_type": "code",
   "execution_count": 3,
   "metadata": {
    "collapsed": true
   },
   "outputs": [],
   "source": [
    "import Risk_Ratio_Functions"
   ]
  },
  {
   "cell_type": "code",
   "execution_count": 4,
   "metadata": {},
   "outputs": [
    {
     "data": {
      "text/html": [
       "<div>\n",
       "<style>\n",
       "    .dataframe thead tr:only-child th {\n",
       "        text-align: right;\n",
       "    }\n",
       "\n",
       "    .dataframe thead th {\n",
       "        text-align: left;\n",
       "    }\n",
       "\n",
       "    .dataframe tbody tr th {\n",
       "        vertical-align: top;\n",
       "    }\n",
       "</style>\n",
       "<table border=\"1\" class=\"dataframe\">\n",
       "  <thead>\n",
       "    <tr style=\"text-align: right;\">\n",
       "      <th></th>\n",
       "      <th>Decision</th>\n",
       "      <th>MAJCQX</th>\n",
       "    </tr>\n",
       "    <tr>\n",
       "      <th>date</th>\n",
       "      <th></th>\n",
       "      <th></th>\n",
       "    </tr>\n",
       "  </thead>\n",
       "  <tbody>\n",
       "    <tr>\n",
       "      <th>2018-06-04</th>\n",
       "      <td>36.72</td>\n",
       "      <td>31.280000</td>\n",
       "    </tr>\n",
       "    <tr>\n",
       "      <th>2018-06-05</th>\n",
       "      <td>46.24</td>\n",
       "      <td>36.266667</td>\n",
       "    </tr>\n",
       "    <tr>\n",
       "      <th>2018-06-06</th>\n",
       "      <td>51.68</td>\n",
       "      <td>44.880000</td>\n",
       "    </tr>\n",
       "    <tr>\n",
       "      <th>2018-06-07</th>\n",
       "      <td>53.04</td>\n",
       "      <td>50.320000</td>\n",
       "    </tr>\n",
       "    <tr>\n",
       "      <th>2018-06-08</th>\n",
       "      <td>29.92</td>\n",
       "      <td>44.880000</td>\n",
       "    </tr>\n",
       "  </tbody>\n",
       "</table>\n",
       "</div>"
      ],
      "text/plain": [
       "           Decision     MAJCQX\n",
       "date                          \n",
       "2018-06-04    36.72  31.280000\n",
       "2018-06-05    46.24  36.266667\n",
       "2018-06-06    51.68  44.880000\n",
       "2018-06-07    53.04  50.320000\n",
       "2018-06-08    29.92  44.880000"
      ]
     },
     "execution_count": 4,
     "metadata": {},
     "output_type": "execute_result"
    }
   ],
   "source": [
    "Risk_Ratio = Risk_Ratio_Functions.Risk_Ratio(Stock_ETF)\n",
    "Risk_Ratio = Risk_Ratio[['Decision','MAJCQX']]\n",
    "Risk_Ratio.tail()"
   ]
  },
  {
   "cell_type": "code",
   "execution_count": 5,
   "metadata": {
    "scrolled": true
   },
   "outputs": [
    {
     "data": {
      "text/html": [
       "<div>\n",
       "<style>\n",
       "    .dataframe thead tr:only-child th {\n",
       "        text-align: right;\n",
       "    }\n",
       "\n",
       "    .dataframe thead th {\n",
       "        text-align: left;\n",
       "    }\n",
       "\n",
       "    .dataframe tbody tr th {\n",
       "        vertical-align: top;\n",
       "    }\n",
       "</style>\n",
       "<table border=\"1\" class=\"dataframe\">\n",
       "  <thead>\n",
       "    <tr style=\"text-align: right;\">\n",
       "      <th></th>\n",
       "      <th>LLV_min</th>\n",
       "      <th>HHV_max</th>\n",
       "      <th>ABS</th>\n",
       "      <th>MAX</th>\n",
       "      <th>DA</th>\n",
       "      <th>Tomorrow</th>\n",
       "      <th>YCWW</th>\n",
       "    </tr>\n",
       "    <tr>\n",
       "      <th>date</th>\n",
       "      <th></th>\n",
       "      <th></th>\n",
       "      <th></th>\n",
       "      <th></th>\n",
       "      <th></th>\n",
       "      <th></th>\n",
       "      <th></th>\n",
       "    </tr>\n",
       "  </thead>\n",
       "  <tbody>\n",
       "    <tr>\n",
       "      <th>2018-06-04</th>\n",
       "      <td>3.727</td>\n",
       "      <td>3.835</td>\n",
       "      <td>0.028978</td>\n",
       "      <td>0.033271</td>\n",
       "      <td>6</td>\n",
       "      <td>3.792500</td>\n",
       "      <td>3.792000</td>\n",
       "    </tr>\n",
       "    <tr>\n",
       "      <th>2018-06-05</th>\n",
       "      <td>3.727</td>\n",
       "      <td>3.846</td>\n",
       "      <td>0.031929</td>\n",
       "      <td>0.033271</td>\n",
       "      <td>6</td>\n",
       "      <td>3.794333</td>\n",
       "      <td>3.792500</td>\n",
       "    </tr>\n",
       "    <tr>\n",
       "      <th>2018-06-06</th>\n",
       "      <td>3.727</td>\n",
       "      <td>3.846</td>\n",
       "      <td>0.031929</td>\n",
       "      <td>0.033271</td>\n",
       "      <td>6</td>\n",
       "      <td>3.801000</td>\n",
       "      <td>3.794333</td>\n",
       "    </tr>\n",
       "    <tr>\n",
       "      <th>2018-06-07</th>\n",
       "      <td>3.777</td>\n",
       "      <td>3.846</td>\n",
       "      <td>0.018268</td>\n",
       "      <td>0.031929</td>\n",
       "      <td>6</td>\n",
       "      <td>3.819500</td>\n",
       "      <td>3.801000</td>\n",
       "    </tr>\n",
       "    <tr>\n",
       "      <th>2018-06-08</th>\n",
       "      <td>3.777</td>\n",
       "      <td>3.846</td>\n",
       "      <td>0.018268</td>\n",
       "      <td>0.031929</td>\n",
       "      <td>6</td>\n",
       "      <td>3.816833</td>\n",
       "      <td>3.819500</td>\n",
       "    </tr>\n",
       "  </tbody>\n",
       "</table>\n",
       "</div>"
      ],
      "text/plain": [
       "            LLV_min  HHV_max       ABS       MAX  DA  Tomorrow      YCWW\n",
       "date                                                                    \n",
       "2018-06-04    3.727    3.835  0.028978  0.033271   6  3.792500  3.792000\n",
       "2018-06-05    3.727    3.846  0.031929  0.033271   6  3.794333  3.792500\n",
       "2018-06-06    3.727    3.846  0.031929  0.033271   6  3.801000  3.794333\n",
       "2018-06-07    3.777    3.846  0.018268  0.031929   6  3.819500  3.801000\n",
       "2018-06-08    3.777    3.846  0.018268  0.031929   6  3.816833  3.819500"
      ]
     },
     "execution_count": 5,
     "metadata": {},
     "output_type": "execute_result"
    }
   ],
   "source": [
    "DA = 6\n",
    "ZFXF_YCWW = pd.DataFrame()\n",
    "ZFXF_YCWW['LLV_min'] = Stock_ETF['close'].rolling(window=DA).min()\n",
    "ZFXF_YCWW['HHV_max'] = Stock_ETF['close'].rolling(window=DA).max()\n",
    "ZFXF_YCWW['ABS'] = np.abs(ZFXF_YCWW['HHV_max']/ZFXF_YCWW['LLV_min']-1)\n",
    "ZFXF_YCWW['MAX'] = ZFXF_YCWW['ABS'].rolling(window=DA).max()\n",
    "ZFXF_YCWW['DA'] = DA\n",
    "ZFXF_YCWW.loc[ZFXF_YCWW['MAX']>0.1,'DA'] = 3\n",
    "ZFXF_YCWW['Tomorrow'] = Stock_ETF['close'].rolling(window=DA).mean()\n",
    "ZFXF_YCWW.loc[ZFXF_YCWW['DA'] == 3,'Tomorrow'] = Stock_ETF['close'].rolling(window=3).mean()\n",
    "ZFXF_YCWW['YCWW'] = ZFXF_YCWW['Tomorrow'].shift(1)\n",
    "ZFXF_YCWW.tail()"
   ]
  },
  {
   "cell_type": "code",
   "execution_count": 6,
   "metadata": {
    "collapsed": true
   },
   "outputs": [],
   "source": [
    "ZFXF_YCWW['Buy_point'] = 0\n",
    "ZFXF_YCWW.loc[Stock_ETF['close'] > ZFXF_YCWW['YCWW'],'Buy_point'] = 1\n",
    "ZFXF_YCWW['Sell_point'] = 0\n",
    "ZFXF_YCWW.loc[Stock_ETF['close'] < ZFXF_YCWW['YCWW'],'Sell_point'] = -1\n",
    "ZFXF_YCWW['Points'] = ZFXF_YCWW['Buy_point']+ZFXF_YCWW['Sell_point']"
   ]
  },
  {
   "cell_type": "code",
   "execution_count": 7,
   "metadata": {
    "collapsed": true
   },
   "outputs": [],
   "source": [
    "g = len(ZFXF_YCWW)\n",
    "ZFXF_YCWW['order'] = np.arange(0,g,1)\n",
    "ZFXF_YCWW.loc[g-1:g,'Points'] = -1"
   ]
  },
  {
   "cell_type": "code",
   "execution_count": 8,
   "metadata": {},
   "outputs": [
    {
     "data": {
      "text/html": [
       "<div>\n",
       "<style>\n",
       "    .dataframe thead tr:only-child th {\n",
       "        text-align: right;\n",
       "    }\n",
       "\n",
       "    .dataframe thead th {\n",
       "        text-align: left;\n",
       "    }\n",
       "\n",
       "    .dataframe tbody tr th {\n",
       "        vertical-align: top;\n",
       "    }\n",
       "</style>\n",
       "<table border=\"1\" class=\"dataframe\">\n",
       "  <thead>\n",
       "    <tr style=\"text-align: right;\">\n",
       "      <th></th>\n",
       "      <th>LLV_min</th>\n",
       "      <th>HHV_max</th>\n",
       "      <th>ABS</th>\n",
       "      <th>MAX</th>\n",
       "      <th>DA</th>\n",
       "      <th>Tomorrow</th>\n",
       "      <th>YCWW</th>\n",
       "      <th>Buy_point</th>\n",
       "      <th>Sell_point</th>\n",
       "      <th>Points</th>\n",
       "      <th>order</th>\n",
       "      <th>BS_point</th>\n",
       "    </tr>\n",
       "    <tr>\n",
       "      <th>date</th>\n",
       "      <th></th>\n",
       "      <th></th>\n",
       "      <th></th>\n",
       "      <th></th>\n",
       "      <th></th>\n",
       "      <th></th>\n",
       "      <th></th>\n",
       "      <th></th>\n",
       "      <th></th>\n",
       "      <th></th>\n",
       "      <th></th>\n",
       "      <th></th>\n",
       "    </tr>\n",
       "  </thead>\n",
       "  <tbody>\n",
       "    <tr>\n",
       "      <th>2018-06-04</th>\n",
       "      <td>3.727</td>\n",
       "      <td>3.835</td>\n",
       "      <td>0.028978</td>\n",
       "      <td>0.033271</td>\n",
       "      <td>6</td>\n",
       "      <td>3.792500</td>\n",
       "      <td>3.792000</td>\n",
       "      <td>1</td>\n",
       "      <td>0</td>\n",
       "      <td>1</td>\n",
       "      <td>1465</td>\n",
       "      <td>2.0</td>\n",
       "    </tr>\n",
       "    <tr>\n",
       "      <th>2018-06-05</th>\n",
       "      <td>3.727</td>\n",
       "      <td>3.846</td>\n",
       "      <td>0.031929</td>\n",
       "      <td>0.033271</td>\n",
       "      <td>6</td>\n",
       "      <td>3.794333</td>\n",
       "      <td>3.792500</td>\n",
       "      <td>1</td>\n",
       "      <td>0</td>\n",
       "      <td>1</td>\n",
       "      <td>1466</td>\n",
       "      <td>1.0</td>\n",
       "    </tr>\n",
       "    <tr>\n",
       "      <th>2018-06-06</th>\n",
       "      <td>3.727</td>\n",
       "      <td>3.846</td>\n",
       "      <td>0.031929</td>\n",
       "      <td>0.033271</td>\n",
       "      <td>6</td>\n",
       "      <td>3.801000</td>\n",
       "      <td>3.794333</td>\n",
       "      <td>1</td>\n",
       "      <td>0</td>\n",
       "      <td>1</td>\n",
       "      <td>1467</td>\n",
       "      <td>1.0</td>\n",
       "    </tr>\n",
       "    <tr>\n",
       "      <th>2018-06-07</th>\n",
       "      <td>3.777</td>\n",
       "      <td>3.846</td>\n",
       "      <td>0.018268</td>\n",
       "      <td>0.031929</td>\n",
       "      <td>6</td>\n",
       "      <td>3.819500</td>\n",
       "      <td>3.801000</td>\n",
       "      <td>1</td>\n",
       "      <td>0</td>\n",
       "      <td>1</td>\n",
       "      <td>1468</td>\n",
       "      <td>1.0</td>\n",
       "    </tr>\n",
       "    <tr>\n",
       "      <th>2018-06-08</th>\n",
       "      <td>3.777</td>\n",
       "      <td>3.846</td>\n",
       "      <td>0.018268</td>\n",
       "      <td>0.031929</td>\n",
       "      <td>6</td>\n",
       "      <td>3.816833</td>\n",
       "      <td>3.819500</td>\n",
       "      <td>0</td>\n",
       "      <td>-1</td>\n",
       "      <td>-1</td>\n",
       "      <td>1469</td>\n",
       "      <td>-2.0</td>\n",
       "    </tr>\n",
       "  </tbody>\n",
       "</table>\n",
       "</div>"
      ],
      "text/plain": [
       "            LLV_min  HHV_max       ABS       MAX  DA  Tomorrow      YCWW  \\\n",
       "date                                                                       \n",
       "2018-06-04    3.727    3.835  0.028978  0.033271   6  3.792500  3.792000   \n",
       "2018-06-05    3.727    3.846  0.031929  0.033271   6  3.794333  3.792500   \n",
       "2018-06-06    3.727    3.846  0.031929  0.033271   6  3.801000  3.794333   \n",
       "2018-06-07    3.777    3.846  0.018268  0.031929   6  3.819500  3.801000   \n",
       "2018-06-08    3.777    3.846  0.018268  0.031929   6  3.816833  3.819500   \n",
       "\n",
       "            Buy_point  Sell_point  Points  order  BS_point  \n",
       "date                                                        \n",
       "2018-06-04          1           0       1   1465       2.0  \n",
       "2018-06-05          1           0       1   1466       1.0  \n",
       "2018-06-06          1           0       1   1467       1.0  \n",
       "2018-06-07          1           0       1   1468       1.0  \n",
       "2018-06-08          0          -1      -1   1469      -2.0  "
      ]
     },
     "execution_count": 8,
     "metadata": {},
     "output_type": "execute_result"
    }
   ],
   "source": [
    "ZFXF_YCWW['BS_point'] = ZFXF_YCWW['Points'].shift(1)\n",
    "ZFXF_YCWW['BS_point'] = ZFXF_YCWW['BS_point'].fillna(-1)\n",
    "ZFXF_YCWW['BS_point'] = (ZFXF_YCWW['Points'] - ZFXF_YCWW['BS_point'])/2+ZFXF_YCWW['Points']\n",
    "ZFXF_YCWW.tail()"
   ]
  },
  {
   "cell_type": "code",
   "execution_count": 9,
   "metadata": {},
   "outputs": [
    {
     "data": {
      "text/html": [
       "<div>\n",
       "<style>\n",
       "    .dataframe thead tr:only-child th {\n",
       "        text-align: right;\n",
       "    }\n",
       "\n",
       "    .dataframe thead th {\n",
       "        text-align: left;\n",
       "    }\n",
       "\n",
       "    .dataframe tbody tr th {\n",
       "        vertical-align: top;\n",
       "    }\n",
       "</style>\n",
       "<table border=\"1\" class=\"dataframe\">\n",
       "  <thead>\n",
       "    <tr style=\"text-align: right;\">\n",
       "      <th></th>\n",
       "      <th>open</th>\n",
       "      <th>high</th>\n",
       "      <th>low</th>\n",
       "      <th>close</th>\n",
       "      <th>volume</th>\n",
       "      <th>amount</th>\n",
       "      <th>Decision</th>\n",
       "      <th>MAJCQX</th>\n",
       "      <th>YCWW</th>\n",
       "      <th>Tomorrow</th>\n",
       "      <th>BS_point</th>\n",
       "    </tr>\n",
       "    <tr>\n",
       "      <th>date</th>\n",
       "      <th></th>\n",
       "      <th></th>\n",
       "      <th></th>\n",
       "      <th></th>\n",
       "      <th></th>\n",
       "      <th></th>\n",
       "      <th></th>\n",
       "      <th></th>\n",
       "      <th></th>\n",
       "      <th></th>\n",
       "      <th></th>\n",
       "    </tr>\n",
       "  </thead>\n",
       "  <tbody>\n",
       "    <tr>\n",
       "      <th>2018-06-04</th>\n",
       "      <td>3.797</td>\n",
       "      <td>3.818</td>\n",
       "      <td>3.784</td>\n",
       "      <td>3.814</td>\n",
       "      <td>126079680</td>\n",
       "      <td>47968.090</td>\n",
       "      <td>36.72</td>\n",
       "      <td>31.280000</td>\n",
       "      <td>3.792000</td>\n",
       "      <td>3.792500</td>\n",
       "      <td>2.0</td>\n",
       "    </tr>\n",
       "    <tr>\n",
       "      <th>2018-06-05</th>\n",
       "      <td>3.810</td>\n",
       "      <td>3.850</td>\n",
       "      <td>3.803</td>\n",
       "      <td>3.846</td>\n",
       "      <td>104886000</td>\n",
       "      <td>40123.789</td>\n",
       "      <td>46.24</td>\n",
       "      <td>36.266667</td>\n",
       "      <td>3.792500</td>\n",
       "      <td>3.794333</td>\n",
       "      <td>1.0</td>\n",
       "    </tr>\n",
       "    <tr>\n",
       "      <th>2018-06-06</th>\n",
       "      <td>3.841</td>\n",
       "      <td>3.849</td>\n",
       "      <td>3.831</td>\n",
       "      <td>3.839</td>\n",
       "      <td>83502816</td>\n",
       "      <td>32063.799</td>\n",
       "      <td>51.68</td>\n",
       "      <td>44.880000</td>\n",
       "      <td>3.794333</td>\n",
       "      <td>3.801000</td>\n",
       "      <td>1.0</td>\n",
       "    </tr>\n",
       "    <tr>\n",
       "      <th>2018-06-07</th>\n",
       "      <td>3.853</td>\n",
       "      <td>3.869</td>\n",
       "      <td>3.831</td>\n",
       "      <td>3.838</td>\n",
       "      <td>109814320</td>\n",
       "      <td>42290.070</td>\n",
       "      <td>53.04</td>\n",
       "      <td>50.320000</td>\n",
       "      <td>3.801000</td>\n",
       "      <td>3.819500</td>\n",
       "      <td>1.0</td>\n",
       "    </tr>\n",
       "    <tr>\n",
       "      <th>2018-06-08</th>\n",
       "      <td>3.830</td>\n",
       "      <td>3.830</td>\n",
       "      <td>3.768</td>\n",
       "      <td>3.787</td>\n",
       "      <td>135333280</td>\n",
       "      <td>51353.004</td>\n",
       "      <td>29.92</td>\n",
       "      <td>44.880000</td>\n",
       "      <td>3.819500</td>\n",
       "      <td>3.816833</td>\n",
       "      <td>-2.0</td>\n",
       "    </tr>\n",
       "  </tbody>\n",
       "</table>\n",
       "</div>"
      ],
      "text/plain": [
       "             open   high    low  close     volume     amount Decision  \\\n",
       "date                                                                    \n",
       "2018-06-04  3.797  3.818  3.784  3.814  126079680  47968.090    36.72   \n",
       "2018-06-05  3.810  3.850  3.803  3.846  104886000  40123.789    46.24   \n",
       "2018-06-06  3.841  3.849  3.831  3.839   83502816  32063.799    51.68   \n",
       "2018-06-07  3.853  3.869  3.831  3.838  109814320  42290.070    53.04   \n",
       "2018-06-08  3.830  3.830  3.768  3.787  135333280  51353.004    29.92   \n",
       "\n",
       "               MAJCQX      YCWW  Tomorrow  BS_point  \n",
       "date                                                 \n",
       "2018-06-04  31.280000  3.792000  3.792500       2.0  \n",
       "2018-06-05  36.266667  3.792500  3.794333       1.0  \n",
       "2018-06-06  44.880000  3.794333  3.801000       1.0  \n",
       "2018-06-07  50.320000  3.801000  3.819500       1.0  \n",
       "2018-06-08  44.880000  3.819500  3.816833      -2.0  "
      ]
     },
     "execution_count": 9,
     "metadata": {},
     "output_type": "execute_result"
    }
   ],
   "source": [
    "Stock_ETF_Risk_Ratio_ZFXF_YCWW = pd.concat([Stock_ETF,Risk_Ratio,ZFXF_YCWW[['YCWW','Tomorrow','BS_point']]], axis=1)\n",
    "Stock_ETF_Risk_Ratio_ZFXF_YCWW.tail()"
   ]
  },
  {
   "cell_type": "code",
   "execution_count": 10,
   "metadata": {
    "collapsed": true
   },
   "outputs": [],
   "source": [
    "stadate = '2018-04-11'\n",
    "enddate = '2018-06-07'\n",
    "Stock_ETF_Risk_Ratio_ZFXF_YCWW = Stock_ETF_Risk_Ratio_ZFXF_YCWW[Stock_ETF_Risk_Ratio_ZFXF_YCWW.index >= pd.to_datetime(stadate)]\n",
    "Stock_ETF_Risk_Ratio_ZFXF_YCWW = Stock_ETF_Risk_Ratio_ZFXF_YCWW[Stock_ETF_Risk_Ratio_ZFXF_YCWW.index <= pd.to_datetime(enddate)]\n",
    "k = len(Stock_ETF_Risk_Ratio_ZFXF_YCWW)"
   ]
  },
  {
   "cell_type": "code",
   "execution_count": 11,
   "metadata": {},
   "outputs": [
    {
     "data": {
      "text/plain": [
       "40"
      ]
     },
     "execution_count": 11,
     "metadata": {},
     "output_type": "execute_result"
    }
   ],
   "source": [
    "k"
   ]
  },
  {
   "cell_type": "code",
   "execution_count": 12,
   "metadata": {
    "collapsed": true
   },
   "outputs": [],
   "source": [
    "Stock_ETF_Risk_Ratio_ZFXF_YCWW['date'] = Stock_ETF_Risk_Ratio_ZFXF_YCWW.index\n",
    "Stock_ETF_Risk_Ratio_ZFXF_YCWW = Stock_ETF_Risk_Ratio_ZFXF_YCWW.reset_index(drop=True)\n",
    "Stock_ETF_Risk_Ratio_ZFXF_YCWW['id'] = Stock_ETF_Risk_Ratio_ZFXF_YCWW.index+1\n",
    "Stock_ETF_Risk_Ratio_ZFXF_YCWW['preds'] = (Stock_ETF_Risk_Ratio_ZFXF_YCWW['Tomorrow']-Stock_ETF_Risk_Ratio_ZFXF_YCWW['close'])/Stock_ETF_Risk_Ratio_ZFXF_YCWW['close']*100"
   ]
  },
  {
   "cell_type": "code",
   "execution_count": 13,
   "metadata": {},
   "outputs": [
    {
     "data": {
      "text/html": [
       "<div>\n",
       "<style>\n",
       "    .dataframe thead tr:only-child th {\n",
       "        text-align: right;\n",
       "    }\n",
       "\n",
       "    .dataframe thead th {\n",
       "        text-align: left;\n",
       "    }\n",
       "\n",
       "    .dataframe tbody tr th {\n",
       "        vertical-align: top;\n",
       "    }\n",
       "</style>\n",
       "<table border=\"1\" class=\"dataframe\">\n",
       "  <thead>\n",
       "    <tr style=\"text-align: right;\">\n",
       "      <th></th>\n",
       "      <th>open</th>\n",
       "      <th>high</th>\n",
       "      <th>low</th>\n",
       "      <th>close</th>\n",
       "      <th>volume</th>\n",
       "      <th>amount</th>\n",
       "      <th>Decision</th>\n",
       "      <th>MAJCQX</th>\n",
       "      <th>YCWW</th>\n",
       "      <th>Tomorrow</th>\n",
       "      <th>BS_point</th>\n",
       "      <th>date</th>\n",
       "      <th>id</th>\n",
       "      <th>preds</th>\n",
       "    </tr>\n",
       "  </thead>\n",
       "  <tbody>\n",
       "    <tr>\n",
       "      <th>0</th>\n",
       "      <td>3.938</td>\n",
       "      <td>3.957</td>\n",
       "      <td>3.926</td>\n",
       "      <td>3.933</td>\n",
       "      <td>136495504</td>\n",
       "      <td>53793.754</td>\n",
       "      <td>50.32</td>\n",
       "      <td>40.346667</td>\n",
       "      <td>3.877667</td>\n",
       "      <td>3.883833</td>\n",
       "      <td>1.0</td>\n",
       "      <td>2018-04-11</td>\n",
       "      <td>1</td>\n",
       "      <td>-1.250106</td>\n",
       "    </tr>\n",
       "    <tr>\n",
       "      <th>1</th>\n",
       "      <td>3.932</td>\n",
       "      <td>3.938</td>\n",
       "      <td>3.891</td>\n",
       "      <td>3.892</td>\n",
       "      <td>96730312</td>\n",
       "      <td>37860.625</td>\n",
       "      <td>47.6</td>\n",
       "      <td>48.506667</td>\n",
       "      <td>3.883833</td>\n",
       "      <td>3.885333</td>\n",
       "      <td>1.0</td>\n",
       "      <td>2018-04-12</td>\n",
       "      <td>2</td>\n",
       "      <td>-0.171292</td>\n",
       "    </tr>\n",
       "    <tr>\n",
       "      <th>2</th>\n",
       "      <td>3.915</td>\n",
       "      <td>3.927</td>\n",
       "      <td>3.858</td>\n",
       "      <td>3.865</td>\n",
       "      <td>121246776</td>\n",
       "      <td>47049.320</td>\n",
       "      <td>38.08</td>\n",
       "      <td>45.333333</td>\n",
       "      <td>3.885333</td>\n",
       "      <td>3.886500</td>\n",
       "      <td>-2.0</td>\n",
       "      <td>2018-04-13</td>\n",
       "      <td>3</td>\n",
       "      <td>0.556274</td>\n",
       "    </tr>\n",
       "    <tr>\n",
       "      <th>3</th>\n",
       "      <td>3.858</td>\n",
       "      <td>3.870</td>\n",
       "      <td>3.791</td>\n",
       "      <td>3.804</td>\n",
       "      <td>114159640</td>\n",
       "      <td>43629.645</td>\n",
       "      <td>28.56</td>\n",
       "      <td>38.080000</td>\n",
       "      <td>3.886500</td>\n",
       "      <td>3.879167</td>\n",
       "      <td>-1.0</td>\n",
       "      <td>2018-04-16</td>\n",
       "      <td>4</td>\n",
       "      <td>1.975990</td>\n",
       "    </tr>\n",
       "    <tr>\n",
       "      <th>4</th>\n",
       "      <td>3.815</td>\n",
       "      <td>3.820</td>\n",
       "      <td>3.745</td>\n",
       "      <td>3.748</td>\n",
       "      <td>138299808</td>\n",
       "      <td>52363.035</td>\n",
       "      <td>20.4</td>\n",
       "      <td>29.013333</td>\n",
       "      <td>3.879167</td>\n",
       "      <td>3.861667</td>\n",
       "      <td>-1.0</td>\n",
       "      <td>2018-04-17</td>\n",
       "      <td>5</td>\n",
       "      <td>3.032729</td>\n",
       "    </tr>\n",
       "  </tbody>\n",
       "</table>\n",
       "</div>"
      ],
      "text/plain": [
       "    open   high    low  close     volume     amount Decision     MAJCQX  \\\n",
       "0  3.938  3.957  3.926  3.933  136495504  53793.754    50.32  40.346667   \n",
       "1  3.932  3.938  3.891  3.892   96730312  37860.625     47.6  48.506667   \n",
       "2  3.915  3.927  3.858  3.865  121246776  47049.320    38.08  45.333333   \n",
       "3  3.858  3.870  3.791  3.804  114159640  43629.645    28.56  38.080000   \n",
       "4  3.815  3.820  3.745  3.748  138299808  52363.035     20.4  29.013333   \n",
       "\n",
       "       YCWW  Tomorrow  BS_point       date  id     preds  \n",
       "0  3.877667  3.883833       1.0 2018-04-11   1 -1.250106  \n",
       "1  3.883833  3.885333       1.0 2018-04-12   2 -0.171292  \n",
       "2  3.885333  3.886500      -2.0 2018-04-13   3  0.556274  \n",
       "3  3.886500  3.879167      -1.0 2018-04-16   4  1.975990  \n",
       "4  3.879167  3.861667      -1.0 2018-04-17   5  3.032729  "
      ]
     },
     "execution_count": 13,
     "metadata": {},
     "output_type": "execute_result"
    }
   ],
   "source": [
    "Stock_ETF_Risk_Ratio_ZFXF_YCWW.head()"
   ]
  },
  {
   "cell_type": "code",
   "execution_count": 14,
   "metadata": {},
   "outputs": [
    {
     "data": {
      "text/html": [
       "<div>\n",
       "<style>\n",
       "    .dataframe thead tr:only-child th {\n",
       "        text-align: right;\n",
       "    }\n",
       "\n",
       "    .dataframe thead th {\n",
       "        text-align: left;\n",
       "    }\n",
       "\n",
       "    .dataframe tbody tr th {\n",
       "        vertical-align: top;\n",
       "    }\n",
       "</style>\n",
       "<table border=\"1\" class=\"dataframe\">\n",
       "  <thead>\n",
       "    <tr style=\"text-align: right;\">\n",
       "      <th></th>\n",
       "      <th>open</th>\n",
       "      <th>high</th>\n",
       "      <th>low</th>\n",
       "      <th>close</th>\n",
       "      <th>volume</th>\n",
       "      <th>amount</th>\n",
       "      <th>Decision</th>\n",
       "      <th>MAJCQX</th>\n",
       "      <th>YCWW</th>\n",
       "      <th>Tomorrow</th>\n",
       "      <th>BS_point</th>\n",
       "      <th>date</th>\n",
       "      <th>id</th>\n",
       "      <th>preds</th>\n",
       "    </tr>\n",
       "  </thead>\n",
       "  <tbody>\n",
       "    <tr>\n",
       "      <th>35</th>\n",
       "      <td>3.786</td>\n",
       "      <td>3.799</td>\n",
       "      <td>3.760</td>\n",
       "      <td>3.777</td>\n",
       "      <td>121025472</td>\n",
       "      <td>45736.316</td>\n",
       "      <td>25.84</td>\n",
       "      <td>25.386667</td>\n",
       "      <td>3.799167</td>\n",
       "      <td>3.792000</td>\n",
       "      <td>-1.0</td>\n",
       "      <td>2018-06-01</td>\n",
       "      <td>36</td>\n",
       "      <td>0.397141</td>\n",
       "    </tr>\n",
       "    <tr>\n",
       "      <th>36</th>\n",
       "      <td>3.797</td>\n",
       "      <td>3.818</td>\n",
       "      <td>3.784</td>\n",
       "      <td>3.814</td>\n",
       "      <td>126079680</td>\n",
       "      <td>47968.090</td>\n",
       "      <td>36.72</td>\n",
       "      <td>31.280000</td>\n",
       "      <td>3.792000</td>\n",
       "      <td>3.792500</td>\n",
       "      <td>2.0</td>\n",
       "      <td>2018-06-04</td>\n",
       "      <td>37</td>\n",
       "      <td>-0.563713</td>\n",
       "    </tr>\n",
       "    <tr>\n",
       "      <th>37</th>\n",
       "      <td>3.810</td>\n",
       "      <td>3.850</td>\n",
       "      <td>3.803</td>\n",
       "      <td>3.846</td>\n",
       "      <td>104886000</td>\n",
       "      <td>40123.789</td>\n",
       "      <td>46.24</td>\n",
       "      <td>36.266667</td>\n",
       "      <td>3.792500</td>\n",
       "      <td>3.794333</td>\n",
       "      <td>1.0</td>\n",
       "      <td>2018-06-05</td>\n",
       "      <td>38</td>\n",
       "      <td>-1.343387</td>\n",
       "    </tr>\n",
       "    <tr>\n",
       "      <th>38</th>\n",
       "      <td>3.841</td>\n",
       "      <td>3.849</td>\n",
       "      <td>3.831</td>\n",
       "      <td>3.839</td>\n",
       "      <td>83502816</td>\n",
       "      <td>32063.799</td>\n",
       "      <td>51.68</td>\n",
       "      <td>44.880000</td>\n",
       "      <td>3.794333</td>\n",
       "      <td>3.801000</td>\n",
       "      <td>1.0</td>\n",
       "      <td>2018-06-06</td>\n",
       "      <td>39</td>\n",
       "      <td>-0.989841</td>\n",
       "    </tr>\n",
       "    <tr>\n",
       "      <th>39</th>\n",
       "      <td>3.853</td>\n",
       "      <td>3.869</td>\n",
       "      <td>3.831</td>\n",
       "      <td>3.838</td>\n",
       "      <td>109814320</td>\n",
       "      <td>42290.070</td>\n",
       "      <td>53.04</td>\n",
       "      <td>50.320000</td>\n",
       "      <td>3.801000</td>\n",
       "      <td>3.819500</td>\n",
       "      <td>1.0</td>\n",
       "      <td>2018-06-07</td>\n",
       "      <td>40</td>\n",
       "      <td>-0.482022</td>\n",
       "    </tr>\n",
       "  </tbody>\n",
       "</table>\n",
       "</div>"
      ],
      "text/plain": [
       "     open   high    low  close     volume     amount Decision     MAJCQX  \\\n",
       "35  3.786  3.799  3.760  3.777  121025472  45736.316    25.84  25.386667   \n",
       "36  3.797  3.818  3.784  3.814  126079680  47968.090    36.72  31.280000   \n",
       "37  3.810  3.850  3.803  3.846  104886000  40123.789    46.24  36.266667   \n",
       "38  3.841  3.849  3.831  3.839   83502816  32063.799    51.68  44.880000   \n",
       "39  3.853  3.869  3.831  3.838  109814320  42290.070    53.04  50.320000   \n",
       "\n",
       "        YCWW  Tomorrow  BS_point       date  id     preds  \n",
       "35  3.799167  3.792000      -1.0 2018-06-01  36  0.397141  \n",
       "36  3.792000  3.792500       2.0 2018-06-04  37 -0.563713  \n",
       "37  3.792500  3.794333       1.0 2018-06-05  38 -1.343387  \n",
       "38  3.794333  3.801000       1.0 2018-06-06  39 -0.989841  \n",
       "39  3.801000  3.819500       1.0 2018-06-07  40 -0.482022  "
      ]
     },
     "execution_count": 14,
     "metadata": {},
     "output_type": "execute_result"
    }
   ],
   "source": [
    "Stock_ETF_Risk_Ratio_ZFXF_YCWW.tail()"
   ]
  },
  {
   "cell_type": "code",
   "execution_count": 15,
   "metadata": {
    "collapsed": true
   },
   "outputs": [],
   "source": [
    "Stock_ETF_Risk_Ratio_ZFXF_YCWW_ochl = Stock_ETF_Risk_Ratio_ZFXF_YCWW[['id','open','close','high','low']]\n",
    "Stock_ETF_Risk_Ratio_ZFXF_YCWW_date = Stock_ETF_Risk_Ratio_ZFXF_YCWW.set_index('date')"
   ]
  },
  {
   "cell_type": "code",
   "execution_count": 16,
   "metadata": {},
   "outputs": [
    {
     "data": {
      "text/html": [
       "<div>\n",
       "<style>\n",
       "    .dataframe thead tr:only-child th {\n",
       "        text-align: right;\n",
       "    }\n",
       "\n",
       "    .dataframe thead th {\n",
       "        text-align: left;\n",
       "    }\n",
       "\n",
       "    .dataframe tbody tr th {\n",
       "        vertical-align: top;\n",
       "    }\n",
       "</style>\n",
       "<table border=\"1\" class=\"dataframe\">\n",
       "  <thead>\n",
       "    <tr style=\"text-align: right;\">\n",
       "      <th></th>\n",
       "      <th>open</th>\n",
       "      <th>high</th>\n",
       "      <th>low</th>\n",
       "      <th>close</th>\n",
       "      <th>volume</th>\n",
       "      <th>amount</th>\n",
       "      <th>Decision</th>\n",
       "      <th>MAJCQX</th>\n",
       "      <th>YCWW</th>\n",
       "      <th>Tomorrow</th>\n",
       "      <th>BS_point</th>\n",
       "      <th>id</th>\n",
       "      <th>preds</th>\n",
       "    </tr>\n",
       "    <tr>\n",
       "      <th>date</th>\n",
       "      <th></th>\n",
       "      <th></th>\n",
       "      <th></th>\n",
       "      <th></th>\n",
       "      <th></th>\n",
       "      <th></th>\n",
       "      <th></th>\n",
       "      <th></th>\n",
       "      <th></th>\n",
       "      <th></th>\n",
       "      <th></th>\n",
       "      <th></th>\n",
       "      <th></th>\n",
       "    </tr>\n",
       "  </thead>\n",
       "  <tbody>\n",
       "    <tr>\n",
       "      <th>2018-04-11</th>\n",
       "      <td>3.938</td>\n",
       "      <td>3.957</td>\n",
       "      <td>3.926</td>\n",
       "      <td>3.933</td>\n",
       "      <td>136495504</td>\n",
       "      <td>53793.754</td>\n",
       "      <td>50.32</td>\n",
       "      <td>40.346667</td>\n",
       "      <td>3.877667</td>\n",
       "      <td>3.883833</td>\n",
       "      <td>1.0</td>\n",
       "      <td>1</td>\n",
       "      <td>-1.250106</td>\n",
       "    </tr>\n",
       "    <tr>\n",
       "      <th>2018-04-12</th>\n",
       "      <td>3.932</td>\n",
       "      <td>3.938</td>\n",
       "      <td>3.891</td>\n",
       "      <td>3.892</td>\n",
       "      <td>96730312</td>\n",
       "      <td>37860.625</td>\n",
       "      <td>47.6</td>\n",
       "      <td>48.506667</td>\n",
       "      <td>3.883833</td>\n",
       "      <td>3.885333</td>\n",
       "      <td>1.0</td>\n",
       "      <td>2</td>\n",
       "      <td>-0.171292</td>\n",
       "    </tr>\n",
       "    <tr>\n",
       "      <th>2018-04-13</th>\n",
       "      <td>3.915</td>\n",
       "      <td>3.927</td>\n",
       "      <td>3.858</td>\n",
       "      <td>3.865</td>\n",
       "      <td>121246776</td>\n",
       "      <td>47049.320</td>\n",
       "      <td>38.08</td>\n",
       "      <td>45.333333</td>\n",
       "      <td>3.885333</td>\n",
       "      <td>3.886500</td>\n",
       "      <td>-2.0</td>\n",
       "      <td>3</td>\n",
       "      <td>0.556274</td>\n",
       "    </tr>\n",
       "    <tr>\n",
       "      <th>2018-04-16</th>\n",
       "      <td>3.858</td>\n",
       "      <td>3.870</td>\n",
       "      <td>3.791</td>\n",
       "      <td>3.804</td>\n",
       "      <td>114159640</td>\n",
       "      <td>43629.645</td>\n",
       "      <td>28.56</td>\n",
       "      <td>38.080000</td>\n",
       "      <td>3.886500</td>\n",
       "      <td>3.879167</td>\n",
       "      <td>-1.0</td>\n",
       "      <td>4</td>\n",
       "      <td>1.975990</td>\n",
       "    </tr>\n",
       "    <tr>\n",
       "      <th>2018-04-17</th>\n",
       "      <td>3.815</td>\n",
       "      <td>3.820</td>\n",
       "      <td>3.745</td>\n",
       "      <td>3.748</td>\n",
       "      <td>138299808</td>\n",
       "      <td>52363.035</td>\n",
       "      <td>20.4</td>\n",
       "      <td>29.013333</td>\n",
       "      <td>3.879167</td>\n",
       "      <td>3.861667</td>\n",
       "      <td>-1.0</td>\n",
       "      <td>5</td>\n",
       "      <td>3.032729</td>\n",
       "    </tr>\n",
       "  </tbody>\n",
       "</table>\n",
       "</div>"
      ],
      "text/plain": [
       "             open   high    low  close     volume     amount Decision  \\\n",
       "date                                                                    \n",
       "2018-04-11  3.938  3.957  3.926  3.933  136495504  53793.754    50.32   \n",
       "2018-04-12  3.932  3.938  3.891  3.892   96730312  37860.625     47.6   \n",
       "2018-04-13  3.915  3.927  3.858  3.865  121246776  47049.320    38.08   \n",
       "2018-04-16  3.858  3.870  3.791  3.804  114159640  43629.645    28.56   \n",
       "2018-04-17  3.815  3.820  3.745  3.748  138299808  52363.035     20.4   \n",
       "\n",
       "               MAJCQX      YCWW  Tomorrow  BS_point  id     preds  \n",
       "date                                                               \n",
       "2018-04-11  40.346667  3.877667  3.883833       1.0   1 -1.250106  \n",
       "2018-04-12  48.506667  3.883833  3.885333       1.0   2 -0.171292  \n",
       "2018-04-13  45.333333  3.885333  3.886500      -2.0   3  0.556274  \n",
       "2018-04-16  38.080000  3.886500  3.879167      -1.0   4  1.975990  \n",
       "2018-04-17  29.013333  3.879167  3.861667      -1.0   5  3.032729  "
      ]
     },
     "execution_count": 16,
     "metadata": {},
     "output_type": "execute_result"
    }
   ],
   "source": [
    "Stock_ETF_Risk_Ratio_ZFXF_YCWW_date.head()"
   ]
  },
  {
   "cell_type": "code",
   "execution_count": 17,
   "metadata": {},
   "outputs": [
    {
     "data": {
      "text/html": [
       "<div>\n",
       "<style>\n",
       "    .dataframe thead tr:only-child th {\n",
       "        text-align: right;\n",
       "    }\n",
       "\n",
       "    .dataframe thead th {\n",
       "        text-align: left;\n",
       "    }\n",
       "\n",
       "    .dataframe tbody tr th {\n",
       "        vertical-align: top;\n",
       "    }\n",
       "</style>\n",
       "<table border=\"1\" class=\"dataframe\">\n",
       "  <thead>\n",
       "    <tr style=\"text-align: right;\">\n",
       "      <th></th>\n",
       "      <th>date</th>\n",
       "      <th>id</th>\n",
       "      <th>price</th>\n",
       "    </tr>\n",
       "  </thead>\n",
       "  <tbody>\n",
       "    <tr>\n",
       "      <th>33</th>\n",
       "      <td>2018-05-30</td>\n",
       "      <td>34</td>\n",
       "      <td>3.754</td>\n",
       "    </tr>\n",
       "  </tbody>\n",
       "</table>\n",
       "</div>"
      ],
      "text/plain": [
       "         date  id  price\n",
       "33 2018-05-30  34  3.754"
      ]
     },
     "execution_count": 17,
     "metadata": {},
     "output_type": "execute_result"
    }
   ],
   "source": [
    "Trade_date = '2018-05-30'\n",
    "Trade_price = 3.754\n",
    "Trade = Stock_ETF_Risk_Ratio_ZFXF_YCWW.loc[Stock_ETF_Risk_Ratio_ZFXF_YCWW['date'] == pd.to_datetime(Trade_date),['date','id']]\n",
    "Trade['price'] = Trade_price\n",
    "Trade.tail()"
   ]
  },
  {
   "cell_type": "code",
   "execution_count": 18,
   "metadata": {
    "collapsed": true
   },
   "outputs": [],
   "source": [
    "tp = Trade_price\n",
    "idt = Trade.index.values+1"
   ]
  },
  {
   "cell_type": "code",
   "execution_count": 19,
   "metadata": {},
   "outputs": [
    {
     "data": {
      "text/plain": [
       "array([34], dtype=int64)"
      ]
     },
     "execution_count": 19,
     "metadata": {},
     "output_type": "execute_result"
    }
   ],
   "source": [
    "idt"
   ]
  },
  {
   "cell_type": "code",
   "execution_count": 20,
   "metadata": {
    "collapsed": true
   },
   "outputs": [],
   "source": [
    "datarray = Stock_ETF_Risk_Ratio_ZFXF_YCWW_ochl.values\n",
    "De = Stock_ETF_Risk_Ratio_ZFXF_YCWW['Decision'].values\n",
    "JCQX = Stock_ETF_Risk_Ratio_ZFXF_YCWW['MAJCQX'].values\n",
    "Id = Stock_ETF_Risk_Ratio_ZFXF_YCWW['id'].values\n",
    "idx = np.arange(0, k, 1)\n",
    "date = Stock_ETF_Risk_Ratio_ZFXF_YCWW_date.index[idx].date\n",
    "date_last = Stock_ETF_Risk_Ratio_ZFXF_YCWW_date.index.date[-1]"
   ]
  },
  {
   "cell_type": "code",
   "execution_count": 21,
   "metadata": {},
   "outputs": [
    {
     "data": {
      "text/plain": [
       "array([ 1,  2,  3,  4,  5,  6,  7,  8,  9, 10, 11, 12, 13, 14, 15, 16, 17,\n",
       "       18, 19, 20, 21, 22, 23, 24, 25, 26, 27, 28, 29, 30, 31, 32, 33, 34,\n",
       "       35, 36, 37, 38, 39, 40], dtype=int64)"
      ]
     },
     "execution_count": 21,
     "metadata": {},
     "output_type": "execute_result"
    }
   ],
   "source": [
    "Id"
   ]
  },
  {
   "cell_type": "code",
   "execution_count": 22,
   "metadata": {},
   "outputs": [
    {
     "data": {
      "text/plain": [
       "40"
      ]
     },
     "execution_count": 22,
     "metadata": {},
     "output_type": "execute_result"
    }
   ],
   "source": [
    "len(Id)"
   ]
  },
  {
   "cell_type": "code",
   "execution_count": 23,
   "metadata": {},
   "outputs": [
    {
     "data": {
      "text/plain": [
       "array([50.32, 47.6, 38.080000000000005, 28.560000000000002,\n",
       "       20.400000000000002, 14.96, 25.840000000000003, 19.040000000000003,\n",
       "       23.12, 48.96, 42.160000000000004, 32.64, 27.200000000000003,\n",
       "       38.080000000000005, 44.88, 36.720000000000006, 57.120000000000005,\n",
       "       63.92, 61.2, 66.64, 62.56, 66.64, 65.28, 62.56, 39.440000000000005,\n",
       "       53.040000000000006, 53.040000000000006, 47.6, 42.160000000000004,\n",
       "       25.840000000000003, 23.12, 34.0, 21.76, 19.040000000000003, 31.28,\n",
       "       25.840000000000003, 36.720000000000006, 46.24, 51.68000000000001,\n",
       "       53.040000000000006], dtype=object)"
      ]
     },
     "execution_count": 23,
     "metadata": {},
     "output_type": "execute_result"
    }
   ],
   "source": [
    "De"
   ]
  },
  {
   "cell_type": "code",
   "execution_count": 24,
   "metadata": {},
   "outputs": [
    {
     "data": {
      "text/plain": [
       "array([ 40.34666667,  48.50666667,  45.33333333,  38.08      ,\n",
       "        29.01333333,  21.30666667,  20.4       ,  19.94666667,\n",
       "        22.66666667,  30.37333333,  38.08      ,  41.25333333,\n",
       "        34.        ,  32.64      ,  36.72      ,  39.89333333,\n",
       "        46.24      ,  52.58666667,  60.74666667,  63.92      ,\n",
       "        63.46666667,  65.28      ,  64.82666667,  64.82666667,\n",
       "        55.76      ,  51.68      ,  48.50666667,  51.22666667,\n",
       "        47.6       ,  38.53333333,  30.37333333,  27.65333333,\n",
       "        26.29333333,  24.93333333,  24.02666667,  25.38666667,\n",
       "        31.28      ,  36.26666667,  44.88      ,  50.32      ])"
      ]
     },
     "execution_count": 24,
     "metadata": {},
     "output_type": "execute_result"
    }
   ],
   "source": [
    "JCQX"
   ]
  },
  {
   "cell_type": "code",
   "execution_count": 25,
   "metadata": {
    "scrolled": true
   },
   "outputs": [
    {
     "data": {
      "text/plain": [
       "array([ 0,  1,  2,  3,  4,  5,  6,  7,  8,  9, 10, 11, 12, 13, 14, 15, 16,\n",
       "       17, 18, 19, 20, 21, 22, 23, 24, 25, 26, 27, 28, 29, 30, 31, 32, 33,\n",
       "       34, 35, 36, 37, 38, 39])"
      ]
     },
     "execution_count": 25,
     "metadata": {},
     "output_type": "execute_result"
    }
   ],
   "source": [
    "idx"
   ]
  },
  {
   "cell_type": "code",
   "execution_count": 26,
   "metadata": {},
   "outputs": [
    {
     "data": {
      "text/plain": [
       "40"
      ]
     },
     "execution_count": 26,
     "metadata": {},
     "output_type": "execute_result"
    }
   ],
   "source": [
    "len(idx)"
   ]
  },
  {
   "cell_type": "code",
   "execution_count": 27,
   "metadata": {},
   "outputs": [
    {
     "data": {
      "text/plain": [
       "40"
      ]
     },
     "execution_count": 27,
     "metadata": {},
     "output_type": "execute_result"
    }
   ],
   "source": [
    "len(date)"
   ]
  },
  {
   "cell_type": "code",
   "execution_count": 28,
   "metadata": {},
   "outputs": [
    {
     "data": {
      "text/plain": [
       "array([datetime.date(2018, 4, 11), datetime.date(2018, 4, 12),\n",
       "       datetime.date(2018, 4, 13), datetime.date(2018, 4, 16),\n",
       "       datetime.date(2018, 4, 17), datetime.date(2018, 4, 18),\n",
       "       datetime.date(2018, 4, 19), datetime.date(2018, 4, 20),\n",
       "       datetime.date(2018, 4, 23), datetime.date(2018, 4, 24),\n",
       "       datetime.date(2018, 4, 25), datetime.date(2018, 4, 26),\n",
       "       datetime.date(2018, 4, 27), datetime.date(2018, 5, 2),\n",
       "       datetime.date(2018, 5, 3), datetime.date(2018, 5, 4),\n",
       "       datetime.date(2018, 5, 7), datetime.date(2018, 5, 8),\n",
       "       datetime.date(2018, 5, 9), datetime.date(2018, 5, 10),\n",
       "       datetime.date(2018, 5, 11), datetime.date(2018, 5, 14),\n",
       "       datetime.date(2018, 5, 15), datetime.date(2018, 5, 16),\n",
       "       datetime.date(2018, 5, 17), datetime.date(2018, 5, 18),\n",
       "       datetime.date(2018, 5, 21), datetime.date(2018, 5, 22),\n",
       "       datetime.date(2018, 5, 23), datetime.date(2018, 5, 24),\n",
       "       datetime.date(2018, 5, 25), datetime.date(2018, 5, 28),\n",
       "       datetime.date(2018, 5, 29), datetime.date(2018, 5, 30),\n",
       "       datetime.date(2018, 5, 31), datetime.date(2018, 6, 1),\n",
       "       datetime.date(2018, 6, 4), datetime.date(2018, 6, 5),\n",
       "       datetime.date(2018, 6, 6), datetime.date(2018, 6, 7)], dtype=object)"
      ]
     },
     "execution_count": 28,
     "metadata": {},
     "output_type": "execute_result"
    }
   ],
   "source": [
    "date"
   ]
  },
  {
   "cell_type": "code",
   "execution_count": 29,
   "metadata": {},
   "outputs": [
    {
     "data": {
      "text/plain": [
       "datetime.date(2018, 6, 7)"
      ]
     },
     "execution_count": 29,
     "metadata": {},
     "output_type": "execute_result"
    }
   ],
   "source": [
    "date_last"
   ]
  },
  {
   "cell_type": "code",
   "execution_count": 30,
   "metadata": {
    "collapsed": true
   },
   "outputs": [],
   "source": [
    "buy_point = Stock_ETF_Risk_Ratio_ZFXF_YCWW.loc[Stock_ETF_Risk_Ratio_ZFXF_YCWW['BS_point']==2.0,['YCWW','BS_point']]\n",
    "sell_point = Stock_ETF_Risk_Ratio_ZFXF_YCWW.loc[Stock_ETF_Risk_Ratio_ZFXF_YCWW['BS_point']==-2.0,['YCWW','BS_point']]\n",
    "buy = buy_point['YCWW'].values.round(3)\n",
    "idb = buy_point.index+1\n",
    "sell = sell_point['YCWW'].values.round(3)\n",
    "ids = sell_point.index+1"
   ]
  },
  {
   "cell_type": "code",
   "execution_count": 31,
   "metadata": {},
   "outputs": [
    {
     "data": {
      "text/html": [
       "<div>\n",
       "<style>\n",
       "    .dataframe thead tr:only-child th {\n",
       "        text-align: right;\n",
       "    }\n",
       "\n",
       "    .dataframe thead th {\n",
       "        text-align: left;\n",
       "    }\n",
       "\n",
       "    .dataframe tbody tr th {\n",
       "        vertical-align: top;\n",
       "    }\n",
       "</style>\n",
       "<table border=\"1\" class=\"dataframe\">\n",
       "  <thead>\n",
       "    <tr style=\"text-align: right;\">\n",
       "      <th></th>\n",
       "      <th>YCWW</th>\n",
       "      <th>BS_point</th>\n",
       "    </tr>\n",
       "  </thead>\n",
       "  <tbody>\n",
       "    <tr>\n",
       "      <th>9</th>\n",
       "      <td>3.772167</td>\n",
       "      <td>2.0</td>\n",
       "    </tr>\n",
       "    <tr>\n",
       "      <th>14</th>\n",
       "      <td>3.783167</td>\n",
       "      <td>2.0</td>\n",
       "    </tr>\n",
       "    <tr>\n",
       "      <th>16</th>\n",
       "      <td>3.774333</td>\n",
       "      <td>2.0</td>\n",
       "    </tr>\n",
       "    <tr>\n",
       "      <th>25</th>\n",
       "      <td>3.890833</td>\n",
       "      <td>2.0</td>\n",
       "    </tr>\n",
       "    <tr>\n",
       "      <th>36</th>\n",
       "      <td>3.792000</td>\n",
       "      <td>2.0</td>\n",
       "    </tr>\n",
       "  </tbody>\n",
       "</table>\n",
       "</div>"
      ],
      "text/plain": [
       "        YCWW  BS_point\n",
       "9   3.772167       2.0\n",
       "14  3.783167       2.0\n",
       "16  3.774333       2.0\n",
       "25  3.890833       2.0\n",
       "36  3.792000       2.0"
      ]
     },
     "execution_count": 31,
     "metadata": {},
     "output_type": "execute_result"
    }
   ],
   "source": [
    "buy_point"
   ]
  },
  {
   "cell_type": "code",
   "execution_count": 32,
   "metadata": {
    "scrolled": true
   },
   "outputs": [
    {
     "data": {
      "text/html": [
       "<div>\n",
       "<style>\n",
       "    .dataframe thead tr:only-child th {\n",
       "        text-align: right;\n",
       "    }\n",
       "\n",
       "    .dataframe thead th {\n",
       "        text-align: left;\n",
       "    }\n",
       "\n",
       "    .dataframe tbody tr th {\n",
       "        vertical-align: top;\n",
       "    }\n",
       "</style>\n",
       "<table border=\"1\" class=\"dataframe\">\n",
       "  <thead>\n",
       "    <tr style=\"text-align: right;\">\n",
       "      <th></th>\n",
       "      <th>YCWW</th>\n",
       "      <th>BS_point</th>\n",
       "    </tr>\n",
       "  </thead>\n",
       "  <tbody>\n",
       "    <tr>\n",
       "      <th>2</th>\n",
       "      <td>3.885333</td>\n",
       "      <td>-2.0</td>\n",
       "    </tr>\n",
       "    <tr>\n",
       "      <th>11</th>\n",
       "      <td>3.791333</td>\n",
       "      <td>-2.0</td>\n",
       "    </tr>\n",
       "    <tr>\n",
       "      <th>15</th>\n",
       "      <td>3.786833</td>\n",
       "      <td>-2.0</td>\n",
       "    </tr>\n",
       "    <tr>\n",
       "      <th>23</th>\n",
       "      <td>3.891500</td>\n",
       "      <td>-2.0</td>\n",
       "    </tr>\n",
       "    <tr>\n",
       "      <th>28</th>\n",
       "      <td>3.898000</td>\n",
       "      <td>-2.0</td>\n",
       "    </tr>\n",
       "  </tbody>\n",
       "</table>\n",
       "</div>"
      ],
      "text/plain": [
       "        YCWW  BS_point\n",
       "2   3.885333      -2.0\n",
       "11  3.791333      -2.0\n",
       "15  3.786833      -2.0\n",
       "23  3.891500      -2.0\n",
       "28  3.898000      -2.0"
      ]
     },
     "execution_count": 32,
     "metadata": {},
     "output_type": "execute_result"
    }
   ],
   "source": [
    "sell_point"
   ]
  },
  {
   "cell_type": "code",
   "execution_count": 33,
   "metadata": {
    "collapsed": true
   },
   "outputs": [],
   "source": [
    "if buy_point.index[0] > sell_point.index[0]:\n",
    "    sell_point = sell_point.iloc[1:,:]"
   ]
  },
  {
   "cell_type": "code",
   "execution_count": 34,
   "metadata": {},
   "outputs": [
    {
     "data": {
      "text/html": [
       "<div>\n",
       "<style>\n",
       "    .dataframe thead tr:only-child th {\n",
       "        text-align: right;\n",
       "    }\n",
       "\n",
       "    .dataframe thead th {\n",
       "        text-align: left;\n",
       "    }\n",
       "\n",
       "    .dataframe tbody tr th {\n",
       "        vertical-align: top;\n",
       "    }\n",
       "</style>\n",
       "<table border=\"1\" class=\"dataframe\">\n",
       "  <thead>\n",
       "    <tr style=\"text-align: right;\">\n",
       "      <th></th>\n",
       "      <th>YCWW</th>\n",
       "      <th>BS_point</th>\n",
       "    </tr>\n",
       "  </thead>\n",
       "  <tbody>\n",
       "    <tr>\n",
       "      <th>11</th>\n",
       "      <td>3.791333</td>\n",
       "      <td>-2.0</td>\n",
       "    </tr>\n",
       "    <tr>\n",
       "      <th>15</th>\n",
       "      <td>3.786833</td>\n",
       "      <td>-2.0</td>\n",
       "    </tr>\n",
       "    <tr>\n",
       "      <th>23</th>\n",
       "      <td>3.891500</td>\n",
       "      <td>-2.0</td>\n",
       "    </tr>\n",
       "    <tr>\n",
       "      <th>28</th>\n",
       "      <td>3.898000</td>\n",
       "      <td>-2.0</td>\n",
       "    </tr>\n",
       "  </tbody>\n",
       "</table>\n",
       "</div>"
      ],
      "text/plain": [
       "        YCWW  BS_point\n",
       "11  3.791333      -2.0\n",
       "15  3.786833      -2.0\n",
       "23  3.891500      -2.0\n",
       "28  3.898000      -2.0"
      ]
     },
     "execution_count": 34,
     "metadata": {},
     "output_type": "execute_result"
    }
   ],
   "source": [
    "sell_point"
   ]
  },
  {
   "cell_type": "code",
   "execution_count": 35,
   "metadata": {
    "collapsed": true
   },
   "outputs": [],
   "source": [
    "sell2 = sell_point['YCWW'].values.round(3)\n",
    "ids2 = sell_point.index+1"
   ]
  },
  {
   "cell_type": "code",
   "execution_count": 36,
   "metadata": {},
   "outputs": [
    {
     "data": {
      "text/plain": [
       "40"
      ]
     },
     "execution_count": 36,
     "metadata": {},
     "output_type": "execute_result"
    }
   ],
   "source": [
    "idp = Stock_ETF_Risk_Ratio_ZFXF_YCWW.index[-1]+1\n",
    "idp"
   ]
  },
  {
   "cell_type": "code",
   "execution_count": 37,
   "metadata": {
    "collapsed": true
   },
   "outputs": [],
   "source": [
    "ptmr = Stock_ETF_Risk_Ratio_ZFXF_YCWW['Tomorrow'].tail(1).values.round(4)\n",
    "ptmr = float(ptmr[0])"
   ]
  },
  {
   "cell_type": "code",
   "execution_count": 38,
   "metadata": {
    "collapsed": true
   },
   "outputs": [],
   "source": [
    "ptd = Stock_ETF_Risk_Ratio_ZFXF_YCWW['YCWW'].tail(1).values.round(4)\n",
    "ptd = float(ptd[0])"
   ]
  },
  {
   "cell_type": "code",
   "execution_count": 39,
   "metadata": {
    "collapsed": true
   },
   "outputs": [],
   "source": [
    "plt.figure(2,figsize=(14,6), dpi=80)\n",
    "ax1 = plt.subplot(111)"
   ]
  },
  {
   "cell_type": "code",
   "execution_count": 40,
   "metadata": {
    "collapsed": true
   },
   "outputs": [],
   "source": [
    "plt.plot(Id, De, color ='Orange', linewidth=2.0, alpha=0.8)\n",
    "plt.plot(Id, JCQX, color ='Brown', linewidth=2.0, alpha=0.8)\n",
    "plt.axhline(y=20, color='cyan', linewidth=1.0, alpha=1.0)\n",
    "plt.axhline(y=60, color='yellow', linewidth=1.0, alpha=1.0)\n",
    "plt.axhline(y=70, color='gold', linewidth=1.0, alpha=1.0)\n",
    "plt.axvline(x=Id[0], color='LightPink', linestyle='--', linewidth=1.0, alpha=1.0)\n",
    "plt.axvline(x=Id[-1], color='MediumOrchid', linestyle='--', linewidth=1.0, alpha=1.0)\n",
    "plt.axvline(x=Id[-1]+1, color='RosyBrown', linestyle='--', linewidth=1.0, alpha=1.0)\n",
    "plt.grid(linestyle=':', alpha=0.5)"
   ]
  },
  {
   "cell_type": "code",
   "execution_count": 41,
   "metadata": {},
   "outputs": [
    {
     "data": {
      "text/plain": [
       "(array([ 0,  1,  2,  3,  4,  5,  6,  7,  8,  9, 10, 11, 12, 13, 14, 15, 16,\n",
       "        17, 18, 19, 20, 21, 22, 23, 24, 25, 26, 27, 28, 29, 30, 31, 32, 33,\n",
       "        34, 35, 36, 37, 38, 39]), <a list of 40 Text xticklabel objects>)"
      ]
     },
     "execution_count": 41,
     "metadata": {},
     "output_type": "execute_result"
    }
   ],
   "source": [
    "plt.xticks(idx, date)\n",
    "plt.xticks(rotation=45)"
   ]
  },
  {
   "cell_type": "code",
   "execution_count": 42,
   "metadata": {},
   "outputs": [
    {
     "data": {
      "text/plain": [
       "(10, 80)"
      ]
     },
     "execution_count": 42,
     "metadata": {},
     "output_type": "execute_result"
    }
   ],
   "source": [
    "# plt.xlim(0,k+1,1)\n",
    "plt.ylim(10,80,10)"
   ]
  },
  {
   "cell_type": "code",
   "execution_count": 43,
   "metadata": {
    "collapsed": true
   },
   "outputs": [],
   "source": [
    "ax2 = ax1.twinx()\n",
    "mplf.candlestick_ochl(ax2, datarray, width=0.8, colorup='red', colordown='green', alpha=0.6)\n",
    "plt.grid(linestyle=':', alpha=0.5)"
   ]
  },
  {
   "cell_type": "code",
   "execution_count": 44,
   "metadata": {},
   "outputs": [
    {
     "data": {
      "text/plain": [
       "<matplotlib.collections.PathCollection at 0xce30be0>"
      ]
     },
     "execution_count": 44,
     "metadata": {},
     "output_type": "execute_result"
    }
   ],
   "source": [
    "plt.scatter(idb, buy, color ='blue', s=50, alpha=1.0, zorder=2)\n",
    "plt.scatter(ids, sell, color ='brown', s=50, alpha=1.0, zorder=3)\n",
    "plt.scatter(idt, tp, color ='black', s=80, alpha=1.0, zorder=4)\n",
    "plt.scatter(idt, tp, color ='yellow', s=30, alpha=1.0, zorder=5)\n",
    "plt.scatter(idp, ptd, color ='black', s=80, alpha=1.0, zorder=6)\n",
    "plt.scatter(idp, ptd, color ='cyan', s=30, alpha=1.0, zorder=7)\n",
    "plt.scatter(idp+1, ptmr, color ='black', s=80, alpha=1.0, zorder=6)\n",
    "plt.scatter(idp+1, ptmr, color ='Lime', s=30, alpha=1.0, zorder=7)"
   ]
  },
  {
   "cell_type": "code",
   "execution_count": 45,
   "metadata": {
    "collapsed": true
   },
   "outputs": [],
   "source": [
    "for a,b in zip(ids,sell):\n",
    "    ax2.text(a, b+0.01, b, ha='center', va= 'center', bbox = dict(facecolor = \"blue\", alpha = 0.2))"
   ]
  },
  {
   "cell_type": "code",
   "execution_count": 46,
   "metadata": {
    "collapsed": true
   },
   "outputs": [],
   "source": [
    "for c,d in zip(idb,buy):\n",
    "    ax2.text(c, d-0.015, d, ha='center', va= 'center', bbox = dict(facecolor = \"magenta\", alpha = 0.2))"
   ]
  },
  {
   "cell_type": "code",
   "execution_count": 47,
   "metadata": {},
   "outputs": [
    {
     "data": {
      "text/plain": [
       "<matplotlib.text.Text at 0xd0e7a90>"
      ]
     },
     "execution_count": 47,
     "metadata": {},
     "output_type": "execute_result"
    }
   ],
   "source": [
    "ax2.text(idt, tp*1.004, tp, ha='center', va= 'center', bbox = dict(facecolor = \"yellow\", alpha = 0.2))"
   ]
  },
  {
   "cell_type": "code",
   "execution_count": 48,
   "metadata": {},
   "outputs": [
    {
     "data": {
      "text/plain": [
       "<matplotlib.text.Text at 0xc8c6470>"
      ]
     },
     "execution_count": 48,
     "metadata": {},
     "output_type": "execute_result"
    }
   ],
   "source": [
    "ax2.text(idp, ptd*1.004, ptd, ha='center', va= 'center', bbox = dict(facecolor = \"cyan\", alpha = 0.2))\n",
    "ax2.text(idp+1, ptmr*1.004, ptmr, ha='center', va= 'center', bbox = dict(facecolor = \"Lime\", alpha = 0.2))"
   ]
  },
  {
   "cell_type": "code",
   "execution_count": 49,
   "metadata": {
    "collapsed": true
   },
   "outputs": [],
   "source": [
    "for m,n,p,q in zip(idb,ids2,buy,sell2):\n",
    "    ax2.add_line(Line2D((m,n), (p,q), linewidth=3, color='magenta', zorder=1))"
   ]
  },
  {
   "cell_type": "code",
   "execution_count": 50,
   "metadata": {},
   "outputs": [
    {
     "data": {
      "image/png": "[encoded data removed]",
      "text/plain": [
       "<matplotlib.figure.Figure at 0xc8d7c50>"
      ]
     },
     "metadata": {},
     "output_type": "display_data"
    }
   ],
   "source": [
    "plt.show()"
   ]
  }
 ],
 "metadata": {
  "kernelspec": {
   "display_name": "Python 2",
   "language": "python",
   "name": "python2"
  },
  "language_info": {
   "codemirror_mode": {
    "name": "ipython",
    "version": 2
   },
   "file_extension": ".py",
   "mimetype": "text/x-python",
   "name": "python",
   "nbconvert_exporter": "python",
   "pygments_lexer": "ipython2",
   "version": "2.7.13"
  }
 },
 "nbformat": 4,
 "nbformat_minor": 2
}
