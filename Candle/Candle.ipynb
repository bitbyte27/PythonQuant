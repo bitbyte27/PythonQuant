{
 "cells": [
  {
   "cell_type": "code",
   "execution_count": 1,
   "metadata": {
    "collapsed": true
   },
   "outputs": [],
   "source": [
    "import pandas as pd\n",
    "import numpy as np\n",
    "import matplotlib.pyplot as plt\n",
    "import mpl_finance as mplf\n",
    "import matplotlib.dates as mdates\n",
    "import Risk_Ratio_Functions"
   ]
  },
  {
   "cell_type": "code",
   "execution_count": 2,
   "metadata": {
    "collapsed": true
   },
   "outputs": [],
   "source": [
    "def Candle_plot(Stock_data, stadate, enddate):\n",
    "    # 输入Stock_data，并处理索引、日期格式、按索引日期排序\n",
    "    Stock_data = Stock_data.set_index('date')\n",
    "    Stock_data.index = pd.to_datetime(Stock_data.index)\n",
    "    Stock_data = Stock_data.sort_index(axis=0, ascending=True)\n",
    "    \n",
    "    # 风险决策指标\n",
    "    Risk_Ratio = Risk_Ratio_Functions.Risk_Ratio(Stock_data)\n",
    "    Risk_Ratio = Risk_Ratio[['Decision','MAJCQX']]\n",
    "    Stock_data_Risk_Ratio = pd.concat([Stock_data,Risk_Ratio], axis=1)\n",
    "    \n",
    "    # 设置目标时间区间\n",
    "    Stock_data_Risk_Ratio = Stock_data_Risk_Ratio[Stock_data_Risk_Ratio.index >= pd.to_datetime(stadate)]\n",
    "    Stock_data_Risk_Ratio = Stock_data_Risk_Ratio[Stock_data_Risk_Ratio.index <= pd.to_datetime(enddate)]\n",
    "    k = len(Stock_data_Risk_Ratio)\n",
    "    \n",
    "    # 设置id，作为坐标系的x轴数据，最后用date来标注\n",
    "    Stock_data_Risk_Ratio['date'] = Stock_data_Risk_Ratio.index\n",
    "    Stock_data_Risk_Ratio = Stock_data_Risk_Ratio.reset_index(drop=True)\n",
    "    Stock_data_Risk_Ratio['id'] = Stock_data_Risk_Ratio.index+1\n",
    "    \n",
    "    # ochl数据设置，date数据设置\n",
    "    Stock_data_Risk_Ratio_ochl = Stock_data_Risk_Ratio[['id','open','close','high','low']]\n",
    "    Stock_data_Risk_Ratio_date = Stock_data_Risk_Ratio.set_index('date')\n",
    "    \n",
    "    # 设置画出K线图的数据datarray，画出风险决策曲线的数据（Id，De），（ID，JCQX）\n",
    "    # 设置替代x轴的日期数据（idx，date）\n",
    "    datarray = Stock_data_Risk_Ratio_ochl.values\n",
    "    De = Stock_data_Risk_Ratio['Decision'].values\n",
    "    JCQX = Stock_data_Risk_Ratio['MAJCQX'].values\n",
    "    Id = Stock_data_Risk_Ratio['id'].values\n",
    "    idx = np.arange(0, k, 1)\n",
    "    date = Stock_data_Risk_Ratio_date.index[idx].date\n",
    "    \n",
    "    # 画图\n",
    "    plt.figure(2,figsize=(14,6), dpi=80)\n",
    "    ax1 = plt.subplot(111)\n",
    "    \n",
    "    # 设置candlestick_ochl\n",
    "    mplf.candlestick_ochl(ax1, datarray, width=0.8, colorup='red', colordown='green', alpha=0.7)\n",
    "    plt.grid(linestyle=':', alpha=0.5)\n",
    "    \n",
    "    # 设置x轴\n",
    "    plt.xticks(Id-0.5, date)\n",
    "    plt.xticks(rotation=45)\n",
    "    \n",
    "    # 设置风险决策曲线\n",
    "    ax2 = ax1.twinx()\n",
    "    plt.plot(Id, De, color ='Orange', linewidth=2.0, alpha=1)\n",
    "    plt.plot(Id, JCQX, color ='Brown', linewidth=2.0, alpha=1)\n",
    "    plt.xlim(0,k+1,1)\n",
    "    plt.ylim(0,100,10)\n",
    "    \n",
    "    return plt.show()"
   ]
  }
 ],
 "metadata": {
  "kernelspec": {
   "display_name": "Python 2",
   "language": "python",
   "name": "python2"
  },
  "language_info": {
   "codemirror_mode": {
    "name": "ipython",
    "version": 2
   },
   "file_extension": ".py",
   "mimetype": "text/x-python",
   "name": "python",
   "nbconvert_exporter": "python",
   "pygments_lexer": "ipython2",
   "version": "2.7.13"
  }
 },
 "nbformat": 4,
 "nbformat_minor": 2
}
