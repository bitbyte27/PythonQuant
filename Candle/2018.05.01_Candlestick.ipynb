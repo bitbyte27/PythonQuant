{
 "cells": [
  {
   "cell_type": "code",
   "execution_count": 1,
   "metadata": {
    "collapsed": true
   },
   "outputs": [],
   "source": [
    "import pandas as pd\n",
    "import mpl_finance as mplf\n",
    "import matplotlib.pyplot as plt\n",
    "import numpy as np\n",
    "import matplotlib.dates as mdates"
   ]
  },
  {
   "cell_type": "code",
   "execution_count": 2,
   "metadata": {
    "scrolled": true
   },
   "outputs": [
    {
     "data": {
      "text/html": [
       "<div>\n",
       "<style>\n",
       "    .dataframe thead tr:only-child th {\n",
       "        text-align: right;\n",
       "    }\n",
       "\n",
       "    .dataframe thead th {\n",
       "        text-align: left;\n",
       "    }\n",
       "\n",
       "    .dataframe tbody tr th {\n",
       "        vertical-align: top;\n",
       "    }\n",
       "</style>\n",
       "<table border=\"1\" class=\"dataframe\">\n",
       "  <thead>\n",
       "    <tr style=\"text-align: right;\">\n",
       "      <th></th>\n",
       "      <th>open</th>\n",
       "      <th>close</th>\n",
       "      <th>high</th>\n",
       "      <th>low</th>\n",
       "    </tr>\n",
       "    <tr>\n",
       "      <th>date</th>\n",
       "      <th></th>\n",
       "      <th></th>\n",
       "      <th></th>\n",
       "      <th></th>\n",
       "    </tr>\n",
       "  </thead>\n",
       "  <tbody>\n",
       "    <tr>\n",
       "      <th>2018-02-14</th>\n",
       "      <td>98.990</td>\n",
       "      <td>97.760</td>\n",
       "      <td>99.450</td>\n",
       "      <td>97.512</td>\n",
       "    </tr>\n",
       "    <tr>\n",
       "      <th>2018-02-22</th>\n",
       "      <td>98.333</td>\n",
       "      <td>98.250</td>\n",
       "      <td>98.470</td>\n",
       "      <td>98.020</td>\n",
       "    </tr>\n",
       "    <tr>\n",
       "      <th>2018-02-23</th>\n",
       "      <td>98.260</td>\n",
       "      <td>98.200</td>\n",
       "      <td>98.450</td>\n",
       "      <td>98.070</td>\n",
       "    </tr>\n",
       "    <tr>\n",
       "      <th>2018-02-26</th>\n",
       "      <td>98.210</td>\n",
       "      <td>98.827</td>\n",
       "      <td>98.827</td>\n",
       "      <td>98.126</td>\n",
       "    </tr>\n",
       "    <tr>\n",
       "      <th>2018-02-27</th>\n",
       "      <td>98.990</td>\n",
       "      <td>99.004</td>\n",
       "      <td>99.050</td>\n",
       "      <td>98.663</td>\n",
       "    </tr>\n",
       "  </tbody>\n",
       "</table>\n",
       "</div>"
      ],
      "text/plain": [
       "              open   close    high     low\n",
       "date                                      \n",
       "2018-02-14  98.990  97.760  99.450  97.512\n",
       "2018-02-22  98.333  98.250  98.470  98.020\n",
       "2018-02-23  98.260  98.200  98.450  98.070\n",
       "2018-02-26  98.210  98.827  98.827  98.126\n",
       "2018-02-27  98.990  99.004  99.050  98.663"
      ]
     },
     "execution_count": 2,
     "metadata": {},
     "output_type": "execute_result"
    }
   ],
   "source": [
    "jiangyin = pd.read_csv('datacsv/128034.csv')\n",
    "jiangyin['date'] = pd.to_datetime(jiangyin['date'])\n",
    "jiangyin2 = jiangyin[['date','open','close','high','low']]\n",
    "jiangyin.set_index(jiangyin['date'], drop=True, inplace=True)\n",
    "jiangyin = jiangyin[['open','close','high','low']]\n",
    "jiangyin.head()"
   ]
  },
  {
   "cell_type": "code",
   "execution_count": 3,
   "metadata": {},
   "outputs": [
    {
     "data": {
      "text/plain": [
       "array([ 0,  1,  2,  3,  4,  5,  6,  7,  8,  9, 10, 11, 12, 13, 14, 15, 16,\n",
       "       17, 18, 19, 20, 21, 22, 23, 24, 25, 26, 27, 28, 29, 30, 31, 32, 33,\n",
       "       34, 35, 36, 37, 38, 39, 40, 41, 42, 43, 44, 45])"
      ]
     },
     "execution_count": 3,
     "metadata": {},
     "output_type": "execute_result"
    }
   ],
   "source": [
    "date_index = np.arange(0, len(jiangyin), 1)\n",
    "date_index"
   ]
  },
  {
   "cell_type": "code",
   "execution_count": 4,
   "metadata": {},
   "outputs": [
    {
     "data": {
      "text/plain": [
       "array([datetime.date(2018, 2, 14), datetime.date(2018, 2, 22),\n",
       "       datetime.date(2018, 2, 23), datetime.date(2018, 2, 26),\n",
       "       datetime.date(2018, 2, 27), datetime.date(2018, 2, 28),\n",
       "       datetime.date(2018, 3, 1), datetime.date(2018, 3, 2),\n",
       "       datetime.date(2018, 3, 5), datetime.date(2018, 3, 6),\n",
       "       datetime.date(2018, 3, 7), datetime.date(2018, 3, 8),\n",
       "       datetime.date(2018, 3, 9), datetime.date(2018, 3, 12),\n",
       "       datetime.date(2018, 3, 13), datetime.date(2018, 3, 14),\n",
       "       datetime.date(2018, 3, 15), datetime.date(2018, 3, 16),\n",
       "       datetime.date(2018, 3, 19), datetime.date(2018, 3, 20),\n",
       "       datetime.date(2018, 3, 21), datetime.date(2018, 3, 22),\n",
       "       datetime.date(2018, 3, 23), datetime.date(2018, 3, 26),\n",
       "       datetime.date(2018, 3, 27), datetime.date(2018, 3, 28),\n",
       "       datetime.date(2018, 3, 29), datetime.date(2018, 3, 30),\n",
       "       datetime.date(2018, 4, 2), datetime.date(2018, 4, 3),\n",
       "       datetime.date(2018, 4, 4), datetime.date(2018, 4, 9),\n",
       "       datetime.date(2018, 4, 10), datetime.date(2018, 4, 11),\n",
       "       datetime.date(2018, 4, 12), datetime.date(2018, 4, 13),\n",
       "       datetime.date(2018, 4, 16), datetime.date(2018, 4, 17),\n",
       "       datetime.date(2018, 4, 18), datetime.date(2018, 4, 19),\n",
       "       datetime.date(2018, 4, 20), datetime.date(2018, 4, 23),\n",
       "       datetime.date(2018, 4, 24), datetime.date(2018, 4, 25),\n",
       "       datetime.date(2018, 4, 26), datetime.date(2018, 4, 27)], dtype=object)"
      ]
     },
     "execution_count": 4,
     "metadata": {},
     "output_type": "execute_result"
    }
   ],
   "source": [
    "my_xticks = jiangyin.index[date_index].date\n",
    "my_xticks"
   ]
  },
  {
   "cell_type": "code",
   "execution_count": 5,
   "metadata": {
    "collapsed": true
   },
   "outputs": [],
   "source": [
    "plt.figure(1,figsize=(14,4), dpi=80)\n",
    "ax = plt.subplot(111)"
   ]
  },
  {
   "cell_type": "code",
   "execution_count": 6,
   "metadata": {},
   "outputs": [
    {
     "data": {
      "text/plain": [
       "(<matplotlib.collections.LineCollection at 0xc4e8b00>,\n",
       " <matplotlib.collections.PolyCollection at 0xc0dea58>)"
      ]
     },
     "execution_count": 6,
     "metadata": {},
     "output_type": "execute_result"
    }
   ],
   "source": [
    "mplf.candlestick2_ohlc(ax, jiangyin['open'].values, jiangyin['high'].values, jiangyin['low'].values, jiangyin['close'].values, \n",
    "                      width=0.6, colorup='r', colordown='g', alpha=1)"
   ]
  },
  {
   "cell_type": "code",
   "execution_count": 7,
   "metadata": {},
   "outputs": [
    {
     "data": {
      "text/plain": [
       "(array([ 0,  1,  2,  3,  4,  5,  6,  7,  8,  9, 10, 11, 12, 13, 14, 15, 16,\n",
       "        17, 18, 19, 20, 21, 22, 23, 24, 25, 26, 27, 28, 29, 30, 31, 32, 33,\n",
       "        34, 35, 36, 37, 38, 39, 40, 41, 42, 43, 44, 45]),\n",
       " <a list of 46 Text xticklabel objects>)"
      ]
     },
     "execution_count": 7,
     "metadata": {},
     "output_type": "execute_result"
    }
   ],
   "source": [
    "plt.xticks(date_index, my_xticks)\n",
    "plt.xticks(rotation=60)"
   ]
  },
  {
   "cell_type": "code",
   "execution_count": 8,
   "metadata": {
    "scrolled": false
   },
   "outputs": [
    {
     "data": {
      "image/png": "[encoded data removed]",
      "text/plain": [
       "<matplotlib.figure.Figure at 0xc35b390>"
      ]
     },
     "metadata": {},
     "output_type": "display_data"
    }
   ],
   "source": [
    "plt.show()"
   ]
  },
  {
   "cell_type": "markdown",
   "metadata": {},
   "source": [
    "### 使用bokeh交互可视化"
   ]
  },
  {
   "cell_type": "markdown",
   "metadata": {},
   "source": [
    "* from abupy import ABuMarketDrawing\n",
    "* ABuMarketDrawing.plot_candle_form_klpd(tsla_df, html_bk=True)"
   ]
  },
  {
   "cell_type": "markdown",
   "metadata": {},
   "source": [
    "[量化交易之路 ipython代码](https://github.com/bitbyte27/abu/blob/master/ipython/readme.md)"
   ]
  }
 ],
 "metadata": {
  "kernelspec": {
   "display_name": "Python 2",
   "language": "python",
   "name": "python2"
  },
  "language_info": {
   "codemirror_mode": {
    "name": "ipython",
    "version": 2
   },
   "file_extension": ".py",
   "mimetype": "text/x-python",
   "name": "python",
   "nbconvert_exporter": "python",
   "pygments_lexer": "ipython2",
   "version": "2.7.13"
  }
 },
 "nbformat": 4,
 "nbformat_minor": 2
}
