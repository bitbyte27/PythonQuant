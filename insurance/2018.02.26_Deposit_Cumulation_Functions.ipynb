{
 "cells": [
  {
   "cell_type": "code",
   "execution_count": 1,
   "metadata": {
    "collapsed": true
   },
   "outputs": [],
   "source": [
    "import numpy as np\n",
    "import pandas as pd"
   ]
  },
  {
   "cell_type": "code",
   "execution_count": 2,
   "metadata": {
    "collapsed": true
   },
   "outputs": [],
   "source": [
    "# 考虑本金年单利、年复利、期复利的整存算法\n",
    "def DepositCumulation(Y5,Y3,Y2,Y1,Money,HowManyYears):\n",
    "    #\n",
    "    Deposit = pd.DataFrame()\n",
    "    Deposit['rate'] = [Y5,Y3,Y2,Y1]\n",
    "    Deposit['rate_check'] = [0,0,0,0]\n",
    "    # 各存期存款年限计算\n",
    "    Deposit['years'] = [5*(HowManyYears//5),\n",
    "                        3*((HowManyYears-5*(HowManyYears//5))//3),\n",
    "                        2*((HowManyYears-5*(HowManyYears//5)-3*((HowManyYears-5*(HowManyYears//5))//3))//2),\n",
    "                        (HowManyYears-5*(HowManyYears//5)-3*((HowManyYears-5*(HowManyYears//5))//3)-2*((HowManyYears-5*(HowManyYears//5)-3*((HowManyYears-5*(HowManyYears//5))//3))//2))]\n",
    "    Deposit.loc[Deposit['years']>0,'rate_check'] = 1 \n",
    "    # 总利率计算（年单利）\n",
    "    rate_A = 1+Y5/100*Deposit['years'][0]+Y3/100*Deposit['years'][1]+Y2/100*Deposit['years'][2]+Y1/100*Deposit['years'][3]\n",
    "    # 总利率计算（年复利）\n",
    "    rate_B = ((1+Y5/100)**Deposit['years'][0])*((1++Y3/100)**Deposit['years'][1])*((1++Y2/100)**Deposit['years'][3])*((1++Y3/100)**Deposit['years'][3])\n",
    "    # 总利率计算（期复利）\n",
    "    rate_C = (((1+Y5/100*5*Deposit['rate_check'][0])**(Deposit['years'][0]/5))\n",
    "              *((1+Y3/100*3*Deposit['rate_check'][1])**(Deposit['years'][1]/3))\n",
    "              *((1+Y2/100*2*Deposit['rate_check'][2])**(Deposit['years'][2]/2))\n",
    "              *((1+Y1/100*1*Deposit['rate_check'][3])**(Deposit['years'][3]/1)))\n",
    "    # 总利息计算\n",
    "    rates = rate_C\n",
    "    interest = Money*(rates-1)\n",
    "    # 本金和利息总和计算\n",
    "    principal_with_interest = Money*rates\n",
    "    # 平均年利息\n",
    "    interest_average = Money*(rates-1)/HowManyYears\n",
    "    # \n",
    "    Cumulation = pd.DataFrame([[Money,HowManyYears,rate_A,rate_B,rate_C,interest,principal_with_interest,interest_average]], columns=[u'存款金额(元)',u'存款年限(年)',u'总年单利(%)',u'总年复利(%)',u'总期复利(%)',u'利息(元)',u'本息(元)',u'平均年利息'])\n",
    "    \n",
    "    return Cumulation.round(3)"
   ]
  },
  {
   "cell_type": "code",
   "execution_count": 3,
   "metadata": {
    "collapsed": true
   },
   "outputs": [],
   "source": [
    "# 考虑本金年单利、年复利、期复利的每年累积整存整存算法\n",
    "def DepositCumulationMoneyEveryYears(Y5,Y3,Y2,Y1,Money,HowManyYears):\n",
    "    # 每年固定存入金额\n",
    "    MoneyEveryYears = Money\n",
    "    # 累积存款年限(Accumulated Deposit Years)\n",
    "    ADY = HowManyYears\n",
    "    Accumulated_Deposit = pd.DataFrame(np.arange(1,ADY+1),columns=[u'存入次数'])\n",
    "    for i in range(0,ADY):\n",
    "        Yr5 = 5*((ADY-i)//5)\n",
    "        Yr3 = 3*(((ADY-i)-5*((ADY-i)//5))//3)\n",
    "        Yr2 = 2*(((ADY-i)-5*((ADY-i)//5)-3*(((ADY-i)-5*((ADY-i)//5))//3))//2)\n",
    "        Yr1 = ((ADY-i)-5*((ADY-i)//5)-3*(((ADY-i)-5*((ADY-i)//5))//3)-2*(((ADY-i)-5*((ADY-i)//5)-3*(((ADY-i)-5*((ADY-i)//5))//3))//2))\n",
    "        Yc5 = 0\n",
    "        Yc3 = 0\n",
    "        Yc2 = 0\n",
    "        Yc1 = 0\n",
    "        if Yr5 > 0:\n",
    "            Yc5 = 1\n",
    "        if Yr3 > 0:\n",
    "            Yc3 = 1\n",
    "        if Yr2 > 0:\n",
    "            Yc2 = 1\n",
    "        if Yr1 > 0:\n",
    "            Yc1 = 1\n",
    "        rate_i = ((1+Y5/100*5*Yc5)**(Yr5/5)\n",
    "                  *(1+Y3/100*3*Yc3)**(Yr3/3)\n",
    "                  *(1+Y2/100*2*Yc2)**(Yr2/2)\n",
    "                  *(1+Y1/100*1*Yc1)**(Yr1/1))\n",
    "        Accumulated_Deposit.loc[i:i,u'存入年限(年)'] = ADY-i\n",
    "        Accumulated_Deposit.loc[i:i,u'累积存入本金(元)'] = MoneyEveryYears*(i+1)\n",
    "        Accumulated_Deposit.loc[i:i,u'每笔利率(%)'] = rate_i\n",
    "        Accumulated_Deposit.loc[i:i,u'每笔利息(元)'] = MoneyEveryYears*(rate_i-1)\n",
    "        Accumulated_Deposit.loc[i:i,u'每笔本息(元)'] = MoneyEveryYears*rate_i\n",
    "    # 合计\n",
    "    Accumulated_Deposit.loc[u'合计'] = Accumulated_Deposit.apply(lambda x: x.sum())\n",
    "    Accumulated_Deposit.loc[u'合计',0:4] = ''\n",
    "    \n",
    "    return Accumulated_Deposit.round(3)"
   ]
  },
  {
   "cell_type": "code",
   "execution_count": 4,
   "metadata": {
    "collapsed": true
   },
   "outputs": [],
   "source": [
    "# 考虑本金年单利、年复利、期复利的再次整存算法\n",
    "def DepositCumulationMoneyAgainYears(Y5,Y3,Y2,Y1,Money,MoneyAgainYears,HowManyYears,AgainYears):\n",
    "    #\n",
    "    Deposit = pd.DataFrame()\n",
    "    Deposit['rate'] = [Y5,Y3,Y2,Y1]\n",
    "    Deposit['rate_check'] = [0,0,0,0]\n",
    "    # 各存期存款年限计算\n",
    "    Deposit['years'] = [5*(AgainYears//5),\n",
    "                        3*((AgainYears-5*(AgainYears//5))//3),\n",
    "                        2*((AgainYears-5*(AgainYears//5)-3*((AgainYears-5*(AgainYears//5))//3))//2),\n",
    "                        (AgainYears-5*(AgainYears//5)-3*((AgainYears-5*(AgainYears//5))//3)-2*((AgainYears-5*(AgainYears//5)-3*((AgainYears-5*(AgainYears//5))//3))//2))]\n",
    "    Deposit.loc[Deposit['years']>0,'rate_check'] = 1 \n",
    "    # 总利率计算（年单利）\n",
    "    rate_A = 1+Y5/100*Deposit['years'][0]+Y3/100*Deposit['years'][1]+Y2/100*Deposit['years'][2]+Y1/100*Deposit['years'][3]\n",
    "    # 总利率计算（年复利）\n",
    "    rate_B = ((1+Y5/100)**Deposit['years'][0])*((1++Y3/100)**Deposit['years'][1])*((1++Y2/100)**Deposit['years'][3])*((1++Y3/100)**Deposit['years'][3])\n",
    "    # 总利率计算（期复利）\n",
    "    rate_C = (((1+Y5/100*5*Deposit['rate_check'][0])**(Deposit['years'][0]/5))\n",
    "              *((1+Y3/100*3*Deposit['rate_check'][1])**(Deposit['years'][1]/3))\n",
    "              *((1+Y2/100*2*Deposit['rate_check'][2])**(Deposit['years'][2]/2))\n",
    "              *((1+Y1/100*1*Deposit['rate_check'][3])**(Deposit['years'][3]/1)))\n",
    "    # 总利息计算\n",
    "    rates = rate_C\n",
    "    interest = MoneyAgainYears*(rates-1)\n",
    "    # 本金和利息总和计算\n",
    "    principal_with_interest = MoneyAgainYears*rates\n",
    "    # M年总利息\n",
    "    interest_all = MoneyAgainYears*rates-Money*HowManyYears\n",
    "    # 平均年利息\n",
    "    interest_average = (MoneyAgainYears*rates-Money*HowManyYears)/(HowManyYears+AgainYears)\n",
    "    # \n",
    "    Cumulation = pd.DataFrame([[MoneyAgainYears,AgainYears,rate_A,rate_B,rate_C,interest,principal_with_interest,interest_all,interest_average]], columns=[u'存款金额(元)',u'存款年限(年)',u'总年单利(%)',u'总年复利(%)',u'总期复利(%)',u'利息(元)',u'本息(元)',u'总利息',u'平均年利息'])\n",
    "    \n",
    "    return Cumulation.round(3)"
   ]
  }
 ],
 "metadata": {
  "kernelspec": {
   "display_name": "Python 2",
   "language": "python",
   "name": "python2"
  },
  "language_info": {
   "codemirror_mode": {
    "name": "ipython",
    "version": 2
   },
   "file_extension": ".py",
   "mimetype": "text/x-python",
   "name": "python",
   "nbconvert_exporter": "python",
   "pygments_lexer": "ipython2",
   "version": "2.7.13"
  }
 },
 "nbformat": 4,
 "nbformat_minor": 2
}
