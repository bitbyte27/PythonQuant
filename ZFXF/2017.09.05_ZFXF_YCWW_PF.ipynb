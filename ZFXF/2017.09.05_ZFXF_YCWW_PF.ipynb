{
 "cells": [
  {
   "cell_type": "code",
   "execution_count": 1,
   "metadata": {
    "collapsed": true
   },
   "outputs": [],
   "source": [
    "import numpy as np\n",
    "import pandas as pd\n",
    "import matplotlib.pyplot as plt"
   ]
  },
  {
   "cell_type": "code",
   "execution_count": 2,
   "metadata": {
    "collapsed": true
   },
   "outputs": [],
   "source": [
    "stock_data = pd.read_csv('datacsv/002210.csv')\n",
    "stock_data = stock_data.set_index('date')\n",
    "stock_data.index = pd.to_datetime(stock_data.index)\n",
    "stock_data = stock_data.sort_index(axis=0, ascending=True)"
   ]
  },
  {
   "cell_type": "code",
   "execution_count": 3,
   "metadata": {
    "collapsed": true
   },
   "outputs": [],
   "source": [
    "DA = 6\n",
    "stadate = '20110101'\n",
    "enddate = '20170731'"
   ]
  },
  {
   "cell_type": "code",
   "execution_count": 4,
   "metadata": {
    "collapsed": true
   },
   "outputs": [],
   "source": [
    "LLV_min = stock_data['close'].rolling(window=DA).min()\n",
    "HHV_max = stock_data['close'].rolling(window=DA).max()"
   ]
  },
  {
   "cell_type": "code",
   "execution_count": 5,
   "metadata": {
    "collapsed": true
   },
   "outputs": [],
   "source": [
    "HHV_LLV = pd.concat([stock_data['close'], LLV_min, HHV_max], axis=1)\n",
    "HHV_LLV.columns = ['close','LLV','HHV']"
   ]
  },
  {
   "cell_type": "code",
   "execution_count": 6,
   "metadata": {
    "collapsed": true
   },
   "outputs": [],
   "source": [
    "HHV_LLV['ABS'] = np.abs(HHV_LLV['HHV']/HHV_LLV['LLV']-1)\n",
    "HHV_LLV['MAX'] = HHV_LLV['ABS'].rolling(window=DA).max()"
   ]
  },
  {
   "cell_type": "code",
   "execution_count": 7,
   "metadata": {
    "collapsed": true
   },
   "outputs": [],
   "source": [
    "HHV_LLV['DA'] = DA\n",
    "HHV_LLV.loc[HHV_LLV['MAX']>0.1,'DA'] = 3"
   ]
  },
  {
   "cell_type": "code",
   "execution_count": 8,
   "metadata": {
    "collapsed": true
   },
   "outputs": [],
   "source": [
    "HHV_LLV['MM'] = HHV_LLV['close'].rolling(window=DA).mean()\n",
    "HHV_LLV.loc[HHV_LLV['DA'] == 3,'MM'] = HHV_LLV['close'].rolling(window=3).mean()\n",
    "HHV_LLV['M1'] = HHV_LLV['MM'].shift(1)"
   ]
  },
  {
   "cell_type": "code",
   "execution_count": 9,
   "metadata": {
    "collapsed": true
   },
   "outputs": [],
   "source": [
    "HHV_LLV = HHV_LLV[pd.to_datetime(HHV_LLV.index) >= pd.to_datetime(stadate)]\n",
    "HHV_LLV = HHV_LLV[pd.to_datetime(HHV_LLV.index) <= pd.to_datetime(enddate)]"
   ]
  },
  {
   "cell_type": "code",
   "execution_count": 10,
   "metadata": {
    "scrolled": false
   },
   "outputs": [
    {
     "data": {
      "text/html": [
       "<div>\n",
       "<style>\n",
       "    .dataframe thead tr:only-child th {\n",
       "        text-align: right;\n",
       "    }\n",
       "\n",
       "    .dataframe thead th {\n",
       "        text-align: left;\n",
       "    }\n",
       "\n",
       "    .dataframe tbody tr th {\n",
       "        vertical-align: top;\n",
       "    }\n",
       "</style>\n",
       "<table border=\"1\" class=\"dataframe\">\n",
       "  <thead>\n",
       "    <tr style=\"text-align: right;\">\n",
       "      <th></th>\n",
       "      <th>close</th>\n",
       "      <th>LLV</th>\n",
       "      <th>HHV</th>\n",
       "      <th>ABS</th>\n",
       "      <th>MAX</th>\n",
       "      <th>DA</th>\n",
       "      <th>MM</th>\n",
       "      <th>M1</th>\n",
       "    </tr>\n",
       "    <tr>\n",
       "      <th>date</th>\n",
       "      <th></th>\n",
       "      <th></th>\n",
       "      <th></th>\n",
       "      <th></th>\n",
       "      <th></th>\n",
       "      <th></th>\n",
       "      <th></th>\n",
       "      <th></th>\n",
       "    </tr>\n",
       "  </thead>\n",
       "  <tbody>\n",
       "    <tr>\n",
       "      <th>2017-07-25</th>\n",
       "      <td>10.92</td>\n",
       "      <td>9.94</td>\n",
       "      <td>10.92</td>\n",
       "      <td>0.098592</td>\n",
       "      <td>0.098592</td>\n",
       "      <td>6</td>\n",
       "      <td>10.385000</td>\n",
       "      <td>10.228333</td>\n",
       "    </tr>\n",
       "    <tr>\n",
       "      <th>2017-07-26</th>\n",
       "      <td>10.79</td>\n",
       "      <td>9.94</td>\n",
       "      <td>10.92</td>\n",
       "      <td>0.098592</td>\n",
       "      <td>0.098592</td>\n",
       "      <td>6</td>\n",
       "      <td>10.511667</td>\n",
       "      <td>10.385000</td>\n",
       "    </tr>\n",
       "    <tr>\n",
       "      <th>2017-07-27</th>\n",
       "      <td>11.13</td>\n",
       "      <td>10.03</td>\n",
       "      <td>11.13</td>\n",
       "      <td>0.109671</td>\n",
       "      <td>0.109671</td>\n",
       "      <td>3</td>\n",
       "      <td>10.946667</td>\n",
       "      <td>10.511667</td>\n",
       "    </tr>\n",
       "    <tr>\n",
       "      <th>2017-07-28</th>\n",
       "      <td>10.95</td>\n",
       "      <td>10.50</td>\n",
       "      <td>11.13</td>\n",
       "      <td>0.060000</td>\n",
       "      <td>0.109671</td>\n",
       "      <td>3</td>\n",
       "      <td>10.956667</td>\n",
       "      <td>10.946667</td>\n",
       "    </tr>\n",
       "    <tr>\n",
       "      <th>2017-07-31</th>\n",
       "      <td>10.97</td>\n",
       "      <td>10.79</td>\n",
       "      <td>11.13</td>\n",
       "      <td>0.031511</td>\n",
       "      <td>0.109671</td>\n",
       "      <td>3</td>\n",
       "      <td>11.016667</td>\n",
       "      <td>10.956667</td>\n",
       "    </tr>\n",
       "  </tbody>\n",
       "</table>\n",
       "</div>"
      ],
      "text/plain": [
       "            close    LLV    HHV       ABS       MAX  DA         MM         M1\n",
       "date                                                                         \n",
       "2017-07-25  10.92   9.94  10.92  0.098592  0.098592   6  10.385000  10.228333\n",
       "2017-07-26  10.79   9.94  10.92  0.098592  0.098592   6  10.511667  10.385000\n",
       "2017-07-27  11.13  10.03  11.13  0.109671  0.109671   3  10.946667  10.511667\n",
       "2017-07-28  10.95  10.50  11.13  0.060000  0.109671   3  10.956667  10.946667\n",
       "2017-07-31  10.97  10.79  11.13  0.031511  0.109671   3  11.016667  10.956667"
      ]
     },
     "execution_count": 10,
     "metadata": {},
     "output_type": "execute_result"
    }
   ],
   "source": [
    "HHV_LLV.tail()"
   ]
  },
  {
   "cell_type": "code",
   "execution_count": 11,
   "metadata": {
    "collapsed": true
   },
   "outputs": [],
   "source": [
    "import Profit_Functions"
   ]
  },
  {
   "cell_type": "code",
   "execution_count": 12,
   "metadata": {
    "collapsed": true
   },
   "outputs": [],
   "source": [
    "FirstDF = HHV_LLV.loc[:,['close','MM','M1']]\n",
    "buy_compare1 = HHV_LLV.loc[:,'close']\n",
    "buy_compare2 = HHV_LLV.loc[:,'M1']\n",
    "sell_compare1 = HHV_LLV.loc[:,'close']\n",
    "sell_compare2 = HHV_LLV.loc[:,'M1']"
   ]
  },
  {
   "cell_type": "code",
   "execution_count": 13,
   "metadata": {
    "scrolled": true
   },
   "outputs": [
    {
     "data": {
      "text/html": [
       "<div>\n",
       "<style>\n",
       "    .dataframe thead tr:only-child th {\n",
       "        text-align: right;\n",
       "    }\n",
       "\n",
       "    .dataframe thead th {\n",
       "        text-align: left;\n",
       "    }\n",
       "\n",
       "    .dataframe tbody tr th {\n",
       "        vertical-align: top;\n",
       "    }\n",
       "</style>\n",
       "<table border=\"1\" class=\"dataframe\">\n",
       "  <thead>\n",
       "    <tr style=\"text-align: right;\">\n",
       "      <th></th>\n",
       "      <th>close</th>\n",
       "      <th>MM</th>\n",
       "      <th>M1</th>\n",
       "      <th>Points</th>\n",
       "      <th>order</th>\n",
       "      <th>BS_point</th>\n",
       "    </tr>\n",
       "    <tr>\n",
       "      <th>date</th>\n",
       "      <th></th>\n",
       "      <th></th>\n",
       "      <th></th>\n",
       "      <th></th>\n",
       "      <th></th>\n",
       "      <th></th>\n",
       "    </tr>\n",
       "  </thead>\n",
       "  <tbody>\n",
       "    <tr>\n",
       "      <th>2011-01-04</th>\n",
       "      <td>2.33</td>\n",
       "      <td>2.320000</td>\n",
       "      <td>2.293333</td>\n",
       "      <td>1.0</td>\n",
       "      <td>0</td>\n",
       "      <td>2.0</td>\n",
       "    </tr>\n",
       "    <tr>\n",
       "      <th>2011-01-05</th>\n",
       "      <td>2.33</td>\n",
       "      <td>2.326667</td>\n",
       "      <td>2.320000</td>\n",
       "      <td>1.0</td>\n",
       "      <td>1</td>\n",
       "      <td>1.0</td>\n",
       "    </tr>\n",
       "    <tr>\n",
       "      <th>2011-01-06</th>\n",
       "      <td>2.25</td>\n",
       "      <td>2.303333</td>\n",
       "      <td>2.326667</td>\n",
       "      <td>-1.0</td>\n",
       "      <td>2</td>\n",
       "      <td>-2.0</td>\n",
       "    </tr>\n",
       "    <tr>\n",
       "      <th>2011-01-07</th>\n",
       "      <td>2.28</td>\n",
       "      <td>2.286667</td>\n",
       "      <td>2.303333</td>\n",
       "      <td>-1.0</td>\n",
       "      <td>3</td>\n",
       "      <td>-1.0</td>\n",
       "    </tr>\n",
       "    <tr>\n",
       "      <th>2011-01-10</th>\n",
       "      <td>2.19</td>\n",
       "      <td>2.283333</td>\n",
       "      <td>2.286667</td>\n",
       "      <td>-1.0</td>\n",
       "      <td>4</td>\n",
       "      <td>-1.0</td>\n",
       "    </tr>\n",
       "  </tbody>\n",
       "</table>\n",
       "</div>"
      ],
      "text/plain": [
       "            close        MM        M1  Points  order  BS_point\n",
       "date                                                          \n",
       "2011-01-04   2.33  2.320000  2.293333     1.0      0       2.0\n",
       "2011-01-05   2.33  2.326667  2.320000     1.0      1       1.0\n",
       "2011-01-06   2.25  2.303333  2.326667    -1.0      2      -2.0\n",
       "2011-01-07   2.28  2.286667  2.303333    -1.0      3      -1.0\n",
       "2011-01-10   2.19  2.283333  2.286667    -1.0      4      -1.0"
      ]
     },
     "execution_count": 13,
     "metadata": {},
     "output_type": "execute_result"
    }
   ],
   "source": [
    "SPD = Profit_Functions.Strategy_Point_MA(FirstDF,buy_compare1,buy_compare2,sell_compare1,sell_compare2)\n",
    "SPD.head()"
   ]
  },
  {
   "cell_type": "code",
   "execution_count": 14,
   "metadata": {},
   "outputs": [],
   "source": [
    "Buy = 'M1'\n",
    "Sell = 'M1'\n",
    "cash = 10000\n",
    "brokerage = 2.5"
   ]
  },
  {
   "cell_type": "code",
   "execution_count": 15,
   "metadata": {},
   "outputs": [
    {
     "data": {
      "text/html": [
       "<div>\n",
       "<style>\n",
       "    .dataframe thead tr:only-child th {\n",
       "        text-align: right;\n",
       "    }\n",
       "\n",
       "    .dataframe thead th {\n",
       "        text-align: left;\n",
       "    }\n",
       "\n",
       "    .dataframe tbody tr th {\n",
       "        vertical-align: top;\n",
       "    }\n",
       "</style>\n",
       "<table border=\"1\" class=\"dataframe\">\n",
       "  <thead>\n",
       "    <tr style=\"text-align: right;\">\n",
       "      <th></th>\n",
       "      <th>Start_date</th>\n",
       "      <th>End_date</th>\n",
       "      <th>Buy_price</th>\n",
       "      <th>Sell_price</th>\n",
       "      <th>Startcash</th>\n",
       "      <th>Shares</th>\n",
       "      <th>Price</th>\n",
       "      <th>Buy_Brokerage</th>\n",
       "      <th>Surplus</th>\n",
       "      <th>AlphaCat</th>\n",
       "      <th>Sell_Brokerage</th>\n",
       "      <th>Tax</th>\n",
       "      <th>Endcash</th>\n",
       "      <th>Profit_real</th>\n",
       "    </tr>\n",
       "  </thead>\n",
       "  <tbody>\n",
       "    <tr>\n",
       "      <th>0</th>\n",
       "      <td>2011-01-04</td>\n",
       "      <td>2011-01-06</td>\n",
       "      <td>2.293</td>\n",
       "      <td>2.327</td>\n",
       "      <td>10000.000</td>\n",
       "      <td>4300.0</td>\n",
       "      <td>9861.333</td>\n",
       "      <td>5.0</td>\n",
       "      <td>133.667</td>\n",
       "      <td>10004.667</td>\n",
       "      <td>5.0</td>\n",
       "      <td>10.005</td>\n",
       "      <td>10123.329</td>\n",
       "      <td>1.012</td>\n",
       "    </tr>\n",
       "    <tr>\n",
       "      <th>1</th>\n",
       "      <td>2011-01-27</td>\n",
       "      <td>2011-02-22</td>\n",
       "      <td>1.933</td>\n",
       "      <td>2.118</td>\n",
       "      <td>10123.329</td>\n",
       "      <td>5200.0</td>\n",
       "      <td>10053.333</td>\n",
       "      <td>5.0</td>\n",
       "      <td>64.995</td>\n",
       "      <td>11015.333</td>\n",
       "      <td>5.0</td>\n",
       "      <td>11.015</td>\n",
       "      <td>11064.313</td>\n",
       "      <td>1.106</td>\n",
       "    </tr>\n",
       "    <tr>\n",
       "      <th>2</th>\n",
       "      <td>2011-02-24</td>\n",
       "      <td>2011-03-10</td>\n",
       "      <td>2.112</td>\n",
       "      <td>2.202</td>\n",
       "      <td>11064.313</td>\n",
       "      <td>5200.0</td>\n",
       "      <td>10980.667</td>\n",
       "      <td>5.0</td>\n",
       "      <td>78.647</td>\n",
       "      <td>11448.667</td>\n",
       "      <td>5.0</td>\n",
       "      <td>11.449</td>\n",
       "      <td>11510.865</td>\n",
       "      <td>1.151</td>\n",
       "    </tr>\n",
       "    <tr>\n",
       "      <th>3</th>\n",
       "      <td>2011-03-14</td>\n",
       "      <td>2011-03-18</td>\n",
       "      <td>2.197</td>\n",
       "      <td>2.202</td>\n",
       "      <td>11510.865</td>\n",
       "      <td>5200.0</td>\n",
       "      <td>11422.667</td>\n",
       "      <td>5.0</td>\n",
       "      <td>83.198</td>\n",
       "      <td>11448.667</td>\n",
       "      <td>5.0</td>\n",
       "      <td>11.449</td>\n",
       "      <td>11515.416</td>\n",
       "      <td>1.152</td>\n",
       "    </tr>\n",
       "    <tr>\n",
       "      <th>4</th>\n",
       "      <td>2011-03-24</td>\n",
       "      <td>2011-03-31</td>\n",
       "      <td>2.167</td>\n",
       "      <td>2.203</td>\n",
       "      <td>11515.416</td>\n",
       "      <td>5300.0</td>\n",
       "      <td>11483.333</td>\n",
       "      <td>5.0</td>\n",
       "      <td>27.083</td>\n",
       "      <td>11677.667</td>\n",
       "      <td>5.0</td>\n",
       "      <td>11.678</td>\n",
       "      <td>11688.072</td>\n",
       "      <td>1.169</td>\n",
       "    </tr>\n",
       "  </tbody>\n",
       "</table>\n",
       "</div>"
      ],
      "text/plain": [
       "  Start_date   End_date  Buy_price  Sell_price  Startcash  Shares      Price  \\\n",
       "0 2011-01-04 2011-01-06      2.293       2.327  10000.000  4300.0   9861.333   \n",
       "1 2011-01-27 2011-02-22      1.933       2.118  10123.329  5200.0  10053.333   \n",
       "2 2011-02-24 2011-03-10      2.112       2.202  11064.313  5200.0  10980.667   \n",
       "3 2011-03-14 2011-03-18      2.197       2.202  11510.865  5200.0  11422.667   \n",
       "4 2011-03-24 2011-03-31      2.167       2.203  11515.416  5300.0  11483.333   \n",
       "\n",
       "   Buy_Brokerage  Surplus   AlphaCat  Sell_Brokerage     Tax    Endcash  \\\n",
       "0            5.0  133.667  10004.667             5.0  10.005  10123.329   \n",
       "1            5.0   64.995  11015.333             5.0  11.015  11064.313   \n",
       "2            5.0   78.647  11448.667             5.0  11.449  11510.865   \n",
       "3            5.0   83.198  11448.667             5.0  11.449  11515.416   \n",
       "4            5.0   27.083  11677.667             5.0  11.678  11688.072   \n",
       "\n",
       "   Profit_real  \n",
       "0        1.012  \n",
       "1        1.106  \n",
       "2        1.151  \n",
       "3        1.152  \n",
       "4        1.169  "
      ]
     },
     "execution_count": 15,
     "metadata": {},
     "output_type": "execute_result"
    }
   ],
   "source": [
    "SPf = Profit_Functions.Strategy_Profit(SPD,Buy,Sell,cash,brokerage)\n",
    "SPf.head().round(3)"
   ]
  },
  {
   "cell_type": "code",
   "execution_count": 16,
   "metadata": {
    "collapsed": true
   },
   "outputs": [],
   "source": [
    "plt_W = 14\n",
    "plt_H = 4\n",
    "plt_C = 'blue'"
   ]
  },
  {
   "cell_type": "code",
   "execution_count": 17,
   "metadata": {
    "scrolled": true
   },
   "outputs": [
    {
     "data": {
      "image/png": "[encoded data removed]",
      "text/plain": [
       "<matplotlib.figure.Figure at 0xc2fbac8>"
      ]
     },
     "metadata": {},
     "output_type": "display_data"
    }
   ],
   "source": [
    "Profit_Functions.Strategy_Profit_plt(SPf,plt_W,plt_H,plt_C)"
   ]
  },
  {
   "cell_type": "markdown",
   "metadata": {},
   "source": [
    "### 策略总收益率： 2662.435 倍\n",
    "### 基准收益率： 370.815 ％\n",
    "### 上证收益率： 14.736 ％"
   ]
  }
 ],
 "metadata": {
  "kernelspec": {
   "display_name": "Python 2",
   "language": "python",
   "name": "python2"
  },
  "language_info": {
   "codemirror_mode": {
    "name": "ipython",
    "version": 2
   },
   "file_extension": ".py",
   "mimetype": "text/x-python",
   "name": "python",
   "nbconvert_exporter": "python",
   "pygments_lexer": "ipython2",
   "version": "2.7.13"
  }
 },
 "nbformat": 4,
 "nbformat_minor": 2
}
