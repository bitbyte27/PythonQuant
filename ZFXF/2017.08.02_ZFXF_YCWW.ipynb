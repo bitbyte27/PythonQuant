{
 "cells": [
  {
   "cell_type": "code",
   "execution_count": 1,
   "metadata": {
    "collapsed": true
   },
   "outputs": [],
   "source": [
    "import numpy as np\n",
    "import pandas as pd\n",
    "import matplotlib.pyplot as plt"
   ]
  },
  {
   "cell_type": "code",
   "execution_count": 2,
   "metadata": {
    "collapsed": true
   },
   "outputs": [],
   "source": [
    "stock_data = pd.read_csv('datacsv/002210.csv')\n",
    "stock_data = stock_data.set_index('date')\n",
    "stock_data.index = pd.to_datetime(stock_data.index)\n",
    "stock_data = stock_data.sort_index(axis=0, ascending=True)"
   ]
  },
  {
   "cell_type": "code",
   "execution_count": 3,
   "metadata": {},
   "outputs": [],
   "source": [
    "DA = 6\n",
    "stadate = '20110101'\n",
    "enddate = '20170731'"
   ]
  },
  {
   "cell_type": "code",
   "execution_count": 4,
   "metadata": {},
   "outputs": [],
   "source": [
    "LLV_min = stock_data['close'].rolling(window=DA).min()\n",
    "HHV_max = stock_data['close'].rolling(window=DA).max()"
   ]
  },
  {
   "cell_type": "code",
   "execution_count": 5,
   "metadata": {},
   "outputs": [],
   "source": [
    "HHV_LLV = pd.concat([stock_data['close'], LLV_min, HHV_max], axis=1)\n",
    "HHV_LLV.columns = ['close','LLV','HHV']"
   ]
  },
  {
   "cell_type": "code",
   "execution_count": 6,
   "metadata": {},
   "outputs": [],
   "source": [
    "HHV_LLV['ABS'] = np.abs(HHV_LLV['HHV']/HHV_LLV['LLV']-1)\n",
    "HHV_LLV['MAX'] = HHV_LLV['ABS'].rolling(window=DA).max()"
   ]
  },
  {
   "cell_type": "code",
   "execution_count": 7,
   "metadata": {
    "collapsed": true
   },
   "outputs": [],
   "source": [
    "HHV_LLV['DA'] = DA\n",
    "HHV_LLV.loc[HHV_LLV['MAX']>0.1,'DA'] = 3"
   ]
  },
  {
   "cell_type": "code",
   "execution_count": 8,
   "metadata": {},
   "outputs": [],
   "source": [
    "HHV_LLV['MM'] = HHV_LLV['close'].rolling(window=DA).mean()\n",
    "HHV_LLV.loc[HHV_LLV['DA'] == 3,'MM'] = HHV_LLV['close'].rolling(window=3).mean()\n",
    "HHV_LLV['M1'] = HHV_LLV['MM'].shift(1)"
   ]
  },
  {
   "cell_type": "code",
   "execution_count": 9,
   "metadata": {
    "collapsed": true
   },
   "outputs": [],
   "source": [
    "HHV_LLV = HHV_LLV[pd.to_datetime(HHV_LLV.index) >= pd.to_datetime(stadate)]\n",
    "HHV_LLV = HHV_LLV[pd.to_datetime(HHV_LLV.index) <= pd.to_datetime(enddate)]"
   ]
  },
  {
   "cell_type": "code",
   "execution_count": 10,
   "metadata": {
    "scrolled": true
   },
   "outputs": [
    {
     "data": {
      "text/html": [
       "<div>\n",
       "<style>\n",
       "    .dataframe thead tr:only-child th {\n",
       "        text-align: right;\n",
       "    }\n",
       "\n",
       "    .dataframe thead th {\n",
       "        text-align: left;\n",
       "    }\n",
       "\n",
       "    .dataframe tbody tr th {\n",
       "        vertical-align: top;\n",
       "    }\n",
       "</style>\n",
       "<table border=\"1\" class=\"dataframe\">\n",
       "  <thead>\n",
       "    <tr style=\"text-align: right;\">\n",
       "      <th></th>\n",
       "      <th>close</th>\n",
       "      <th>LLV</th>\n",
       "      <th>HHV</th>\n",
       "      <th>ABS</th>\n",
       "      <th>MAX</th>\n",
       "      <th>DA</th>\n",
       "      <th>MM</th>\n",
       "      <th>M1</th>\n",
       "    </tr>\n",
       "    <tr>\n",
       "      <th>date</th>\n",
       "      <th></th>\n",
       "      <th></th>\n",
       "      <th></th>\n",
       "      <th></th>\n",
       "      <th></th>\n",
       "      <th></th>\n",
       "      <th></th>\n",
       "      <th></th>\n",
       "    </tr>\n",
       "  </thead>\n",
       "  <tbody>\n",
       "    <tr>\n",
       "      <th>2017-07-25</th>\n",
       "      <td>10.92</td>\n",
       "      <td>9.94</td>\n",
       "      <td>10.92</td>\n",
       "      <td>0.098592</td>\n",
       "      <td>0.098592</td>\n",
       "      <td>6</td>\n",
       "      <td>10.385000</td>\n",
       "      <td>10.228333</td>\n",
       "    </tr>\n",
       "    <tr>\n",
       "      <th>2017-07-26</th>\n",
       "      <td>10.79</td>\n",
       "      <td>9.94</td>\n",
       "      <td>10.92</td>\n",
       "      <td>0.098592</td>\n",
       "      <td>0.098592</td>\n",
       "      <td>6</td>\n",
       "      <td>10.511667</td>\n",
       "      <td>10.385000</td>\n",
       "    </tr>\n",
       "    <tr>\n",
       "      <th>2017-07-27</th>\n",
       "      <td>11.13</td>\n",
       "      <td>10.03</td>\n",
       "      <td>11.13</td>\n",
       "      <td>0.109671</td>\n",
       "      <td>0.109671</td>\n",
       "      <td>3</td>\n",
       "      <td>10.946667</td>\n",
       "      <td>10.511667</td>\n",
       "    </tr>\n",
       "    <tr>\n",
       "      <th>2017-07-28</th>\n",
       "      <td>10.95</td>\n",
       "      <td>10.50</td>\n",
       "      <td>11.13</td>\n",
       "      <td>0.060000</td>\n",
       "      <td>0.109671</td>\n",
       "      <td>3</td>\n",
       "      <td>10.956667</td>\n",
       "      <td>10.946667</td>\n",
       "    </tr>\n",
       "    <tr>\n",
       "      <th>2017-07-31</th>\n",
       "      <td>10.97</td>\n",
       "      <td>10.79</td>\n",
       "      <td>11.13</td>\n",
       "      <td>0.031511</td>\n",
       "      <td>0.109671</td>\n",
       "      <td>3</td>\n",
       "      <td>11.016667</td>\n",
       "      <td>10.956667</td>\n",
       "    </tr>\n",
       "  </tbody>\n",
       "</table>\n",
       "</div>"
      ],
      "text/plain": [
       "            close    LLV    HHV       ABS       MAX  DA         MM         M1\n",
       "date                                                                         \n",
       "2017-07-25  10.92   9.94  10.92  0.098592  0.098592   6  10.385000  10.228333\n",
       "2017-07-26  10.79   9.94  10.92  0.098592  0.098592   6  10.511667  10.385000\n",
       "2017-07-27  11.13  10.03  11.13  0.109671  0.109671   3  10.946667  10.511667\n",
       "2017-07-28  10.95  10.50  11.13  0.060000  0.109671   3  10.956667  10.946667\n",
       "2017-07-31  10.97  10.79  11.13  0.031511  0.109671   3  11.016667  10.956667"
      ]
     },
     "execution_count": 10,
     "metadata": {},
     "output_type": "execute_result"
    }
   ],
   "source": [
    "HHV_LLV.tail()"
   ]
  },
  {
   "cell_type": "code",
   "execution_count": 11,
   "metadata": {
    "collapsed": true
   },
   "outputs": [],
   "source": [
    "Buy_Point = HHV_LLV.loc[HHV_LLV['close'] > HHV_LLV['M1'],['close','MM','M1']]\n",
    "Buy_Point.loc[0:,'point'] = 1\n",
    "Buy_Point.columns = ['Buy_close','Buy_MM','Buy_M1','Buy_point']"
   ]
  },
  {
   "cell_type": "code",
   "execution_count": 12,
   "metadata": {},
   "outputs": [],
   "source": [
    "Sell_Point = HHV_LLV.loc[HHV_LLV['close'] < HHV_LLV['M1'],['close','MM','M1']]\n",
    "Sell_Point.loc[0:,'point'] = -1\n",
    "Sell_Point.columns = ['Sell_close','Sell_MM','Sell_M1','Sell_point']"
   ]
  },
  {
   "cell_type": "code",
   "execution_count": 13,
   "metadata": {
    "scrolled": false
   },
   "outputs": [],
   "source": [
    "Strategy_data = pd.concat([Buy_Point, Sell_Point], axis=1)\n",
    "Strategy_data = Strategy_data.fillna(0)\n",
    "Strategy_data['Points'] = Strategy_data['Buy_point']+Strategy_data['Sell_point']\n",
    "Strategy_point_data = pd.concat([HHV_LLV, Strategy_data['Points']], axis=1)"
   ]
  },
  {
   "cell_type": "code",
   "execution_count": 14,
   "metadata": {
    "collapsed": true
   },
   "outputs": [],
   "source": [
    "k = len(Strategy_point_data)\n",
    "Strategy_point_data['order'] = np.arange(0,k,1)\n",
    "Strategy_point_data.loc[k-1:k,'Points'] = -1"
   ]
  },
  {
   "cell_type": "code",
   "execution_count": 15,
   "metadata": {
    "collapsed": true
   },
   "outputs": [],
   "source": [
    "Strategy_point_data['BS_point'] = Strategy_point_data['Points'].shift(1)\n",
    "Strategy_point_data['BS_point'] = Strategy_point_data['BS_point'].fillna(-1)\n",
    "Strategy_point_data['BS_point'] = (Strategy_point_data['Points'] - Strategy_point_data['BS_point'])/2+Strategy_point_data['Points']"
   ]
  },
  {
   "cell_type": "code",
   "execution_count": 16,
   "metadata": {},
   "outputs": [],
   "source": [
    "BP_price = Strategy_point_data.loc[Strategy_point_data['BS_point'] == 2, ['order','close','M1','BS_point']]\n",
    "SP_price = Strategy_point_data.loc[Strategy_point_data['BS_point'] == -2, ['order','close','M1','BS_point']]"
   ]
  },
  {
   "cell_type": "code",
   "execution_count": 17,
   "metadata": {},
   "outputs": [],
   "source": [
    "BP_price['startdate'] = BP_price.index\n",
    "BP_Profit = BP_price[['startdate','close','M1']]\n",
    "BP_Profit.columns = ['Start_date','Buy_close','Buy_M1']\n",
    "BP_Profit = BP_Profit.reset_index(drop=True)"
   ]
  },
  {
   "cell_type": "code",
   "execution_count": 18,
   "metadata": {
    "collapsed": true
   },
   "outputs": [],
   "source": [
    "SP_price['enddate'] = SP_price.index\n",
    "SP_Profit = SP_price[['enddate','close','M1']]\n",
    "SP_Profit.columns = ['End_date','Sell_close','Sell_M1']\n",
    "SP_Profit = SP_Profit.reset_index(drop=True)"
   ]
  },
  {
   "cell_type": "code",
   "execution_count": 19,
   "metadata": {
    "collapsed": true
   },
   "outputs": [],
   "source": [
    "Strategy_Profit = pd.concat([BP_Profit, SP_Profit], axis=1, join_axes=[BP_Profit.index])\n",
    "Strategy_Profit = Strategy_Profit[['Start_date','End_date','Buy_close','Sell_close','Buy_M1','Sell_M1']]"
   ]
  },
  {
   "cell_type": "code",
   "execution_count": 20,
   "metadata": {},
   "outputs": [
    {
     "data": {
      "text/html": [
       "<div>\n",
       "<style>\n",
       "    .dataframe thead tr:only-child th {\n",
       "        text-align: right;\n",
       "    }\n",
       "\n",
       "    .dataframe thead th {\n",
       "        text-align: left;\n",
       "    }\n",
       "\n",
       "    .dataframe tbody tr th {\n",
       "        vertical-align: top;\n",
       "    }\n",
       "</style>\n",
       "<table border=\"1\" class=\"dataframe\">\n",
       "  <thead>\n",
       "    <tr style=\"text-align: right;\">\n",
       "      <th></th>\n",
       "      <th>Start_date</th>\n",
       "      <th>End_date</th>\n",
       "      <th>Buy_close</th>\n",
       "      <th>Sell_close</th>\n",
       "      <th>Buy_M1</th>\n",
       "      <th>Sell_M1</th>\n",
       "      <th>Startcash</th>\n",
       "    </tr>\n",
       "  </thead>\n",
       "  <tbody>\n",
       "    <tr>\n",
       "      <th>0</th>\n",
       "      <td>2011-01-04</td>\n",
       "      <td>2011-01-06</td>\n",
       "      <td>2.33</td>\n",
       "      <td>2.25</td>\n",
       "      <td>2.293333</td>\n",
       "      <td>2.326667</td>\n",
       "      <td>10000.0</td>\n",
       "    </tr>\n",
       "    <tr>\n",
       "      <th>1</th>\n",
       "      <td>2011-01-27</td>\n",
       "      <td>2011-02-22</td>\n",
       "      <td>1.96</td>\n",
       "      <td>2.05</td>\n",
       "      <td>1.933333</td>\n",
       "      <td>2.118333</td>\n",
       "      <td>NaN</td>\n",
       "    </tr>\n",
       "    <tr>\n",
       "      <th>2</th>\n",
       "      <td>2011-02-24</td>\n",
       "      <td>2011-03-10</td>\n",
       "      <td>2.12</td>\n",
       "      <td>2.16</td>\n",
       "      <td>2.111667</td>\n",
       "      <td>2.201667</td>\n",
       "      <td>NaN</td>\n",
       "    </tr>\n",
       "    <tr>\n",
       "      <th>3</th>\n",
       "      <td>2011-03-14</td>\n",
       "      <td>2011-03-18</td>\n",
       "      <td>2.20</td>\n",
       "      <td>2.20</td>\n",
       "      <td>2.196667</td>\n",
       "      <td>2.201667</td>\n",
       "      <td>NaN</td>\n",
       "    </tr>\n",
       "    <tr>\n",
       "      <th>4</th>\n",
       "      <td>2011-03-24</td>\n",
       "      <td>2011-03-31</td>\n",
       "      <td>2.18</td>\n",
       "      <td>2.19</td>\n",
       "      <td>2.166667</td>\n",
       "      <td>2.203333</td>\n",
       "      <td>NaN</td>\n",
       "    </tr>\n",
       "  </tbody>\n",
       "</table>\n",
       "</div>"
      ],
      "text/plain": [
       "  Start_date   End_date  Buy_close  Sell_close    Buy_M1   Sell_M1  Startcash\n",
       "0 2011-01-04 2011-01-06       2.33        2.25  2.293333  2.326667    10000.0\n",
       "1 2011-01-27 2011-02-22       1.96        2.05  1.933333  2.118333        NaN\n",
       "2 2011-02-24 2011-03-10       2.12        2.16  2.111667  2.201667        NaN\n",
       "3 2011-03-14 2011-03-18       2.20        2.20  2.196667  2.201667        NaN\n",
       "4 2011-03-24 2011-03-31       2.18        2.19  2.166667  2.203333        NaN"
      ]
     },
     "execution_count": 20,
     "metadata": {},
     "output_type": "execute_result"
    }
   ],
   "source": [
    "p = len(Strategy_Profit)\n",
    "cash = 10000\n",
    "Strategy_Profit.loc[0:0,'Startcash'] = cash\n",
    "Startcash = Strategy_Profit['Startcash'][0]\n",
    "batch = 100\n",
    "brokerage = 2.5\n",
    "Strategy_Profit.head()"
   ]
  },
  {
   "cell_type": "code",
   "execution_count": 21,
   "metadata": {
    "collapsed": true
   },
   "outputs": [],
   "source": [
    "Strategy_Profit.loc[0:0,'Shares'] = (Startcash/batch)//Strategy_Profit['Buy_M1']*batch\n",
    "Strategy_Profit.loc[0:0,'Price'] = Strategy_Profit['Buy_M1']*Strategy_Profit['Shares']\n",
    "bb = Strategy_Profit['Price'][0]*brokerage/10000\n",
    "if bb > 5:\n",
    "    Strategy_Profit.loc[0:0,'Buy_Brokerage'] = bb\n",
    "else:\n",
    "    Strategy_Profit.loc[0:0,'Buy_Brokerage'] = 5\n",
    "# ===============================================\n",
    "Strategy_Profit.loc[0:0,'Surplus'] = Strategy_Profit['Startcash'] - Strategy_Profit['Price'] - Strategy_Profit['Buy_Brokerage']\n",
    "Strategy_Profit.loc[0:0,'AlphaCat'] = Strategy_Profit['Sell_M1']*Strategy_Profit['Shares']\n",
    "sb = Strategy_Profit['AlphaCat'][0]*brokerage/10000\n",
    "if bb > 5:\n",
    "    Strategy_Profit.loc[0:0,'Sell_Brokerage'] = sb\n",
    "else:\n",
    "    Strategy_Profit.loc[0:0,'Sell_Brokerage'] = 5\n",
    "Strategy_Profit.loc[0:0,'Tax'] = Strategy_Profit['AlphaCat']*1.0/1000\n",
    "Strategy_Profit.loc[0:0,'Endcash'] = Strategy_Profit['AlphaCat'] + Strategy_Profit['Surplus'] - Strategy_Profit['Sell_Brokerage'] - Strategy_Profit['Tax']\n",
    "Strategy_Profit.loc[1:1,'Startcash'] = Strategy_Profit['Endcash'][0]\n"
   ]
  },
  {
   "cell_type": "code",
   "execution_count": 22,
   "metadata": {
    "collapsed": true
   },
   "outputs": [],
   "source": [
    "for i in range(1,p):\n",
    "    Strategy_Profit.loc[i:i,'Shares'] = (Strategy_Profit['Startcash']/batch)//Strategy_Profit['Buy_M1']*batch\n",
    "    Strategy_Profit.loc[i:i,'Price'] = Strategy_Profit['Buy_M1']*Strategy_Profit['Shares']\n",
    "    bbr = Strategy_Profit['Price']*brokerage/10000\n",
    "    if bbr[i-1] > 5:\n",
    "        Strategy_Profit.loc[i:i,'Buy_Brokerage'] = bbr[i-1]\n",
    "    else:\n",
    "        Strategy_Profit.loc[i:i,'Buy_Brokerage'] = 5\n",
    "    Strategy_Profit.loc[i:i,'Surplus'] = Strategy_Profit['Startcash'] - Strategy_Profit['Price'] - Strategy_Profit['Buy_Brokerage']\n",
    "    Strategy_Profit.loc[i:i,'AlphaCat'] = Strategy_Profit['Sell_M1']*Strategy_Profit['Shares']\n",
    "    sbr = Strategy_Profit['AlphaCat']*brokerage/10000\n",
    "    if sbr[i-1] > 5:\n",
    "        Strategy_Profit.loc[i:i,'Sell_Brokerage'] = sbr[i-1]\n",
    "    else:\n",
    "        Strategy_Profit.loc[i:i,'Sell_Brokerage'] = 5\n",
    "    Strategy_Profit.loc[i:i,'Tax'] = Strategy_Profit['AlphaCat']*1.0/1000\n",
    "    Strategy_Profit.loc[i:i,'Endcash'] = Strategy_Profit['AlphaCat'] + Strategy_Profit['Surplus'] - Strategy_Profit['Sell_Brokerage'] - Strategy_Profit['Tax']\n",
    "    Strategy_Profit.loc[i+1:i+1,'Startcash'] = Strategy_Profit['Endcash'][i]"
   ]
  },
  {
   "cell_type": "code",
   "execution_count": 23,
   "metadata": {},
   "outputs": [],
   "source": [
    "Strategy_Profit['Profit_real'] = Strategy_Profit['Endcash']/cash"
   ]
  },
  {
   "cell_type": "code",
   "execution_count": 24,
   "metadata": {
    "scrolled": true
   },
   "outputs": [
    {
     "data": {
      "text/html": [
       "<div>\n",
       "<style>\n",
       "    .dataframe thead tr:only-child th {\n",
       "        text-align: right;\n",
       "    }\n",
       "\n",
       "    .dataframe thead th {\n",
       "        text-align: left;\n",
       "    }\n",
       "\n",
       "    .dataframe tbody tr th {\n",
       "        vertical-align: top;\n",
       "    }\n",
       "</style>\n",
       "<table border=\"1\" class=\"dataframe\">\n",
       "  <thead>\n",
       "    <tr style=\"text-align: right;\">\n",
       "      <th></th>\n",
       "      <th>Start_date</th>\n",
       "      <th>End_date</th>\n",
       "      <th>Buy_M1</th>\n",
       "      <th>Sell_M1</th>\n",
       "      <th>Startcash</th>\n",
       "      <th>Shares</th>\n",
       "      <th>Price</th>\n",
       "      <th>Surplus</th>\n",
       "      <th>AlphaCat</th>\n",
       "      <th>Endcash</th>\n",
       "      <th>Profit_real</th>\n",
       "    </tr>\n",
       "  </thead>\n",
       "  <tbody>\n",
       "    <tr>\n",
       "      <th>196</th>\n",
       "      <td>2017-06-19</td>\n",
       "      <td>2017-06-21</td>\n",
       "      <td>10.063</td>\n",
       "      <td>10.072</td>\n",
       "      <td>2.387569e+07</td>\n",
       "      <td>2372500.0</td>\n",
       "      <td>2.387526e+07</td>\n",
       "      <td>-5536.116</td>\n",
       "      <td>2.389503e+07</td>\n",
       "      <td>2.385962e+07</td>\n",
       "      <td>2385.962</td>\n",
       "    </tr>\n",
       "    <tr>\n",
       "      <th>197</th>\n",
       "      <td>2017-06-26</td>\n",
       "      <td>2017-06-28</td>\n",
       "      <td>10.038</td>\n",
       "      <td>10.040</td>\n",
       "      <td>2.385962e+07</td>\n",
       "      <td>2376800.0</td>\n",
       "      <td>2.385911e+07</td>\n",
       "      <td>-5459.148</td>\n",
       "      <td>2.386307e+07</td>\n",
       "      <td>2.382778e+07</td>\n",
       "      <td>2382.778</td>\n",
       "    </tr>\n",
       "    <tr>\n",
       "      <th>198</th>\n",
       "      <td>2017-06-29</td>\n",
       "      <td>2017-07-11</td>\n",
       "      <td>10.020</td>\n",
       "      <td>10.375</td>\n",
       "      <td>2.382778e+07</td>\n",
       "      <td>2378000.0</td>\n",
       "      <td>2.382756e+07</td>\n",
       "      <td>-5748.755</td>\n",
       "      <td>2.467175e+07</td>\n",
       "      <td>2.463536e+07</td>\n",
       "      <td>2463.536</td>\n",
       "    </tr>\n",
       "    <tr>\n",
       "      <th>199</th>\n",
       "      <td>2017-07-13</td>\n",
       "      <td>2017-07-17</td>\n",
       "      <td>10.402</td>\n",
       "      <td>10.457</td>\n",
       "      <td>2.463536e+07</td>\n",
       "      <td>2368400.0</td>\n",
       "      <td>2.463531e+07</td>\n",
       "      <td>-5900.496</td>\n",
       "      <td>2.476557e+07</td>\n",
       "      <td>2.472874e+07</td>\n",
       "      <td>2472.874</td>\n",
       "    </tr>\n",
       "    <tr>\n",
       "      <th>200</th>\n",
       "      <td>2017-07-21</td>\n",
       "      <td>2017-07-31</td>\n",
       "      <td>10.162</td>\n",
       "      <td>10.957</td>\n",
       "      <td>2.472874e+07</td>\n",
       "      <td>2433500.0</td>\n",
       "      <td>2.472842e+07</td>\n",
       "      <td>-5839.330</td>\n",
       "      <td>2.666305e+07</td>\n",
       "      <td>2.662435e+07</td>\n",
       "      <td>2662.435</td>\n",
       "    </tr>\n",
       "  </tbody>\n",
       "</table>\n",
       "</div>"
      ],
      "text/plain": [
       "    Start_date   End_date  Buy_M1  Sell_M1     Startcash     Shares  \\\n",
       "196 2017-06-19 2017-06-21  10.063   10.072  2.387569e+07  2372500.0   \n",
       "197 2017-06-26 2017-06-28  10.038   10.040  2.385962e+07  2376800.0   \n",
       "198 2017-06-29 2017-07-11  10.020   10.375  2.382778e+07  2378000.0   \n",
       "199 2017-07-13 2017-07-17  10.402   10.457  2.463536e+07  2368400.0   \n",
       "200 2017-07-21 2017-07-31  10.162   10.957  2.472874e+07  2433500.0   \n",
       "\n",
       "            Price   Surplus      AlphaCat       Endcash  Profit_real  \n",
       "196  2.387526e+07 -5536.116  2.389503e+07  2.385962e+07     2385.962  \n",
       "197  2.385911e+07 -5459.148  2.386307e+07  2.382778e+07     2382.778  \n",
       "198  2.382756e+07 -5748.755  2.467175e+07  2.463536e+07     2463.536  \n",
       "199  2.463531e+07 -5900.496  2.476557e+07  2.472874e+07     2472.874  \n",
       "200  2.472842e+07 -5839.330  2.666305e+07  2.662435e+07     2662.435  "
      ]
     },
     "execution_count": 24,
     "metadata": {},
     "output_type": "execute_result"
    }
   ],
   "source": [
    "Strategy_Profit_Small = Strategy_Profit[['Start_date','End_date','Buy_M1','Sell_M1','Startcash','Shares','Price','Surplus','AlphaCat','Endcash','Profit_real']]\n",
    "Strategy_Profit_Small.tail().round(3)"
   ]
  },
  {
   "cell_type": "code",
   "execution_count": 25,
   "metadata": {
    "collapsed": true
   },
   "outputs": [],
   "source": [
    "Strategy_Profit_plt = Strategy_Profit[['Start_date','Profit_real']]\n",
    "Strategy_Profit_plt = Strategy_Profit_plt.set_index('Start_date')"
   ]
  },
  {
   "cell_type": "code",
   "execution_count": 26,
   "metadata": {
    "collapsed": true
   },
   "outputs": [],
   "source": [
    "plt.figure(2,figsize=(14,4), dpi=80)\n",
    "ax1 = plt.subplot(111)"
   ]
  },
  {
   "cell_type": "code",
   "execution_count": 27,
   "metadata": {},
   "outputs": [
    {
     "data": {
      "text/plain": [
       "<matplotlib.axes._subplots.AxesSubplot at 0xc5d1978>"
      ]
     },
     "execution_count": 27,
     "metadata": {},
     "output_type": "execute_result"
    }
   ],
   "source": [
    "Strategy_Profit_plt['Profit_real'].plot(color='red', alpha=1)"
   ]
  },
  {
   "cell_type": "code",
   "execution_count": 28,
   "metadata": {
    "scrolled": false
   },
   "outputs": [
    {
     "data": {
      "image/png": "[encoded data removed]",
      "text/plain": [
       "<matplotlib.figure.Figure at 0xc5d1b38>"
      ]
     },
     "metadata": {},
     "output_type": "display_data"
    }
   ],
   "source": [
    "plt.show()"
   ]
  },
  {
   "cell_type": "code",
   "execution_count": 29,
   "metadata": {},
   "outputs": [
    {
     "name": "stdout",
     "output_type": "stream",
     "text": [
      "策略总收益率： 2662.435 倍\n"
     ]
    }
   ],
   "source": [
    "Profit = Strategy_Profit_plt.tail(1)['Profit_real'].values\n",
    "print '策略总收益率：',\n",
    "print Profit[0].round(3),\n",
    "print '倍'"
   ]
  },
  {
   "cell_type": "code",
   "execution_count": 30,
   "metadata": {},
   "outputs": [
    {
     "name": "stdout",
     "output_type": "stream",
     "text": [
      "基准收益率： 370.815 ％\n"
     ]
    }
   ],
   "source": [
    "StartClose = Strategy_point_data.head(1)['close'].values\n",
    "EndClose = Strategy_point_data.tail(1)['close'].values\n",
    "ProfitClose = (EndClose[0] - StartClose[0])/StartClose[0]*100\n",
    "print '基准收益率：',\n",
    "print ProfitClose.round(3),\n",
    "print '％'"
   ]
  },
  {
   "cell_type": "code",
   "execution_count": 31,
   "metadata": {},
   "outputs": [
    {
     "name": "stdout",
     "output_type": "stream",
     "text": [
      "上证收益率： 14.736 ％\n"
     ]
    }
   ],
   "source": [
    "SZ_data = pd.read_csv('datacsv/SZ000000.csv')\n",
    "SZ_data = SZ_data.set_index('date')\n",
    "SZ_data.index = pd.to_datetime(SZ_data.index)\n",
    "SZ_data = SZ_data.sort_index(axis=0, ascending=True)\n",
    "SZ_data = SZ_data[pd.to_datetime(SZ_data.index) >= pd.to_datetime(stadate)]\n",
    "SZ_data = SZ_data[pd.to_datetime(SZ_data.index) <= pd.to_datetime(enddate)]\n",
    "StartSZ = SZ_data.head(1)['close'].values\n",
    "EndSZ = SZ_data.tail(1)['close'].values\n",
    "ProfitSZ = (EndSZ[0] - StartSZ[0])/StartSZ[0]*100\n",
    "print '上证收益率：',\n",
    "print ProfitSZ.round(3),\n",
    "print '％'"
   ]
  }
 ],
 "metadata": {
  "kernelspec": {
   "display_name": "Python 2",
   "language": "python",
   "name": "python2"
  },
  "language_info": {
   "codemirror_mode": {
    "name": "ipython",
    "version": 2
   },
   "file_extension": ".py",
   "mimetype": "text/x-python",
   "name": "python",
   "nbconvert_exporter": "python",
   "pygments_lexer": "ipython2",
   "version": "2.7.13"
  }
 },
 "nbformat": 4,
 "nbformat_minor": 2
}
