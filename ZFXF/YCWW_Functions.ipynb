{
 "cells": [
  {
   "cell_type": "code",
   "execution_count": 1,
   "metadata": {
    "collapsed": true
   },
   "outputs": [],
   "source": [
    "import numpy as np\n",
    "import pandas as pd"
   ]
  },
  {
   "cell_type": "code",
   "execution_count": 2,
   "metadata": {
    "collapsed": true
   },
   "outputs": [],
   "source": [
    "def YCWW(stock_data,DA):\n",
    "    LLV_min = stock_data['close'].rolling(window=DA).min()\n",
    "    HHV_max = stock_data['close'].rolling(window=DA).max()\n",
    "    \n",
    "    HHV_LLV = pd.concat([stock_data['close'], LLV_min, HHV_max], axis=1)\n",
    "    HHV_LLV.columns = ['close','LLV','HHV']\n",
    "    \n",
    "    HHV_LLV['ABS'] = np.abs(HHV_LLV['HHV']/HHV_LLV['LLV']-1)\n",
    "    HHV_LLV['MAX'] = HHV_LLV['ABS'].rolling(window=DA).max()\n",
    "    \n",
    "    HHV_LLV['DA'] = DA\n",
    "    HHV_LLV.loc[HHV_LLV['MAX']>0.1,'DA'] = 3\n",
    "    \n",
    "    HHV_LLV['MM'] = HHV_LLV['close'].rolling(window=DA).mean()\n",
    "    HHV_LLV.loc[HHV_LLV['DA'] == 3,'MM'] = HHV_LLV['close'].rolling(window=3).mean()\n",
    "    HHV_LLV['M1'] = HHV_LLV['MM'].shift(1)\n",
    "    \n",
    "    return HHV_LLV"
   ]
  }
 ],
 "metadata": {
  "kernelspec": {
   "display_name": "Python 2",
   "language": "python",
   "name": "python2"
  },
  "language_info": {
   "codemirror_mode": {
    "name": "ipython",
    "version": 2
   },
   "file_extension": ".py",
   "mimetype": "text/x-python",
   "name": "python",
   "nbconvert_exporter": "python",
   "pygments_lexer": "ipython2",
   "version": "2.7.13"
  }
 },
 "nbformat": 4,
 "nbformat_minor": 2
}
