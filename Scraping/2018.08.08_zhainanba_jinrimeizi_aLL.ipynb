{
 "cells": [
  {
   "cell_type": "code",
   "execution_count": 1,
   "metadata": {
    "collapsed": true
   },
   "outputs": [],
   "source": [
    "import requests\n",
    "import urllib\n",
    "from lxml import etree\n",
    "import os\n",
    "from PIL import Image\n",
    "from io import BytesIO"
   ]
  },
  {
   "cell_type": "code",
   "execution_count": 2,
   "metadata": {
    "collapsed": true
   },
   "outputs": [],
   "source": [
    "# 通过url获取每个图集的链接页面\n",
    "def getArticleLinks(url):\n",
    "    html = requests.get(url)\n",
    "    Selector = etree.HTML(html.text)\n",
    "    # 通过“Xpath”获取每个图集的url后缀\n",
    "    # <header><h2><a href…>\n",
    "    url_list = Selector.xpath('//header/h2/a/@href')\n",
    "    return url_list"
   ]
  },
  {
   "cell_type": "code",
   "execution_count": 3,
   "metadata": {
    "collapsed": true
   },
   "outputs": [],
   "source": [
    "# 每页多少个图集\n",
    "T = 20"
   ]
  },
  {
   "cell_type": "code",
   "execution_count": 4,
   "metadata": {
    "collapsed": true
   },
   "outputs": [],
   "source": [
    "# 获取所有页数的所有图集\n",
    "today_girl = []\n",
    "for i in range(1,4):\n",
    "    today_girl[i*T:(i+1)*T-1] = getArticleLinks('http://zhainanba.net/category/zhainanfuli/jinrimeizi/page/%s' %(i+1))"
   ]
  },
  {
   "cell_type": "code",
   "execution_count": 5,
   "metadata": {},
   "outputs": [
    {
     "data": {
      "text/plain": [
       "44"
      ]
     },
     "execution_count": 5,
     "metadata": {},
     "output_type": "execute_result"
    }
   ],
   "source": [
    "# 图集数量\n",
    "page = len(today_girl)\n",
    "page"
   ]
  },
  {
   "cell_type": "code",
   "execution_count": 6,
   "metadata": {},
   "outputs": [
    {
     "data": {
      "text/plain": [
       "'http://zhainanba.net/17662.html'"
      ]
     },
     "execution_count": 6,
     "metadata": {},
     "output_type": "execute_result"
    }
   ],
   "source": [
    "today_girl[2]"
   ]
  },
  {
   "cell_type": "code",
   "execution_count": 7,
   "metadata": {},
   "outputs": [
    {
     "data": {
      "text/plain": [
       "21"
      ]
     },
     "execution_count": 7,
     "metadata": {},
     "output_type": "execute_result"
    }
   ],
   "source": [
    "S = len('http://zhainanba.net/')\n",
    "S"
   ]
  },
  {
   "cell_type": "code",
   "execution_count": 8,
   "metadata": {},
   "outputs": [
    {
     "data": {
      "text/plain": [
       "'17662'"
      ]
     },
     "execution_count": 8,
     "metadata": {},
     "output_type": "execute_result"
    }
   ],
   "source": [
    "today_girl[2][S:].replace(\".html\", '')"
   ]
  },
  {
   "cell_type": "code",
   "execution_count": 9,
   "metadata": {
    "collapsed": true
   },
   "outputs": [],
   "source": [
    "# 通过url获取每个图集的图片链接\n",
    "def getZNBPic(url):\n",
    "    html = requests.get(url)\n",
    "    Selector = etree.HTML(html.text)\n",
    "    # 通过“Xpath”获取每个图片的url\n",
    "    # <img class=\"alignnone\" src……>\n",
    "    url_pic_list = Selector.xpath('//img[@class=\"alignnone\"]/@src')\n",
    "    return url_pic_list"
   ]
  },
  {
   "cell_type": "code",
   "execution_count": 10,
   "metadata": {
    "collapsed": true
   },
   "outputs": [],
   "source": [
    "# 为每个图集创建独立文件夹，并下载图片\n",
    "def download_img(url_list,page,S):\n",
    "    # 该目录下创建一个downloads文件夹存放下载图片\n",
    "    if not os.path.exists('downloads'):\n",
    "        os.mkdir('downloads')\n",
    "    root_path = os.getcwd()\n",
    "    x =1\n",
    "    for i in range(page):\n",
    "        img_dir = 'downloads/' + url_list[i-1][S:].replace(\".html\", '')\n",
    "        if not os.path.exists(img_dir):\n",
    "            os.mkdir(img_dir)\n",
    "        os.chdir(img_dir)\n",
    "        Pic_Links = getZNBPic(url_list[i-1])\n",
    "        L = len(Pic_Links)\n",
    "        Pic_Links_X = getZNBPic(url_list[i-1])\n",
    "        Pic_Links_i = []\n",
    "        for i in range(0,L):\n",
    "            Pic_Links_i = Pic_Links[i]\n",
    "            if 'http://ac.meijiecao.net/ac/img/znb/meizitu/' not in Pic_Links_i:\n",
    "                Pic_Links_X.remove(Pic_Links_i)\n",
    "        for img in Pic_Links_X:\n",
    "            response = requests.get(img)\n",
    "            image = Image.open(BytesIO(response.content))\n",
    "            image.save('zhainanba_%s.jpg' %x)\n",
    "            x += 1\n",
    "        os.chdir(root_path)"
   ]
  },
  {
   "cell_type": "code",
   "execution_count": 11,
   "metadata": {},
   "outputs": [],
   "source": [
    "download_img(today_girl,page,S)"
   ]
  }
 ],
 "metadata": {
  "kernelspec": {
   "display_name": "Python 2",
   "language": "python",
   "name": "python2"
  },
  "language_info": {
   "codemirror_mode": {
    "name": "ipython",
    "version": 2
   },
   "file_extension": ".py",
   "mimetype": "text/x-python",
   "name": "python",
   "nbconvert_exporter": "python",
   "pygments_lexer": "ipython2",
   "version": "2.7.13"
  }
 },
 "nbformat": 4,
 "nbformat_minor": 2
}
