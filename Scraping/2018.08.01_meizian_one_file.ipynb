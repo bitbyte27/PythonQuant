{
 "cells": [
  {
   "cell_type": "code",
   "execution_count": 1,
   "metadata": {
    "collapsed": true
   },
   "outputs": [],
   "source": [
    "import requests\n",
    "import urllib\n",
    "from lxml import etree"
   ]
  },
  {
   "cell_type": "code",
   "execution_count": 2,
   "metadata": {
    "collapsed": true
   },
   "outputs": [],
   "source": [
    "# 通过url获取每个帖子链接\n",
    "def getArticleLinks(url):\n",
    "    html = requests.get(url)\n",
    "    Selector = etree.HTML(html.text)\n",
    "    # 通过“Xpath”获取每个帖子的url后缀\n",
    "    # <div class=\"threadlist_lz clearfix\">……<a href……>\n",
    "    url_list = Selector.xpath('//div[@class=\"threadlist_lz clearfix\"]/div/a/@href')\n",
    "    # 在每个后缀前加上百度贴吧的url前缀\n",
    "    for i in range(len(url_list)):\n",
    "        url_list[i] = 'http://tieba.baidu.com' + url_list[i]\n",
    "    return url_list"
   ]
  },
  {
   "cell_type": "code",
   "execution_count": 3,
   "metadata": {
    "collapsed": true
   },
   "outputs": [],
   "source": [
    "Article_Links = getArticleLinks('http://tieba.baidu.com/f?kw=%E5%A3%81%E7%BA%B8&ie=utf-8')"
   ]
  },
  {
   "cell_type": "code",
   "execution_count": 4,
   "metadata": {
    "collapsed": true
   },
   "outputs": [],
   "source": [
    "# 通过url获取每个图片的链接\n",
    "def getArticleLinks(url):\n",
    "    html = requests.get(url)\n",
    "    Selector = etree.HTML(html.text)\n",
    "    # 通过“Xpath”获取每个图片的url\n",
    "    # <div class=\"image gallery-group-1\"><div…><a href…><img src=……>\n",
    "    url_list = Selector.xpath('//div[@class=\"image gallery-group-1\"]/div/a/img/@src')\n",
    "    # 在每个链接后加上扩展名“.jpg”，形成图片链接\n",
    "    for i in range(len(url_list)):\n",
    "        url_list[i] = url_list[i] + '.jpg'\n",
    "    return url_list"
   ]
  },
  {
   "cell_type": "code",
   "execution_count": 5,
   "metadata": {
    "collapsed": true
   },
   "outputs": [],
   "source": [
    "meizian = getArticleLinks('http://meizian.com/taotu/disi/62667.html')"
   ]
  },
  {
   "cell_type": "code",
   "execution_count": 6,
   "metadata": {
    "scrolled": false
   },
   "outputs": [
    {
     "name": "stdout",
     "output_type": "stream",
     "text": [
      "http://ww3.sinaimg.cn/large/9dbef4cfgw1f3oz4j8k1bj20q913daej.jpg\n",
      "http://ww1.sinaimg.cn/large/9dbef4cfgw1f3oz4jnqiqj20q90hi76g.jpg\n",
      "http://ww3.sinaimg.cn/large/9dbef4cfgw1f3oz4k4yfgj20q913d43n.jpg\n",
      "http://ww1.sinaimg.cn/large/9dbef4cfgw1f3oz4my7szj20q913dq80.jpg\n",
      "http://ww1.sinaimg.cn/large/9dbef4cfgw1f3oz4n2uocj20q90hi0ud.jpg\n",
      "http://ww3.sinaimg.cn/large/9dbef4cfgw1f3oz4nnnhqj20q90hidi7.jpg\n",
      "http://ww3.sinaimg.cn/large/9dbef4cfgw1f3oz4qg39fj20q90hi772.jpg\n",
      "http://ww1.sinaimg.cn/large/9dbef4cfgw1f3oz4qw9mpj20q90hiq5n.jpg\n",
      "http://ww1.sinaimg.cn/large/9dbef4cfgw1f3oz4ra85aj20q90hiack.jpg\n",
      "http://ww1.sinaimg.cn/large/9dbef4cfgw1f3oz4tmf2mj20q90hiwgq.jpg\n",
      "http://ww3.sinaimg.cn/large/9dbef4cfgw1f3oz4u3gjlj20q90hi41g.jpg\n",
      "http://ww1.sinaimg.cn/large/9dbef4cfgw1f3oz4utiznj20q90higny.jpg\n",
      "http://ww1.sinaimg.cn/large/9dbef4cfgw1f3oz4xhzr0j20q90hiq5j.jpg\n",
      "http://ww2.sinaimg.cn/large/9dbef4cfgw1f3oz4xlp4ij20q90hiwh0.jpg\n",
      "http://ww2.sinaimg.cn/large/9dbef4cfgw1f3oz4y8fwlj20q90hiq5j.jpg\n",
      "http://ww2.sinaimg.cn/large/9dbef4cfgw1f3oz510lssj20q90himzl.jpg\n",
      "http://ww3.sinaimg.cn/large/9dbef4cfgw1f3oz518m5tj20q90hijtk.jpg\n",
      "http://ww2.sinaimg.cn/large/9dbef4cfgw1f3oz51lq86j20q90hiacj.jpg\n",
      "http://ww1.sinaimg.cn/large/9dbef4cfgw1f3oz54fov7j20q90hitb4.jpg\n",
      "http://ww2.sinaimg.cn/large/9dbef4cfgw1ew97s3kzifj20p00gotcy.jpg\n",
      "http://ww2.sinaimg.cn/large/9dbef4cfgw1ejrnfw5heuj20tn18gjuk.jpg\n",
      "http://ww2.sinaimg.cn/large/9dbef4cfgw1ejrot874p1j218g0tn0vq.jpg\n",
      "http://ww2.sinaimg.cn/large/9dbef4cfgw1ejros1t0sij218g0tnjut.jpg\n"
     ]
    }
   ],
   "source": [
    "for img in meizian:\n",
    "    print img"
   ]
  },
  {
   "cell_type": "code",
   "execution_count": 7,
   "metadata": {
    "collapsed": true
   },
   "outputs": [],
   "source": [
    "x = 1\n",
    "for img in meizian:\n",
    "    urllib.urlretrieve(img, 'meizian/meizian_%s.jpg' %x)\n",
    "    x += 1"
   ]
  }
 ],
 "metadata": {
  "kernelspec": {
   "display_name": "Python 2",
   "language": "python",
   "name": "python2"
  },
  "language_info": {
   "codemirror_mode": {
    "name": "ipython",
    "version": 2
   },
   "file_extension": ".py",
   "mimetype": "text/x-python",
   "name": "python",
   "nbconvert_exporter": "python",
   "pygments_lexer": "ipython2",
   "version": "2.7.13"
  }
 },
 "nbformat": 4,
 "nbformat_minor": 2
}
