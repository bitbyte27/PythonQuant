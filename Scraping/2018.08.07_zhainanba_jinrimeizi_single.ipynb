{
 "cells": [
  {
   "cell_type": "code",
   "execution_count": 1,
   "metadata": {
    "collapsed": true
   },
   "outputs": [],
   "source": [
    "import requests\n",
    "import urllib\n",
    "from lxml import etree\n",
    "import os\n",
    "from PIL import Image\n",
    "from io import BytesIO"
   ]
  },
  {
   "cell_type": "code",
   "execution_count": 2,
   "metadata": {
    "collapsed": true
   },
   "outputs": [],
   "source": [
    "# 通过url获取每个图集的链接页面\n",
    "def getArticleLinks(url):\n",
    "    html = requests.get(url)\n",
    "    Selector = etree.HTML(html.text)\n",
    "    # 通过“Xpath”获取每个图集的url后缀\n",
    "    # <header><h2><a href…>\n",
    "    url_list = Selector.xpath('//header/h2/a/@href')\n",
    "    return url_list"
   ]
  },
  {
   "cell_type": "code",
   "execution_count": 3,
   "metadata": {
    "collapsed": true
   },
   "outputs": [],
   "source": [
    "# 每页多少个图集\n",
    "T = 20"
   ]
  },
  {
   "cell_type": "code",
   "execution_count": 4,
   "metadata": {
    "collapsed": true
   },
   "outputs": [],
   "source": [
    "today_girl = []\n",
    "for i in range(0,4):\n",
    "    today_girl[i*T:(i+1)*T-1] = getArticleLinks('http://zhainanba.net/category/zhainanfuli/jinrimeizi/page/%s' %(i+1))"
   ]
  },
  {
   "cell_type": "code",
   "execution_count": 5,
   "metadata": {},
   "outputs": [
    {
     "data": {
      "text/plain": [
       "64"
      ]
     },
     "execution_count": 5,
     "metadata": {},
     "output_type": "execute_result"
    }
   ],
   "source": [
    "len(today_girl)"
   ]
  },
  {
   "cell_type": "code",
   "execution_count": 6,
   "metadata": {
    "collapsed": true
   },
   "outputs": [],
   "source": [
    "# 通过url获取每个图集的图片链接\n",
    "def getZNBPic(url):\n",
    "    html = requests.get(url)\n",
    "    Selector = etree.HTML(html.text)\n",
    "    # 通过“Xpath”获取每个图片的url\n",
    "    # <div class=\"reveal-work-wrap\" data-index=\"0\"><img src……>\n",
    "    # url_pic_list = Selector.xpath('//img/@src')\n",
    "    # <img class=\"alignnone\" src……>\n",
    "    # url_pic_list = Selector.xpath('//img[@class=\"alignnone\"]/@src')\n",
    "    # <P><img class=\"aligncenter size-full wp-image-16492\" src……>\n",
    "    url_pic_list = Selector.xpath('//img[@class]/@src')\n",
    "    return url_pic_list"
   ]
  },
  {
   "cell_type": "code",
   "execution_count": 7,
   "metadata": {
    "collapsed": true
   },
   "outputs": [],
   "source": [
    "P = '16788'"
   ]
  },
  {
   "cell_type": "code",
   "execution_count": 8,
   "metadata": {
    "collapsed": true,
    "scrolled": false
   },
   "outputs": [],
   "source": [
    "znb = getZNBPic('http://zhainanba.net/' + P + '.html')\n",
    "K = len(znb)\n",
    "znb_jpg = getZNBPic('http://zhainanba.net/' + P + '.html')"
   ]
  },
  {
   "cell_type": "code",
   "execution_count": 9,
   "metadata": {},
   "outputs": [
    {
     "data": {
      "text/plain": [
       "['https://i2.tiimg.com/579662/40e762cf311027ac.gif',\n",
       " 'https://wx2.sinaimg.cn/mw690/006gYm3hly1fg8sblkcxdj30dw02iq2z.jpg',\n",
       " 'http://zhainanba.net/wp-content/uploads/2017/12/dee934c6jw1fai85wruakj20ku0wx762.jpg',\n",
       " 'http://zhainanba.net/wp-content/uploads/2017/12/dee934c6jw1fai860ycggj20ku0vamzx.jpg',\n",
       " 'http://zhainanba.net/wp-content/uploads/2017/12/dee934c6jw1fai85ztl2xj20ku0va75q.jpg',\n",
       " 'http://zhainanba.net/wp-content/uploads/2017/12/dee934c6jw1fai85yv1ydj20ku0vagn3.jpg',\n",
       " 'http://zhainanba.net/wp-content/uploads/2017/12/dee934c6ly1fmg7zhejnkj21kw2dche2.jpg',\n",
       " 'http://zhainanba.net/wp-content/uploads/2017/12/dee934c6ly1fmg7zf4y3wj21kw2dche0.jpg',\n",
       " 'http://zhainanba.net/wp-content/uploads/2017/12/dee934c6ly1fmg7z5ioqxj21kw2dc4qw.jpg',\n",
       " 'http://zhainanba.net/wp-content/uploads/2017/12/dee934c6ly1fmg7z0tzbuj21kw2dcx6v.jpg',\n",
       " 'http://zhainanba.net/wp-content/uploads/2017/12/dee934c6ly1fhnzk0lf9ej21571ptb2f.jpg',\n",
       " 'http://zhainanba.net/wp-content/uploads/2017/12/dee934c6ly1fhnzjp658yj215c1pzb2f.jpg',\n",
       " 'http://zhainanba.net/wp-content/uploads/2017/12/dee934c6ly1fgfz5w8zmkj20ku0v9tce.jpg',\n",
       " 'http://zhainanba.net/wp-content/uploads/2017/12/dee934c6ly1fdvmval74ij22kw3vcx6v.jpg',\n",
       " 'http://zhainanba.net/wp-content/uploads/2017/12/dee934c6gy1fbyew0s7nej211r1ecgwk.jpg',\n",
       " 'http://zhainanba.net/wp-content/uploads/2017/12/dee934c6gw1fbk5tnwcjkj20qo140k0w.jpg',\n",
       " 'http://zhainanba.net/wp-content/uploads/2018/06/wz1828303-240x180.jpg',\n",
       " 'http://zhainanba.net/wp-content/uploads/2018/05/20180514_meizitu_06_1.jpg',\n",
       " 'http://zhainanba.net/wp-content/uploads/2018/07/20180729_meizitu_02_1.jpg',\n",
       " 'http://zhainanba.net/wp-content/uploads/2018/08/2135132152314.jpg',\n",
       " 'http://zhainanba.net/wp-content/uploads/2018/08/453654234-240x180.jpg',\n",
       " 'http://ac.meijiecao.net/ac/img/znb/wenzhang/wz18579.jpg',\n",
       " 'http://zhainanba.net/wp-content/uploads/2018/07/20180729_meizitu_02_1.jpg',\n",
       " 'http://zhainanba.net/wp-content/uploads/2018/06/hongbao-240x180.png',\n",
       " 'http://zhainanba.net/wp-content/uploads/2018/07/53513423-240x180.jpg',\n",
       " 'http://wx3.sinaimg.cn/mw690/6285c8e0ly1fknhw5c7irg20900g0u0z.gif']"
      ]
     },
     "execution_count": 9,
     "metadata": {},
     "output_type": "execute_result"
    }
   ],
   "source": [
    "znb_jpg"
   ]
  },
  {
   "cell_type": "code",
   "execution_count": 10,
   "metadata": {
    "collapsed": true
   },
   "outputs": [],
   "source": [
    "# 在数组中取出含有某字符段的元素，来解决排除其他非相关图片\n",
    "znb_i = []\n",
    "for i in range(0,K):\n",
    "    znb_i = znb[i]\n",
    "    if 'http://zhainanba.net/wp-content/uploads/2017/' not in znb_i:\n",
    "        znb_jpg.remove(znb_i)"
   ]
  },
  {
   "cell_type": "code",
   "execution_count": 11,
   "metadata": {
    "scrolled": false
   },
   "outputs": [
    {
     "data": {
      "text/plain": [
       "['http://zhainanba.net/wp-content/uploads/2017/12/dee934c6jw1fai85wruakj20ku0wx762.jpg',\n",
       " 'http://zhainanba.net/wp-content/uploads/2017/12/dee934c6jw1fai860ycggj20ku0vamzx.jpg',\n",
       " 'http://zhainanba.net/wp-content/uploads/2017/12/dee934c6jw1fai85ztl2xj20ku0va75q.jpg',\n",
       " 'http://zhainanba.net/wp-content/uploads/2017/12/dee934c6jw1fai85yv1ydj20ku0vagn3.jpg',\n",
       " 'http://zhainanba.net/wp-content/uploads/2017/12/dee934c6ly1fmg7zhejnkj21kw2dche2.jpg',\n",
       " 'http://zhainanba.net/wp-content/uploads/2017/12/dee934c6ly1fmg7zf4y3wj21kw2dche0.jpg',\n",
       " 'http://zhainanba.net/wp-content/uploads/2017/12/dee934c6ly1fmg7z5ioqxj21kw2dc4qw.jpg',\n",
       " 'http://zhainanba.net/wp-content/uploads/2017/12/dee934c6ly1fmg7z0tzbuj21kw2dcx6v.jpg',\n",
       " 'http://zhainanba.net/wp-content/uploads/2017/12/dee934c6ly1fhnzk0lf9ej21571ptb2f.jpg',\n",
       " 'http://zhainanba.net/wp-content/uploads/2017/12/dee934c6ly1fhnzjp658yj215c1pzb2f.jpg',\n",
       " 'http://zhainanba.net/wp-content/uploads/2017/12/dee934c6ly1fgfz5w8zmkj20ku0v9tce.jpg',\n",
       " 'http://zhainanba.net/wp-content/uploads/2017/12/dee934c6ly1fdvmval74ij22kw3vcx6v.jpg',\n",
       " 'http://zhainanba.net/wp-content/uploads/2017/12/dee934c6gy1fbyew0s7nej211r1ecgwk.jpg',\n",
       " 'http://zhainanba.net/wp-content/uploads/2017/12/dee934c6gw1fbk5tnwcjkj20qo140k0w.jpg']"
      ]
     },
     "execution_count": 11,
     "metadata": {},
     "output_type": "execute_result"
    }
   ],
   "source": [
    "znb_jpg"
   ]
  },
  {
   "cell_type": "code",
   "execution_count": 12,
   "metadata": {
    "collapsed": true
   },
   "outputs": [],
   "source": [
    "x = 1\n",
    "for img in znb_jpg:\n",
    "    response = requests.get(img)\n",
    "    image = Image.open(BytesIO(response.content))\n",
    "    image.save('downloads/' + P + '/zhainanba_%s.jpg' %x)\n",
    "    x += 1"
   ]
  },
  {
   "cell_type": "raw",
   "metadata": {},
   "source": [
    "http://www.mmjpg.com/mm/870"
   ]
  },
  {
   "cell_type": "raw",
   "metadata": {},
   "source": [
    "https://www.meitulu.com/item/11834.html"
   ]
  },
  {
   "cell_type": "raw",
   "metadata": {},
   "source": [
    "http://jandan.net/ooxx/page-1#comments"
   ]
  },
  {
   "cell_type": "raw",
   "metadata": {},
   "source": [
    "http://www.xiaohuar.com/"
   ]
  }
 ],
 "metadata": {
  "kernelspec": {
   "display_name": "Python 2",
   "language": "python",
   "name": "python2"
  },
  "language_info": {
   "codemirror_mode": {
    "name": "ipython",
    "version": 2
   },
   "file_extension": ".py",
   "mimetype": "text/x-python",
   "name": "python",
   "nbconvert_exporter": "python",
   "pygments_lexer": "ipython2",
   "version": "2.7.13"
  }
 },
 "nbformat": 4,
 "nbformat_minor": 2
}
