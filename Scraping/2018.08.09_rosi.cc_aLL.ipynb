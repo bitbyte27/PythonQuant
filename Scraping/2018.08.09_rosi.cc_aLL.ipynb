{
 "cells": [
  {
   "cell_type": "code",
   "execution_count": 1,
   "metadata": {
    "collapsed": true
   },
   "outputs": [],
   "source": [
    "import requests\n",
    "import urllib\n",
    "from lxml import etree\n",
    "import os"
   ]
  },
  {
   "cell_type": "markdown",
   "metadata": {},
   "source": [
    "#### 网页的【403】Forbidden测试"
   ]
  },
  {
   "cell_type": "code",
   "execution_count": 2,
   "metadata": {},
   "outputs": [],
   "source": [
    "filename = 'sp'"
   ]
  },
  {
   "cell_type": "code",
   "execution_count": 3,
   "metadata": {},
   "outputs": [
    {
     "data": {
      "text/plain": [
       "<Response [200]>"
      ]
     },
     "execution_count": 3,
     "metadata": {},
     "output_type": "execute_result"
    }
   ],
   "source": [
    "Forbidden_test = 'http://www.rosi55.com/x/' + filename + '/'\n",
    "response = requests.get(Forbidden_test)\n",
    "response"
   ]
  },
  {
   "cell_type": "code",
   "execution_count": 4,
   "metadata": {
    "collapsed": true
   },
   "outputs": [],
   "source": [
    "# 通过url获取每个图集的链接页面\n",
    "def getArticleLinks(url, filename):\n",
    "    html = requests.get(url)\n",
    "    Selector = etree.HTML(html.text)\n",
    "    # 通过“Xpath”获取每个图集的url\n",
    "    # <option value=…>\n",
    "    url_list = Selector.xpath('//option/@value')\n",
    "    # 在每个链接的前加上主链接\n",
    "    for i in range(len(url_list)):\n",
    "        url_list[i] = 'http://www.rosi55.com/x/' + filename + '/' + url_list[i]\n",
    "    return url_list"
   ]
  },
  {
   "cell_type": "code",
   "execution_count": 5,
   "metadata": {
    "scrolled": false
   },
   "outputs": [],
   "source": [
    "rosi = getArticleLinks(Forbidden_test, filename)\n",
    "pageFile = open('shipin_link.txt','w')\n",
    "pageFile.write(str(rosi))\n",
    "pageFile.close()"
   ]
  },
  {
   "cell_type": "code",
   "execution_count": 6,
   "metadata": {},
   "outputs": [
    {
     "data": {
      "text/plain": [
       "['http://www.rosi55.com/x/sp/list_10_1.html',\n",
       " 'http://www.rosi55.com/x/sp/list_10_2.html',\n",
       " 'http://www.rosi55.com/x/sp/list_10_3.html',\n",
       " 'http://www.rosi55.com/x/sp/list_10_4.html',\n",
       " 'http://www.rosi55.com/x/sp/list_10_5.html',\n",
       " 'http://www.rosi55.com/x/sp/list_10_6.html',\n",
       " 'http://www.rosi55.com/x/sp/list_10_7.html',\n",
       " 'http://www.rosi55.com/x/sp/list_10_8.html',\n",
       " 'http://www.rosi55.com/x/sp/list_10_9.html',\n",
       " 'http://www.rosi55.com/x/sp/list_10_10.html',\n",
       " 'http://www.rosi55.com/x/sp/list_10_11.html',\n",
       " 'http://www.rosi55.com/x/sp/list_10_12.html',\n",
       " 'http://www.rosi55.com/x/sp/list_10_13.html',\n",
       " 'http://www.rosi55.com/x/sp/list_10_14.html',\n",
       " 'http://www.rosi55.com/x/sp/list_10_15.html',\n",
       " 'http://www.rosi55.com/x/sp/list_10_16.html',\n",
       " 'http://www.rosi55.com/x/sp/list_10_17.html',\n",
       " 'http://www.rosi55.com/x/sp/list_10_18.html',\n",
       " 'http://www.rosi55.com/x/sp/list_10_19.html',\n",
       " 'http://www.rosi55.com/x/sp/list_10_20.html',\n",
       " 'http://www.rosi55.com/x/sp/list_10_21.html',\n",
       " 'http://www.rosi55.com/x/sp/list_10_22.html']"
      ]
     },
     "execution_count": 6,
     "metadata": {},
     "output_type": "execute_result"
    }
   ],
   "source": [
    "rosi#[10:20]"
   ]
  },
  {
   "cell_type": "code",
   "execution_count": 7,
   "metadata": {},
   "outputs": [
    {
     "data": {
      "text/plain": [
       "22"
      ]
     },
     "execution_count": 7,
     "metadata": {},
     "output_type": "execute_result"
    }
   ],
   "source": [
    "P = len(rosi)\n",
    "P"
   ]
  },
  {
   "cell_type": "code",
   "execution_count": 8,
   "metadata": {
    "collapsed": true
   },
   "outputs": [],
   "source": [
    "# 通过url获取每个图片的链接\n",
    "def getPicLinks(url):\n",
    "    html = requests.get(url)\n",
    "    Selector = etree.HTML(html.text)\n",
    "    # 通过“Xpath”获取每个图片的url\n",
    "    # <li><a href=……><img src=……>\n",
    "    url_list = Selector.xpath('//li/a/img/@src')\n",
    "    return url_list"
   ]
  },
  {
   "cell_type": "code",
   "execution_count": 9,
   "metadata": {},
   "outputs": [
    {
     "data": {
      "text/plain": [
       "'252x.jpg'"
      ]
     },
     "execution_count": 9,
     "metadata": {},
     "output_type": "execute_result"
    }
   ],
   "source": [
    "rosi_pic = getPicLinks(Forbidden_test)\n",
    "T = len(rosi_pic)\n",
    "S = len('http://rosi.xiexiebama.com/rosi/shipin/')\n",
    "rosi_pic[2][S:].replace(\"/\", '')"
   ]
  },
  {
   "cell_type": "code",
   "execution_count": 10,
   "metadata": {},
   "outputs": [
    {
     "data": {
      "text/plain": [
       "264"
      ]
     },
     "execution_count": 10,
     "metadata": {},
     "output_type": "execute_result"
    }
   ],
   "source": [
    "P*T"
   ]
  },
  {
   "cell_type": "code",
   "execution_count": 11,
   "metadata": {},
   "outputs": [],
   "source": [
    "def download_img(url_list):\n",
    "    # 该目录下创建一个downloads文件夹存放下载图片\n",
    "    if not os.path.exists('downloads'):\n",
    "        os.mkdir('downloads')\n",
    "    root_path = os.getcwd()\n",
    "    x =1\n",
    "    for links in rosi:\n",
    "        rosi_pic = getPicLinks(links)\n",
    "        for img in rosi_pic:\n",
    "            S = len('http://rosi.xiexiebama.com/rosi/shipin/')\n",
    "            picname = img[S:].replace(\"/\", '')\n",
    "            urllib.urlretrieve(img, 'downloads/'+ picname +'.jpg')\n",
    "            x += 1\n",
    "    os.chdir(root_path)"
   ]
  },
  {
   "cell_type": "code",
   "execution_count": 12,
   "metadata": {},
   "outputs": [],
   "source": [
    "download_img(rosi)"
   ]
  },
  {
   "cell_type": "code",
   "execution_count": 13,
   "metadata": {
    "collapsed": true
   },
   "outputs": [],
   "source": [
    "# http://rosi.xiexiebama.com/rosi/，neiyi，2448"
   ]
  }
 ],
 "metadata": {
  "kernelspec": {
   "display_name": "Python 2",
   "language": "python",
   "name": "python2"
  },
  "language_info": {
   "codemirror_mode": {
    "name": "ipython",
    "version": 2
   },
   "file_extension": ".py",
   "mimetype": "text/x-python",
   "name": "python",
   "nbconvert_exporter": "python",
   "pygments_lexer": "ipython2",
   "version": "2.7.13"
  }
 },
 "nbformat": 4,
 "nbformat_minor": 2
}
