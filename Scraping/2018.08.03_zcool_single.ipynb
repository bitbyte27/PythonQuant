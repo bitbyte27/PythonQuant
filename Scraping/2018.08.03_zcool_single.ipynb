{
 "cells": [
  {
   "cell_type": "code",
   "execution_count": 1,
   "metadata": {
    "collapsed": true
   },
   "outputs": [],
   "source": [
    "import requests\n",
    "import urllib\n",
    "from lxml import etree\n",
    "import os"
   ]
  },
  {
   "cell_type": "code",
   "execution_count": 2,
   "metadata": {
    "collapsed": true
   },
   "outputs": [],
   "source": [
    "# 通过url获取每个图集的图片链接\n",
    "def getArticlePic(url):\n",
    "    html = requests.get(url)\n",
    "    Selector = etree.HTML(html.text)\n",
    "    # 通过“Xpath”获取每个图片的url\n",
    "    \n",
    "    # ----------\n",
    "    # <div class=\"reveal-work-wrap\" data-index=\"9\"><img data-src……>\n",
    "    # url_pic_list = Selector.xpath('//div[@class=\"reveal-work-wrap\"]/img/@data-src')\n",
    "    \n",
    "    # ----------\n",
    "    # <div class=\"reveal-work-wrap\" data-index=\"0\"><img src……>\n",
    "    url_pic_list = Selector.xpath('//div[@class=\"reveal-work-wrap\"]/img/@src')\n",
    "    \n",
    "    return url_pic_list"
   ]
  },
  {
   "cell_type": "code",
   "execution_count": 3,
   "metadata": {},
   "outputs": [
    {
     "data": {
      "text/plain": [
       "['https://img.zcool.cn/community/01d46d5795a90d0000012e7e06a0b4.JPG@1280w_1l_2o_100sh.jpg',\n",
       " 'https://img.zcool.cn/community/018b6e5795a92c0000018c1b72c31b.jpg@1280w_1l_2o_100sh.jpg',\n",
       " 'https://img.zcool.cn/community/01056d5795a9500000018c1b2416aa.jpg@1280w_1l_2o_100sh.jpg',\n",
       " 'https://img.zcool.cn/community/014db95795a9510000012e7e2cc9be.JPG@128w_1l_2o_100sh.jpg',\n",
       " 'https://img.zcool.cn/community/01109c5795a9710000018c1bf2a9b2.JPG@128w_1l_2o_100sh.jpg',\n",
       " 'https://img.zcool.cn/community/01cce25795a9820000018c1b199afc.JPG@128w_1l_2o_100sh.jpg',\n",
       " 'https://img.zcool.cn/community/015dfe5795a9810000012e7e8eea70.JPG@128w_1l_2o_100sh.jpg',\n",
       " 'https://img.zcool.cn/community/0134875795a9b00000012e7ea6007e.JPG@128w_1l_2o_100sh.jpg',\n",
       " 'https://img.zcool.cn/community/014c525795a9ba0000018c1bccc5fd.jpg@128w_1l_2o_100sh.jpg',\n",
       " 'https://img.zcool.cn/community/0122325795aa1d0000018c1bad20f3.jpg@128w_1l_2o_100sh.jpg']"
      ]
     },
     "execution_count": 3,
     "metadata": {},
     "output_type": "execute_result"
    }
   ],
   "source": [
    "zcool_single = getArticlePic('https://www.zcool.com.cn/work/ZMTc0MjQxMzY=.html')\n",
    "zcool_single"
   ]
  },
  {
   "cell_type": "code",
   "execution_count": 4,
   "metadata": {},
   "outputs": [
    {
     "data": {
      "text/plain": [
       "65"
      ]
     },
     "execution_count": 4,
     "metadata": {},
     "output_type": "execute_result"
    }
   ],
   "source": [
    "len('https://img.zcool.cn/community/01d46d5795a90d0000012e7e06a0b4.JPG')"
   ]
  },
  {
   "cell_type": "code",
   "execution_count": 5,
   "metadata": {
    "collapsed": true
   },
   "outputs": [],
   "source": [
    "for i in range(len(zcool_single)):\n",
    "    zcool_single[i] = zcool_single[i][0:65].replace('JPG','JPG')"
   ]
  },
  {
   "cell_type": "code",
   "execution_count": 6,
   "metadata": {},
   "outputs": [
    {
     "data": {
      "text/plain": [
       "['https://img.zcool.cn/community/01d46d5795a90d0000012e7e06a0b4.JPG',\n",
       " 'https://img.zcool.cn/community/018b6e5795a92c0000018c1b72c31b.jpg',\n",
       " 'https://img.zcool.cn/community/01056d5795a9500000018c1b2416aa.jpg',\n",
       " 'https://img.zcool.cn/community/014db95795a9510000012e7e2cc9be.JPG',\n",
       " 'https://img.zcool.cn/community/01109c5795a9710000018c1bf2a9b2.JPG',\n",
       " 'https://img.zcool.cn/community/01cce25795a9820000018c1b199afc.JPG',\n",
       " 'https://img.zcool.cn/community/015dfe5795a9810000012e7e8eea70.JPG',\n",
       " 'https://img.zcool.cn/community/0134875795a9b00000012e7ea6007e.JPG',\n",
       " 'https://img.zcool.cn/community/014c525795a9ba0000018c1bccc5fd.jpg',\n",
       " 'https://img.zcool.cn/community/0122325795aa1d0000018c1bad20f3.jpg']"
      ]
     },
     "execution_count": 6,
     "metadata": {},
     "output_type": "execute_result"
    }
   ],
   "source": [
    "zcool_single"
   ]
  },
  {
   "cell_type": "code",
   "execution_count": 7,
   "metadata": {
    "collapsed": true
   },
   "outputs": [],
   "source": [
    "x = 1\n",
    "for img in zcool_single:\n",
    "    urllib.urlretrieve(img, 'downloads/fss/zcool_fengshengshou_%s.jpg' %x)\n",
    "    x += 1"
   ]
  }
 ],
 "metadata": {
  "kernelspec": {
   "display_name": "Python 2",
   "language": "python",
   "name": "python2"
  },
  "language_info": {
   "codemirror_mode": {
    "name": "ipython",
    "version": 2
   },
   "file_extension": ".py",
   "mimetype": "text/x-python",
   "name": "python",
   "nbconvert_exporter": "python",
   "pygments_lexer": "ipython2",
   "version": "2.7.13"
  }
 },
 "nbformat": 4,
 "nbformat_minor": 2
}
