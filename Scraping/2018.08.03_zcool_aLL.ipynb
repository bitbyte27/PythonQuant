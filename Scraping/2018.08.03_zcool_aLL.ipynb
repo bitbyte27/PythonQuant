{
 "cells": [
  {
   "cell_type": "code",
   "execution_count": 1,
   "metadata": {
    "collapsed": true
   },
   "outputs": [],
   "source": [
    "import requests\n",
    "import urllib\n",
    "from lxml import etree\n",
    "import os"
   ]
  },
  {
   "cell_type": "code",
   "execution_count": 2,
   "metadata": {
    "collapsed": true
   },
   "outputs": [],
   "source": [
    "# 通过url获取每个图集的图片链接页面\n",
    "def getArticlePic(url):\n",
    "    html = requests.get(url)\n",
    "    Selector = etree.HTML(html.text)\n",
    "    # 通过“Xpath”获取每个图片的url后缀\n",
    "    \n",
    "    # ----------\n",
    "    # <div class=\"reveal-work-wrap\" data-index=\"9\"><img data-src……>\n",
    "    # url_pic_list = Selector.xpath('//div[@class=\"reveal-work-wrap\"]/img/@data-src')\n",
    "    \n",
    "    # ----------\n",
    "    # <div class=\"reveal-work-wrap\" data-index=\"0\"><img src……>\n",
    "    url_pic_list = Selector.xpath('//div[@class=\"reveal-work-wrap\"]/img/@src')\n",
    "    \n",
    "    return url_pic_list"
   ]
  },
  {
   "cell_type": "code",
   "execution_count": 3,
   "metadata": {
    "collapsed": true
   },
   "outputs": [],
   "source": [
    "K = 5"
   ]
  },
  {
   "cell_type": "code",
   "execution_count": 4,
   "metadata": {
    "collapsed": true
   },
   "outputs": [],
   "source": [
    "zcool_aLL = []\n",
    "x = 23\n",
    "for i in range(0,K):\n",
    "    zcool_aLL = getArticlePic('https://www.zcool.com.cn/work/ZNjA2NzQ0NA==/%s.html' %(i+1))\n",
    "    for j in range(len(zcool_aLL)):\n",
    "        zcool_aLL[j] = zcool_aLL[j][0:65].replace('JPG','JPG')\n",
    "    for img in zcool_aLL:\n",
    "        urllib.urlretrieve(img, 'downloads/tlbb/zcool_tianlongbabu_%s.jpg' %x)\n",
    "        x += 1"
   ]
  }
 ],
 "metadata": {
  "kernelspec": {
   "display_name": "Python 2",
   "language": "python",
   "name": "python2"
  },
  "language_info": {
   "codemirror_mode": {
    "name": "ipython",
    "version": 2
   },
   "file_extension": ".py",
   "mimetype": "text/x-python",
   "name": "python",
   "nbconvert_exporter": "python",
   "pygments_lexer": "ipython2",
   "version": "2.7.13"
  }
 },
 "nbformat": 4,
 "nbformat_minor": 2
}
