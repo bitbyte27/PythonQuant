{
 "cells": [
  {
   "cell_type": "code",
   "execution_count": 1,
   "metadata": {
    "collapsed": true
   },
   "outputs": [],
   "source": [
    "import urllib"
   ]
  },
  {
   "cell_type": "code",
   "execution_count": 2,
   "metadata": {
    "collapsed": true
   },
   "outputs": [],
   "source": [
    "# 打开网页\n",
    "page = urllib.urlopen('https://github.com/bitbyte27/PythonQuant')"
   ]
  },
  {
   "cell_type": "code",
   "execution_count": 3,
   "metadata": {},
   "outputs": [],
   "source": [
    "# 读取页面源码\n",
    "htmlcode = page.read()"
   ]
  },
  {
   "cell_type": "code",
   "execution_count": 4,
   "metadata": {},
   "outputs": [],
   "source": [
    "# print htmlcode"
   ]
  },
  {
   "cell_type": "code",
   "execution_count": 5,
   "metadata": {
    "collapsed": true
   },
   "outputs": [],
   "source": [
    "# 以写的方式打开pageCode.txt\n",
    "pageFile = open('pageCode.txt','w')\n",
    "# 写入\n",
    "pageFile.write(htmlcode)\n",
    "# 关闭\n",
    "pageFile.close()"
   ]
  },
  {
   "cell_type": "code",
   "execution_count": 6,
   "metadata": {
    "collapsed": true
   },
   "outputs": [],
   "source": [
    "def get_html(url):\n",
    "    page = urllib.urlopen(url)\n",
    "    html = page.read()\n",
    "    return html"
   ]
  },
  {
   "cell_type": "code",
   "execution_count": 7,
   "metadata": {
    "scrolled": true
   },
   "outputs": [],
   "source": [
    "longzhu = get_html('http://acg.gamersky.com/pic/201605/753535.shtml')"
   ]
  },
  {
   "cell_type": "code",
   "execution_count": 8,
   "metadata": {
    "collapsed": true
   },
   "outputs": [],
   "source": [
    "import re"
   ]
  },
  {
   "cell_type": "code",
   "execution_count": 9,
   "metadata": {
    "collapsed": true
   },
   "outputs": [],
   "source": [
    "# 正则表达式\n",
    "reg = r'alt=\"游民星空\" src=\"(.+?\\.jpg)\"'"
   ]
  },
  {
   "cell_type": "code",
   "execution_count": 10,
   "metadata": {},
   "outputs": [],
   "source": [
    "# 编译一下，运行更快\n",
    "reg_img = re.compile(reg)"
   ]
  },
  {
   "cell_type": "code",
   "execution_count": 11,
   "metadata": {},
   "outputs": [],
   "source": [
    "# 进行匹配\n",
    "imglist = reg_img.findall(longzhu)"
   ]
  },
  {
   "cell_type": "code",
   "execution_count": 12,
   "metadata": {},
   "outputs": [
    {
     "name": "stdout",
     "output_type": "stream",
     "text": [
      "http://img1.gamersky.com/image2016/05/20160517_sy_225_9/gamersky_01small_02_2016517142243E.jpg\n",
      "http://img1.gamersky.com/image2016/05/20160517_sy_225_9/gamersky_02small_04_20165171422202.jpg\n",
      "http://img1.gamersky.com/image2016/05/20160517_sy_225_9/gamersky_03small_06_201651714228BE.jpg\n",
      "http://img1.gamersky.com/image2016/05/20160517_sy_225_9/gamersky_04small_08_20165171422CD3.jpg\n"
     ]
    }
   ],
   "source": [
    "for img in imglist:\n",
    "    print img"
   ]
  },
  {
   "cell_type": "code",
   "execution_count": 13,
   "metadata": {},
   "outputs": [],
   "source": [
    "# 下载图片\n",
    "x = 1\n",
    "for img in imglist:\n",
    "    urllib.urlretrieve(img, 'longzhu/longzhu_%s.jpg' %x)\n",
    "    x += 1"
   ]
  }
 ],
 "metadata": {
  "kernelspec": {
   "display_name": "Python 2",
   "language": "python",
   "name": "python2"
  },
  "language_info": {
   "codemirror_mode": {
    "name": "ipython",
    "version": 2
   },
   "file_extension": ".py",
   "mimetype": "text/x-python",
   "name": "python",
   "nbconvert_exporter": "python",
   "pygments_lexer": "ipython2",
   "version": "2.7.13"
  }
 },
 "nbformat": 4,
 "nbformat_minor": 2
}
