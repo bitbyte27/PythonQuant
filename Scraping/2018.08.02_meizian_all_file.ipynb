{
 "cells": [
  {
   "cell_type": "code",
   "execution_count": 1,
   "metadata": {
    "collapsed": true
   },
   "outputs": [],
   "source": [
    "import requests\n",
    "import urllib\n",
    "from lxml import etree\n",
    "import os"
   ]
  },
  {
   "cell_type": "code",
   "execution_count": 2,
   "metadata": {
    "collapsed": true
   },
   "outputs": [],
   "source": [
    "# 通过url获取每个图集的链接页面\n",
    "def getArticleLinks(url):\n",
    "    html = requests.get(url)\n",
    "    Selector = etree.HTML(html.text)\n",
    "    # 通过“Xpath”获取每个帖子的url后缀\n",
    "    # <div class=\"image gallery-group-1\"><div…><a href…>\n",
    "    url_list = Selector.xpath('//div[@class=\"image gallery-group-1\"]/div/a/@href')\n",
    "    # <div class=\"image gallery-group-1\"><div…><a href…><img alt=……>\n",
    "    # url_list = Selector.xpath('//div[@class=\"image gallery-group-1\"]/div/a/img/@alt')\n",
    "    # 在每个链接的前加上主链接\n",
    "    for i in range(len(url_list)):\n",
    "        url_list[i] = 'http://meizian.com' + url_list[i]\n",
    "    return url_list"
   ]
  },
  {
   "cell_type": "code",
   "execution_count": 3,
   "metadata": {
    "collapsed": true
   },
   "outputs": [],
   "source": [
    "# 第一页测试\n",
    "four_impression_1 = getArticleLinks('http://meizian.com/taotu/disi.html?p=1')"
   ]
  },
  {
   "cell_type": "code",
   "execution_count": 4,
   "metadata": {
    "scrolled": true
   },
   "outputs": [
    {
     "data": {
      "text/plain": [
       "['http://meizian.com/taotu/disi/62667.html',\n",
       " 'http://meizian.com/taotu/disi/62666.html',\n",
       " 'http://meizian.com/taotu/disi/62665.html',\n",
       " 'http://meizian.com/taotu/disi/62664.html',\n",
       " 'http://meizian.com/taotu/disi/62663.html',\n",
       " 'http://meizian.com/taotu/disi/62662.html',\n",
       " 'http://meizian.com/taotu/disi/62661.html',\n",
       " 'http://meizian.com/taotu/disi/62355.html',\n",
       " 'http://meizian.com/taotu/disi/62353.html',\n",
       " 'http://meizian.com/taotu/disi/62204.html']"
      ]
     },
     "execution_count": 4,
     "metadata": {},
     "output_type": "execute_result"
    }
   ],
   "source": [
    "four_impression_1"
   ]
  },
  {
   "cell_type": "code",
   "execution_count": 5,
   "metadata": {},
   "outputs": [
    {
     "data": {
      "text/plain": [
       "'62666'"
      ]
     },
     "execution_count": 5,
     "metadata": {},
     "output_type": "execute_result"
    }
   ],
   "source": [
    "four_impression_1[1][30:].replace(\".html\", '')"
   ]
  },
  {
   "cell_type": "code",
   "execution_count": 6,
   "metadata": {
    "collapsed": true
   },
   "outputs": [],
   "source": [
    "four_impression_all = []"
   ]
  },
  {
   "cell_type": "code",
   "execution_count": 7,
   "metadata": {
    "collapsed": true
   },
   "outputs": [],
   "source": [
    "# 需要下载的图集页面数\n",
    "K = 2"
   ]
  },
  {
   "cell_type": "code",
   "execution_count": 8,
   "metadata": {
    "collapsed": true
   },
   "outputs": [],
   "source": [
    "for i in range(0,K):\n",
    "    four_impression_all[i*10:(i+1)*10-1] = getArticleLinks('http://meizian.com/taotu/disi.html?p=%s' %(i+1))"
   ]
  },
  {
   "cell_type": "code",
   "execution_count": 9,
   "metadata": {
    "scrolled": true
   },
   "outputs": [
    {
     "data": {
      "text/plain": [
       "['http://meizian.com/taotu/disi/62667.html',\n",
       " 'http://meizian.com/taotu/disi/62666.html',\n",
       " 'http://meizian.com/taotu/disi/62665.html',\n",
       " 'http://meizian.com/taotu/disi/62664.html',\n",
       " 'http://meizian.com/taotu/disi/62663.html',\n",
       " 'http://meizian.com/taotu/disi/62662.html',\n",
       " 'http://meizian.com/taotu/disi/62661.html',\n",
       " 'http://meizian.com/taotu/disi/62355.html',\n",
       " 'http://meizian.com/taotu/disi/62353.html',\n",
       " 'http://meizian.com/taotu/disi/62204.html',\n",
       " 'http://meizian.com/taotu/disi/62203.html',\n",
       " 'http://meizian.com/taotu/disi/61824.html',\n",
       " 'http://meizian.com/taotu/disi/61823.html',\n",
       " 'http://meizian.com/taotu/disi/61289.html',\n",
       " 'http://meizian.com/taotu/disi/61288.html',\n",
       " 'http://meizian.com/taotu/disi/61287.html',\n",
       " 'http://meizian.com/taotu/disi/61286.html',\n",
       " 'http://meizian.com/taotu/disi/61131.html',\n",
       " 'http://meizian.com/taotu/disi/61130.html',\n",
       " 'http://meizian.com/taotu/disi/61010.html']"
      ]
     },
     "execution_count": 9,
     "metadata": {},
     "output_type": "execute_result"
    }
   ],
   "source": [
    "four_impression_all#[10:19]"
   ]
  },
  {
   "cell_type": "code",
   "execution_count": 10,
   "metadata": {},
   "outputs": [
    {
     "data": {
      "text/plain": [
       "'62666'"
      ]
     },
     "execution_count": 10,
     "metadata": {},
     "output_type": "execute_result"
    }
   ],
   "source": [
    "four_impression_all[1][30:].replace(\".html\", '')"
   ]
  },
  {
   "cell_type": "code",
   "execution_count": 11,
   "metadata": {
    "collapsed": true
   },
   "outputs": [],
   "source": [
    "# 通过url获取每个图片的链接\n",
    "def getPicLinks(url):\n",
    "    html = requests.get(url)\n",
    "    Selector = etree.HTML(html.text)\n",
    "    # 通过“Xpath”获取每个图片的url\n",
    "    # <div class=\"image gallery-group-1\"><div…><a href…><img src=……>\n",
    "    url_list = Selector.xpath('//div[@class=\"image gallery-group-1\"]/div/a/img/@src')\n",
    "    # 在每个链接后加上扩展名“.jpg”，形成图片链接\n",
    "    for i in range(len(url_list)):\n",
    "        url_list[i] = url_list[i] + '.jpg'\n",
    "    return url_list"
   ]
  },
  {
   "cell_type": "code",
   "execution_count": 12,
   "metadata": {
    "scrolled": true
   },
   "outputs": [
    {
     "data": {
      "text/plain": [
       "20"
      ]
     },
     "execution_count": 12,
     "metadata": {},
     "output_type": "execute_result"
    }
   ],
   "source": [
    "page = len(four_impression_all)\n",
    "page"
   ]
  },
  {
   "cell_type": "raw",
   "metadata": {},
   "source": [
    "# 下载每一个图集链接中的所有图片\n",
    "four_impression_all_pic = []\n",
    "x = 1\n",
    "for j in four_impression_all:\n",
    "    four_impression_all_pic = getPicLinks(j)\n",
    "    for img in four_impression_all_pic:\n",
    "        urllib.urlretrieve(img, 'disi/meizian_%s.jpg' %x)\n",
    "        x += 1\n",
    "# 测试成功，但是所有图片都在一个文件夹，需要把每个图集单独保存在一个文件夹"
   ]
  },
  {
   "cell_type": "code",
   "execution_count": 13,
   "metadata": {
    "collapsed": true
   },
   "outputs": [],
   "source": [
    "# 为每个图集创建独立文件夹，并下载图片\n",
    "def download_img(url_list,page):\n",
    "    # 该目录下创建一个downloads文件夹存放下载图片\n",
    "    if not os.path.exists('downloads'):\n",
    "        os.mkdir('downloads')\n",
    "    root_path = os.getcwd()\n",
    "    x =1\n",
    "    for i in range(page):\n",
    "        img_dir = 'downloads/' + url_list[i-1][30:].replace(\".html\", '')\n",
    "        if not os.path.exists(img_dir):\n",
    "            os.mkdir(img_dir)\n",
    "        os.chdir(img_dir)\n",
    "        Pic_Links = getPicLinks(url_list[i-1])\n",
    "        for img in Pic_Links:\n",
    "            urllib.urlretrieve(img, 'meizian_%s.jpg' %x)\n",
    "            x += 1\n",
    "        os.chdir(root_path)"
   ]
  },
  {
   "cell_type": "code",
   "execution_count": 14,
   "metadata": {},
   "outputs": [],
   "source": [
    "download_img(four_impression_all,page)"
   ]
  }
 ],
 "metadata": {
  "kernelspec": {
   "display_name": "Python 2",
   "language": "python",
   "name": "python2"
  },
  "language_info": {
   "codemirror_mode": {
    "name": "ipython",
    "version": 2
   },
   "file_extension": ".py",
   "mimetype": "text/x-python",
   "name": "python",
   "nbconvert_exporter": "python",
   "pygments_lexer": "ipython2",
   "version": "2.7.13"
  }
 },
 "nbformat": 4,
 "nbformat_minor": 2
}
