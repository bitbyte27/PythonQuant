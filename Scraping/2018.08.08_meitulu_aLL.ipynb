{
 "cells": [
  {
   "cell_type": "code",
   "execution_count": 1,
   "metadata": {
    "collapsed": true
   },
   "outputs": [],
   "source": [
    "import requests\n",
    "import urllib\n",
    "from lxml import etree\n",
    "import os\n",
    "from PIL import Image\n",
    "from io import BytesIO"
   ]
  },
  {
   "cell_type": "code",
   "execution_count": 2,
   "metadata": {
    "collapsed": true
   },
   "outputs": [],
   "source": [
    "# 通过url获取每个图集的链接页面\n",
    "def getArticleLinks(url):\n",
    "    html = requests.get(url)\n",
    "    Selector = etree.HTML(html.text)\n",
    "    # 通过“Xpath”获取每个图集的url\n",
    "    # <p class=p_title><a href=…>\n",
    "    url_list = Selector.xpath('//p[@class]/a/@href')\n",
    "    return url_list"
   ]
  },
  {
   "cell_type": "code",
   "execution_count": 3,
   "metadata": {
    "collapsed": true
   },
   "outputs": [],
   "source": [
    "# 通过url获取每个图片的链接\n",
    "def getPicLinks(url):\n",
    "    html = requests.get(url)\n",
    "    Selector = etree.HTML(html.text)\n",
    "    # 通过“Xpath”获取每个图片的url\n",
    "    # <<img src=……>\n",
    "    url_list = Selector.xpath('//img/@src')\n",
    "    return url_list"
   ]
  },
  {
   "cell_type": "code",
   "execution_count": 4,
   "metadata": {
    "collapsed": true
   },
   "outputs": [],
   "source": [
    "meitulu = getArticleLinks('https://www.meitulu.com/rihan/') # 日韩\n",
    "T = len(meitulu) # T = 60 ；每个页面有60个图集\n",
    "S = len('https://www.meitulu.com/item/') # meitulu[2] = https://www.meitulu.com/item/13193.html\n",
    "Y = meitulu[43][S:].replace(\".html\", '') # 提取图集序号，做为文件夹名称，13193"
   ]
  },
  {
   "cell_type": "markdown",
   "metadata": {},
   "source": [
    "#### 爬虫策略"
   ]
  },
  {
   "cell_type": "code",
   "execution_count": null,
   "metadata": {
    "collapsed": true
   },
   "outputs": [],
   "source": [
    "'''\n",
    "meitulu_Pic = getPicLinks(meitulu[43])\n",
    "L = len(meitulu_Pic)\n",
    "meitulu_Pic_X = getPicLinks(meitulu[43])\n",
    "'''"
   ]
  },
  {
   "cell_type": "code",
   "execution_count": null,
   "metadata": {
    "collapsed": true
   },
   "outputs": [],
   "source": [
    "'''\n",
    "for i in range(0,L):\n",
    "    meitulu_Pic_i = meitulu_Pic[i]\n",
    "    if '13193' not in meitulu_Pic_i:\n",
    "        meitulu_Pic_X.remove(meitulu_Pic[i])\n",
    "    H = len(meitulu_Pic_X)\n",
    "'''"
   ]
  },
  {
   "cell_type": "markdown",
   "metadata": {},
   "source": [
    "#### 换一个非爬虫获取连接的策略"
   ]
  },
  {
   "cell_type": "code",
   "execution_count": 5,
   "metadata": {},
   "outputs": [
    {
     "data": {
      "text/plain": [
       "'13193'"
      ]
     },
     "execution_count": 5,
     "metadata": {},
     "output_type": "execute_result"
    }
   ],
   "source": [
    "Y # https://mtl.ttsqgs.com/images/img/"
   ]
  },
  {
   "cell_type": "code",
   "execution_count": 6,
   "metadata": {
    "collapsed": true
   },
   "outputs": [],
   "source": [
    "meitulu_Pic_j = []\n",
    "for j in range(1,10):\n",
    "    meitulu_Pic_j = 'https://mtl.ttsqgs.com/images/img/' + Y + '/%s.jpg' %j\n",
    "    # meitulu_Pic_j = 'https://www.meitulu.com/img.html?img=https://mtl.ttsqgs.com/images/img/' + Y + '/%s.jpg' %j\n",
    "    # response = requests.get(meitulu_Pic_j)\n",
    "    # image = Image.open(BytesIO(response.content))\n",
    "    # image.save('mtl_%s.jpg' %j)\n",
    "    # urllib.urlretrieve(meitulu_Pic_j, 'mtl_%s.jpg' %j)"
   ]
  },
  {
   "cell_type": "markdown",
   "metadata": {},
   "source": [
    "#### 出现网页禁止爬虫，甚至单独浏览器打开单个图片都被跳转！Response [403]"
   ]
  },
  {
   "cell_type": "code",
   "execution_count": 7,
   "metadata": {},
   "outputs": [
    {
     "data": {
      "text/plain": [
       "'https://mtl.ttsqgs.com/images/img/13193/9.jpg'"
      ]
     },
     "execution_count": 7,
     "metadata": {},
     "output_type": "execute_result"
    }
   ],
   "source": [
    "meitulu_Pic_j"
   ]
  },
  {
   "cell_type": "code",
   "execution_count": 8,
   "metadata": {},
   "outputs": [
    {
     "data": {
      "text/plain": [
       "<Response [403]>"
      ]
     },
     "execution_count": 8,
     "metadata": {},
     "output_type": "execute_result"
    }
   ],
   "source": [
    "response = requests.get(meitulu_Pic_j)\n",
    "response"
   ]
  },
  {
   "cell_type": "code",
   "execution_count": null,
   "metadata": {
    "collapsed": true
   },
   "outputs": [],
   "source": [
    "'''\n",
    "image = Image.open(BytesIO(response.content))\n",
    "image.save('mtl.jpg')\n",
    "'''"
   ]
  },
  {
   "cell_type": "code",
   "execution_count": 9,
   "metadata": {
    "collapsed": true
   },
   "outputs": [],
   "source": [
    "# 需要下载的图集页面数，从第1页起，K为第几页\n",
    "K = 78"
   ]
  },
  {
   "cell_type": "code",
   "execution_count": 10,
   "metadata": {
    "collapsed": true
   },
   "outputs": [],
   "source": [
    "meitulu_all = []\n",
    "for i in range(0,K):\n",
    "    if i==0:\n",
    "        meitulu_all[i*T:(i+1)*T-1] = getArticleLinks('https://www.meitulu.com/rihan/')\n",
    "    else:\n",
    "        meitulu_all[i*T:(i+1)*T-1] = getArticleLinks('https://www.meitulu.com/rihan/%s.html' %(i+1))"
   ]
  },
  {
   "cell_type": "code",
   "execution_count": 11,
   "metadata": {},
   "outputs": [
    {
     "data": {
      "text/plain": [
       "4672"
      ]
     },
     "execution_count": 11,
     "metadata": {},
     "output_type": "execute_result"
    }
   ],
   "source": [
    "len(meitulu_all) # 78页的日韩板块，总共有4612+60=4672个图集"
   ]
  },
  {
   "cell_type": "code",
   "execution_count": 12,
   "metadata": {
    "collapsed": true
   },
   "outputs": [],
   "source": [
    "pageFile = open('meitulu_Links.txt','w')\n",
    "pageFile.write(str(meitulu_all))\n",
    "pageFile.close()"
   ]
  }
 ],
 "metadata": {
  "kernelspec": {
   "display_name": "Python 2",
   "language": "python",
   "name": "python2"
  },
  "language_info": {
   "codemirror_mode": {
    "name": "ipython",
    "version": 2
   },
   "file_extension": ".py",
   "mimetype": "text/x-python",
   "name": "python",
   "nbconvert_exporter": "python",
   "pygments_lexer": "ipython2",
   "version": "2.7.13"
  }
 },
 "nbformat": 4,
 "nbformat_minor": 2
}
