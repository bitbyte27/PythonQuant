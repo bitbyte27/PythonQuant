{
 "cells": [
  {
   "cell_type": "markdown",
   "metadata": {},
   "source": [
    "### 《Python机器学习时间指南》[美]Alexander T. Combs著.黄申.翻译.人民邮电出版社.201705\n",
    "* [Alexander T. Combs's GitHub](https://github.com/acombs)"
   ]
  },
  {
   "cell_type": "markdown",
   "metadata": {},
   "source": [
    "> 第7章 使用机器学习预测股票市场\n",
    "\n",
    "> 7.3 如何开发一个交易策略，P166"
   ]
  },
  {
   "cell_type": "code",
   "execution_count": 1,
   "metadata": {
    "collapsed": true
   },
   "outputs": [],
   "source": [
    "import numpy as np\n",
    "import pandas as pd\n",
    "import matplotlib\n",
    "import matplotlib.pyplot as plt"
   ]
  },
  {
   "cell_type": "code",
   "execution_count": 2,
   "metadata": {
    "collapsed": true
   },
   "outputs": [],
   "source": [
    "def SZ_ETF(stock):\n",
    "    stock = stock.set_index('date')\n",
    "    stock.index = pd.to_datetime(stock.index)\n",
    "    stock = stock.sort_index(axis=0, ascending=True)\n",
    "    stadate = '2012-06-01'\n",
    "    enddate = '2018-06-08'\n",
    "    stock = stock[pd.to_datetime(stock.index) >= pd.to_datetime(stadate)]\n",
    "    stock = stock[pd.to_datetime(stock.index) <= pd.to_datetime(enddate)]\n",
    "    stock['yesterday_close'] = stock['close'].shift(1)\n",
    "    stock.loc[0:1,'yesterday_close'] = stock['open']\n",
    "    stock['range'] = (stock['close']-stock['yesterday_close'])/stock['yesterday_close']\n",
    "    stock['amplitude'] = (stock['high']-stock['low'])/stock['yesterday_close']\n",
    "    return stock"
   ]
  },
  {
   "cell_type": "code",
   "execution_count": 3,
   "metadata": {},
   "outputs": [
    {
     "data": {
      "text/html": [
       "<div>\n",
       "<style>\n",
       "    .dataframe thead tr:only-child th {\n",
       "        text-align: right;\n",
       "    }\n",
       "\n",
       "    .dataframe thead th {\n",
       "        text-align: left;\n",
       "    }\n",
       "\n",
       "    .dataframe tbody tr th {\n",
       "        vertical-align: top;\n",
       "    }\n",
       "</style>\n",
       "<table border=\"1\" class=\"dataframe\">\n",
       "  <thead>\n",
       "    <tr style=\"text-align: right;\">\n",
       "      <th></th>\n",
       "      <th>open</th>\n",
       "      <th>high</th>\n",
       "      <th>low</th>\n",
       "      <th>close</th>\n",
       "      <th>volume</th>\n",
       "      <th>amount</th>\n",
       "      <th>yesterday_close</th>\n",
       "      <th>range</th>\n",
       "      <th>amplitude</th>\n",
       "    </tr>\n",
       "    <tr>\n",
       "      <th>date</th>\n",
       "      <th></th>\n",
       "      <th></th>\n",
       "      <th></th>\n",
       "      <th></th>\n",
       "      <th></th>\n",
       "      <th></th>\n",
       "      <th></th>\n",
       "      <th></th>\n",
       "      <th></th>\n",
       "    </tr>\n",
       "  </thead>\n",
       "  <tbody>\n",
       "    <tr>\n",
       "      <th>2018-06-04</th>\n",
       "      <td>3.797</td>\n",
       "      <td>3.818</td>\n",
       "      <td>3.784</td>\n",
       "      <td>3.814</td>\n",
       "      <td>126079680</td>\n",
       "      <td>47968.090</td>\n",
       "      <td>3.777</td>\n",
       "      <td>0.009796</td>\n",
       "      <td>0.009002</td>\n",
       "    </tr>\n",
       "    <tr>\n",
       "      <th>2018-06-05</th>\n",
       "      <td>3.810</td>\n",
       "      <td>3.850</td>\n",
       "      <td>3.803</td>\n",
       "      <td>3.846</td>\n",
       "      <td>104886000</td>\n",
       "      <td>40123.789</td>\n",
       "      <td>3.814</td>\n",
       "      <td>0.008390</td>\n",
       "      <td>0.012323</td>\n",
       "    </tr>\n",
       "    <tr>\n",
       "      <th>2018-06-06</th>\n",
       "      <td>3.841</td>\n",
       "      <td>3.849</td>\n",
       "      <td>3.831</td>\n",
       "      <td>3.839</td>\n",
       "      <td>83502816</td>\n",
       "      <td>32063.799</td>\n",
       "      <td>3.846</td>\n",
       "      <td>-0.001820</td>\n",
       "      <td>0.004680</td>\n",
       "    </tr>\n",
       "    <tr>\n",
       "      <th>2018-06-07</th>\n",
       "      <td>3.853</td>\n",
       "      <td>3.869</td>\n",
       "      <td>3.831</td>\n",
       "      <td>3.838</td>\n",
       "      <td>109814320</td>\n",
       "      <td>42290.070</td>\n",
       "      <td>3.839</td>\n",
       "      <td>-0.000260</td>\n",
       "      <td>0.009898</td>\n",
       "    </tr>\n",
       "    <tr>\n",
       "      <th>2018-06-08</th>\n",
       "      <td>3.830</td>\n",
       "      <td>3.830</td>\n",
       "      <td>3.768</td>\n",
       "      <td>3.787</td>\n",
       "      <td>135333280</td>\n",
       "      <td>51353.004</td>\n",
       "      <td>3.838</td>\n",
       "      <td>-0.013288</td>\n",
       "      <td>0.016154</td>\n",
       "    </tr>\n",
       "  </tbody>\n",
       "</table>\n",
       "</div>"
      ],
      "text/plain": [
       "             open   high    low  close     volume     amount  yesterday_close  \\\n",
       "date                                                                            \n",
       "2018-06-04  3.797  3.818  3.784  3.814  126079680  47968.090            3.777   \n",
       "2018-06-05  3.810  3.850  3.803  3.846  104886000  40123.789            3.814   \n",
       "2018-06-06  3.841  3.849  3.831  3.839   83502816  32063.799            3.846   \n",
       "2018-06-07  3.853  3.869  3.831  3.838  109814320  42290.070            3.839   \n",
       "2018-06-08  3.830  3.830  3.768  3.787  135333280  51353.004            3.838   \n",
       "\n",
       "               range  amplitude  \n",
       "date                             \n",
       "2018-06-04  0.009796   0.009002  \n",
       "2018-06-05  0.008390   0.012323  \n",
       "2018-06-06 -0.001820   0.004680  \n",
       "2018-06-07 -0.000260   0.009898  \n",
       "2018-06-08 -0.013288   0.016154  "
      ]
     },
     "execution_count": 3,
     "metadata": {},
     "output_type": "execute_result"
    }
   ],
   "source": [
    "# 300ETF(510300)\n",
    "stock_300ETF = pd.read_csv('../ETF/data/510300.csv')\n",
    "stock_300ETF = SZ_ETF(stock_300ETF)\n",
    "stock_300ETF.tail()"
   ]
  },
  {
   "cell_type": "code",
   "execution_count": 4,
   "metadata": {},
   "outputs": [
    {
     "data": {
      "image/png": "[encoded data removed]",
      "text/plain": [
       "<matplotlib.figure.Figure at 0xc51fb00>"
      ]
     },
     "metadata": {},
     "output_type": "display_data"
    }
   ],
   "source": [
    "plt.figure(figsize=(12,8), dpi=80)\n",
    "stock_300ETF['close'].plot(color='green', linewidth='1')\n",
    "plt.show()"
   ]
  },
  {
   "cell_type": "code",
   "execution_count": 5,
   "metadata": {},
   "outputs": [
    {
     "data": {
      "text/plain": [
       "2.3609999999999998"
      ]
     },
     "execution_count": 5,
     "metadata": {},
     "output_type": "execute_result"
    }
   ],
   "source": [
    "# 首个开盘日数据，P167\n",
    "first_open = stock_300ETF['open'].iloc[0]\n",
    "first_open"
   ]
  },
  {
   "cell_type": "code",
   "execution_count": 6,
   "metadata": {},
   "outputs": [
    {
     "data": {
      "text/plain": [
       "3.7869999999999999"
      ]
     },
     "execution_count": 6,
     "metadata": {},
     "output_type": "execute_result"
    }
   ],
   "source": [
    "# 最后一天收盘价，P167\n",
    "last_close = stock_300ETF['close'].iloc[-1]\n",
    "last_close"
   ]
  },
  {
   "cell_type": "code",
   "execution_count": 7,
   "metadata": {},
   "outputs": [
    {
     "data": {
      "text/plain": [
       "1.4260000000000002"
      ]
     },
     "execution_count": 7,
     "metadata": {},
     "output_type": "execute_result"
    }
   ],
   "source": [
    "# 整个时期的变化，P168\n",
    "last_close - first_open"
   ]
  },
  {
   "cell_type": "code",
   "execution_count": 8,
   "metadata": {},
   "outputs": [
    {
     "data": {
      "text/plain": [
       "0.60398136382888623"
      ]
     },
     "execution_count": 8,
     "metadata": {},
     "output_type": "execute_result"
    }
   ],
   "source": [
    "(last_close - first_open)/first_open"
   ]
  },
  {
   "cell_type": "code",
   "execution_count": 9,
   "metadata": {},
   "outputs": [
    {
     "data": {
      "text/plain": [
       "3.7060000000000057"
      ]
     },
     "execution_count": 9,
     "metadata": {},
     "output_type": "execute_result"
    }
   ],
   "source": [
    "# 假设每天开盘时买入，收盘时卖出，P168\n",
    "stock_300ETF['Daily_Change'] = stock_300ETF['close']-stock_300ETF['open']\n",
    "# 整个时期的变化加和，P168\n",
    "stock_300ETF['Daily_Change'].sum()"
   ]
  },
  {
   "cell_type": "code",
   "execution_count": 10,
   "metadata": {},
   "outputs": [
    {
     "data": {
      "text/plain": [
       "0.04966333692999414"
      ]
     },
     "execution_count": 10,
     "metadata": {},
     "output_type": "execute_result"
    }
   ],
   "source": [
    "# 盘中交易标准差，P169\n",
    "np.std(stock_300ETF['Daily_Change'])"
   ]
  },
  {
   "cell_type": "code",
   "execution_count": 11,
   "metadata": {},
   "outputs": [
    {
     "data": {
      "text/plain": [
       "0.022607150116634684"
      ]
     },
     "execution_count": 11,
     "metadata": {},
     "output_type": "execute_result"
    }
   ],
   "source": [
    "# 隔夜交易及隔夜交易标准差，P169\n",
    "stock_300ETF['Overnight_Change'] = stock_300ETF['open']-stock_300ETF['yesterday_close']\n",
    "np.std(stock_300ETF['Overnight_Change'])"
   ]
  },
  {
   "cell_type": "markdown",
   "metadata": {},
   "source": [
    "↑ 隔夜交易与盘中交易相比具有较低的波动性。"
   ]
  },
  {
   "cell_type": "code",
   "execution_count": 12,
   "metadata": {},
   "outputs": [
    {
     "data": {
      "text/plain": [
       "-0.0284037089871612"
      ]
     },
     "execution_count": 12,
     "metadata": {},
     "output_type": "execute_result"
    }
   ],
   "source": [
    "# 下跌交易日的每日变化，P169\n",
    "stock_300ETF[stock_300ETF['Daily_Change'] < 0]['Daily_Change'].mean()"
   ]
  },
  {
   "cell_type": "code",
   "execution_count": 13,
   "metadata": {},
   "outputs": [
    {
     "data": {
      "text/plain": [
       "-0.012148667601683026"
      ]
     },
     "execution_count": 13,
     "metadata": {},
     "output_type": "execute_result"
    }
   ],
   "source": [
    "# 下跌交易日的隔夜变化，P169\n",
    "stock_300ETF[stock_300ETF['Overnight_Change'] < 0]['Overnight_Change'].mean()"
   ]
  },
  {
   "cell_type": "markdown",
   "metadata": {},
   "source": [
    "↑ 隔夜交易策略的平均下降幅度小于盘中交易策略。"
   ]
  },
  {
   "cell_type": "code",
   "execution_count": 14,
   "metadata": {
    "collapsed": true
   },
   "outputs": [],
   "source": [
    "# 每日回报（今日收盘价-昨日收盘价）,P170\n",
    "daily_rtn = (stock_300ETF['close']-stock_300ETF['yesterday_close'])/stock_300ETF['yesterday_close']*100\n",
    "\n",
    "# 盘中回报（当日收盘价-开盘价）,P170\n",
    "id_rtn = (stock_300ETF['close']-stock_300ETF['open'])/stock_300ETF['open']*100\n",
    "\n",
    "# 隔夜回报（今日开盘价-昨日收盘价）,P170\n",
    "on_rtn = (stock_300ETF['open']-stock_300ETF['yesterday_close'])/stock_300ETF['yesterday_close']*100"
   ]
  },
  {
   "cell_type": "code",
   "execution_count": 15,
   "metadata": {
    "collapsed": true
   },
   "outputs": [],
   "source": [
    "# 策略统计信息，P170\n",
    "# encoding: utf-8\n",
    "def get_stats(s, n=252):\n",
    "    s = s.dropna()\n",
    "    wins = len(s[s>0])\n",
    "    losses = len(s[s<0])\n",
    "    evens = len(s[s==0])\n",
    "    mean_w = round(s[s>0].mean(), 3)\n",
    "    mean_l = round(s[s<0].mean(), 3)\n",
    "    win_r = round(wins/losses, 3)\n",
    "    mean_trd = round(s.mean(), 3)\n",
    "    sd = round(np.std(s), 3)\n",
    "    max_l = round(s.min(), 3)\n",
    "    max_w = round(s.max(), 3)\n",
    "    sharpe_r = round((s.mean()/np.std(s))*np.sqrt(n), 4)\n",
    "    cnt = len(s)\n",
    "    print '交易次数(Trades)：',cnt\n",
    "    print '盈利次数(nWins)：',wins\n",
    "    print '亏损次数(nLosses)：',losses\n",
    "    print '盈亏平衡次数(nBreakeven)：',evens\n",
    "    print '盈利/亏损比例(nWin/nLoss_Radio)：',win_r\n",
    "    print '盈利的平均值(nMean_Win)：',mean_w\n",
    "    print '亏损的平均值(nMean_Loss)：',mean_l\n",
    "    print '平均收益(nMean)：',mean_trd\n",
    "    print '标准差(nStd_Dev)：',sd\n",
    "    print '最大亏损(nMax_Loss)：',max_l\n",
    "    print '最大盈利(nMax_Win)：',max_w\n",
    "    print '夏普比率(nSharpe_Ratio)：',sharpe_r"
   ]
  },
  {
   "cell_type": "code",
   "execution_count": 16,
   "metadata": {},
   "outputs": [
    {
     "name": "stdout",
     "output_type": "stream",
     "text": [
      "交易次数(Trades)： 1466\n",
      "盈利次数(nWins)： 731\n",
      "亏损次数(nLosses)： 700\n",
      "盈亏平衡次数(nBreakeven)： 35\n",
      "盈利/亏损比例(nWin/nLoss_Radio)： 1.0\n",
      "盈利的平均值(nMean_Win)： 1.105\n",
      "亏损的平均值(nMean_Loss)： -1.057\n",
      "平均收益(nMean)： 0.046\n",
      "标准差(nStd_Dev)： 1.674\n",
      "最大亏损(nMax_Loss)： -10.532\n",
      "最大盈利(nMax_Win)： 10.45\n",
      "夏普比率(nSharpe_Ratio)： 0.4394\n"
     ]
    }
   ],
   "source": [
    "get_stats(daily_rtn)"
   ]
  },
  {
   "cell_type": "code",
   "execution_count": 17,
   "metadata": {},
   "outputs": [
    {
     "name": "stdout",
     "output_type": "stream",
     "text": [
      "交易次数(Trades)： 1466\n",
      "盈利次数(nWins)： 739\n",
      "亏损次数(nLosses)： 701\n",
      "盈亏平衡次数(nBreakeven)： 26\n",
      "盈利/亏损比例(nWin/nLoss_Radio)： 1.0\n",
      "盈利的平均值(nMean_Win)： 1.054\n",
      "亏损的平均值(nMean_Loss)： -0.913\n",
      "平均收益(nMean)： 0.094\n",
      "标准差(nStd_Dev)： 1.492\n",
      "最大亏损(nMax_Loss)： -8.358\n",
      "最大盈利(nMax_Win)： 11.903\n",
      "夏普比率(nSharpe_Ratio)： 1.0034\n"
     ]
    }
   ],
   "source": [
    "get_stats(id_rtn)"
   ]
  },
  {
   "cell_type": "code",
   "execution_count": 18,
   "metadata": {
    "scrolled": false
   },
   "outputs": [
    {
     "name": "stdout",
     "output_type": "stream",
     "text": [
      "交易次数(Trades)： 1466\n",
      "盈利次数(nWins)： 593\n",
      "亏损次数(nLosses)： 713\n",
      "盈亏平衡次数(nBreakeven)： 160\n",
      "盈利/亏损比例(nWin/nLoss_Radio)： 0.0\n",
      "盈利的平均值(nMean_Win)： 0.356\n",
      "亏损的平均值(nMean_Loss)： -0.396\n",
      "平均收益(nMean)： -0.049\n",
      "标准差(nStd_Dev)： 0.667\n",
      "最大亏损(nMax_Loss)： -8.063\n",
      "最大盈利(nMax_Win)： 10.327\n",
      "夏普比率(nSharpe_Ratio)： -1.1587\n"
     ]
    }
   ],
   "source": [
    "get_stats(on_rtn)"
   ]
  },
  {
   "cell_type": "code",
   "execution_count": 19,
   "metadata": {},
   "outputs": [
    {
     "data": {
      "text/html": [
       "<div>\n",
       "<style>\n",
       "    .dataframe thead tr:only-child th {\n",
       "        text-align: right;\n",
       "    }\n",
       "\n",
       "    .dataframe thead th {\n",
       "        text-align: left;\n",
       "    }\n",
       "\n",
       "    .dataframe tbody tr th {\n",
       "        vertical-align: top;\n",
       "    }\n",
       "</style>\n",
       "<table border=\"1\" class=\"dataframe\">\n",
       "  <thead>\n",
       "    <tr style=\"text-align: right;\">\n",
       "      <th></th>\n",
       "      <th>open</th>\n",
       "      <th>high</th>\n",
       "      <th>low</th>\n",
       "      <th>close</th>\n",
       "      <th>volume</th>\n",
       "      <th>amount</th>\n",
       "      <th>yesterday_close</th>\n",
       "      <th>range</th>\n",
       "      <th>amplitude</th>\n",
       "      <th>Daily_Change</th>\n",
       "      <th>Overnight_Change</th>\n",
       "    </tr>\n",
       "    <tr>\n",
       "      <th>date</th>\n",
       "      <th></th>\n",
       "      <th></th>\n",
       "      <th></th>\n",
       "      <th></th>\n",
       "      <th></th>\n",
       "      <th></th>\n",
       "      <th></th>\n",
       "      <th></th>\n",
       "      <th></th>\n",
       "      <th></th>\n",
       "      <th></th>\n",
       "    </tr>\n",
       "  </thead>\n",
       "  <tbody>\n",
       "    <tr>\n",
       "      <th>2018-06-04</th>\n",
       "      <td>3.797</td>\n",
       "      <td>3.818</td>\n",
       "      <td>3.784</td>\n",
       "      <td>3.814</td>\n",
       "      <td>126079680</td>\n",
       "      <td>47968.090</td>\n",
       "      <td>3.777</td>\n",
       "      <td>0.009796</td>\n",
       "      <td>0.009002</td>\n",
       "      <td>0.017</td>\n",
       "      <td>0.020</td>\n",
       "    </tr>\n",
       "    <tr>\n",
       "      <th>2018-06-05</th>\n",
       "      <td>3.810</td>\n",
       "      <td>3.850</td>\n",
       "      <td>3.803</td>\n",
       "      <td>3.846</td>\n",
       "      <td>104886000</td>\n",
       "      <td>40123.789</td>\n",
       "      <td>3.814</td>\n",
       "      <td>0.008390</td>\n",
       "      <td>0.012323</td>\n",
       "      <td>0.036</td>\n",
       "      <td>-0.004</td>\n",
       "    </tr>\n",
       "    <tr>\n",
       "      <th>2018-06-06</th>\n",
       "      <td>3.841</td>\n",
       "      <td>3.849</td>\n",
       "      <td>3.831</td>\n",
       "      <td>3.839</td>\n",
       "      <td>83502816</td>\n",
       "      <td>32063.799</td>\n",
       "      <td>3.846</td>\n",
       "      <td>-0.001820</td>\n",
       "      <td>0.004680</td>\n",
       "      <td>-0.002</td>\n",
       "      <td>-0.005</td>\n",
       "    </tr>\n",
       "    <tr>\n",
       "      <th>2018-06-07</th>\n",
       "      <td>3.853</td>\n",
       "      <td>3.869</td>\n",
       "      <td>3.831</td>\n",
       "      <td>3.838</td>\n",
       "      <td>109814320</td>\n",
       "      <td>42290.070</td>\n",
       "      <td>3.839</td>\n",
       "      <td>-0.000260</td>\n",
       "      <td>0.009898</td>\n",
       "      <td>-0.015</td>\n",
       "      <td>0.014</td>\n",
       "    </tr>\n",
       "    <tr>\n",
       "      <th>2018-06-08</th>\n",
       "      <td>3.830</td>\n",
       "      <td>3.830</td>\n",
       "      <td>3.768</td>\n",
       "      <td>3.787</td>\n",
       "      <td>135333280</td>\n",
       "      <td>51353.004</td>\n",
       "      <td>3.838</td>\n",
       "      <td>-0.013288</td>\n",
       "      <td>0.016154</td>\n",
       "      <td>-0.043</td>\n",
       "      <td>-0.008</td>\n",
       "    </tr>\n",
       "  </tbody>\n",
       "</table>\n",
       "</div>"
      ],
      "text/plain": [
       "             open   high    low  close     volume     amount  yesterday_close  \\\n",
       "date                                                                            \n",
       "2018-06-04  3.797  3.818  3.784  3.814  126079680  47968.090            3.777   \n",
       "2018-06-05  3.810  3.850  3.803  3.846  104886000  40123.789            3.814   \n",
       "2018-06-06  3.841  3.849  3.831  3.839   83502816  32063.799            3.846   \n",
       "2018-06-07  3.853  3.869  3.831  3.838  109814320  42290.070            3.839   \n",
       "2018-06-08  3.830  3.830  3.768  3.787  135333280  51353.004            3.838   \n",
       "\n",
       "               range  amplitude  Daily_Change  Overnight_Change  \n",
       "date                                                             \n",
       "2018-06-04  0.009796   0.009002         0.017             0.020  \n",
       "2018-06-05  0.008390   0.012323         0.036            -0.004  \n",
       "2018-06-06 -0.001820   0.004680        -0.002            -0.005  \n",
       "2018-06-07 -0.000260   0.009898        -0.015             0.014  \n",
       "2018-06-08 -0.013288   0.016154        -0.043            -0.008  "
      ]
     },
     "execution_count": 19,
     "metadata": {},
     "output_type": "execute_result"
    }
   ],
   "source": [
    "stock_300ETF.tail()"
   ]
  },
  {
   "cell_type": "markdown",
   "metadata": {},
   "source": [
    "> 使用支持向量回归，构建我们的模型，P175"
   ]
  },
  {
   "cell_type": "code",
   "execution_count": 20,
   "metadata": {
    "collapsed": true
   },
   "outputs": [],
   "source": [
    "for i in range(1, 21, 1):\n",
    "    stock_300ETF.loc[:,'close_minus_'+str(i)] = stock_300ETF['close'].shift(i)\n",
    "    stock_300ETF_close_20 = stock_300ETF[[x for x in stock_300ETF.columns if 'close_minus' in x or x == 'close']].iloc[21:,]"
   ]
  },
  {
   "cell_type": "code",
   "execution_count": 21,
   "metadata": {
    "collapsed": true
   },
   "outputs": [],
   "source": [
    "stock_300ETF_close_20.to_csv('stock_300ETF_close_20.csv')"
   ]
  },
  {
   "cell_type": "code",
   "execution_count": 22,
   "metadata": {
    "scrolled": false
   },
   "outputs": [
    {
     "data": {
      "text/html": [
       "<div>\n",
       "<style>\n",
       "    .dataframe thead tr:only-child th {\n",
       "        text-align: right;\n",
       "    }\n",
       "\n",
       "    .dataframe thead th {\n",
       "        text-align: left;\n",
       "    }\n",
       "\n",
       "    .dataframe tbody tr th {\n",
       "        vertical-align: top;\n",
       "    }\n",
       "</style>\n",
       "<table border=\"1\" class=\"dataframe\">\n",
       "  <thead>\n",
       "    <tr style=\"text-align: right;\">\n",
       "      <th>date</th>\n",
       "      <th>2018-06-04 00:00:00</th>\n",
       "      <th>2018-06-05 00:00:00</th>\n",
       "      <th>2018-06-06 00:00:00</th>\n",
       "      <th>2018-06-07 00:00:00</th>\n",
       "      <th>2018-06-08 00:00:00</th>\n",
       "    </tr>\n",
       "  </thead>\n",
       "  <tbody>\n",
       "    <tr>\n",
       "      <th>close</th>\n",
       "      <td>3.814</td>\n",
       "      <td>3.846</td>\n",
       "      <td>3.839</td>\n",
       "      <td>3.838</td>\n",
       "      <td>3.787</td>\n",
       "    </tr>\n",
       "    <tr>\n",
       "      <th>close_minus_1</th>\n",
       "      <td>3.777</td>\n",
       "      <td>3.814</td>\n",
       "      <td>3.846</td>\n",
       "      <td>3.839</td>\n",
       "      <td>3.838</td>\n",
       "    </tr>\n",
       "    <tr>\n",
       "      <th>close_minus_2</th>\n",
       "      <td>3.803</td>\n",
       "      <td>3.777</td>\n",
       "      <td>3.814</td>\n",
       "      <td>3.846</td>\n",
       "      <td>3.839</td>\n",
       "    </tr>\n",
       "    <tr>\n",
       "      <th>close_minus_3</th>\n",
       "      <td>3.727</td>\n",
       "      <td>3.803</td>\n",
       "      <td>3.777</td>\n",
       "      <td>3.814</td>\n",
       "      <td>3.846</td>\n",
       "    </tr>\n",
       "    <tr>\n",
       "      <th>close_minus_4</th>\n",
       "      <td>3.799</td>\n",
       "      <td>3.727</td>\n",
       "      <td>3.803</td>\n",
       "      <td>3.777</td>\n",
       "      <td>3.814</td>\n",
       "    </tr>\n",
       "    <tr>\n",
       "      <th>close_minus_5</th>\n",
       "      <td>3.835</td>\n",
       "      <td>3.799</td>\n",
       "      <td>3.727</td>\n",
       "      <td>3.803</td>\n",
       "      <td>3.777</td>\n",
       "    </tr>\n",
       "    <tr>\n",
       "      <th>close_minus_6</th>\n",
       "      <td>3.811</td>\n",
       "      <td>3.835</td>\n",
       "      <td>3.799</td>\n",
       "      <td>3.727</td>\n",
       "      <td>3.803</td>\n",
       "    </tr>\n",
       "    <tr>\n",
       "      <th>close_minus_7</th>\n",
       "      <td>3.820</td>\n",
       "      <td>3.811</td>\n",
       "      <td>3.835</td>\n",
       "      <td>3.799</td>\n",
       "      <td>3.727</td>\n",
       "    </tr>\n",
       "    <tr>\n",
       "      <th>close_minus_8</th>\n",
       "      <td>3.851</td>\n",
       "      <td>3.820</td>\n",
       "      <td>3.811</td>\n",
       "      <td>3.835</td>\n",
       "      <td>3.799</td>\n",
       "    </tr>\n",
       "    <tr>\n",
       "      <th>close_minus_9</th>\n",
       "      <td>3.902</td>\n",
       "      <td>3.851</td>\n",
       "      <td>3.820</td>\n",
       "      <td>3.811</td>\n",
       "      <td>3.835</td>\n",
       "    </tr>\n",
       "    <tr>\n",
       "      <th>close_minus_10</th>\n",
       "      <td>3.918</td>\n",
       "      <td>3.902</td>\n",
       "      <td>3.851</td>\n",
       "      <td>3.820</td>\n",
       "      <td>3.811</td>\n",
       "    </tr>\n",
       "    <tr>\n",
       "      <th>close_minus_11</th>\n",
       "      <td>3.899</td>\n",
       "      <td>3.918</td>\n",
       "      <td>3.902</td>\n",
       "      <td>3.851</td>\n",
       "      <td>3.820</td>\n",
       "    </tr>\n",
       "    <tr>\n",
       "      <th>close_minus_12</th>\n",
       "      <td>3.857</td>\n",
       "      <td>3.899</td>\n",
       "      <td>3.918</td>\n",
       "      <td>3.902</td>\n",
       "      <td>3.851</td>\n",
       "    </tr>\n",
       "    <tr>\n",
       "      <th>close_minus_13</th>\n",
       "      <td>3.890</td>\n",
       "      <td>3.857</td>\n",
       "      <td>3.899</td>\n",
       "      <td>3.918</td>\n",
       "      <td>3.902</td>\n",
       "    </tr>\n",
       "    <tr>\n",
       "      <th>close_minus_14</th>\n",
       "      <td>3.922</td>\n",
       "      <td>3.890</td>\n",
       "      <td>3.857</td>\n",
       "      <td>3.899</td>\n",
       "      <td>3.918</td>\n",
       "    </tr>\n",
       "    <tr>\n",
       "      <th>close_minus_15</th>\n",
       "      <td>3.907</td>\n",
       "      <td>3.922</td>\n",
       "      <td>3.890</td>\n",
       "      <td>3.857</td>\n",
       "      <td>3.899</td>\n",
       "    </tr>\n",
       "    <tr>\n",
       "      <th>close_minus_16</th>\n",
       "      <td>3.873</td>\n",
       "      <td>3.907</td>\n",
       "      <td>3.922</td>\n",
       "      <td>3.890</td>\n",
       "      <td>3.857</td>\n",
       "    </tr>\n",
       "    <tr>\n",
       "      <th>close_minus_17</th>\n",
       "      <td>3.896</td>\n",
       "      <td>3.873</td>\n",
       "      <td>3.907</td>\n",
       "      <td>3.922</td>\n",
       "      <td>3.890</td>\n",
       "    </tr>\n",
       "    <tr>\n",
       "      <th>close_minus_18</th>\n",
       "      <td>3.870</td>\n",
       "      <td>3.896</td>\n",
       "      <td>3.873</td>\n",
       "      <td>3.907</td>\n",
       "      <td>3.922</td>\n",
       "    </tr>\n",
       "    <tr>\n",
       "      <th>close_minus_19</th>\n",
       "      <td>3.881</td>\n",
       "      <td>3.870</td>\n",
       "      <td>3.896</td>\n",
       "      <td>3.873</td>\n",
       "      <td>3.907</td>\n",
       "    </tr>\n",
       "    <tr>\n",
       "      <th>close_minus_20</th>\n",
       "      <td>3.831</td>\n",
       "      <td>3.881</td>\n",
       "      <td>3.870</td>\n",
       "      <td>3.896</td>\n",
       "      <td>3.873</td>\n",
       "    </tr>\n",
       "  </tbody>\n",
       "</table>\n",
       "</div>"
      ],
      "text/plain": [
       "date            2018-06-04  2018-06-05  2018-06-06  2018-06-07  2018-06-08\n",
       "close                3.814       3.846       3.839       3.838       3.787\n",
       "close_minus_1        3.777       3.814       3.846       3.839       3.838\n",
       "close_minus_2        3.803       3.777       3.814       3.846       3.839\n",
       "close_minus_3        3.727       3.803       3.777       3.814       3.846\n",
       "close_minus_4        3.799       3.727       3.803       3.777       3.814\n",
       "close_minus_5        3.835       3.799       3.727       3.803       3.777\n",
       "close_minus_6        3.811       3.835       3.799       3.727       3.803\n",
       "close_minus_7        3.820       3.811       3.835       3.799       3.727\n",
       "close_minus_8        3.851       3.820       3.811       3.835       3.799\n",
       "close_minus_9        3.902       3.851       3.820       3.811       3.835\n",
       "close_minus_10       3.918       3.902       3.851       3.820       3.811\n",
       "close_minus_11       3.899       3.918       3.902       3.851       3.820\n",
       "close_minus_12       3.857       3.899       3.918       3.902       3.851\n",
       "close_minus_13       3.890       3.857       3.899       3.918       3.902\n",
       "close_minus_14       3.922       3.890       3.857       3.899       3.918\n",
       "close_minus_15       3.907       3.922       3.890       3.857       3.899\n",
       "close_minus_16       3.873       3.907       3.922       3.890       3.857\n",
       "close_minus_17       3.896       3.873       3.907       3.922       3.890\n",
       "close_minus_18       3.870       3.896       3.873       3.907       3.922\n",
       "close_minus_19       3.881       3.870       3.896       3.873       3.907\n",
       "close_minus_20       3.831       3.881       3.870       3.896       3.873"
      ]
     },
     "execution_count": 22,
     "metadata": {},
     "output_type": "execute_result"
    }
   ],
   "source": [
    "stock_300ETF_close_20.tail().T"
   ]
  },
  {
   "cell_type": "code",
   "execution_count": 23,
   "metadata": {
    "scrolled": false
   },
   "outputs": [
    {
     "data": {
      "text/html": [
       "<div>\n",
       "<style>\n",
       "    .dataframe thead tr:only-child th {\n",
       "        text-align: right;\n",
       "    }\n",
       "\n",
       "    .dataframe thead th {\n",
       "        text-align: left;\n",
       "    }\n",
       "\n",
       "    .dataframe tbody tr th {\n",
       "        vertical-align: top;\n",
       "    }\n",
       "</style>\n",
       "<table border=\"1\" class=\"dataframe\">\n",
       "  <thead>\n",
       "    <tr style=\"text-align: right;\">\n",
       "      <th>date</th>\n",
       "      <th>2018-06-04 00:00:00</th>\n",
       "      <th>2018-06-05 00:00:00</th>\n",
       "      <th>2018-06-06 00:00:00</th>\n",
       "      <th>2018-06-07 00:00:00</th>\n",
       "      <th>2018-06-08 00:00:00</th>\n",
       "    </tr>\n",
       "  </thead>\n",
       "  <tbody>\n",
       "    <tr>\n",
       "      <th>close_minus_20</th>\n",
       "      <td>3.831</td>\n",
       "      <td>3.881</td>\n",
       "      <td>3.870</td>\n",
       "      <td>3.896</td>\n",
       "      <td>3.873</td>\n",
       "    </tr>\n",
       "    <tr>\n",
       "      <th>close_minus_19</th>\n",
       "      <td>3.881</td>\n",
       "      <td>3.870</td>\n",
       "      <td>3.896</td>\n",
       "      <td>3.873</td>\n",
       "      <td>3.907</td>\n",
       "    </tr>\n",
       "    <tr>\n",
       "      <th>close_minus_18</th>\n",
       "      <td>3.870</td>\n",
       "      <td>3.896</td>\n",
       "      <td>3.873</td>\n",
       "      <td>3.907</td>\n",
       "      <td>3.922</td>\n",
       "    </tr>\n",
       "    <tr>\n",
       "      <th>close_minus_17</th>\n",
       "      <td>3.896</td>\n",
       "      <td>3.873</td>\n",
       "      <td>3.907</td>\n",
       "      <td>3.922</td>\n",
       "      <td>3.890</td>\n",
       "    </tr>\n",
       "    <tr>\n",
       "      <th>close_minus_16</th>\n",
       "      <td>3.873</td>\n",
       "      <td>3.907</td>\n",
       "      <td>3.922</td>\n",
       "      <td>3.890</td>\n",
       "      <td>3.857</td>\n",
       "    </tr>\n",
       "    <tr>\n",
       "      <th>close_minus_15</th>\n",
       "      <td>3.907</td>\n",
       "      <td>3.922</td>\n",
       "      <td>3.890</td>\n",
       "      <td>3.857</td>\n",
       "      <td>3.899</td>\n",
       "    </tr>\n",
       "    <tr>\n",
       "      <th>close_minus_14</th>\n",
       "      <td>3.922</td>\n",
       "      <td>3.890</td>\n",
       "      <td>3.857</td>\n",
       "      <td>3.899</td>\n",
       "      <td>3.918</td>\n",
       "    </tr>\n",
       "    <tr>\n",
       "      <th>close_minus_13</th>\n",
       "      <td>3.890</td>\n",
       "      <td>3.857</td>\n",
       "      <td>3.899</td>\n",
       "      <td>3.918</td>\n",
       "      <td>3.902</td>\n",
       "    </tr>\n",
       "    <tr>\n",
       "      <th>close_minus_12</th>\n",
       "      <td>3.857</td>\n",
       "      <td>3.899</td>\n",
       "      <td>3.918</td>\n",
       "      <td>3.902</td>\n",
       "      <td>3.851</td>\n",
       "    </tr>\n",
       "    <tr>\n",
       "      <th>close_minus_11</th>\n",
       "      <td>3.899</td>\n",
       "      <td>3.918</td>\n",
       "      <td>3.902</td>\n",
       "      <td>3.851</td>\n",
       "      <td>3.820</td>\n",
       "    </tr>\n",
       "    <tr>\n",
       "      <th>close_minus_10</th>\n",
       "      <td>3.918</td>\n",
       "      <td>3.902</td>\n",
       "      <td>3.851</td>\n",
       "      <td>3.820</td>\n",
       "      <td>3.811</td>\n",
       "    </tr>\n",
       "    <tr>\n",
       "      <th>close_minus_9</th>\n",
       "      <td>3.902</td>\n",
       "      <td>3.851</td>\n",
       "      <td>3.820</td>\n",
       "      <td>3.811</td>\n",
       "      <td>3.835</td>\n",
       "    </tr>\n",
       "    <tr>\n",
       "      <th>close_minus_8</th>\n",
       "      <td>3.851</td>\n",
       "      <td>3.820</td>\n",
       "      <td>3.811</td>\n",
       "      <td>3.835</td>\n",
       "      <td>3.799</td>\n",
       "    </tr>\n",
       "    <tr>\n",
       "      <th>close_minus_7</th>\n",
       "      <td>3.820</td>\n",
       "      <td>3.811</td>\n",
       "      <td>3.835</td>\n",
       "      <td>3.799</td>\n",
       "      <td>3.727</td>\n",
       "    </tr>\n",
       "    <tr>\n",
       "      <th>close_minus_6</th>\n",
       "      <td>3.811</td>\n",
       "      <td>3.835</td>\n",
       "      <td>3.799</td>\n",
       "      <td>3.727</td>\n",
       "      <td>3.803</td>\n",
       "    </tr>\n",
       "    <tr>\n",
       "      <th>close_minus_5</th>\n",
       "      <td>3.835</td>\n",
       "      <td>3.799</td>\n",
       "      <td>3.727</td>\n",
       "      <td>3.803</td>\n",
       "      <td>3.777</td>\n",
       "    </tr>\n",
       "    <tr>\n",
       "      <th>close_minus_4</th>\n",
       "      <td>3.799</td>\n",
       "      <td>3.727</td>\n",
       "      <td>3.803</td>\n",
       "      <td>3.777</td>\n",
       "      <td>3.814</td>\n",
       "    </tr>\n",
       "    <tr>\n",
       "      <th>close_minus_3</th>\n",
       "      <td>3.727</td>\n",
       "      <td>3.803</td>\n",
       "      <td>3.777</td>\n",
       "      <td>3.814</td>\n",
       "      <td>3.846</td>\n",
       "    </tr>\n",
       "    <tr>\n",
       "      <th>close_minus_2</th>\n",
       "      <td>3.803</td>\n",
       "      <td>3.777</td>\n",
       "      <td>3.814</td>\n",
       "      <td>3.846</td>\n",
       "      <td>3.839</td>\n",
       "    </tr>\n",
       "    <tr>\n",
       "      <th>close_minus_1</th>\n",
       "      <td>3.777</td>\n",
       "      <td>3.814</td>\n",
       "      <td>3.846</td>\n",
       "      <td>3.839</td>\n",
       "      <td>3.838</td>\n",
       "    </tr>\n",
       "    <tr>\n",
       "      <th>close</th>\n",
       "      <td>3.814</td>\n",
       "      <td>3.846</td>\n",
       "      <td>3.839</td>\n",
       "      <td>3.838</td>\n",
       "      <td>3.787</td>\n",
       "    </tr>\n",
       "  </tbody>\n",
       "</table>\n",
       "</div>"
      ],
      "text/plain": [
       "date            2018-06-04  2018-06-05  2018-06-06  2018-06-07  2018-06-08\n",
       "close_minus_20       3.831       3.881       3.870       3.896       3.873\n",
       "close_minus_19       3.881       3.870       3.896       3.873       3.907\n",
       "close_minus_18       3.870       3.896       3.873       3.907       3.922\n",
       "close_minus_17       3.896       3.873       3.907       3.922       3.890\n",
       "close_minus_16       3.873       3.907       3.922       3.890       3.857\n",
       "close_minus_15       3.907       3.922       3.890       3.857       3.899\n",
       "close_minus_14       3.922       3.890       3.857       3.899       3.918\n",
       "close_minus_13       3.890       3.857       3.899       3.918       3.902\n",
       "close_minus_12       3.857       3.899       3.918       3.902       3.851\n",
       "close_minus_11       3.899       3.918       3.902       3.851       3.820\n",
       "close_minus_10       3.918       3.902       3.851       3.820       3.811\n",
       "close_minus_9        3.902       3.851       3.820       3.811       3.835\n",
       "close_minus_8        3.851       3.820       3.811       3.835       3.799\n",
       "close_minus_7        3.820       3.811       3.835       3.799       3.727\n",
       "close_minus_6        3.811       3.835       3.799       3.727       3.803\n",
       "close_minus_5        3.835       3.799       3.727       3.803       3.777\n",
       "close_minus_4        3.799       3.727       3.803       3.777       3.814\n",
       "close_minus_3        3.727       3.803       3.777       3.814       3.846\n",
       "close_minus_2        3.803       3.777       3.814       3.846       3.839\n",
       "close_minus_1        3.777       3.814       3.846       3.839       3.838\n",
       "close                3.814       3.846       3.839       3.838       3.787"
      ]
     },
     "execution_count": 23,
     "metadata": {},
     "output_type": "execute_result"
    }
   ],
   "source": [
    "# 首先，我们将颠倒这些列，从左到右为最早时间到最晚时间，P176\n",
    "stock_300ETF_close_20 = stock_300ETF_close_20.iloc[:,::-1]\n",
    "stock_300ETF_close_20.tail().T"
   ]
  },
  {
   "cell_type": "code",
   "execution_count": 24,
   "metadata": {},
   "outputs": [
    {
     "data": {
      "text/plain": [
       "1445"
      ]
     },
     "execution_count": 24,
     "metadata": {},
     "output_type": "execute_result"
    }
   ],
   "source": [
    "len(stock_300ETF_close_20)"
   ]
  },
  {
   "cell_type": "code",
   "execution_count": 25,
   "metadata": {
    "collapsed": true
   },
   "outputs": [],
   "source": [
    "# 我们将导入支持向量机，并设置训练和测试矩阵，以及每个数据点的目标向量，P176\n",
    "from sklearn.svm import SVR"
   ]
  },
  {
   "cell_type": "code",
   "execution_count": 26,
   "metadata": {},
   "outputs": [
    {
     "data": {
      "text/plain": [
       "SVR(C=1.0, cache_size=200, coef0=0.0, degree=3, epsilon=0.1, gamma='auto',\n",
       "  kernel='linear', max_iter=-1, shrinking=True, tol=0.001, verbose=False)"
      ]
     },
     "execution_count": 26,
     "metadata": {},
     "output_type": "execute_result"
    }
   ],
   "source": [
    "clf = SVR(kernel = 'linear')\n",
    "clf"
   ]
  },
  {
   "cell_type": "code",
   "execution_count": 27,
   "metadata": {
    "collapsed": true
   },
   "outputs": [],
   "source": [
    "# 设置训练集，取前1000多个数据作为训练集\n",
    "g = -400\n",
    "x_train = stock_300ETF_close_20[:g]\n",
    "y_train = stock_300ETF_close_20['close'].shift(-1)[:g]"
   ]
  },
  {
   "cell_type": "code",
   "execution_count": 28,
   "metadata": {},
   "outputs": [
    {
     "data": {
      "text/plain": [
       "1045"
      ]
     },
     "execution_count": 28,
     "metadata": {},
     "output_type": "execute_result"
    }
   ],
   "source": [
    "len(x_train)"
   ]
  },
  {
   "cell_type": "code",
   "execution_count": 29,
   "metadata": {},
   "outputs": [
    {
     "data": {
      "text/plain": [
       "1045"
      ]
     },
     "execution_count": 29,
     "metadata": {},
     "output_type": "execute_result"
    }
   ],
   "source": [
    "len(y_train)"
   ]
  },
  {
   "cell_type": "code",
   "execution_count": 30,
   "metadata": {},
   "outputs": [
    {
     "data": {
      "text/plain": [
       "date\n",
       "2016-10-14    3.238\n",
       "2016-10-17    3.280\n",
       "2016-10-18    3.278\n",
       "2016-10-19    3.273\n",
       "2016-10-20    3.290\n",
       "Name: close, dtype: float64"
      ]
     },
     "execution_count": 30,
     "metadata": {},
     "output_type": "execute_result"
    }
   ],
   "source": [
    "y_train.tail()"
   ]
  },
  {
   "cell_type": "code",
   "execution_count": 31,
   "metadata": {
    "collapsed": true
   },
   "outputs": [],
   "source": [
    "# 设置测试集，取400个数据作为测试集\n",
    "x_test = stock_300ETF_close_20[g:]\n",
    "y_test = stock_300ETF_close_20['close'].shift(-1)[g:]"
   ]
  },
  {
   "cell_type": "code",
   "execution_count": 32,
   "metadata": {},
   "outputs": [
    {
     "data": {
      "text/plain": [
       "400"
      ]
     },
     "execution_count": 32,
     "metadata": {},
     "output_type": "execute_result"
    }
   ],
   "source": [
    "len(x_test)"
   ]
  },
  {
   "cell_type": "code",
   "execution_count": 33,
   "metadata": {},
   "outputs": [
    {
     "data": {
      "text/plain": [
       "400"
      ]
     },
     "execution_count": 33,
     "metadata": {},
     "output_type": "execute_result"
    }
   ],
   "source": [
    "len(y_test)"
   ]
  },
  {
   "cell_type": "code",
   "execution_count": 34,
   "metadata": {},
   "outputs": [
    {
     "data": {
      "text/plain": [
       "date\n",
       "2018-06-04    3.846\n",
       "2018-06-05    3.839\n",
       "2018-06-06    3.838\n",
       "2018-06-07    3.787\n",
       "2018-06-08      NaN\n",
       "Name: close, dtype: float64"
      ]
     },
     "execution_count": 34,
     "metadata": {},
     "output_type": "execute_result"
    }
   ],
   "source": [
    "y_test.tail()"
   ]
  },
  {
   "cell_type": "code",
   "execution_count": 35,
   "metadata": {},
   "outputs": [
    {
     "data": {
      "text/plain": [
       "SVR(C=1.0, cache_size=200, coef0=0.0, degree=3, epsilon=0.1, gamma='auto',\n",
       "  kernel='linear', max_iter=-1, shrinking=True, tol=0.001, verbose=False)"
      ]
     },
     "execution_count": 35,
     "metadata": {},
     "output_type": "execute_result"
    }
   ],
   "source": [
    "# 拟合模型，P176\n",
    "model = clf.fit(x_train,y_train)\n",
    "model"
   ]
  },
  {
   "cell_type": "code",
   "execution_count": 36,
   "metadata": {
    "collapsed": true,
    "scrolled": false
   },
   "outputs": [],
   "source": [
    "# 用测试集进行预测，P176\n",
    "preds = model.predict(x_test)"
   ]
  },
  {
   "cell_type": "code",
   "execution_count": 37,
   "metadata": {},
   "outputs": [
    {
     "data": {
      "text/plain": [
       "0.99354498034013694"
      ]
     },
     "execution_count": 37,
     "metadata": {},
     "output_type": "execute_result"
    }
   ],
   "source": [
    "# 评分函数\n",
    "scores = model.score(x_train,y_train)\n",
    "scores"
   ]
  },
  {
   "cell_type": "code",
   "execution_count": 38,
   "metadata": {
    "scrolled": true
   },
   "outputs": [
    {
     "data": {
      "text/html": [
       "<div>\n",
       "<style>\n",
       "    .dataframe thead tr:only-child th {\n",
       "        text-align: right;\n",
       "    }\n",
       "\n",
       "    .dataframe thead th {\n",
       "        text-align: left;\n",
       "    }\n",
       "\n",
       "    .dataframe tbody tr th {\n",
       "        vertical-align: top;\n",
       "    }\n",
       "</style>\n",
       "<table border=\"1\" class=\"dataframe\">\n",
       "  <thead>\n",
       "    <tr style=\"text-align: right;\">\n",
       "      <th></th>\n",
       "      <th>close</th>\n",
       "      <th>Next_Day_Close</th>\n",
       "      <th>Predicted_Next_Close</th>\n",
       "    </tr>\n",
       "    <tr>\n",
       "      <th>date</th>\n",
       "      <th></th>\n",
       "      <th></th>\n",
       "      <th></th>\n",
       "    </tr>\n",
       "  </thead>\n",
       "  <tbody>\n",
       "    <tr>\n",
       "      <th>2018-06-04</th>\n",
       "      <td>3.814</td>\n",
       "      <td>3.846</td>\n",
       "      <td>3.806265</td>\n",
       "    </tr>\n",
       "    <tr>\n",
       "      <th>2018-06-05</th>\n",
       "      <td>3.846</td>\n",
       "      <td>3.839</td>\n",
       "      <td>3.853472</td>\n",
       "    </tr>\n",
       "    <tr>\n",
       "      <th>2018-06-06</th>\n",
       "      <td>3.839</td>\n",
       "      <td>3.838</td>\n",
       "      <td>3.838876</td>\n",
       "    </tr>\n",
       "    <tr>\n",
       "      <th>2018-06-07</th>\n",
       "      <td>3.838</td>\n",
       "      <td>3.787</td>\n",
       "      <td>3.822849</td>\n",
       "    </tr>\n",
       "    <tr>\n",
       "      <th>2018-06-08</th>\n",
       "      <td>3.787</td>\n",
       "      <td>NaN</td>\n",
       "      <td>3.786770</td>\n",
       "    </tr>\n",
       "  </tbody>\n",
       "</table>\n",
       "</div>"
      ],
      "text/plain": [
       "            close  Next_Day_Close  Predicted_Next_Close\n",
       "date                                                   \n",
       "2018-06-04  3.814           3.846              3.806265\n",
       "2018-06-05  3.846           3.839              3.853472\n",
       "2018-06-06  3.839           3.838              3.838876\n",
       "2018-06-07  3.838           3.787              3.822849\n",
       "2018-06-08  3.787             NaN              3.786770"
      ]
     },
     "execution_count": 38,
     "metadata": {},
     "output_type": "execute_result"
    }
   ],
   "source": [
    "# 实际数据与测数据的对比\n",
    "tf = pd.DataFrame(list(zip(y_test, preds)), columns = ['Next_Day_Close','Predicted_Next_Close'], index = y_test.index)\n",
    "tf = pd.concat([stock_300ETF_close_20['close'],tf], axis=1)\n",
    "tf.tail()"
   ]
  },
  {
   "cell_type": "code",
   "execution_count": 39,
   "metadata": {},
   "outputs": [
    {
     "data": {
      "image/png": "[encoded data removed]",
      "text/plain": [
       "<matplotlib.figure.Figure at 0xd665390>"
      ]
     },
     "metadata": {},
     "output_type": "display_data"
    }
   ],
   "source": [
    "plt.figure(figsize=(12,8), dpi=80)\n",
    "tf['Next_Day_Close'][g:].plot(color='blue', linewidth='1')\n",
    "tf['Predicted_Next_Close'][g:].plot(color='red', linewidth='1')\n",
    "plt.show()"
   ]
  },
  {
   "cell_type": "code",
   "execution_count": 40,
   "metadata": {
    "collapsed": true
   },
   "outputs": [],
   "source": [
    "# 计算实际数据与测数据的相关系数\n",
    "# 设置收盘价序列：pd.Series()\n",
    "corr_close = pd.Series(tf['close'])\n",
    "corr_NDC = pd.Series(tf['Next_Day_Close'])\n",
    "corr_Pred_N_C = pd.Series(tf['Predicted_Next_Close'])"
   ]
  },
  {
   "cell_type": "code",
   "execution_count": 41,
   "metadata": {},
   "outputs": [
    {
     "data": {
      "text/plain": [
       "0.99947767347157757"
      ]
     },
     "execution_count": 41,
     "metadata": {},
     "output_type": "execute_result"
    }
   ],
   "source": [
    "corr_close_PNC = corr_close.corr(corr_Pred_N_C)\n",
    "corr_close_PNC"
   ]
  },
  {
   "cell_type": "code",
   "execution_count": 42,
   "metadata": {},
   "outputs": [
    {
     "data": {
      "text/plain": [
       "0.99359318007302966"
      ]
     },
     "execution_count": 42,
     "metadata": {},
     "output_type": "execute_result"
    }
   ],
   "source": [
    "corr_NDC_PNC = corr_NDC.corr(corr_Pred_N_C)\n",
    "corr_NDC_PNC"
   ]
  },
  {
   "cell_type": "code",
   "execution_count": 43,
   "metadata": {
    "scrolled": true
   },
   "outputs": [
    {
     "data": {
      "text/plain": [
       "0.99419328449264943"
      ]
     },
     "execution_count": 43,
     "metadata": {},
     "output_type": "execute_result"
    }
   ],
   "source": [
    "corr_close_NDC = corr_close.corr(corr_NDC)\n",
    "corr_close_NDC"
   ]
  },
  {
   "cell_type": "markdown",
   "metadata": {},
   "source": [
    "> 评估模型的性能，P177"
   ]
  },
  {
   "cell_type": "code",
   "execution_count": 44,
   "metadata": {
    "collapsed": true
   },
   "outputs": [],
   "source": [
    "# 添加一些额外的数据点来计算结果\n",
    "# cdc = stock_300ETF[['close']].iloc[g:]\n",
    "# 下一个交易日开盘价\n",
    "ndo = stock_300ETF[['open']].iloc[g:].shift(-1)\n",
    "ndo.columns =['Next_Day_Open']"
   ]
  },
  {
   "cell_type": "code",
   "execution_count": 45,
   "metadata": {},
   "outputs": [
    {
     "data": {
      "text/html": [
       "<div>\n",
       "<style>\n",
       "    .dataframe thead tr:only-child th {\n",
       "        text-align: right;\n",
       "    }\n",
       "\n",
       "    .dataframe thead th {\n",
       "        text-align: left;\n",
       "    }\n",
       "\n",
       "    .dataframe tbody tr th {\n",
       "        vertical-align: top;\n",
       "    }\n",
       "</style>\n",
       "<table border=\"1\" class=\"dataframe\">\n",
       "  <thead>\n",
       "    <tr style=\"text-align: right;\">\n",
       "      <th></th>\n",
       "      <th>close</th>\n",
       "      <th>Next_Day_Close</th>\n",
       "      <th>Predicted_Next_Close</th>\n",
       "      <th>Next_Day_Open</th>\n",
       "    </tr>\n",
       "    <tr>\n",
       "      <th>date</th>\n",
       "      <th></th>\n",
       "      <th></th>\n",
       "      <th></th>\n",
       "      <th></th>\n",
       "    </tr>\n",
       "  </thead>\n",
       "  <tbody>\n",
       "    <tr>\n",
       "      <th>2018-06-01</th>\n",
       "      <td>3.777</td>\n",
       "      <td>3.814</td>\n",
       "      <td>3.757120</td>\n",
       "      <td>3.797</td>\n",
       "    </tr>\n",
       "    <tr>\n",
       "      <th>2018-06-04</th>\n",
       "      <td>3.814</td>\n",
       "      <td>3.846</td>\n",
       "      <td>3.806265</td>\n",
       "      <td>3.810</td>\n",
       "    </tr>\n",
       "    <tr>\n",
       "      <th>2018-06-05</th>\n",
       "      <td>3.846</td>\n",
       "      <td>3.839</td>\n",
       "      <td>3.853472</td>\n",
       "      <td>3.841</td>\n",
       "    </tr>\n",
       "    <tr>\n",
       "      <th>2018-06-06</th>\n",
       "      <td>3.839</td>\n",
       "      <td>3.838</td>\n",
       "      <td>3.838876</td>\n",
       "      <td>3.853</td>\n",
       "    </tr>\n",
       "    <tr>\n",
       "      <th>2018-06-07</th>\n",
       "      <td>3.838</td>\n",
       "      <td>3.787</td>\n",
       "      <td>3.822849</td>\n",
       "      <td>3.830</td>\n",
       "    </tr>\n",
       "  </tbody>\n",
       "</table>\n",
       "</div>"
      ],
      "text/plain": [
       "            close  Next_Day_Close  Predicted_Next_Close  Next_Day_Open\n",
       "date                                                                  \n",
       "2018-06-01  3.777           3.814              3.757120          3.797\n",
       "2018-06-04  3.814           3.846              3.806265          3.810\n",
       "2018-06-05  3.846           3.839              3.853472          3.841\n",
       "2018-06-06  3.839           3.838              3.838876          3.853\n",
       "2018-06-07  3.838           3.787              3.822849          3.830"
      ]
     },
     "execution_count": 45,
     "metadata": {},
     "output_type": "execute_result"
    }
   ],
   "source": [
    "tfs = pd.merge(tf, ndo, left_index=True, right_index=True)\n",
    "tfs = tfs.dropna()\n",
    "tfs.tail()"
   ]
  },
  {
   "cell_type": "code",
   "execution_count": 46,
   "metadata": {
    "collapsed": true
   },
   "outputs": [],
   "source": [
    "def get_signal(r):\n",
    "    if r['Predicted_Next_Close'] > r['Next_Day_Open']:\n",
    "        return 1\n",
    "    else:\n",
    "        return 0"
   ]
  },
  {
   "cell_type": "code",
   "execution_count": 47,
   "metadata": {
    "collapsed": true
   },
   "outputs": [],
   "source": [
    "def get_ret(r):\n",
    "    if r['Signal'] == 1:\n",
    "        return (r['Next_Day_Close'] - r['Next_Day_Open'])/r['Next_Day_Open']*100\n",
    "    else:\n",
    "        return 0"
   ]
  },
  {
   "cell_type": "code",
   "execution_count": 48,
   "metadata": {
    "collapsed": true
   },
   "outputs": [],
   "source": [
    "tfs = tfs.assign(Signal = tfs.apply(get_signal, axis=1))\n",
    "tfs = tfs.assign(PnL = tfs.apply(get_ret, axis=1))"
   ]
  },
  {
   "cell_type": "code",
   "execution_count": 49,
   "metadata": {},
   "outputs": [
    {
     "data": {
      "text/html": [
       "<div>\n",
       "<style>\n",
       "    .dataframe thead tr:only-child th {\n",
       "        text-align: right;\n",
       "    }\n",
       "\n",
       "    .dataframe thead th {\n",
       "        text-align: left;\n",
       "    }\n",
       "\n",
       "    .dataframe tbody tr th {\n",
       "        vertical-align: top;\n",
       "    }\n",
       "</style>\n",
       "<table border=\"1\" class=\"dataframe\">\n",
       "  <thead>\n",
       "    <tr style=\"text-align: right;\">\n",
       "      <th></th>\n",
       "      <th>close</th>\n",
       "      <th>Next_Day_Close</th>\n",
       "      <th>Predicted_Next_Close</th>\n",
       "      <th>Next_Day_Open</th>\n",
       "      <th>Signal</th>\n",
       "      <th>PnL</th>\n",
       "    </tr>\n",
       "    <tr>\n",
       "      <th>date</th>\n",
       "      <th></th>\n",
       "      <th></th>\n",
       "      <th></th>\n",
       "      <th></th>\n",
       "      <th></th>\n",
       "      <th></th>\n",
       "    </tr>\n",
       "  </thead>\n",
       "  <tbody>\n",
       "    <tr>\n",
       "      <th>2018-06-01</th>\n",
       "      <td>3.777</td>\n",
       "      <td>3.814</td>\n",
       "      <td>3.757120</td>\n",
       "      <td>3.797</td>\n",
       "      <td>0</td>\n",
       "      <td>0.00000</td>\n",
       "    </tr>\n",
       "    <tr>\n",
       "      <th>2018-06-04</th>\n",
       "      <td>3.814</td>\n",
       "      <td>3.846</td>\n",
       "      <td>3.806265</td>\n",
       "      <td>3.810</td>\n",
       "      <td>0</td>\n",
       "      <td>0.00000</td>\n",
       "    </tr>\n",
       "    <tr>\n",
       "      <th>2018-06-05</th>\n",
       "      <td>3.846</td>\n",
       "      <td>3.839</td>\n",
       "      <td>3.853472</td>\n",
       "      <td>3.841</td>\n",
       "      <td>1</td>\n",
       "      <td>-0.05207</td>\n",
       "    </tr>\n",
       "    <tr>\n",
       "      <th>2018-06-06</th>\n",
       "      <td>3.839</td>\n",
       "      <td>3.838</td>\n",
       "      <td>3.838876</td>\n",
       "      <td>3.853</td>\n",
       "      <td>0</td>\n",
       "      <td>0.00000</td>\n",
       "    </tr>\n",
       "    <tr>\n",
       "      <th>2018-06-07</th>\n",
       "      <td>3.838</td>\n",
       "      <td>3.787</td>\n",
       "      <td>3.822849</td>\n",
       "      <td>3.830</td>\n",
       "      <td>0</td>\n",
       "      <td>0.00000</td>\n",
       "    </tr>\n",
       "  </tbody>\n",
       "</table>\n",
       "</div>"
      ],
      "text/plain": [
       "            close  Next_Day_Close  Predicted_Next_Close  Next_Day_Open  \\\n",
       "date                                                                     \n",
       "2018-06-01  3.777           3.814              3.757120          3.797   \n",
       "2018-06-04  3.814           3.846              3.806265          3.810   \n",
       "2018-06-05  3.846           3.839              3.853472          3.841   \n",
       "2018-06-06  3.839           3.838              3.838876          3.853   \n",
       "2018-06-07  3.838           3.787              3.822849          3.830   \n",
       "\n",
       "            Signal      PnL  \n",
       "date                         \n",
       "2018-06-01       0  0.00000  \n",
       "2018-06-04       0  0.00000  \n",
       "2018-06-05       1 -0.05207  \n",
       "2018-06-06       0  0.00000  \n",
       "2018-06-07       0  0.00000  "
      ]
     },
     "execution_count": 49,
     "metadata": {},
     "output_type": "execute_result"
    }
   ],
   "source": [
    "tfs.tail()"
   ]
  },
  {
   "cell_type": "code",
   "execution_count": 50,
   "metadata": {},
   "outputs": [
    {
     "data": {
      "text/plain": [
       "0.75799999999999779"
      ]
     },
     "execution_count": 50,
     "metadata": {},
     "output_type": "execute_result"
    }
   ],
   "source": [
    "(tfs[tfs['Signal']==1]['Next_Day_Close'] - tfs[tfs['Signal']==1]['Next_Day_Open']).sum()"
   ]
  },
  {
   "cell_type": "code",
   "execution_count": 51,
   "metadata": {},
   "outputs": [
    {
     "data": {
      "text/plain": [
       "1.1630000000000011"
      ]
     },
     "execution_count": 51,
     "metadata": {},
     "output_type": "execute_result"
    }
   ],
   "source": [
    "(stock_300ETF['close'].iloc[g:]-stock_300ETF['open'].iloc[g:]).sum()"
   ]
  },
  {
   "cell_type": "code",
   "execution_count": 52,
   "metadata": {},
   "outputs": [
    {
     "name": "stdout",
     "output_type": "stream",
     "text": [
      "交易次数(Trades)： 400\n",
      "盈利次数(nWins)： 217\n",
      "亏损次数(nLosses)： 176\n",
      "盈亏平衡次数(nBreakeven)： 7\n",
      "盈利/亏损比例(nWin/nLoss_Radio)： 1.0\n",
      "盈利的平均值(nMean_Win)： 0.61\n",
      "亏损的平均值(nMean_Loss)： -0.562\n",
      "平均收益(nMean)： 0.084\n",
      "标准差(nStd_Dev)： 0.763\n",
      "最大亏损(nMax_Loss)： -3.69\n",
      "最大盈利(nMax_Win)： 2.255\n",
      "夏普比率(nSharpe_Ratio)： 1.7394\n"
     ]
    }
   ],
   "source": [
    "get_stats((stock_300ETF['close'].iloc[g:]-stock_300ETF['open'].iloc[g:])/stock_300ETF['open'].iloc[g:]*100)"
   ]
  },
  {
   "cell_type": "code",
   "execution_count": 53,
   "metadata": {},
   "outputs": [
    {
     "name": "stdout",
     "output_type": "stream",
     "text": [
      "交易次数(Trades)： 399\n",
      "盈利次数(nWins)： 128\n",
      "亏损次数(nLosses)： 118\n",
      "盈亏平衡次数(nBreakeven)： 153\n",
      "盈利/亏损比例(nWin/nLoss_Radio)： 1.0\n",
      "盈利的平均值(nMean_Win)： 0.614\n",
      "亏损的平均值(nMean_Loss)： -0.493\n",
      "平均收益(nMean)： 0.051\n",
      "标准差(nStd_Dev)： 0.571\n",
      "最大亏损(nMax_Loss)： -3.071\n",
      "最大盈利(nMax_Win)： 2.255\n",
      "夏普比率(nSharpe_Ratio)： 1.4238\n"
     ]
    }
   ],
   "source": [
    "get_stats(tfs['PnL'])"
   ]
  },
  {
   "cell_type": "code",
   "execution_count": 54,
   "metadata": {
    "collapsed": true
   },
   "outputs": [],
   "source": [
    "def get_signal_f(r):\n",
    "    if r['Predicted_Next_Close'] > r['Next_Day_Open']:\n",
    "        return 0\n",
    "    else:\n",
    "        return 1"
   ]
  },
  {
   "cell_type": "code",
   "execution_count": 55,
   "metadata": {
    "collapsed": true
   },
   "outputs": [],
   "source": [
    "def get_ret_f(r):\n",
    "    if r['Signal_f'] == 1:\n",
    "        return (r['Next_Day_Close'] - r['Next_Day_Open'])/r['Next_Day_Open']*100\n",
    "    else:\n",
    "        return 0"
   ]
  },
  {
   "cell_type": "code",
   "execution_count": 56,
   "metadata": {
    "collapsed": true
   },
   "outputs": [],
   "source": [
    "tfs_f = tfs.assign(Signal_f = tfs.apply(get_signal_f, axis=1))\n",
    "tfs_f = tfs_f.assign(PnL_f = tfs_f.apply(get_ret_f, axis=1))"
   ]
  },
  {
   "cell_type": "code",
   "execution_count": 57,
   "metadata": {},
   "outputs": [
    {
     "data": {
      "text/html": [
       "<div>\n",
       "<style>\n",
       "    .dataframe thead tr:only-child th {\n",
       "        text-align: right;\n",
       "    }\n",
       "\n",
       "    .dataframe thead th {\n",
       "        text-align: left;\n",
       "    }\n",
       "\n",
       "    .dataframe tbody tr th {\n",
       "        vertical-align: top;\n",
       "    }\n",
       "</style>\n",
       "<table border=\"1\" class=\"dataframe\">\n",
       "  <thead>\n",
       "    <tr style=\"text-align: right;\">\n",
       "      <th></th>\n",
       "      <th>close</th>\n",
       "      <th>Next_Day_Close</th>\n",
       "      <th>Predicted_Next_Close</th>\n",
       "      <th>Next_Day_Open</th>\n",
       "      <th>Signal</th>\n",
       "      <th>PnL</th>\n",
       "      <th>Signal_f</th>\n",
       "      <th>PnL_f</th>\n",
       "    </tr>\n",
       "    <tr>\n",
       "      <th>date</th>\n",
       "      <th></th>\n",
       "      <th></th>\n",
       "      <th></th>\n",
       "      <th></th>\n",
       "      <th></th>\n",
       "      <th></th>\n",
       "      <th></th>\n",
       "      <th></th>\n",
       "    </tr>\n",
       "  </thead>\n",
       "  <tbody>\n",
       "    <tr>\n",
       "      <th>2018-06-01</th>\n",
       "      <td>3.777</td>\n",
       "      <td>3.814</td>\n",
       "      <td>3.757120</td>\n",
       "      <td>3.797</td>\n",
       "      <td>0</td>\n",
       "      <td>0.00000</td>\n",
       "      <td>1</td>\n",
       "      <td>0.447722</td>\n",
       "    </tr>\n",
       "    <tr>\n",
       "      <th>2018-06-04</th>\n",
       "      <td>3.814</td>\n",
       "      <td>3.846</td>\n",
       "      <td>3.806265</td>\n",
       "      <td>3.810</td>\n",
       "      <td>0</td>\n",
       "      <td>0.00000</td>\n",
       "      <td>1</td>\n",
       "      <td>0.944882</td>\n",
       "    </tr>\n",
       "    <tr>\n",
       "      <th>2018-06-05</th>\n",
       "      <td>3.846</td>\n",
       "      <td>3.839</td>\n",
       "      <td>3.853472</td>\n",
       "      <td>3.841</td>\n",
       "      <td>1</td>\n",
       "      <td>-0.05207</td>\n",
       "      <td>0</td>\n",
       "      <td>0.000000</td>\n",
       "    </tr>\n",
       "    <tr>\n",
       "      <th>2018-06-06</th>\n",
       "      <td>3.839</td>\n",
       "      <td>3.838</td>\n",
       "      <td>3.838876</td>\n",
       "      <td>3.853</td>\n",
       "      <td>0</td>\n",
       "      <td>0.00000</td>\n",
       "      <td>1</td>\n",
       "      <td>-0.389307</td>\n",
       "    </tr>\n",
       "    <tr>\n",
       "      <th>2018-06-07</th>\n",
       "      <td>3.838</td>\n",
       "      <td>3.787</td>\n",
       "      <td>3.822849</td>\n",
       "      <td>3.830</td>\n",
       "      <td>0</td>\n",
       "      <td>0.00000</td>\n",
       "      <td>1</td>\n",
       "      <td>-1.122715</td>\n",
       "    </tr>\n",
       "  </tbody>\n",
       "</table>\n",
       "</div>"
      ],
      "text/plain": [
       "            close  Next_Day_Close  Predicted_Next_Close  Next_Day_Open  \\\n",
       "date                                                                     \n",
       "2018-06-01  3.777           3.814              3.757120          3.797   \n",
       "2018-06-04  3.814           3.846              3.806265          3.810   \n",
       "2018-06-05  3.846           3.839              3.853472          3.841   \n",
       "2018-06-06  3.839           3.838              3.838876          3.853   \n",
       "2018-06-07  3.838           3.787              3.822849          3.830   \n",
       "\n",
       "            Signal      PnL  Signal_f     PnL_f  \n",
       "date                                             \n",
       "2018-06-01       0  0.00000         1  0.447722  \n",
       "2018-06-04       0  0.00000         1  0.944882  \n",
       "2018-06-05       1 -0.05207         0  0.000000  \n",
       "2018-06-06       0  0.00000         1 -0.389307  \n",
       "2018-06-07       0  0.00000         1 -1.122715  "
      ]
     },
     "execution_count": 57,
     "metadata": {},
     "output_type": "execute_result"
    }
   ],
   "source": [
    "tfs_f.tail()"
   ]
  },
  {
   "cell_type": "code",
   "execution_count": 58,
   "metadata": {},
   "outputs": [
    {
     "data": {
      "text/plain": [
       "0.39000000000000323"
      ]
     },
     "execution_count": 58,
     "metadata": {},
     "output_type": "execute_result"
    }
   ],
   "source": [
    "(tfs_f[tfs_f['Signal_f']==1]['Next_Day_Close'] - tfs_f[tfs_f['Signal_f']==1]['Next_Day_Open']).sum()"
   ]
  },
  {
   "cell_type": "code",
   "execution_count": 59,
   "metadata": {},
   "outputs": [
    {
     "name": "stdout",
     "output_type": "stream",
     "text": [
      "交易次数(Trades)： 399\n",
      "盈利次数(nWins)： 88\n",
      "亏损次数(nLosses)： 58\n",
      "盈亏平衡次数(nBreakeven)： 253\n",
      "盈利/亏损比例(nWin/nLoss_Radio)： 1.0\n",
      "盈利的平均值(nMean_Win)： 0.605\n",
      "亏损的平均值(nMean_Loss)： -0.701\n",
      "平均收益(nMean)： 0.032\n",
      "标准差(nStd_Dev)： 0.511\n",
      "最大亏损(nMax_Loss)： -3.69\n",
      "最大盈利(nMax_Win)： 1.881\n",
      "夏普比率(nSharpe_Ratio)： 0.9786\n"
     ]
    }
   ],
   "source": [
    "get_stats(tfs_f['PnL_f'])"
   ]
  }
 ],
 "metadata": {
  "kernelspec": {
   "display_name": "Python 2",
   "language": "python",
   "name": "python2"
  },
  "language_info": {
   "codemirror_mode": {
    "name": "ipython",
    "version": 2
   },
   "file_extension": ".py",
   "mimetype": "text/x-python",
   "name": "python",
   "nbconvert_exporter": "python",
   "pygments_lexer": "ipython2",
   "version": "2.7.13"
  }
 },
 "nbformat": 4,
 "nbformat_minor": 2
}
