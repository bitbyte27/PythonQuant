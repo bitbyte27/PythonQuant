{
 "cells": [
  {
   "cell_type": "markdown",
   "metadata": {
    "collapsed": true
   },
   "source": [
    "### 《Python与机器学习实战》何宇健.电子工业出版社.201706\n",
    "* [何宇健（射命丸咲）的GitHub](https://github.com/carefree0910/MachineLearning)"
   ]
  },
  {
   "cell_type": "markdown",
   "metadata": {},
   "source": [
    "> 第—个机器学习样例，P12"
   ]
  },
  {
   "cell_type": "code",
   "execution_count": 1,
   "metadata": {
    "collapsed": true
   },
   "outputs": [],
   "source": [
    "import numpy as np\n",
    "import matplotlib.pyplot as plt"
   ]
  },
  {
   "cell_type": "markdown",
   "metadata": {},
   "source": [
    "[第一个机器学习样例](http://www.carefree0910.com/posts/372587d5/)"
   ]
  },
  {
   "cell_type": "code",
   "execution_count": 2,
   "metadata": {
    "collapsed": true
   },
   "outputs": [],
   "source": [
    "# 定义存储输入数据（x）和目标数据（y）的数组\n",
    "x, y = [], []"
   ]
  },
  {
   "cell_type": "code",
   "execution_count": 3,
   "metadata": {
    "collapsed": true
   },
   "outputs": [],
   "source": [
    "# 遍历数据集，变量sample对应的是一个个样本\n",
    "for sample in open(\"Data/prices.txt\", \"r\"):\n",
    "    # 由于数据是用逗号隔开的，所以调用Python中的split方法并将逗号作为参数传入\n",
    "    xx, yy = sample.split(\",\")\n",
    "    # 将字符串数据转化为浮点数\n",
    "    x.append(float(xx))\n",
    "    y.append(float(yy))"
   ]
  },
  {
   "cell_type": "code",
   "execution_count": 4,
   "metadata": {
    "collapsed": true
   },
   "outputs": [],
   "source": [
    "# 读取完数据后，将它们转化为Numpy数组以方便进一步的处理\n",
    "x, y = np.array(x), np.array(y)"
   ]
  },
  {
   "cell_type": "code",
   "execution_count": 5,
   "metadata": {
    "collapsed": true
   },
   "outputs": [],
   "source": [
    "# Perform normalization\n",
    "# 对数值较大的数字做简单的处理，以期望降低问题的复杂度，\n",
    "# 这里，采用常用的数据标准化方法：X = （X - X'）/std(X)\n",
    "x = (x - x.mean()) / x.std()"
   ]
  },
  {
   "cell_type": "markdown",
   "metadata": {},
   "source": [
    "## $X = \\frac{X - \\bar X}{std(X)}$"
   ]
  },
  {
   "cell_type": "code",
   "execution_count": 6,
   "metadata": {},
   "outputs": [
    {
     "data": {
      "text/plain": [
       "array([  1.31415422e-01,  -5.09640698e-01,   5.07908699e-01,\n",
       "        -7.43677059e-01,   1.27107075e+00,  -1.99450507e-02,\n",
       "        -5.93588523e-01,  -7.29685755e-01,  -7.89466782e-01,\n",
       "        -6.44465993e-01,  -7.71822042e-02,  -8.65999486e-04,\n",
       "        -1.40779041e-01,   3.15099326e+00,  -9.31923697e-01,\n",
       "         3.80715024e-01,  -8.65782986e-01,  -9.72625673e-01,\n",
       "         7.73743478e-01,   1.31050078e+00,  -2.97227261e-01,\n",
       "        -1.43322915e-01,  -5.04552951e-01,  -4.91995958e-02,\n",
       "         2.40309445e+00,  -1.14560907e+00,  -6.90255715e-01,\n",
       "         6.68172729e-01,   2.53521350e-01,   8.09357707e-01,\n",
       "        -2.05647815e-01,  -1.27280274e+00,   5.00114703e-02,\n",
       "         1.44532608e+00,  -2.41262044e-01,  -7.16966387e-01,\n",
       "        -9.68809863e-01,   1.67029651e-01,   2.81647389e+00,\n",
       "         2.05187753e-01,  -4.28236746e-01,   3.01854946e-01,\n",
       "         7.20322135e-01,  -1.01841540e+00,  -1.46104938e+00,\n",
       "        -1.89112638e-01,  -1.01459959e+00])"
      ]
     },
     "execution_count": 6,
     "metadata": {},
     "output_type": "execute_result"
    }
   ],
   "source": [
    "x"
   ]
  },
  {
   "cell_type": "code",
   "execution_count": 7,
   "metadata": {},
   "outputs": [
    {
     "data": {
      "text/plain": [
       "array([ 399900.,  329900.,  369000.,  232000.,  539900.,  299900.,\n",
       "        314900.,  198999.,  212000.,  242500.,  239999.,  347000.,\n",
       "        329999.,  699900.,  259900.,  449900.,  299900.,  199900.,\n",
       "        499998.,  599000.,  252900.,  255000.,  242900.,  259900.,\n",
       "        573900.,  249900.,  464500.,  469000.,  475000.,  299900.,\n",
       "        349900.,  169900.,  314900.,  579900.,  285900.,  249900.,\n",
       "        229900.,  345000.,  549000.,  287000.,  368500.,  329900.,\n",
       "        314000.,  299000.,  179900.,  299900.,  239500.])"
      ]
     },
     "execution_count": 7,
     "metadata": {},
     "output_type": "execute_result"
    }
   ],
   "source": [
    "y"
   ]
  },
  {
   "cell_type": "code",
   "execution_count": 8,
   "metadata": {},
   "outputs": [
    {
     "data": {
      "image/png": "[encoded data removed]",
      "text/plain": [
       "<matplotlib.figure.Figure at 0xb247860>"
      ]
     },
     "metadata": {},
     "output_type": "display_data"
    }
   ],
   "source": [
    "# 将原始数据以散点图的形式画出\n",
    "plt.figure()\n",
    "plt.scatter(x, y, c=\"g\", s=20)\n",
    "plt.show()"
   ]
  },
  {
   "cell_type": "code",
   "execution_count": 9,
   "metadata": {
    "collapsed": true
   },
   "outputs": [],
   "source": [
    "# 通过可视化原始数据，可以非常直观地感受到：很有可能通过线性回归（Linear Regression）\n",
    "# 中的多项式拟合来得到一个不错的结果\n",
    "# 在（-2,4）这个区间上取100个点作为画图的基础\n",
    "x0 = np.linspace(-2, 4, 100)"
   ]
  },
  {
   "cell_type": "markdown",
   "metadata": {},
   "source": [
    "## $f(x|p;n)=p_0x^n+p_1x^{n-1}+...+p_{n-1}x+p_n$"
   ]
  },
  {
   "cell_type": "markdown",
   "metadata": {},
   "source": [
    "## $L(p;n)=\\frac 12\\sum_{i=1}^{m}[f(x|p;n)-y]^2$"
   ]
  },
  {
   "cell_type": "code",
   "execution_count": 10,
   "metadata": {
    "collapsed": true
   },
   "outputs": [],
   "source": [
    "# Get regression model under LSE criterion with degree 'deg'\n",
    "# 利用Numpy的函数定义训练并返回多项式回归模型的函数\n",
    "# deg参数代表着模型中的n，即模型中多项式的次数\n",
    "# 返回的模型能够根据输入的x（默认是x0），返回相对于的预测的y\n",
    "def get_model(deg):\n",
    "    return lambda input_x=x0: np.polyval(np.polyfit(x, y, deg), input_x)"
   ]
  },
  {
   "cell_type": "code",
   "execution_count": 11,
   "metadata": {
    "collapsed": true
   },
   "outputs": [],
   "source": [
    "# 模型做好后，我们就要尝试判断各种参数下模型的好坏，\n",
    "# 我们训练的目的是最小化损失函数，用损失函数来衡量模型的好坏似乎是一个合理的做法。\n",
    "# Get the cost of regression model above under given x, y\n",
    "# 根据参数n，输入的x，y返回相对于的损失\n",
    "def get_cost(deg, input_x, input_y):\n",
    "    return 0.5 * ((get_model(deg)(input_x) - input_y) ** 2).sum()"
   ]
  },
  {
   "cell_type": "code",
   "execution_count": 12,
   "metadata": {},
   "outputs": [
    {
     "name": "stdout",
     "output_type": "stream",
     "text": [
      "96732238800.4\n",
      "94112406641.7\n",
      "75874846680.1\n"
     ]
    }
   ],
   "source": [
    "# 定义测试参数集并根据它进行各种实验\n",
    "# Set degrees\n",
    "test_set = (1, 4, 10)\n",
    "for d in test_set:\n",
    "    # 输出相应的损失\n",
    "    print(get_cost(d, x, y))"
   ]
  },
  {
   "cell_type": "code",
   "execution_count": 13,
   "metadata": {
    "collapsed": true
   },
   "outputs": [],
   "source": [
    "# 输出相应的图像\n",
    "# Visualize results\n",
    "plt.scatter(x, y, c=\"g\", s=20)\n",
    "for d in test_set:\n",
    "    plt.plot(x0, get_model(d)(), label=\"degree = {}\".format(d))"
   ]
  },
  {
   "cell_type": "code",
   "execution_count": 14,
   "metadata": {},
   "outputs": [
    {
     "data": {
      "text/plain": [
       "(100000.0, 800000.0)"
      ]
     },
     "execution_count": 14,
     "metadata": {},
     "output_type": "execute_result"
    }
   ],
   "source": [
    "# 将横轴、纵轴的范围分别限制在（-2,4），（10^5,8×10^5）\n",
    "plt.xlim(-2, 4)\n",
    "plt.ylim(1e5, 8e5)"
   ]
  },
  {
   "cell_type": "code",
   "execution_count": 15,
   "metadata": {},
   "outputs": [
    {
     "data": {
      "image/png": "[encoded data removed]",
      "text/plain": [
       "<matplotlib.figure.Figure at 0xb247ba8>"
      ]
     },
     "metadata": {},
     "output_type": "display_data"
    }
   ],
   "source": [
    "# 调用legend方法使曲线对于的label正确显示\n",
    "plt.legend()\n",
    "plt.show()"
   ]
  }
 ],
 "metadata": {
  "kernelspec": {
   "display_name": "Python 2",
   "language": "python",
   "name": "python2"
  },
  "language_info": {
   "codemirror_mode": {
    "name": "ipython",
    "version": 2
   },
   "file_extension": ".py",
   "mimetype": "text/x-python",
   "name": "python",
   "nbconvert_exporter": "python",
   "pygments_lexer": "ipython2",
   "version": "2.7.13"
  }
 },
 "nbformat": 4,
 "nbformat_minor": 2
}
