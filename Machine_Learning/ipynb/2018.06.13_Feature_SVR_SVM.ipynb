{
 "cells": [
  {
   "cell_type": "code",
   "execution_count": 1,
   "metadata": {
    "collapsed": true
   },
   "outputs": [],
   "source": [
    "import numpy as np\n",
    "import pandas as pd\n",
    "import matplotlib.pyplot as plt"
   ]
  },
  {
   "cell_type": "code",
   "execution_count": 2,
   "metadata": {
    "collapsed": true
   },
   "outputs": [],
   "source": [
    "def SZ_ETF(stock):\n",
    "    stock = stock.set_index('date')\n",
    "    stock.index = pd.to_datetime(stock.index)\n",
    "    stock = stock.sort_index(axis=0, ascending=True)\n",
    "    stadate = '2006-06-01'\n",
    "    enddate = '2018-06-08'\n",
    "    stock = stock[pd.to_datetime(stock.index) >= pd.to_datetime(stadate)]\n",
    "    stock = stock[pd.to_datetime(stock.index) <= pd.to_datetime(enddate)]\n",
    "    stock['yesterday_close'] = stock['close'].shift(1)\n",
    "    stock.loc[0:1,'yesterday_close'] = stock['open']\n",
    "    stock['range'] = (stock['close']-stock['yesterday_close'])/stock['yesterday_close']*100\n",
    "    stock['amplitude'] = (stock['high']-stock['low'])/stock['yesterday_close']*100\n",
    "    return stock"
   ]
  },
  {
   "cell_type": "code",
   "execution_count": 3,
   "metadata": {
    "collapsed": true
   },
   "outputs": [],
   "source": [
    "# 300ETF(510300)\n",
    "stock_300ETF = pd.read_csv('../ETF/data/510300.csv')\n",
    "stock_300ETF = SZ_ETF(stock_300ETF)"
   ]
  },
  {
   "cell_type": "code",
   "execution_count": 4,
   "metadata": {
    "scrolled": true
   },
   "outputs": [
    {
     "data": {
      "text/html": [
       "<div>\n",
       "<style>\n",
       "    .dataframe thead tr:only-child th {\n",
       "        text-align: right;\n",
       "    }\n",
       "\n",
       "    .dataframe thead th {\n",
       "        text-align: left;\n",
       "    }\n",
       "\n",
       "    .dataframe tbody tr th {\n",
       "        vertical-align: top;\n",
       "    }\n",
       "</style>\n",
       "<table border=\"1\" class=\"dataframe\">\n",
       "  <thead>\n",
       "    <tr style=\"text-align: right;\">\n",
       "      <th></th>\n",
       "      <th>open</th>\n",
       "      <th>high</th>\n",
       "      <th>low</th>\n",
       "      <th>close</th>\n",
       "      <th>volume</th>\n",
       "      <th>amount</th>\n",
       "      <th>yesterday_close</th>\n",
       "      <th>range</th>\n",
       "      <th>amplitude</th>\n",
       "    </tr>\n",
       "    <tr>\n",
       "      <th>date</th>\n",
       "      <th></th>\n",
       "      <th></th>\n",
       "      <th></th>\n",
       "      <th></th>\n",
       "      <th></th>\n",
       "      <th></th>\n",
       "      <th></th>\n",
       "      <th></th>\n",
       "      <th></th>\n",
       "    </tr>\n",
       "  </thead>\n",
       "  <tbody>\n",
       "    <tr>\n",
       "      <th>2018-05-28</th>\n",
       "      <td>3.819</td>\n",
       "      <td>3.850</td>\n",
       "      <td>3.801</td>\n",
       "      <td>3.835</td>\n",
       "      <td>91613408</td>\n",
       "      <td>35052.672</td>\n",
       "      <td>3.811</td>\n",
       "      <td>0.629756</td>\n",
       "      <td>1.285752</td>\n",
       "    </tr>\n",
       "    <tr>\n",
       "      <th>2018-05-29</th>\n",
       "      <td>3.830</td>\n",
       "      <td>3.840</td>\n",
       "      <td>3.797</td>\n",
       "      <td>3.799</td>\n",
       "      <td>126385560</td>\n",
       "      <td>48255.496</td>\n",
       "      <td>3.835</td>\n",
       "      <td>-0.938722</td>\n",
       "      <td>1.121252</td>\n",
       "    </tr>\n",
       "    <tr>\n",
       "      <th>2018-05-30</th>\n",
       "      <td>3.762</td>\n",
       "      <td>3.767</td>\n",
       "      <td>3.726</td>\n",
       "      <td>3.727</td>\n",
       "      <td>144032288</td>\n",
       "      <td>53959.531</td>\n",
       "      <td>3.799</td>\n",
       "      <td>-1.895236</td>\n",
       "      <td>1.079231</td>\n",
       "    </tr>\n",
       "    <tr>\n",
       "      <th>2018-05-31</th>\n",
       "      <td>3.748</td>\n",
       "      <td>3.806</td>\n",
       "      <td>3.742</td>\n",
       "      <td>3.803</td>\n",
       "      <td>170193616</td>\n",
       "      <td>64162.496</td>\n",
       "      <td>3.727</td>\n",
       "      <td>2.039174</td>\n",
       "      <td>1.717199</td>\n",
       "    </tr>\n",
       "    <tr>\n",
       "      <th>2018-06-01</th>\n",
       "      <td>3.786</td>\n",
       "      <td>3.799</td>\n",
       "      <td>3.760</td>\n",
       "      <td>3.777</td>\n",
       "      <td>121025472</td>\n",
       "      <td>45736.316</td>\n",
       "      <td>3.803</td>\n",
       "      <td>-0.683671</td>\n",
       "      <td>1.025506</td>\n",
       "    </tr>\n",
       "    <tr>\n",
       "      <th>2018-06-04</th>\n",
       "      <td>3.797</td>\n",
       "      <td>3.818</td>\n",
       "      <td>3.784</td>\n",
       "      <td>3.814</td>\n",
       "      <td>126079680</td>\n",
       "      <td>47968.090</td>\n",
       "      <td>3.777</td>\n",
       "      <td>0.979613</td>\n",
       "      <td>0.900185</td>\n",
       "    </tr>\n",
       "    <tr>\n",
       "      <th>2018-06-05</th>\n",
       "      <td>3.810</td>\n",
       "      <td>3.850</td>\n",
       "      <td>3.803</td>\n",
       "      <td>3.846</td>\n",
       "      <td>104886000</td>\n",
       "      <td>40123.789</td>\n",
       "      <td>3.814</td>\n",
       "      <td>0.839014</td>\n",
       "      <td>1.232302</td>\n",
       "    </tr>\n",
       "    <tr>\n",
       "      <th>2018-06-06</th>\n",
       "      <td>3.841</td>\n",
       "      <td>3.849</td>\n",
       "      <td>3.831</td>\n",
       "      <td>3.839</td>\n",
       "      <td>83502816</td>\n",
       "      <td>32063.799</td>\n",
       "      <td>3.846</td>\n",
       "      <td>-0.182007</td>\n",
       "      <td>0.468019</td>\n",
       "    </tr>\n",
       "    <tr>\n",
       "      <th>2018-06-07</th>\n",
       "      <td>3.853</td>\n",
       "      <td>3.869</td>\n",
       "      <td>3.831</td>\n",
       "      <td>3.838</td>\n",
       "      <td>109814320</td>\n",
       "      <td>42290.070</td>\n",
       "      <td>3.839</td>\n",
       "      <td>-0.026048</td>\n",
       "      <td>0.989841</td>\n",
       "    </tr>\n",
       "    <tr>\n",
       "      <th>2018-06-08</th>\n",
       "      <td>3.830</td>\n",
       "      <td>3.830</td>\n",
       "      <td>3.768</td>\n",
       "      <td>3.787</td>\n",
       "      <td>135333280</td>\n",
       "      <td>51353.004</td>\n",
       "      <td>3.838</td>\n",
       "      <td>-1.328817</td>\n",
       "      <td>1.615425</td>\n",
       "    </tr>\n",
       "  </tbody>\n",
       "</table>\n",
       "</div>"
      ],
      "text/plain": [
       "             open   high    low  close     volume     amount  yesterday_close  \\\n",
       "date                                                                            \n",
       "2018-05-28  3.819  3.850  3.801  3.835   91613408  35052.672            3.811   \n",
       "2018-05-29  3.830  3.840  3.797  3.799  126385560  48255.496            3.835   \n",
       "2018-05-30  3.762  3.767  3.726  3.727  144032288  53959.531            3.799   \n",
       "2018-05-31  3.748  3.806  3.742  3.803  170193616  64162.496            3.727   \n",
       "2018-06-01  3.786  3.799  3.760  3.777  121025472  45736.316            3.803   \n",
       "2018-06-04  3.797  3.818  3.784  3.814  126079680  47968.090            3.777   \n",
       "2018-06-05  3.810  3.850  3.803  3.846  104886000  40123.789            3.814   \n",
       "2018-06-06  3.841  3.849  3.831  3.839   83502816  32063.799            3.846   \n",
       "2018-06-07  3.853  3.869  3.831  3.838  109814320  42290.070            3.839   \n",
       "2018-06-08  3.830  3.830  3.768  3.787  135333280  51353.004            3.838   \n",
       "\n",
       "               range  amplitude  \n",
       "date                             \n",
       "2018-05-28  0.629756   1.285752  \n",
       "2018-05-29 -0.938722   1.121252  \n",
       "2018-05-30 -1.895236   1.079231  \n",
       "2018-05-31  2.039174   1.717199  \n",
       "2018-06-01 -0.683671   1.025506  \n",
       "2018-06-04  0.979613   0.900185  \n",
       "2018-06-05  0.839014   1.232302  \n",
       "2018-06-06 -0.182007   0.468019  \n",
       "2018-06-07 -0.026048   0.989841  \n",
       "2018-06-08 -1.328817   1.615425  "
      ]
     },
     "execution_count": 4,
     "metadata": {},
     "output_type": "execute_result"
    }
   ],
   "source": [
    "stock_300ETF.tail(10)"
   ]
  },
  {
   "cell_type": "code",
   "execution_count": 5,
   "metadata": {},
   "outputs": [
    {
     "data": {
      "text/html": [
       "<div>\n",
       "<style>\n",
       "    .dataframe thead tr:only-child th {\n",
       "        text-align: right;\n",
       "    }\n",
       "\n",
       "    .dataframe thead th {\n",
       "        text-align: left;\n",
       "    }\n",
       "\n",
       "    .dataframe tbody tr th {\n",
       "        vertical-align: top;\n",
       "    }\n",
       "</style>\n",
       "<table border=\"1\" class=\"dataframe\">\n",
       "  <thead>\n",
       "    <tr style=\"text-align: right;\">\n",
       "      <th></th>\n",
       "      <th>Decision</th>\n",
       "      <th>MAJCQX</th>\n",
       "    </tr>\n",
       "    <tr>\n",
       "      <th>date</th>\n",
       "      <th></th>\n",
       "      <th></th>\n",
       "    </tr>\n",
       "  </thead>\n",
       "  <tbody>\n",
       "    <tr>\n",
       "      <th>2018-06-04</th>\n",
       "      <td>36.72</td>\n",
       "      <td>31.280000</td>\n",
       "    </tr>\n",
       "    <tr>\n",
       "      <th>2018-06-05</th>\n",
       "      <td>46.24</td>\n",
       "      <td>36.266667</td>\n",
       "    </tr>\n",
       "    <tr>\n",
       "      <th>2018-06-06</th>\n",
       "      <td>51.68</td>\n",
       "      <td>44.880000</td>\n",
       "    </tr>\n",
       "    <tr>\n",
       "      <th>2018-06-07</th>\n",
       "      <td>53.04</td>\n",
       "      <td>50.320000</td>\n",
       "    </tr>\n",
       "    <tr>\n",
       "      <th>2018-06-08</th>\n",
       "      <td>29.92</td>\n",
       "      <td>44.880000</td>\n",
       "    </tr>\n",
       "  </tbody>\n",
       "</table>\n",
       "</div>"
      ],
      "text/plain": [
       "           Decision     MAJCQX\n",
       "date                          \n",
       "2018-06-04    36.72  31.280000\n",
       "2018-06-05    46.24  36.266667\n",
       "2018-06-06    51.68  44.880000\n",
       "2018-06-07    53.04  50.320000\n",
       "2018-06-08    29.92  44.880000"
      ]
     },
     "execution_count": 5,
     "metadata": {},
     "output_type": "execute_result"
    }
   ],
   "source": [
    "import Risk_Ratio_Functions\n",
    "Risk_Ratio = Risk_Ratio_Functions.Risk_Ratio(stock_300ETF)\n",
    "Risk_Ratio = Risk_Ratio[['Decision','MAJCQX']]\n",
    "Risk_Ratio.tail()"
   ]
  },
  {
   "cell_type": "code",
   "execution_count": 6,
   "metadata": {},
   "outputs": [
    {
     "data": {
      "text/html": [
       "<div>\n",
       "<style>\n",
       "    .dataframe thead tr:only-child th {\n",
       "        text-align: right;\n",
       "    }\n",
       "\n",
       "    .dataframe thead th {\n",
       "        text-align: left;\n",
       "    }\n",
       "\n",
       "    .dataframe tbody tr th {\n",
       "        vertical-align: top;\n",
       "    }\n",
       "</style>\n",
       "<table border=\"1\" class=\"dataframe\">\n",
       "  <thead>\n",
       "    <tr style=\"text-align: right;\">\n",
       "      <th></th>\n",
       "      <th>LLV</th>\n",
       "      <th>HHV</th>\n",
       "      <th>M1</th>\n",
       "    </tr>\n",
       "    <tr>\n",
       "      <th>date</th>\n",
       "      <th></th>\n",
       "      <th></th>\n",
       "      <th></th>\n",
       "    </tr>\n",
       "  </thead>\n",
       "  <tbody>\n",
       "    <tr>\n",
       "      <th>2018-06-04</th>\n",
       "      <td>3.727</td>\n",
       "      <td>3.835</td>\n",
       "      <td>3.792000</td>\n",
       "    </tr>\n",
       "    <tr>\n",
       "      <th>2018-06-05</th>\n",
       "      <td>3.727</td>\n",
       "      <td>3.846</td>\n",
       "      <td>3.792500</td>\n",
       "    </tr>\n",
       "    <tr>\n",
       "      <th>2018-06-06</th>\n",
       "      <td>3.727</td>\n",
       "      <td>3.846</td>\n",
       "      <td>3.794333</td>\n",
       "    </tr>\n",
       "    <tr>\n",
       "      <th>2018-06-07</th>\n",
       "      <td>3.777</td>\n",
       "      <td>3.846</td>\n",
       "      <td>3.801000</td>\n",
       "    </tr>\n",
       "    <tr>\n",
       "      <th>2018-06-08</th>\n",
       "      <td>3.777</td>\n",
       "      <td>3.846</td>\n",
       "      <td>3.819500</td>\n",
       "    </tr>\n",
       "  </tbody>\n",
       "</table>\n",
       "</div>"
      ],
      "text/plain": [
       "              LLV    HHV        M1\n",
       "date                              \n",
       "2018-06-04  3.727  3.835  3.792000\n",
       "2018-06-05  3.727  3.846  3.792500\n",
       "2018-06-06  3.727  3.846  3.794333\n",
       "2018-06-07  3.777  3.846  3.801000\n",
       "2018-06-08  3.777  3.846  3.819500"
      ]
     },
     "execution_count": 6,
     "metadata": {},
     "output_type": "execute_result"
    }
   ],
   "source": [
    "import YCWW_Functions\n",
    "ZFXF_YCWW = YCWW_Functions.YCWW(stock_300ETF,6)\n",
    "ZFXF_YCWW = ZFXF_YCWW[['LLV','HHV','M1']]\n",
    "ZFXF_YCWW.tail()"
   ]
  },
  {
   "cell_type": "code",
   "execution_count": 7,
   "metadata": {
    "collapsed": true
   },
   "outputs": [],
   "source": [
    "import FeatureUtils"
   ]
  },
  {
   "cell_type": "code",
   "execution_count": 8,
   "metadata": {
    "collapsed": true
   },
   "outputs": [],
   "source": [
    "RSV = FeatureUtils.RSV(stock_300ETF)\n",
    "MACD = FeatureUtils.MACD(stock_300ETF)\n",
    "TRIX_Juece = FeatureUtils.TRIX_Juece(stock_300ETF)\n",
    "TRIX_Tenyears = FeatureUtils.TRIX_Tenyears(stock_300ETF)\n",
    "EMV_Juece = FeatureUtils.EMV_Juece(stock_300ETF)\n",
    "EMV_Tenyears = FeatureUtils.EMV_Tenyears(stock_300ETF)\n",
    "EMV_StockCharts = FeatureUtils.EMV_StockCharts(stock_300ETF)\n",
    "RSI_Juece = FeatureUtils.RSI_Juece(stock_300ETF)\n",
    "CCI_Juece = FeatureUtils.CCI_Juece(stock_300ETF)\n",
    "CCI_talib = FeatureUtils.CCI_talib(stock_300ETF)\n",
    "WR_Juece = FeatureUtils.WR_Juece(stock_300ETF)\n",
    "OSC = FeatureUtils.OSC(stock_300ETF)\n",
    "MOM = FeatureUtils.MOM(stock_300ETF)\n",
    "DPO = FeatureUtils.DPO(stock_300ETF)\n",
    "BOLL_Juece = FeatureUtils.BOLL_Juece(stock_300ETF)\n",
    "BRAR_Juece = FeatureUtils.BRAR_Juece(stock_300ETF)\n",
    "VR_Juece = FeatureUtils.VR_Juece(stock_300ETF)\n",
    "WVAD = FeatureUtils.WVAD(stock_300ETF)\n",
    "OBV_Juece = FeatureUtils.OBV_Juece(stock_300ETF)\n",
    "PVI = FeatureUtils.PVI(stock_300ETF)\n",
    "NVI = FeatureUtils.NVI(stock_300ETF)\n",
    "MASS = FeatureUtils.MASS(stock_300ETF)\n",
    "VHF = FeatureUtils.VHF(stock_300ETF)\n",
    "PUCU = FeatureUtils.PUCU(stock_300ETF)\n",
    "MASI = FeatureUtils.MASI(stock_300ETF)\n",
    "BIAS_Juece = FeatureUtils.BIAS_Juece(stock_300ETF)"
   ]
  },
  {
   "cell_type": "raw",
   "metadata": {},
   "source": [
    "Feature_Utils = pd.concat([RSV, MACD, TRIX_Juece, TRIX_Tenyears, EMV_Juece, EMV_Tenyears, EMV_StockCharts, \n",
    "                           RSI_Juece, CCI_Juece, WR_Juece, OSC, MOM, DPO, BOLL_Juece, BRAR_Juece, VR_Juece, \n",
    "                           WVAD, OBV_Juece, PVI, NVI, MASS, VHF, PUCU, MASI, BIAS_Juece], axis=1)"
   ]
  },
  {
   "cell_type": "code",
   "execution_count": 9,
   "metadata": {
    "collapsed": true
   },
   "outputs": [],
   "source": [
    "Feature_Utils = pd.concat([RSV, MACD, TRIX_Juece, BIAS_Juece], axis=1)"
   ]
  },
  {
   "cell_type": "code",
   "execution_count": 10,
   "metadata": {
    "collapsed": true
   },
   "outputs": [],
   "source": [
    "Stock_Data_SVR = pd.concat([stock_300ETF[['close','range','amplitude']], Risk_Ratio, ZFXF_YCWW, Feature_Utils], axis=1)\n",
    "Stock_Data_SVR = Stock_Data_SVR.dropna()"
   ]
  },
  {
   "cell_type": "code",
   "execution_count": 11,
   "metadata": {},
   "outputs": [
    {
     "data": {
      "text/html": [
       "<div>\n",
       "<style>\n",
       "    .dataframe thead tr:only-child th {\n",
       "        text-align: right;\n",
       "    }\n",
       "\n",
       "    .dataframe thead th {\n",
       "        text-align: left;\n",
       "    }\n",
       "\n",
       "    .dataframe tbody tr th {\n",
       "        vertical-align: top;\n",
       "    }\n",
       "</style>\n",
       "<table border=\"1\" class=\"dataframe\">\n",
       "  <thead>\n",
       "    <tr style=\"text-align: right;\">\n",
       "      <th>date</th>\n",
       "      <th>2018-06-04 00:00:00</th>\n",
       "      <th>2018-06-05 00:00:00</th>\n",
       "      <th>2018-06-06 00:00:00</th>\n",
       "      <th>2018-06-07 00:00:00</th>\n",
       "      <th>2018-06-08 00:00:00</th>\n",
       "    </tr>\n",
       "  </thead>\n",
       "  <tbody>\n",
       "    <tr>\n",
       "      <th>close</th>\n",
       "      <td>3.814</td>\n",
       "      <td>3.846</td>\n",
       "      <td>3.839</td>\n",
       "      <td>3.838</td>\n",
       "      <td>3.787</td>\n",
       "    </tr>\n",
       "    <tr>\n",
       "      <th>range</th>\n",
       "      <td>0.979613</td>\n",
       "      <td>0.839014</td>\n",
       "      <td>-0.182007</td>\n",
       "      <td>-0.0260485</td>\n",
       "      <td>-1.32882</td>\n",
       "    </tr>\n",
       "    <tr>\n",
       "      <th>amplitude</th>\n",
       "      <td>0.900185</td>\n",
       "      <td>1.2323</td>\n",
       "      <td>0.468019</td>\n",
       "      <td>0.989841</td>\n",
       "      <td>1.61542</td>\n",
       "    </tr>\n",
       "    <tr>\n",
       "      <th>Decision</th>\n",
       "      <td>36.72</td>\n",
       "      <td>46.24</td>\n",
       "      <td>51.68</td>\n",
       "      <td>53.04</td>\n",
       "      <td>29.92</td>\n",
       "    </tr>\n",
       "    <tr>\n",
       "      <th>MAJCQX</th>\n",
       "      <td>31.28</td>\n",
       "      <td>36.2667</td>\n",
       "      <td>44.88</td>\n",
       "      <td>50.32</td>\n",
       "      <td>44.88</td>\n",
       "    </tr>\n",
       "    <tr>\n",
       "      <th>LLV</th>\n",
       "      <td>3.727</td>\n",
       "      <td>3.727</td>\n",
       "      <td>3.727</td>\n",
       "      <td>3.777</td>\n",
       "      <td>3.777</td>\n",
       "    </tr>\n",
       "    <tr>\n",
       "      <th>HHV</th>\n",
       "      <td>3.835</td>\n",
       "      <td>3.846</td>\n",
       "      <td>3.846</td>\n",
       "      <td>3.846</td>\n",
       "      <td>3.846</td>\n",
       "    </tr>\n",
       "    <tr>\n",
       "      <th>M1</th>\n",
       "      <td>3.792</td>\n",
       "      <td>3.7925</td>\n",
       "      <td>3.79433</td>\n",
       "      <td>3.801</td>\n",
       "      <td>3.8195</td>\n",
       "    </tr>\n",
       "    <tr>\n",
       "      <th>HIGH5</th>\n",
       "      <td>3.84</td>\n",
       "      <td>3.85</td>\n",
       "      <td>3.85</td>\n",
       "      <td>3.869</td>\n",
       "      <td>3.869</td>\n",
       "    </tr>\n",
       "    <tr>\n",
       "      <th>LOW5</th>\n",
       "      <td>3.726</td>\n",
       "      <td>3.726</td>\n",
       "      <td>3.742</td>\n",
       "      <td>3.76</td>\n",
       "      <td>3.768</td>\n",
       "    </tr>\n",
       "    <tr>\n",
       "      <th>RSV</th>\n",
       "      <td>77.193</td>\n",
       "      <td>96.7742</td>\n",
       "      <td>89.8148</td>\n",
       "      <td>71.5596</td>\n",
       "      <td>18.8119</td>\n",
       "    </tr>\n",
       "    <tr>\n",
       "      <th>EMA12</th>\n",
       "      <td>3.81643</td>\n",
       "      <td>3.82098</td>\n",
       "      <td>3.82375</td>\n",
       "      <td>3.82594</td>\n",
       "      <td>3.81995</td>\n",
       "    </tr>\n",
       "    <tr>\n",
       "      <th>EMA26</th>\n",
       "      <td>3.836</td>\n",
       "      <td>3.83674</td>\n",
       "      <td>3.83691</td>\n",
       "      <td>3.83699</td>\n",
       "      <td>3.83329</td>\n",
       "    </tr>\n",
       "    <tr>\n",
       "      <th>DIF</th>\n",
       "      <td>-0.019573</td>\n",
       "      <td>-0.0157641</td>\n",
       "      <td>-0.0131587</td>\n",
       "      <td>-0.0110473</td>\n",
       "      <td>-0.0133355</td>\n",
       "    </tr>\n",
       "    <tr>\n",
       "      <th>DEA</th>\n",
       "      <td>-0.012871</td>\n",
       "      <td>-0.0134496</td>\n",
       "      <td>-0.0133914</td>\n",
       "      <td>-0.0129226</td>\n",
       "      <td>-0.0130052</td>\n",
       "    </tr>\n",
       "    <tr>\n",
       "      <th>MACD</th>\n",
       "      <td>-0.013404</td>\n",
       "      <td>-0.00462904</td>\n",
       "      <td>0.000465387</td>\n",
       "      <td>0.00375062</td>\n",
       "      <td>-0.00066065</td>\n",
       "    </tr>\n",
       "    <tr>\n",
       "      <th>TR</th>\n",
       "      <td>0.041</td>\n",
       "      <td>0.047</td>\n",
       "      <td>0.018</td>\n",
       "      <td>0.038</td>\n",
       "      <td>0.07</td>\n",
       "    </tr>\n",
       "    <tr>\n",
       "      <th>TRIX</th>\n",
       "      <td>-4.65116</td>\n",
       "      <td>14.6341</td>\n",
       "      <td>-61.7021</td>\n",
       "      <td>111.111</td>\n",
       "      <td>84.2105</td>\n",
       "    </tr>\n",
       "    <tr>\n",
       "      <th>MATRIX</th>\n",
       "      <td>5.0497</td>\n",
       "      <td>3.34239</td>\n",
       "      <td>-1.804</td>\n",
       "      <td>12.0568</td>\n",
       "      <td>18.1972</td>\n",
       "    </tr>\n",
       "    <tr>\n",
       "      <th>BIAS</th>\n",
       "      <td>-0.409087</td>\n",
       "      <td>0.542448</td>\n",
       "      <td>0.532472</td>\n",
       "      <td>0.646853</td>\n",
       "      <td>-0.551471</td>\n",
       "    </tr>\n",
       "  </tbody>\n",
       "</table>\n",
       "</div>"
      ],
      "text/plain": [
       "date      2018-06-04  2018-06-05   2018-06-06  2018-06-07  2018-06-08\n",
       "close          3.814       3.846        3.839       3.838       3.787\n",
       "range       0.979613    0.839014    -0.182007  -0.0260485    -1.32882\n",
       "amplitude   0.900185      1.2323     0.468019    0.989841     1.61542\n",
       "Decision       36.72       46.24        51.68       53.04       29.92\n",
       "MAJCQX         31.28     36.2667        44.88       50.32       44.88\n",
       "LLV            3.727       3.727        3.727       3.777       3.777\n",
       "HHV            3.835       3.846        3.846       3.846       3.846\n",
       "M1             3.792      3.7925      3.79433       3.801      3.8195\n",
       "HIGH5           3.84        3.85         3.85       3.869       3.869\n",
       "LOW5           3.726       3.726        3.742        3.76       3.768\n",
       "RSV           77.193     96.7742      89.8148     71.5596     18.8119\n",
       "EMA12        3.81643     3.82098      3.82375     3.82594     3.81995\n",
       "EMA26          3.836     3.83674      3.83691     3.83699     3.83329\n",
       "DIF        -0.019573  -0.0157641   -0.0131587  -0.0110473  -0.0133355\n",
       "DEA        -0.012871  -0.0134496   -0.0133914  -0.0129226  -0.0130052\n",
       "MACD       -0.013404 -0.00462904  0.000465387  0.00375062 -0.00066065\n",
       "TR             0.041       0.047        0.018       0.038        0.07\n",
       "TRIX        -4.65116     14.6341     -61.7021     111.111     84.2105\n",
       "MATRIX        5.0497     3.34239       -1.804     12.0568     18.1972\n",
       "BIAS       -0.409087    0.542448     0.532472    0.646853   -0.551471"
      ]
     },
     "execution_count": 11,
     "metadata": {},
     "output_type": "execute_result"
    }
   ],
   "source": [
    "Stock_Data_SVR.tail().T"
   ]
  },
  {
   "cell_type": "code",
   "execution_count": 12,
   "metadata": {},
   "outputs": [
    {
     "name": "stdout",
     "output_type": "stream",
     "text": [
      "1459 20\n"
     ]
    }
   ],
   "source": [
    "print len(Stock_Data_SVR), #1470\n",
    "print len(Stock_Data_SVR.columns), #101"
   ]
  },
  {
   "cell_type": "code",
   "execution_count": 13,
   "metadata": {
    "collapsed": true
   },
   "outputs": [],
   "source": [
    "from sklearn import svm"
   ]
  },
  {
   "cell_type": "markdown",
   "metadata": {},
   "source": [
    "### 支持向量回归（SVR）回归预测"
   ]
  },
  {
   "cell_type": "code",
   "execution_count": 14,
   "metadata": {},
   "outputs": [
    {
     "data": {
      "text/plain": [
       "SVR(C=1.0, cache_size=200, coef0=0.0, degree=3, epsilon=0.1, gamma='auto',\n",
       "  kernel='linear', max_iter=-1, shrinking=True, tol=0.001, verbose=False)"
      ]
     },
     "execution_count": 14,
     "metadata": {},
     "output_type": "execute_result"
    }
   ],
   "source": [
    "clf = svm.SVR(kernel = 'linear')\n",
    "clf"
   ]
  },
  {
   "cell_type": "code",
   "execution_count": 15,
   "metadata": {
    "collapsed": true
   },
   "outputs": [],
   "source": [
    "# 设置训练集，取前1000多个数据作为训练集\n",
    "g = -400\n",
    "x_train = Stock_Data_SVR[:g]\n",
    "y_train = Stock_Data_SVR['close'].shift(-1)[:g]"
   ]
  },
  {
   "cell_type": "code",
   "execution_count": 16,
   "metadata": {},
   "outputs": [
    {
     "name": "stdout",
     "output_type": "stream",
     "text": [
      "1059 20 1059\n"
     ]
    }
   ],
   "source": [
    "print len(x_train),\n",
    "print len(x_train.columns),\n",
    "print len(y_train)"
   ]
  },
  {
   "cell_type": "code",
   "execution_count": 17,
   "metadata": {
    "collapsed": true
   },
   "outputs": [],
   "source": [
    "# 设置测试集，取400个数据作为测试集\n",
    "x_test = Stock_Data_SVR[g:]\n",
    "y_test = Stock_Data_SVR['close'].shift(-1)[g:]"
   ]
  },
  {
   "cell_type": "code",
   "execution_count": 18,
   "metadata": {
    "collapsed": true
   },
   "outputs": [],
   "source": [
    "# 拟合模型\n",
    "model1 = clf.fit(x_train,y_train)"
   ]
  },
  {
   "cell_type": "code",
   "execution_count": 19,
   "metadata": {
    "collapsed": true
   },
   "outputs": [],
   "source": [
    "# 用测试集进行预测\n",
    "preds1 = model1.predict(x_test)"
   ]
  },
  {
   "cell_type": "code",
   "execution_count": 20,
   "metadata": {},
   "outputs": [
    {
     "data": {
      "text/plain": [
       "0.9924299973815438"
      ]
     },
     "execution_count": 20,
     "metadata": {},
     "output_type": "execute_result"
    }
   ],
   "source": [
    "# 评分函数\n",
    "scores1 = model1.score(x_train,y_train)\n",
    "scores1"
   ]
  },
  {
   "cell_type": "code",
   "execution_count": 21,
   "metadata": {},
   "outputs": [
    {
     "data": {
      "text/html": [
       "<div>\n",
       "<style>\n",
       "    .dataframe thead tr:only-child th {\n",
       "        text-align: right;\n",
       "    }\n",
       "\n",
       "    .dataframe thead th {\n",
       "        text-align: left;\n",
       "    }\n",
       "\n",
       "    .dataframe tbody tr th {\n",
       "        vertical-align: top;\n",
       "    }\n",
       "</style>\n",
       "<table border=\"1\" class=\"dataframe\">\n",
       "  <thead>\n",
       "    <tr style=\"text-align: right;\">\n",
       "      <th></th>\n",
       "      <th>close</th>\n",
       "      <th>Next_Day_Close1</th>\n",
       "      <th>Predicted_Next_Close1</th>\n",
       "    </tr>\n",
       "    <tr>\n",
       "      <th>date</th>\n",
       "      <th></th>\n",
       "      <th></th>\n",
       "      <th></th>\n",
       "    </tr>\n",
       "  </thead>\n",
       "  <tbody>\n",
       "    <tr>\n",
       "      <th>2018-06-04</th>\n",
       "      <td>3.814</td>\n",
       "      <td>3.846</td>\n",
       "      <td>3.788132</td>\n",
       "    </tr>\n",
       "    <tr>\n",
       "      <th>2018-06-05</th>\n",
       "      <td>3.846</td>\n",
       "      <td>3.839</td>\n",
       "      <td>3.817983</td>\n",
       "    </tr>\n",
       "    <tr>\n",
       "      <th>2018-06-06</th>\n",
       "      <td>3.839</td>\n",
       "      <td>3.838</td>\n",
       "      <td>3.814031</td>\n",
       "    </tr>\n",
       "    <tr>\n",
       "      <th>2018-06-07</th>\n",
       "      <td>3.838</td>\n",
       "      <td>3.787</td>\n",
       "      <td>3.833771</td>\n",
       "    </tr>\n",
       "    <tr>\n",
       "      <th>2018-06-08</th>\n",
       "      <td>3.787</td>\n",
       "      <td>NaN</td>\n",
       "      <td>3.769140</td>\n",
       "    </tr>\n",
       "  </tbody>\n",
       "</table>\n",
       "</div>"
      ],
      "text/plain": [
       "            close  Next_Day_Close1  Predicted_Next_Close1\n",
       "date                                                     \n",
       "2018-06-04  3.814            3.846               3.788132\n",
       "2018-06-05  3.846            3.839               3.817983\n",
       "2018-06-06  3.839            3.838               3.814031\n",
       "2018-06-07  3.838            3.787               3.833771\n",
       "2018-06-08  3.787              NaN               3.769140"
      ]
     },
     "execution_count": 21,
     "metadata": {},
     "output_type": "execute_result"
    }
   ],
   "source": [
    "skl_svr = pd.DataFrame(list(zip(y_test, preds1)), columns = ['Next_Day_Close1','Predicted_Next_Close1'], index = y_test.index)\n",
    "skl_svr = pd.concat([Stock_Data_SVR['close'],skl_svr], axis=1)\n",
    "skl_svr.tail()"
   ]
  },
  {
   "cell_type": "code",
   "execution_count": 22,
   "metadata": {},
   "outputs": [
    {
     "data": {
      "image/png": "[encoded data removed]",
      "text/plain": [
       "<matplotlib.figure.Figure at 0x1e004ac8>"
      ]
     },
     "metadata": {},
     "output_type": "display_data"
    }
   ],
   "source": [
    "h = -100\n",
    "plt.figure(figsize=(12,8), dpi=80)\n",
    "skl_svr['close'][h:].plot(color='green', linewidth='1')\n",
    "skl_svr['Next_Day_Close1'][h:].plot(color='blue', linewidth='1')\n",
    "skl_svr['Predicted_Next_Close1'][h:].plot(color='red', linewidth='1')\n",
    "plt.show()"
   ]
  },
  {
   "cell_type": "code",
   "execution_count": 23,
   "metadata": {
    "collapsed": true
   },
   "outputs": [],
   "source": [
    "# 计算实际数据与测数据的相关系数\n",
    "# 设置收盘价序列：pd.Series()\n",
    "corr_close = pd.Series(skl_svr['close'])\n",
    "corr_NDC = pd.Series(skl_svr['Next_Day_Close1'])\n",
    "corr_Pred_N_C = pd.Series(skl_svr['Predicted_Next_Close1'])"
   ]
  },
  {
   "cell_type": "code",
   "execution_count": 24,
   "metadata": {},
   "outputs": [
    {
     "name": "stdout",
     "output_type": "stream",
     "text": [
      "0.997789136243 0.992274298627 0.994193284493\n"
     ]
    }
   ],
   "source": [
    "corr_close_PNC = corr_close.corr(corr_Pred_N_C)\n",
    "corr_NDC_PNC = corr_NDC.corr(corr_Pred_N_C)\n",
    "corr_close_NDC = corr_close.corr(corr_NDC)\n",
    "print corr_close_PNC,\n",
    "print corr_NDC_PNC,\n",
    "print corr_close_NDC"
   ]
  },
  {
   "cell_type": "markdown",
   "metadata": {},
   "source": [
    "### 训练集和测试集不含有close的预测"
   ]
  },
  {
   "cell_type": "code",
   "execution_count": 25,
   "metadata": {},
   "outputs": [
    {
     "name": "stdout",
     "output_type": "stream",
     "text": [
      "1459 19\n"
     ]
    }
   ],
   "source": [
    "Stock_Data_SVR_no_close = Stock_Data_SVR[[x for x in Stock_Data_SVR.columns if x <> 'close']]\n",
    "Stock_Data_SVR = Stock_Data_SVR.dropna()\n",
    "print len(Stock_Data_SVR_no_close), #1459\n",
    "print len(Stock_Data_SVR_no_close.columns)"
   ]
  },
  {
   "cell_type": "code",
   "execution_count": 26,
   "metadata": {},
   "outputs": [
    {
     "name": "stdout",
     "output_type": "stream",
     "text": [
      "1059 1059\n"
     ]
    }
   ],
   "source": [
    "# 设置训练集，取前1000多个数据作为训练集\n",
    "g = -400\n",
    "k_train = Stock_Data_SVR_no_close[:g]\n",
    "j_train = Stock_Data_SVR['close'].shift(-1)[:g]\n",
    "print len(k_train),\n",
    "print len(j_train)"
   ]
  },
  {
   "cell_type": "code",
   "execution_count": 27,
   "metadata": {},
   "outputs": [
    {
     "name": "stdout",
     "output_type": "stream",
     "text": [
      "400 400\n"
     ]
    }
   ],
   "source": [
    "# 设置测试集，取400个数据作为测试集\n",
    "k_test = Stock_Data_SVR_no_close[g:]\n",
    "j_test = Stock_Data_SVR['close'].shift(-1)[g:]\n",
    "print len(k_test),\n",
    "print len(j_test)"
   ]
  },
  {
   "cell_type": "code",
   "execution_count": 28,
   "metadata": {},
   "outputs": [
    {
     "data": {
      "text/plain": [
       "0.99175265539522861"
      ]
     },
     "execution_count": 28,
     "metadata": {},
     "output_type": "execute_result"
    }
   ],
   "source": [
    "# 拟合模型\n",
    "model2 = clf.fit(k_train,j_train)\n",
    "# 用测试集进行预测\n",
    "preds2 = model2.predict(k_test)\n",
    "# 评分函数\n",
    "scores2 = model2.score(k_train,j_train)\n",
    "scores2"
   ]
  },
  {
   "cell_type": "code",
   "execution_count": 29,
   "metadata": {},
   "outputs": [
    {
     "data": {
      "text/html": [
       "<div>\n",
       "<style>\n",
       "    .dataframe thead tr:only-child th {\n",
       "        text-align: right;\n",
       "    }\n",
       "\n",
       "    .dataframe thead th {\n",
       "        text-align: left;\n",
       "    }\n",
       "\n",
       "    .dataframe tbody tr th {\n",
       "        vertical-align: top;\n",
       "    }\n",
       "</style>\n",
       "<table border=\"1\" class=\"dataframe\">\n",
       "  <thead>\n",
       "    <tr style=\"text-align: right;\">\n",
       "      <th></th>\n",
       "      <th>close</th>\n",
       "      <th>Next_Day_Close1</th>\n",
       "      <th>Predicted_Next_Close1</th>\n",
       "      <th>Next_Day_Close2</th>\n",
       "      <th>Predicted_Next_Close2</th>\n",
       "    </tr>\n",
       "    <tr>\n",
       "      <th>date</th>\n",
       "      <th></th>\n",
       "      <th></th>\n",
       "      <th></th>\n",
       "      <th></th>\n",
       "      <th></th>\n",
       "    </tr>\n",
       "  </thead>\n",
       "  <tbody>\n",
       "    <tr>\n",
       "      <th>2018-06-04</th>\n",
       "      <td>3.814</td>\n",
       "      <td>3.846</td>\n",
       "      <td>3.788132</td>\n",
       "      <td>3.846</td>\n",
       "      <td>3.803692</td>\n",
       "    </tr>\n",
       "    <tr>\n",
       "      <th>2018-06-05</th>\n",
       "      <td>3.846</td>\n",
       "      <td>3.839</td>\n",
       "      <td>3.817983</td>\n",
       "      <td>3.839</td>\n",
       "      <td>3.834489</td>\n",
       "    </tr>\n",
       "    <tr>\n",
       "      <th>2018-06-06</th>\n",
       "      <td>3.839</td>\n",
       "      <td>3.838</td>\n",
       "      <td>3.814031</td>\n",
       "      <td>3.838</td>\n",
       "      <td>3.830513</td>\n",
       "    </tr>\n",
       "    <tr>\n",
       "      <th>2018-06-07</th>\n",
       "      <td>3.838</td>\n",
       "      <td>3.787</td>\n",
       "      <td>3.833771</td>\n",
       "      <td>3.787</td>\n",
       "      <td>3.835865</td>\n",
       "    </tr>\n",
       "    <tr>\n",
       "      <th>2018-06-08</th>\n",
       "      <td>3.787</td>\n",
       "      <td>NaN</td>\n",
       "      <td>3.769140</td>\n",
       "      <td>NaN</td>\n",
       "      <td>3.761327</td>\n",
       "    </tr>\n",
       "  </tbody>\n",
       "</table>\n",
       "</div>"
      ],
      "text/plain": [
       "            close  Next_Day_Close1  Predicted_Next_Close1  Next_Day_Close2  \\\n",
       "date                                                                         \n",
       "2018-06-04  3.814            3.846               3.788132            3.846   \n",
       "2018-06-05  3.846            3.839               3.817983            3.839   \n",
       "2018-06-06  3.839            3.838               3.814031            3.838   \n",
       "2018-06-07  3.838            3.787               3.833771            3.787   \n",
       "2018-06-08  3.787              NaN               3.769140              NaN   \n",
       "\n",
       "            Predicted_Next_Close2  \n",
       "date                               \n",
       "2018-06-04               3.803692  \n",
       "2018-06-05               3.834489  \n",
       "2018-06-06               3.830513  \n",
       "2018-06-07               3.835865  \n",
       "2018-06-08               3.761327  "
      ]
     },
     "execution_count": 29,
     "metadata": {},
     "output_type": "execute_result"
    }
   ],
   "source": [
    "skl_svr_nc = pd.DataFrame(list(zip(j_test, preds2)), columns = ['Next_Day_Close2','Predicted_Next_Close2'], index = j_test.index)\n",
    "skl_svr_nc = pd.concat([skl_svr,skl_svr_nc], axis=1)\n",
    "skl_svr_nc.tail()"
   ]
  },
  {
   "cell_type": "code",
   "execution_count": 30,
   "metadata": {},
   "outputs": [
    {
     "data": {
      "image/png": "[encoded data removed]",
      "text/plain": [
       "<matplotlib.figure.Figure at 0x1e004dd8>"
      ]
     },
     "metadata": {},
     "output_type": "display_data"
    }
   ],
   "source": [
    "h = -100\n",
    "plt.figure(figsize=(12,8), dpi=80)\n",
    "skl_svr_nc['close'][h:].plot(color='green', linewidth='1')\n",
    "skl_svr_nc['Next_Day_Close2'][h:].plot(color='blue', linewidth='1')\n",
    "skl_svr_nc['Predicted_Next_Close2'][h:].plot(color='red', linewidth='1')\n",
    "plt.show()"
   ]
  },
  {
   "cell_type": "markdown",
   "metadata": {},
   "source": [
    "### 支持向量机（SVM）分类预测"
   ]
  },
  {
   "cell_type": "code",
   "execution_count": 31,
   "metadata": {},
   "outputs": [
    {
     "data": {
      "text/html": [
       "<div>\n",
       "<style>\n",
       "    .dataframe thead tr:only-child th {\n",
       "        text-align: right;\n",
       "    }\n",
       "\n",
       "    .dataframe thead th {\n",
       "        text-align: left;\n",
       "    }\n",
       "\n",
       "    .dataframe tbody tr th {\n",
       "        vertical-align: top;\n",
       "    }\n",
       "</style>\n",
       "<table border=\"1\" class=\"dataframe\">\n",
       "  <thead>\n",
       "    <tr style=\"text-align: right;\">\n",
       "      <th></th>\n",
       "      <th>open</th>\n",
       "      <th>high</th>\n",
       "      <th>low</th>\n",
       "      <th>close</th>\n",
       "      <th>volume</th>\n",
       "      <th>amount</th>\n",
       "      <th>yesterday_close</th>\n",
       "      <th>range</th>\n",
       "      <th>amplitude</th>\n",
       "    </tr>\n",
       "    <tr>\n",
       "      <th>date</th>\n",
       "      <th></th>\n",
       "      <th></th>\n",
       "      <th></th>\n",
       "      <th></th>\n",
       "      <th></th>\n",
       "      <th></th>\n",
       "      <th></th>\n",
       "      <th></th>\n",
       "      <th></th>\n",
       "    </tr>\n",
       "  </thead>\n",
       "  <tbody>\n",
       "    <tr>\n",
       "      <th>2018-06-04</th>\n",
       "      <td>3.797</td>\n",
       "      <td>3.818</td>\n",
       "      <td>3.784</td>\n",
       "      <td>3.814</td>\n",
       "      <td>126079680</td>\n",
       "      <td>47968.090</td>\n",
       "      <td>3.777</td>\n",
       "      <td>0.979613</td>\n",
       "      <td>0.900185</td>\n",
       "    </tr>\n",
       "    <tr>\n",
       "      <th>2018-06-05</th>\n",
       "      <td>3.810</td>\n",
       "      <td>3.850</td>\n",
       "      <td>3.803</td>\n",
       "      <td>3.846</td>\n",
       "      <td>104886000</td>\n",
       "      <td>40123.789</td>\n",
       "      <td>3.814</td>\n",
       "      <td>0.839014</td>\n",
       "      <td>1.232302</td>\n",
       "    </tr>\n",
       "    <tr>\n",
       "      <th>2018-06-06</th>\n",
       "      <td>3.841</td>\n",
       "      <td>3.849</td>\n",
       "      <td>3.831</td>\n",
       "      <td>3.839</td>\n",
       "      <td>83502816</td>\n",
       "      <td>32063.799</td>\n",
       "      <td>3.846</td>\n",
       "      <td>-0.182007</td>\n",
       "      <td>0.468019</td>\n",
       "    </tr>\n",
       "    <tr>\n",
       "      <th>2018-06-07</th>\n",
       "      <td>3.853</td>\n",
       "      <td>3.869</td>\n",
       "      <td>3.831</td>\n",
       "      <td>3.838</td>\n",
       "      <td>109814320</td>\n",
       "      <td>42290.070</td>\n",
       "      <td>3.839</td>\n",
       "      <td>-0.026048</td>\n",
       "      <td>0.989841</td>\n",
       "    </tr>\n",
       "    <tr>\n",
       "      <th>2018-06-08</th>\n",
       "      <td>3.830</td>\n",
       "      <td>3.830</td>\n",
       "      <td>3.768</td>\n",
       "      <td>3.787</td>\n",
       "      <td>135333280</td>\n",
       "      <td>51353.004</td>\n",
       "      <td>3.838</td>\n",
       "      <td>-1.328817</td>\n",
       "      <td>1.615425</td>\n",
       "    </tr>\n",
       "  </tbody>\n",
       "</table>\n",
       "</div>"
      ],
      "text/plain": [
       "             open   high    low  close     volume     amount  yesterday_close  \\\n",
       "date                                                                            \n",
       "2018-06-04  3.797  3.818  3.784  3.814  126079680  47968.090            3.777   \n",
       "2018-06-05  3.810  3.850  3.803  3.846  104886000  40123.789            3.814   \n",
       "2018-06-06  3.841  3.849  3.831  3.839   83502816  32063.799            3.846   \n",
       "2018-06-07  3.853  3.869  3.831  3.838  109814320  42290.070            3.839   \n",
       "2018-06-08  3.830  3.830  3.768  3.787  135333280  51353.004            3.838   \n",
       "\n",
       "               range  amplitude  \n",
       "date                             \n",
       "2018-06-04  0.979613   0.900185  \n",
       "2018-06-05  0.839014   1.232302  \n",
       "2018-06-06 -0.182007   0.468019  \n",
       "2018-06-07 -0.026048   0.989841  \n",
       "2018-06-08 -1.328817   1.615425  "
      ]
     },
     "execution_count": 31,
     "metadata": {},
     "output_type": "execute_result"
    }
   ],
   "source": [
    "stock_300ETF.tail()"
   ]
  },
  {
   "cell_type": "code",
   "execution_count": 32,
   "metadata": {
    "collapsed": true
   },
   "outputs": [],
   "source": [
    "stock_300ETF['up_down'] = 0\n",
    "stock_300ETF.loc[stock_300ETF['range'] > 0, 'up_down'] = 1.0\n",
    "stock_300ETF.loc[stock_300ETF['range'] < 0, 'up_down'] = -1.0\n",
    "stock_300ETF['Next_up_down'] = stock_300ETF['up_down'].shift(-1)\n",
    "stock_300ETF['volume_std'] = (stock_300ETF['volume'] - stock_300ETF['amount'].mean())/stock_300ETF['amount'].std()\n",
    "stock_300ETF['amount_std'] = (stock_300ETF['amount'] - stock_300ETF['amount'].mean())/stock_300ETF['amount'].std()"
   ]
  },
  {
   "cell_type": "code",
   "execution_count": 33,
   "metadata": {},
   "outputs": [
    {
     "data": {
      "text/html": [
       "<div>\n",
       "<style>\n",
       "    .dataframe thead tr:only-child th {\n",
       "        text-align: right;\n",
       "    }\n",
       "\n",
       "    .dataframe thead th {\n",
       "        text-align: left;\n",
       "    }\n",
       "\n",
       "    .dataframe tbody tr th {\n",
       "        vertical-align: top;\n",
       "    }\n",
       "</style>\n",
       "<table border=\"1\" class=\"dataframe\">\n",
       "  <thead>\n",
       "    <tr style=\"text-align: right;\">\n",
       "      <th></th>\n",
       "      <th>open</th>\n",
       "      <th>high</th>\n",
       "      <th>low</th>\n",
       "      <th>close</th>\n",
       "      <th>volume</th>\n",
       "      <th>amount</th>\n",
       "      <th>yesterday_close</th>\n",
       "      <th>range</th>\n",
       "      <th>amplitude</th>\n",
       "      <th>up_down</th>\n",
       "      <th>Next_up_down</th>\n",
       "      <th>volume_std</th>\n",
       "      <th>amount_std</th>\n",
       "    </tr>\n",
       "    <tr>\n",
       "      <th>date</th>\n",
       "      <th></th>\n",
       "      <th></th>\n",
       "      <th></th>\n",
       "      <th></th>\n",
       "      <th></th>\n",
       "      <th></th>\n",
       "      <th></th>\n",
       "      <th></th>\n",
       "      <th></th>\n",
       "      <th></th>\n",
       "      <th></th>\n",
       "      <th></th>\n",
       "      <th></th>\n",
       "    </tr>\n",
       "  </thead>\n",
       "  <tbody>\n",
       "    <tr>\n",
       "      <th>2018-06-04</th>\n",
       "      <td>3.797</td>\n",
       "      <td>3.818</td>\n",
       "      <td>3.784</td>\n",
       "      <td>3.814</td>\n",
       "      <td>126079680</td>\n",
       "      <td>47968.090</td>\n",
       "      <td>3.777</td>\n",
       "      <td>0.979613</td>\n",
       "      <td>0.900185</td>\n",
       "      <td>1.0</td>\n",
       "      <td>1.0</td>\n",
       "      <td>716.065249</td>\n",
       "      <td>-0.450136</td>\n",
       "    </tr>\n",
       "    <tr>\n",
       "      <th>2018-06-05</th>\n",
       "      <td>3.810</td>\n",
       "      <td>3.850</td>\n",
       "      <td>3.803</td>\n",
       "      <td>3.846</td>\n",
       "      <td>104886000</td>\n",
       "      <td>40123.789</td>\n",
       "      <td>3.814</td>\n",
       "      <td>0.839014</td>\n",
       "      <td>1.232302</td>\n",
       "      <td>1.0</td>\n",
       "      <td>-1.0</td>\n",
       "      <td>595.574957</td>\n",
       "      <td>-0.494732</td>\n",
       "    </tr>\n",
       "    <tr>\n",
       "      <th>2018-06-06</th>\n",
       "      <td>3.841</td>\n",
       "      <td>3.849</td>\n",
       "      <td>3.831</td>\n",
       "      <td>3.839</td>\n",
       "      <td>83502816</td>\n",
       "      <td>32063.799</td>\n",
       "      <td>3.846</td>\n",
       "      <td>-0.182007</td>\n",
       "      <td>0.468019</td>\n",
       "      <td>-1.0</td>\n",
       "      <td>-1.0</td>\n",
       "      <td>474.007297</td>\n",
       "      <td>-0.540555</td>\n",
       "    </tr>\n",
       "    <tr>\n",
       "      <th>2018-06-07</th>\n",
       "      <td>3.853</td>\n",
       "      <td>3.869</td>\n",
       "      <td>3.831</td>\n",
       "      <td>3.838</td>\n",
       "      <td>109814320</td>\n",
       "      <td>42290.070</td>\n",
       "      <td>3.839</td>\n",
       "      <td>-0.026048</td>\n",
       "      <td>0.989841</td>\n",
       "      <td>-1.0</td>\n",
       "      <td>-1.0</td>\n",
       "      <td>623.593438</td>\n",
       "      <td>-0.482416</td>\n",
       "    </tr>\n",
       "    <tr>\n",
       "      <th>2018-06-08</th>\n",
       "      <td>3.830</td>\n",
       "      <td>3.830</td>\n",
       "      <td>3.768</td>\n",
       "      <td>3.787</td>\n",
       "      <td>135333280</td>\n",
       "      <td>51353.004</td>\n",
       "      <td>3.838</td>\n",
       "      <td>-1.328817</td>\n",
       "      <td>1.615425</td>\n",
       "      <td>-1.0</td>\n",
       "      <td>NaN</td>\n",
       "      <td>768.673808</td>\n",
       "      <td>-0.430892</td>\n",
       "    </tr>\n",
       "  </tbody>\n",
       "</table>\n",
       "</div>"
      ],
      "text/plain": [
       "             open   high    low  close     volume     amount  yesterday_close  \\\n",
       "date                                                                            \n",
       "2018-06-04  3.797  3.818  3.784  3.814  126079680  47968.090            3.777   \n",
       "2018-06-05  3.810  3.850  3.803  3.846  104886000  40123.789            3.814   \n",
       "2018-06-06  3.841  3.849  3.831  3.839   83502816  32063.799            3.846   \n",
       "2018-06-07  3.853  3.869  3.831  3.838  109814320  42290.070            3.839   \n",
       "2018-06-08  3.830  3.830  3.768  3.787  135333280  51353.004            3.838   \n",
       "\n",
       "               range  amplitude  up_down  Next_up_down  volume_std  amount_std  \n",
       "date                                                                            \n",
       "2018-06-04  0.979613   0.900185      1.0           1.0  716.065249   -0.450136  \n",
       "2018-06-05  0.839014   1.232302      1.0          -1.0  595.574957   -0.494732  \n",
       "2018-06-06 -0.182007   0.468019     -1.0          -1.0  474.007297   -0.540555  \n",
       "2018-06-07 -0.026048   0.989841     -1.0          -1.0  623.593438   -0.482416  \n",
       "2018-06-08 -1.328817   1.615425     -1.0           NaN  768.673808   -0.430892  "
      ]
     },
     "execution_count": 33,
     "metadata": {},
     "output_type": "execute_result"
    }
   ],
   "source": [
    "stock_300ETF.tail()"
   ]
  },
  {
   "cell_type": "code",
   "execution_count": 34,
   "metadata": {},
   "outputs": [
    {
     "name": "stdout",
     "output_type": "stream",
     "text": [
      "1463 10 1463 9\n"
     ]
    }
   ],
   "source": [
    "Stock_Data_SVM = pd.concat([stock_300ETF[['close','amplitude','volume_std','amount_std','Next_up_down']], Risk_Ratio, ZFXF_YCWW], axis=1)\n",
    "Stock_Data_SVM = Stock_Data_SVM.dropna()\n",
    "Stock_Data_SVM_no_updown = Stock_Data_SVM[[x for x in Stock_Data_SVM.columns if x <> 'Next_up_down']]\n",
    "print len(Stock_Data_SVM),\n",
    "print len(Stock_Data_SVM.columns),\n",
    "print len(Stock_Data_SVM_no_updown),\n",
    "print len(Stock_Data_SVM_no_updown.columns)"
   ]
  },
  {
   "cell_type": "code",
   "execution_count": 35,
   "metadata": {},
   "outputs": [
    {
     "name": "stdout",
     "output_type": "stream",
     "text": [
      "1063 1063\n"
     ]
    }
   ],
   "source": [
    "# 设置训练集，取前1000多个数据作为训练集\n",
    "g = -400\n",
    "m_train = Stock_Data_SVM_no_updown[:g]\n",
    "n_train = Stock_Data_SVM['Next_up_down'][:g]\n",
    "print len(m_train),\n",
    "print len(n_train)"
   ]
  },
  {
   "cell_type": "code",
   "execution_count": 36,
   "metadata": {},
   "outputs": [
    {
     "name": "stdout",
     "output_type": "stream",
     "text": [
      "400 400\n"
     ]
    }
   ],
   "source": [
    "# 设置测试集，取400个数据作为测试集\n",
    "m_test = Stock_Data_SVM_no_updown[g:]\n",
    "n_test = Stock_Data_SVM['Next_up_down'][g:]\n",
    "print len(m_test),\n",
    "print len(n_test)"
   ]
  },
  {
   "cell_type": "code",
   "execution_count": 37,
   "metadata": {},
   "outputs": [
    {
     "data": {
      "text/plain": [
       "SVC(C=1.0, cache_size=200, class_weight=None, coef0=0.0,\n",
       "  decision_function_shape='ovr', degree=3, gamma='auto', kernel='linear',\n",
       "  max_iter=-1, probability=False, random_state=None, shrinking=True,\n",
       "  tol=0.001, verbose=False)"
      ]
     },
     "execution_count": 37,
     "metadata": {},
     "output_type": "execute_result"
    }
   ],
   "source": [
    "clff = svm.SVC(kernel='linear')\n",
    "clff"
   ]
  },
  {
   "cell_type": "code",
   "execution_count": 38,
   "metadata": {
    "collapsed": true
   },
   "outputs": [],
   "source": [
    "# 拟合模型\n",
    "model3 = clff.fit(m_train,n_train)"
   ]
  },
  {
   "cell_type": "code",
   "execution_count": 39,
   "metadata": {
    "collapsed": true
   },
   "outputs": [],
   "source": [
    "# 用测试集进行预测\n",
    "preds3 = model3.predict(m_test)"
   ]
  },
  {
   "cell_type": "code",
   "execution_count": 40,
   "metadata": {},
   "outputs": [
    {
     "data": {
      "text/plain": [
       "0.48447789275634995"
      ]
     },
     "execution_count": 40,
     "metadata": {},
     "output_type": "execute_result"
    }
   ],
   "source": [
    "# 评分函数\n",
    "scores3 = model3.score(m_train,n_train)\n",
    "scores3"
   ]
  },
  {
   "cell_type": "code",
   "execution_count": 43,
   "metadata": {},
   "outputs": [
    {
     "data": {
      "text/html": [
       "<div>\n",
       "<style>\n",
       "    .dataframe thead tr:only-child th {\n",
       "        text-align: right;\n",
       "    }\n",
       "\n",
       "    .dataframe thead th {\n",
       "        text-align: left;\n",
       "    }\n",
       "\n",
       "    .dataframe tbody tr th {\n",
       "        vertical-align: top;\n",
       "    }\n",
       "</style>\n",
       "<table border=\"1\" class=\"dataframe\">\n",
       "  <thead>\n",
       "    <tr style=\"text-align: right;\">\n",
       "      <th></th>\n",
       "      <th>Next_up_down</th>\n",
       "      <th>Predicted_Next_updown</th>\n",
       "    </tr>\n",
       "    <tr>\n",
       "      <th>date</th>\n",
       "      <th></th>\n",
       "      <th></th>\n",
       "    </tr>\n",
       "  </thead>\n",
       "  <tbody>\n",
       "    <tr>\n",
       "      <th>2018-06-01</th>\n",
       "      <td>1.0</td>\n",
       "      <td>1.0</td>\n",
       "    </tr>\n",
       "    <tr>\n",
       "      <th>2018-06-04</th>\n",
       "      <td>1.0</td>\n",
       "      <td>1.0</td>\n",
       "    </tr>\n",
       "    <tr>\n",
       "      <th>2018-06-05</th>\n",
       "      <td>-1.0</td>\n",
       "      <td>1.0</td>\n",
       "    </tr>\n",
       "    <tr>\n",
       "      <th>2018-06-06</th>\n",
       "      <td>-1.0</td>\n",
       "      <td>1.0</td>\n",
       "    </tr>\n",
       "    <tr>\n",
       "      <th>2018-06-07</th>\n",
       "      <td>-1.0</td>\n",
       "      <td>1.0</td>\n",
       "    </tr>\n",
       "  </tbody>\n",
       "</table>\n",
       "</div>"
      ],
      "text/plain": [
       "            Next_up_down  Predicted_Next_updown\n",
       "date                                           \n",
       "2018-06-01           1.0                    1.0\n",
       "2018-06-04           1.0                    1.0\n",
       "2018-06-05          -1.0                    1.0\n",
       "2018-06-06          -1.0                    1.0\n",
       "2018-06-07          -1.0                    1.0"
      ]
     },
     "execution_count": 43,
     "metadata": {},
     "output_type": "execute_result"
    }
   ],
   "source": [
    "Stock_Data_SVM = pd.DataFrame(list(zip(n_test, preds3)), columns = ['Next_up_down','Predicted_Next_updown'], index = n_test.index)\n",
    "# Stock_Data_SVM = pd.concat([,Stock_Data_SVM], axis=1)\n",
    "Stock_Data_SVM.tail()"
   ]
  },
  {
   "cell_type": "markdown",
   "metadata": {},
   "source": [
    "### 结论：收盘价的预测意义不大，涨跌预测的方法失败了，要重新尝试。"
   ]
  }
 ],
 "metadata": {
  "kernelspec": {
   "display_name": "Python 2",
   "language": "python",
   "name": "python2"
  },
  "language_info": {
   "codemirror_mode": {
    "name": "ipython",
    "version": 2
   },
   "file_extension": ".py",
   "mimetype": "text/x-python",
   "name": "python",
   "nbconvert_exporter": "python",
   "pygments_lexer": "ipython2",
   "version": "2.7.13"
  }
 },
 "nbformat": 4,
 "nbformat_minor": 2
}
